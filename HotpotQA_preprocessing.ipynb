{
 "cells": [
  {
   "cell_type": "markdown",
   "metadata": {
    "toc": true
   },
   "source": [
    "<h1>Table of Contents<span class=\"tocSkip\"></span></h1>\n",
    "<div class=\"toc\"><ul class=\"toc-item\"><li><span><a href=\"#使用BERT初始化节点\" data-toc-modified-id=\"使用BERT初始化节点-1\"><span class=\"toc-item-num\">1&nbsp;&nbsp;</span>使用BERT初始化节点</a></span></li><li><span><a href=\"#NER方法\" data-toc-modified-id=\"NER方法-2\"><span class=\"toc-item-num\">2&nbsp;&nbsp;</span>NER方法</a></span><ul class=\"toc-item\"><li><ul class=\"toc-item\"><li><span><a href=\"#使用BERT进行NER\" data-toc-modified-id=\"使用BERT进行NER-2.0.1\"><span class=\"toc-item-num\">2.0.1&nbsp;&nbsp;</span>使用BERT进行NER</a></span></li><li><span><a href=\"#使用spacy-pipline-NER\" data-toc-modified-id=\"使用spacy-pipline-NER-2.0.2\"><span class=\"toc-item-num\">2.0.2&nbsp;&nbsp;</span>使用spacy pipline NER</a></span></li></ul></li></ul></li><li><span><a href=\"#检查\" data-toc-modified-id=\"检查-3\"><span class=\"toc-item-num\">3&nbsp;&nbsp;</span>检查</a></span></li><li><span><a href=\"#建立实体hyper-link\" data-toc-modified-id=\"建立实体hyper-link-4\"><span class=\"toc-item-num\">4&nbsp;&nbsp;</span>建立实体hyper-link</a></span></li><li><span><a href=\"#建立-adj,-labels\" data-toc-modified-id=\"建立-adj,-labels-5\"><span class=\"toc-item-num\">5&nbsp;&nbsp;</span>建立 adj, labels</a></span></li><li><span><a href=\"#第二阶段\" data-toc-modified-id=\"第二阶段-6\"><span class=\"toc-item-num\">6&nbsp;&nbsp;</span>第二阶段</a></span></li></ul></div>"
   ]
  },
  {
   "cell_type": "code",
   "execution_count": null,
   "metadata": {
    "colab": {},
    "colab_type": "code",
    "id": "N7mZB31qYTTD"
   },
   "outputs": [],
   "source": [
    "try:\n",
    "    from google.colab import drive\n",
    "    drive.mount('/content/folders/')\n",
    "    !pip install transformers\n",
    "    !pip install -U spacy[cuda100]\n",
    "    !python -m spacy download en_core_web_lg\n",
    "    # !wget -P /content/folders/My\\ Drive/HotpotQA/ http://curtis.ml.cmu.edu/datasets/hotpot/hotpot_train_v1.1.json\n",
    "    # json_train_path = '/content/folders/My Drive/HotpotQA/样例_hotpot_train_v1.1.json' # 5个例子\n",
    "    json_train_path = '/content/folders/My Drive/HotpotQA/hotpot_train_v1.1.json'\n",
    "except:\n",
    "    json_train_path_mini = 'HotpotQA/样例_hotpot_train_v1.1.json'"
   ]
  },
  {
   "cell_type": "code",
   "execution_count": null,
   "metadata": {
    "colab": {},
    "colab_type": "code",
    "id": "VBNuimi1YTTJ"
   },
   "outputs": [],
   "source": [
    "import json\n",
    "import torch\n",
    "import torch.nn as nn"
   ]
  },
  {
   "cell_type": "code",
   "execution_count": 16,
   "metadata": {
    "colab": {
     "base_uri": "https://localhost:8080/",
     "height": 34
    },
    "colab_type": "code",
    "executionInfo": {
     "elapsed": 8557,
     "status": "ok",
     "timestamp": 1583237608849,
     "user": {
      "displayName": "597709514@qq.com",
      "photoUrl": "https://lh3.googleusercontent.com/a-/AOh14GiZ4b29y22LPZ8tUnu62hIRC6jZFH5v8X6Jes57=s64",
      "userId": "03859811009091074275"
     },
     "user_tz": -480
    },
    "id": "Nbd-ju5rYTTP",
    "outputId": "c11a5ee0-ca08-43c0-c7db-72976ef4e738"
   },
   "outputs": [
    {
     "data": {
      "text/plain": [
       "dict_keys(['supporting_facts', 'level', 'question', 'context', 'answer', '_id', 'type'])"
      ]
     },
     "execution_count": 16,
     "metadata": {
      "tags": []
     },
     "output_type": "execute_result"
    }
   ],
   "source": [
    "with open(json_train_path, 'r', encoding='utf-8') as fp:\n",
    "    json_train = json.load(fp)\n",
    "    \n",
    "json_train[0].keys()"
   ]
  },
  {
   "cell_type": "markdown",
   "metadata": {
    "colab_type": "text",
    "id": "od4pkK2QaDXl"
   },
   "source": [
    "## 使用BERT初始化节点\n",
    "\n",
    "使用`tokensizer`分词, 但是不能直接使用`model`的输出, 因为`model`的输入是句子对, 而且还有label. 应使用分词+`model`的`imput embedding matrix`.(`model`应是fine-turning之后的model)\n",
    "\n",
    "\n"
   ]
  },
  {
   "cell_type": "code",
   "execution_count": null,
   "metadata": {
    "colab": {
     "base_uri": "https://localhost:8080/",
     "height": 62
    },
    "colab_type": "code",
    "executionInfo": {
     "elapsed": 57252,
     "status": "ok",
     "timestamp": 1583203446682,
     "user": {
      "displayName": "597709514@qq.com",
      "photoUrl": "https://lh3.googleusercontent.com/a-/AOh14GiZ4b29y22LPZ8tUnu62hIRC6jZFH5v8X6Jes57=s64",
      "userId": "03859811009091074275"
     },
     "user_tz": -480
    },
    "id": "nxprwG1hYTTT",
    "outputId": "d83c5a79-4d92-4b44-f2f0-15c4dc926d64"
   },
   "outputs": [
    {
     "data": {
      "text/html": [
       "<p style=\"color: red;\">\n",
       "The default version of TensorFlow in Colab will soon switch to TensorFlow 2.x.<br>\n",
       "We recommend you <a href=\"https://www.tensorflow.org/guide/migrate\" target=\"_blank\">upgrade</a> now \n",
       "or ensure your notebook will continue to use TensorFlow 1.x via the <code>%tensorflow_version 1.x</code> magic:\n",
       "<a href=\"https://colab.research.google.com/notebooks/tensorflow_version.ipynb\" target=\"_blank\">more info</a>.</p>\n"
      ],
      "text/plain": [
       "<IPython.core.display.HTML object>"
      ]
     },
     "metadata": {
      "tags": []
     },
     "output_type": "display_data"
    }
   ],
   "source": [
    "from transformers import RobertaTokenizer, RobertaForSequenceClassification\n",
    "\n",
    "# tokenizer = RobertaTokenizer.from_pretrained('roberta-base')\n",
    "# model = RobertaForSequenceClassification.from_pretrained('roberta-base')\n",
    "\n",
    "tokenizer = RobertaTokenizer.from_pretrained('roberta-large')\n",
    "model = RobertaForSequenceClassification.from_pretrained('roberta-large')\n",
    "\n",
    "def tokensize_and_repr_in_BERT(raw_content,  tokenizer = tokenizer,\\\n",
    "                        model = model,\\\n",
    "                        max_length = 50,\\\n",
    "                        flatten = False):\n",
    "    '''tokenizer和model需要对应.'''\n",
    "    \n",
    "    tokens_dict = tokenizer.encode(raw_content, add_special_tokens=False, max_length = max_length, \\\n",
    "                        pad_to_max_length = True, return_tensors = 'pt')\n",
    "\n",
    "    embedding = model.get_input_embeddings()\n",
    "    res = embedding(tokens_dict.squeeze())\n",
    "    if flatten: res = res.reshape(1, -1)\n",
    "    return res"
   ]
  },
  {
   "cell_type": "markdown",
   "metadata": {
    "colab_type": "text",
    "id": "ZDfojwsPaC8_"
   },
   "source": [
    "## NER方法\n",
    "\n",
    "#### 使用BERT进行NER\n",
    "\n",
    "**暂时无法使用!** 需要获得char级别的span_start与end.\n",
    "\n"
   ]
  },
  {
   "cell_type": "code",
   "execution_count": null,
   "metadata": {
    "colab": {
     "base_uri": "https://localhost:8080/",
     "height": 62
    },
    "colab_type": "code",
    "executionInfo": {
     "elapsed": 50802,
     "status": "ok",
     "timestamp": 1583223703533,
     "user": {
      "displayName": "597709514@qq.com",
      "photoUrl": "https://lh3.googleusercontent.com/a-/AOh14GiZ4b29y22LPZ8tUnu62hIRC6jZFH5v8X6Jes57=s64",
      "userId": "03859811009091074275"
     },
     "user_tz": -480
    },
    "id": "_ZARV3x7aJK9",
    "outputId": "d6a5404e-b7ac-4227-a5a2-9c18cbfc7a6d"
   },
   "outputs": [
    {
     "data": {
      "text/html": [
       "<p style=\"color: red;\">\n",
       "The default version of TensorFlow in Colab will soon switch to TensorFlow 2.x.<br>\n",
       "We recommend you <a href=\"https://www.tensorflow.org/guide/migrate\" target=\"_blank\">upgrade</a> now \n",
       "or ensure your notebook will continue to use TensorFlow 1.x via the <code>%tensorflow_version 1.x</code> magic:\n",
       "<a href=\"https://colab.research.google.com/notebooks/tensorflow_version.ipynb\" target=\"_blank\">more info</a>.</p>\n"
      ],
      "text/plain": [
       "<IPython.core.display.HTML object>"
      ]
     },
     "metadata": {
      "tags": []
     },
     "output_type": "display_data"
    }
   ],
   "source": [
    "from transformers import AutoModelForTokenClassification, AutoTokenizer\n",
    "import torch\n",
    "\n",
    "model = AutoModelForTokenClassification.from_pretrained(\"dbmdz/bert-large-cased-finetuned-conll03-english\")\n",
    "tokenizer = AutoTokenizer.from_pretrained(\"bert-large-cased-whole-word-masking\")\n",
    "# tokenizer = AutoTokenizer.from_pretrained(\"bert-base-cased\")\n",
    "\n",
    "_ = model.eval()"
   ]
  },
  {
   "cell_type": "code",
   "execution_count": null,
   "metadata": {
    "colab": {},
    "colab_type": "code",
    "id": "SZi9D02t-eOC"
   },
   "outputs": [],
   "source": [
    "def find_NER_in_BERT(raw_content, model=model, tokenizer = tokenizer):\n",
    "    label_list = [\n",
    "        \"O\",       # Outside of a named entity\n",
    "        \"B-MISC\",  # Beginning of a miscellaneous entity right after another miscellaneous entity\n",
    "        \"I-MISC\",  # Miscellaneous entity\n",
    "        \"B-PER\",   # Beginning of a person's name right after another person's name\n",
    "        \"I-PER\",   # Person's name\n",
    "        \"B-ORG\",   # Beginning of an organisation right after another organisation\n",
    "        \"I-ORG\",   # Organisation\n",
    "        \"B-LOC\",   # Beginning of a location right after another location\n",
    "        \"I-LOC\"    # Location\n",
    "        ]\n",
    "    # Bit of a hack to get the tokens with the special tokens\n",
    "    tokens = tokenizer.tokenize(tokenizer.decode(tokenizer.encode(raw_content)))\n",
    "    inputs = tokenizer.encode(raw_content, return_tensors=\"pt\")\n",
    "\n",
    "    outputs = model(inputs)[0]\n",
    "    predictions = torch.argmax(outputs, dim=2)\n",
    "\n",
    "    res = [(token, label_list[prediction]) for token, prediction in zip(tokens, predictions[0].tolist())]\n",
    "    print(predictions)\n",
    "    print(res)\n",
    "\n",
    "    entities_list = []\n",
    "    cursor_1 = 0\n",
    "    cursor_2 = 0\n",
    "    length = len(res)\n",
    "\n",
    "    while cursor_1 < len(res):\n",
    "        entities_dict = {}\n",
    "        temp = []\n",
    "        if res[cursor_1][1] == 'O': \n",
    "            cursor_1+=1\n",
    "            continue\n",
    "        \n",
    "        entities_dict['type'] = res[cursor_1][1]\n",
    "        entities_dict['span_start'] = cursor_1\n",
    "        temp.append(res[cursor_1][0])\n",
    "        cursor_2 = cursor_1 + 1\n",
    "        while cursor_2 < len(res):\n",
    "            if res[cursor_2][1] == 'O':\n",
    "                cursor_1 = cursor_2 + 1\n",
    "                break\n",
    "            \n",
    "            temp.append(res[cursor_2][0])\n",
    "            cursor_2 += 1\n",
    "        \n",
    "        entities_dict['content'] = ' '.join(temp).replace(' ##', '')\n",
    "        entities_dict['span_end'] = cursor_2\n",
    "        entities_list.append(entities_dict)\n",
    "\n",
    "    return entities_list"
   ]
  },
  {
   "cell_type": "code",
   "execution_count": null,
   "metadata": {
    "colab": {
     "base_uri": "https://localhost:8080/",
     "height": 121
    },
    "colab_type": "code",
    "executionInfo": {
     "elapsed": 1423,
     "status": "ok",
     "timestamp": 1583223878592,
     "user": {
      "displayName": "597709514@qq.com",
      "photoUrl": "https://lh3.googleusercontent.com/a-/AOh14GiZ4b29y22LPZ8tUnu62hIRC6jZFH5v8X6Jes57=s64",
      "userId": "03859811009091074275"
     },
     "user_tz": -480
    },
    "id": "TUpju6DKaJNV",
    "outputId": "0c3af535-c68e-4d3a-f23a-072c76c4f8a4"
   },
   "outputs": [
    {
     "name": "stdout",
     "output_type": "stream",
     "text": [
      "tensor([[0, 6, 6, 0, 8, 0, 0, 0, 0, 0, 0, 0, 0, 0, 6, 6, 0, 0, 0, 0, 0, 0, 0, 0]])\n",
      "[('[CLS]', 'O'), ('Radio', 'I-ORG'), ('City', 'I-ORG'), ('is', 'O'), ('India', 'I-LOC'), (\"'\", 'O'), ('s', 'O'), ('first', 'O'), ('_', 'O'), ('private', 'O'), ('FM', 'O'), ('radio', 'O'), ('station', 'O'), (',', 'O'), ('Radio', 'I-ORG'), ('City', 'I-ORG'), ('was', 'O'), ('started', 'O'), ('on', 'O'), ('3', 'O'), ('July', 'O'), ('2001', 'O'), ('.', 'O'), ('[SEP]', 'O')]\n"
     ]
    },
    {
     "data": {
      "text/plain": [
       "[{'content': 'Radio City', 'span_end': 3, 'span_start': 1, 'type': 'I-ORG'},\n",
       " {'content': 'India', 'span_end': 5, 'span_start': 4, 'type': 'I-LOC'},\n",
       " {'content': 'Radio City', 'span_end': 16, 'span_start': 14, 'type': 'I-ORG'}]"
      ]
     },
     "execution_count": 17,
     "metadata": {
      "tags": []
     },
     "output_type": "execute_result"
    }
   ],
   "source": [
    "s = \"Radio City is India's first_private FM radio station, Radio City was started on 3 July 2001.\"\n",
    "find_NER_in_BERT(s)"
   ]
  },
  {
   "cell_type": "markdown",
   "metadata": {
    "colab_type": "text",
    "id": "DvwbjCma_GmA"
   },
   "source": [
    "#### 使用spacy pipline NER"
   ]
  },
  {
   "cell_type": "code",
   "execution_count": null,
   "metadata": {
    "colab": {},
    "colab_type": "code",
    "id": "AHQbpehW_GkL"
   },
   "outputs": [],
   "source": [
    "# !pip install -U spacy[cuda100]\n",
    "# !python -m spacy download en_core_web_lg\n",
    "# # 安装完需要重启kernel才能load"
   ]
  },
  {
   "cell_type": "code",
   "execution_count": null,
   "metadata": {
    "colab": {},
    "colab_type": "code",
    "id": "aD93d2QIAsT2"
   },
   "outputs": [],
   "source": [
    "import spacy\n",
    "spacy.prefer_gpu()\n",
    "nlp = spacy.load(\"en_core_web_lg\")"
   ]
  },
  {
   "cell_type": "code",
   "execution_count": null,
   "metadata": {
    "colab": {},
    "colab_type": "code",
    "id": "xlO9p0YLE14h"
   },
   "outputs": [],
   "source": [
    "def find_NER_in_nlp(raw_content, nlp = nlp, exclude_list = ['PERCENT', 'MONEY', 'QUANTITY', 'ORDINAL', 'CARDINAL']):\n",
    "    '''使用spacy进行NER.\n",
    "    标注解释: https://spacy.io/api/annotation\n",
    "    '''   \n",
    "    entities_list = []\n",
    "    for item in nlp(raw_content).ents:\n",
    "        if item.label_ in exclude_list: continue\n",
    "        entities_dict = {}\n",
    "        entities_dict['type'] = item.label_\n",
    "        entities_dict['span_start'] = item.start_char\n",
    "        entities_dict['content'] = item.text\n",
    "        entities_dict['span_end'] = item.end_char\n",
    "        entities_list.append(entities_dict)\n",
    "    # print(dir(item))\n",
    "    return entities_list"
   ]
  },
  {
   "cell_type": "code",
   "execution_count": 19,
   "metadata": {
    "colab": {
     "base_uri": "https://localhost:8080/",
     "height": 67
    },
    "colab_type": "code",
    "executionInfo": {
     "elapsed": 991,
     "status": "ok",
     "timestamp": 1583237636568,
     "user": {
      "displayName": "597709514@qq.com",
      "photoUrl": "https://lh3.googleusercontent.com/a-/AOh14GiZ4b29y22LPZ8tUnu62hIRC6jZFH5v8X6Jes57=s64",
      "userId": "03859811009091074275"
     },
     "user_tz": -480
    },
    "id": "1QLRc2lADWxs",
    "outputId": "1d987d62-f382-4d35-cc2e-aeca98eb2b66"
   },
   "outputs": [
    {
     "data": {
      "text/plain": [
       "[{'content': 'Radio City', 'span_end': 10, 'span_start': 0, 'type': 'GPE'},\n",
       " {'content': 'India', 'span_end': 19, 'span_start': 14, 'type': 'GPE'},\n",
       " {'content': '3 July 2001', 'span_end': 83, 'span_start': 72, 'type': 'DATE'}]"
      ]
     },
     "execution_count": 19,
     "metadata": {
      "tags": []
     },
     "output_type": "execute_result"
    }
   ],
   "source": [
    "s = \"Radio City is India's first private FM radio station and was started on 3 July 2001.\"\n",
    "find_NER_in_nlp(s)"
   ]
  },
  {
   "cell_type": "code",
   "execution_count": null,
   "metadata": {
    "colab": {},
    "colab_type": "code",
    "id": "JTfopXXB_Qet"
   },
   "outputs": [],
   "source": []
  },
  {
   "cell_type": "code",
   "execution_count": null,
   "metadata": {
    "colab": {},
    "colab_type": "code",
    "id": "-veSYSUMYTTX"
   },
   "outputs": [],
   "source": [
    "class Node(object):\n",
    "    '''Node class for graph'''\n",
    "    \n",
    "    def __init__(self, node_id, node_type, content_raw, content_NER_list, parent_id, content_features=None, is_support=False):\n",
    "        self.node_id = node_id\n",
    "        self.node_type = node_type\n",
    "        self.content_raw = content_raw\n",
    "        self.content_NER_list = content_NER_list\n",
    "        self.content_features = content_features\n",
    "        self.parent_id = parent_id\n",
    "        \n",
    "        # Q_node doesn't have.\n",
    "        self.paragraph_id = -1\n",
    "        self.start_in_paragraph = -1\n",
    "        self.end_in_paragraph = -1\n",
    "        \n",
    "        self.is_support = is_support # 段落 句子 \n",
    "        \n",
    "    @classmethod\n",
    "    def build(cls, node_id, node_type, content_raw, parent_id, tokensizer=None):\n",
    "        # content_features = tokensize_and_repr_in_BERT(content_raw, flatten=True)\n",
    "        content_NER_list = find_NER_in_nlp(content_raw) if node_type != 'Entity' else []\n",
    "        # print(f'id:{node_id}\\n{content_raw}\\n{content_NER_list}\\n')\n",
    "        return cls(node_id, node_type, content_raw, content_NER_list, parent_id)\n",
    "    \n",
    "    def set_support(self):\n",
    "        self.is_support = True\n",
    "    \n",
    "    def set_span_in_paragraph(self, para_id, start, end):\n",
    "        self.paragraph_id = para_id\n",
    "        self.start_in_paragraph = start\n",
    "        self.end_in_paragraph = end\n",
    "    \n",
    "    def __str__(self):\n",
    "        return f'Node: {self.node_type} {self.node_id}'\n",
    "    \n",
    "    def __repr__(self):\n",
    "        return f'Node: {self.node_type} {self.node_id}'\n",
    "\n",
    "    def get_NER_tuples_list(self):\n",
    "        '''返回NER元组. e.g. [('ALLPE',id), ('DELL',id)]'''\n",
    "        return [(i['content'], self.node_id) for i in self.content_NER_list]\n",
    "        "
   ]
  },
  {
   "cell_type": "code",
   "execution_count": 21,
   "metadata": {
    "colab": {
     "base_uri": "https://localhost:8080/",
     "height": 34
    },
    "colab_type": "code",
    "executionInfo": {
     "elapsed": 967,
     "status": "ok",
     "timestamp": 1583237645251,
     "user": {
      "displayName": "597709514@qq.com",
      "photoUrl": "https://lh3.googleusercontent.com/a-/AOh14GiZ4b29y22LPZ8tUnu62hIRC6jZFH5v8X6Jes57=s64",
      "userId": "03859811009091074275"
     },
     "user_tz": -480
    },
    "id": "xKNHTLd7R08A",
    "outputId": "af99e4f5-7051-45d4-e531-abb18678df4f"
   },
   "outputs": [
    {
     "data": {
      "text/plain": [
       "Node: ttt 11"
      ]
     },
     "execution_count": 21,
     "metadata": {
      "tags": []
     },
     "output_type": "execute_result"
    }
   ],
   "source": [
    "node_id=11\n",
    "node_type='ttt'\n",
    "content_raw=\"Radio City is India's first private FM radio station and was started on 3 July 2001.\"\n",
    "\n",
    "tn=Node.build(node_id,node_type,content_raw, -1)\n",
    "tn"
   ]
  },
  {
   "cell_type": "code",
   "execution_count": 22,
   "metadata": {
    "colab": {
     "base_uri": "https://localhost:8080/",
     "height": 34
    },
    "colab_type": "code",
    "executionInfo": {
     "elapsed": 747,
     "status": "ok",
     "timestamp": 1583237645252,
     "user": {
      "displayName": "597709514@qq.com",
      "photoUrl": "https://lh3.googleusercontent.com/a-/AOh14GiZ4b29y22LPZ8tUnu62hIRC6jZFH5v8X6Jes57=s64",
      "userId": "03859811009091074275"
     },
     "user_tz": -480
    },
    "id": "Q-7nkqlISK85",
    "outputId": "9005c928-2101-4e68-8f23-83e4240afd11"
   },
   "outputs": [
    {
     "data": {
      "text/plain": [
       "[('Radio City', 11), ('India', 11), ('3 July 2001', 11)]"
      ]
     },
     "execution_count": 22,
     "metadata": {
      "tags": []
     },
     "output_type": "execute_result"
    }
   ],
   "source": [
    "tn.get_NER_tuples_list()"
   ]
  },
  {
   "cell_type": "code",
   "execution_count": null,
   "metadata": {
    "colab": {},
    "colab_type": "code",
    "id": "altECv3UmDAc"
   },
   "outputs": [],
   "source": [
    "class Question_Paragraph(object):\n",
    "    '''Q-P pair and label. for BERT and node init.'''\n",
    "    def __init__(self, question, paragraph, ques_id, para_id, label:int):\n",
    "        self.question = question\n",
    "        self.paragraph = paragraph\n",
    "        self.ques_id = ques_id\n",
    "        self.para_id = para_id \n",
    "        self.label = label\n",
    "\n",
    "        self.question_features = None # [N, dim]\n",
    "        self.paragraph_features = None\n",
    "\n",
    "    @classmethod\n",
    "    def build(cls, question, paragraph, ques_id, para_id, label):\n",
    "        return cls(question, paragraph, ques_id, para_id, label)\n",
    "\n",
    "    # raw content\n",
    "    def get_question(self):\n",
    "        return self.question\n",
    "\n",
    "    def get_paragraph(self):\n",
    "        return self.paragraph\n",
    "\n",
    "    def get_ques_para_pair(self):\n",
    "        return [self.question, self.paragraph]\n",
    "\n",
    "    def get_label(self):\n",
    "        return self.label\n",
    "\n",
    "    # features\n",
    "    def build_features(self, LM_model):\n",
    "        '''build features from LM models'''\n",
    "        pass\n",
    "\n",
    "    def get_question_features(self):\n",
    "        return self.question_features\n",
    "\n",
    "    def get_paragraph_features(self):\n",
    "        return self.paragraph_features\n",
    "\n",
    "    # other\n",
    "    def __str__(self):\n",
    "        return f'Q_P. p_id: {self.para_id}'\n",
    "    \n",
    "    def __repr__(self):\n",
    "        return f'Q_P. p_id: {self.para_id}'\n"
   ]
  },
  {
   "cell_type": "code",
   "execution_count": null,
   "metadata": {
    "colab": {},
    "colab_type": "code",
    "id": "aXTs8xg4vQhM"
   },
   "outputs": [],
   "source": [
    "import scipy.sparse as sp\n",
    "import numpy as np\n",
    "\n",
    "class Adjacency_sp(object):\n",
    "    '''无重复稀疏邻接矩阵'''\n",
    "    def __init__(self):\n",
    "        self.v_i_j = []\n",
    "        self.i_j_find_table = []\n",
    "\n",
    "    def append(self, v, i, j):\n",
    "        if not (i,j) in self.i_j_find_table:\n",
    "          self.v_i_j.append([v,i,j])\n",
    "          self.i_j_find_table.append((i,j))\n",
    "    \n",
    "    def to_dense(self, shape=(200, 200)):\n",
    "        '''return numpy ndarray.'''\n",
    "        np_adj = np.array(self.v_i_j)\n",
    "        full_adj = sp.coo_matrix((np_adj[:, 0], (np_adj[:, 1], np_adj[:, 2])), shape=shape, dtype=np.float32).todense()\n",
    "        full_adj = np.array(full_adj)\n",
    "        return full_adj\n",
    "\n",
    "    def to_dense_symmetric(self, shape=(200, 200)):\n",
    "        np_adj = np.array(self.v_i_j)\n",
    "        adj = sp.coo_matrix((np_adj[:, 0], (np_adj[:, 1], np_adj[:, 2])), shape=shape, dtype=np.float32)\n",
    "        adj_symm = adj + adj.T.multiply(adj.T > adj) - adj.multiply(adj.T > adj).todense()\n",
    "        adj_symm = np.array(adj_symm)\n",
    "        return adj_symm\n",
    "\n",
    "    def __repr__(self):\n",
    "        return f'Adjacency_sp has {len(self.v_i_j)} edges'\n",
    "    def __str__(self):\n",
    "        return f'Adjacency_sp has {len(self.v_i_j)} edges'\n",
    "    def __len__(self):\n",
    "        return len(self.v_i_j)"
   ]
  },
  {
   "cell_type": "markdown",
   "metadata": {
    "colab_type": "text",
    "id": "KwGo38uRxhZ6"
   },
   "source": [
    "**4种点**\n",
    "\n",
    "1. Question\n",
    "2. Paragraph\n",
    "3. Sentence\n",
    "4. Entity"
   ]
  },
  {
   "cell_type": "markdown",
   "metadata": {
    "colab_type": "text",
    "id": "RGYtn-qDY7Yn"
   },
   "source": [
    "!cat /proc/cpuinfo"
   ]
  },
  {
   "cell_type": "code",
   "execution_count": null,
   "metadata": {
    "colab": {},
    "colab_type": "code",
    "id": "Y0t44DvNYTTa"
   },
   "outputs": [],
   "source": [
    "# 返回Q-paragraph(for BERT); adj; node_list\n",
    "edge_type_map = {\n",
    "    'Q_P':1,\n",
    "    'Q_E':2,\n",
    "    'P_S':3,\n",
    "    'S_S_hyper':4,\n",
    "    'S_E':5,\n",
    "    'P_P':6,\n",
    "    'S_S':7,\n",
    "}\n",
    "\n",
    "def create_ques_info_dict():\n",
    "    # 每个question item由5个元素组成\n",
    "    ques_info_dict={}\n",
    "    ques_info_dict['id'] = None\n",
    "    ques_info_dict['node_list'] = None\n",
    "    ques_info_dict['sp_adj'] = None\n",
    "    ques_info_dict['ques_para_list'] = None\n",
    "    return ques_info_dict\n",
    "\n",
    "from collections import defaultdict\n",
    "from tqdm import tqdm_notebook\n",
    "def preprocessing(item_num = 2):\n",
    "    resturn_list = []\n",
    "    for item in tqdm_notebook(json_train[:item_num], \\\n",
    "                desc='processing json items'):\n",
    "        ques_info_dict = create_ques_info_dict()\n",
    "\n",
    "        supporting_facts = defaultdict(list)\n",
    "        for s_fact in item['supporting_facts']:\n",
    "            supporting_facts[s_fact[0]].append(s_fact[1])\n",
    "\n",
    "        level = item['level']\n",
    "        question = item['question']\n",
    "        context = item['context']\n",
    "        answer = item['answer']\n",
    "        Q_id = item['_id']\n",
    "        Q_type = item['type']\n",
    "\n",
    "        ques_info_dict['id'] = Q_id\n",
    "\n",
    "        node_list = []\n",
    "        sp_adj = Adjacency_sp()\n",
    "        index_cursor = 0\n",
    "        \n",
    "        Q_node_cursor = index_cursor\n",
    "        Q_node = Node.build(Q_node_cursor, 'Question', question, -1)\n",
    "        node_list.append(Q_node)\n",
    "\n",
    "        ques_para_list = []\n",
    "        \n",
    "        for p_id, paragraph in enumerate(context):\n",
    "            # Q-P content\n",
    "            para_id = f'{Q_id}_{p_id}'\n",
    "            paragraph_content = ''\n",
    "            paragraph_offset = 0\n",
    "            paragraph_label = 0\n",
    "\n",
    "            title = paragraph[0]\n",
    "            \n",
    "            paragraph_content += title\n",
    "            paragraph_offset += len(title)\n",
    "\n",
    "            index_cursor += 1\n",
    "\n",
    "            # 添加P-1和P\n",
    "            try:\n",
    "                if index_cursor != 0: sp_adj.append(edge_type_map['P_P'], P_node_cursor, index_cursor) \n",
    "            except (NameError): # 首次调用P_node_cursor会报错\n",
    "                pass\n",
    "            \n",
    "            P_node_cursor = index_cursor\n",
    "            P_node = Node.build(P_node_cursor, 'Paragraph', title, Q_node_cursor)\n",
    "            P_node.set_span_in_paragraph(para_id, paragraph_offset - len(title), paragraph_offset)\n",
    "\n",
    "            # 判断 support paragraph\n",
    "            if title in supporting_facts.keys():\n",
    "                paragraph_label = 1\n",
    "                P_node.set_support()\n",
    "\n",
    "            node_list.append(P_node)\n",
    "            \n",
    "            # 添加Q和P\n",
    "            sp_adj.append(edge_type_map['Q_P'], Q_node_cursor, P_node_cursor)\n",
    "\n",
    "    \n",
    "            for s_index, sentence in enumerate(paragraph[1]):\n",
    "                paragraph_content += sentence\n",
    "                paragraph_offset += len(sentence)\n",
    "\n",
    "                index_cursor += 1\n",
    "                S_node_cursor = index_cursor\n",
    "                S_node = Node.build(S_node_cursor, 'Sentence', sentence, P_node_cursor)\n",
    "                S_node.set_span_in_paragraph(para_id, paragraph_offset - len(sentence), paragraph_offset)\n",
    "\n",
    "                # 判断support fact\n",
    "                if (paragraph_label == 1) and (s_index in supporting_facts[title]):\n",
    "                    S_node.set_support()\n",
    "                node_list.append(S_node)\n",
    "\n",
    "                # 添加S之间边; P和S之间边\n",
    "                if s_index != 0:\n",
    "                    sp_adj.append(edge_type_map['S_S'], S_node_cursor - 1, S_node_cursor)\n",
    "                sp_adj.append(edge_type_map['P_S'], P_node_cursor, S_node_cursor)\n",
    "\n",
    "                # 添加S和E之间边\n",
    "                for entities_dict in S_node.content_NER_list:\n",
    "                    sentence_offset = paragraph_offset - len(sentence)\n",
    "\n",
    "                    index_cursor += 1\n",
    "                    E_node_cursor = index_cursor\n",
    "                    E_node = Node.build(E_node_cursor, 'Entity', entities_dict['content'], S_node_cursor)\n",
    "                    E_node.set_span_in_paragraph(para_id,\\\n",
    "                                    sentence_offset+entities_dict['span_start'],\\\n",
    "                                    sentence_offset+entities_dict['span_end'])\n",
    "\n",
    "                    node_list.append(E_node)\n",
    "                    sp_adj.append(edge_type_map['S_E'], S_node_cursor, E_node_cursor)\n",
    "\n",
    "            # in paragraph loop.\n",
    "            ques_para = Question_Paragraph.build(question, paragraph_content, Q_id, para_id, paragraph_label)\n",
    "            ques_para_list.append(ques_para)\n",
    "        \n",
    "        ques_info_dict['node_list'] = node_list\n",
    "        ques_info_dict['sp_adj'] = sp_adj\n",
    "        ques_info_dict['ques_para_list'] = ques_para_list\n",
    "        resturn_list.append(ques_info_dict)\n",
    "    return resturn_list"
   ]
  },
  {
   "cell_type": "code",
   "execution_count": 31,
   "metadata": {
    "colab": {
     "base_uri": "https://localhost:8080/",
     "height": 66,
     "referenced_widgets": [
      "65536518c850442f87e421d942ccf585",
      "cab0cd450741456dbb7140ef3f7aeb00",
      "f3fd312440af441ba0420af18e0ad419",
      "d110a70c0b2940f1a665034be37fe000",
      "1b0d63beeba9469f892987fb6070151f",
      "ef67917e76b646e3b33a2de5dbdf2cbb",
      "00a8432a201346b59998b56c8eaf21ca",
      "23f4f3f664af4bcea50f9a431f83eb1e"
     ]
    },
    "colab_type": "code",
    "executionInfo": {
     "elapsed": 4067,
     "status": "ok",
     "timestamp": 1583238554159,
     "user": {
      "displayName": "597709514@qq.com",
      "photoUrl": "https://lh3.googleusercontent.com/a-/AOh14GiZ4b29y22LPZ8tUnu62hIRC6jZFH5v8X6Jes57=s64",
      "userId": "03859811009091074275"
     },
     "user_tz": -480
    },
    "id": "KTDwI3u0yG6A",
    "outputId": "1cac50b1-6cbf-4789-ce6e-c7426fd234c1"
   },
   "outputs": [
    {
     "data": {
      "application/vnd.jupyter.widget-view+json": {
       "model_id": "65536518c850442f87e421d942ccf585",
       "version_major": 2,
       "version_minor": 0
      },
      "text/plain": [
       "HBox(children=(IntProgress(value=0, description='processing json items', max=2, style=ProgressStyle(descriptio…"
      ]
     },
     "metadata": {
      "tags": []
     },
     "output_type": "display_data"
    },
    {
     "name": "stdout",
     "output_type": "stream",
     "text": [
      "\n"
     ]
    }
   ],
   "source": [
    "test_res = preprocessing()"
   ]
  },
  {
   "cell_type": "code",
   "execution_count": 33,
   "metadata": {
    "colab": {
     "base_uri": "https://localhost:8080/",
     "height": 34
    },
    "colab_type": "code",
    "executionInfo": {
     "elapsed": 1096,
     "status": "ok",
     "timestamp": 1583238615001,
     "user": {
      "displayName": "597709514@qq.com",
      "photoUrl": "https://lh3.googleusercontent.com/a-/AOh14GiZ4b29y22LPZ8tUnu62hIRC6jZFH5v8X6Jes57=s64",
      "userId": "03859811009091074275"
     },
     "user_tz": -480
    },
    "id": "P_FiKpBu1r3X",
    "outputId": "a9cf4855-3202-45da-a340-520ba97d8675"
   },
   "outputs": [
    {
     "data": {
      "text/plain": [
       "2"
      ]
     },
     "execution_count": 33,
     "metadata": {
      "tags": []
     },
     "output_type": "execute_result"
    }
   ],
   "source": [
    "len(test_res)"
   ]
  },
  {
   "cell_type": "markdown",
   "metadata": {
    "colab_type": "text",
    "id": "NG1t5or9Y7Wa"
   },
   "source": [
    "## 检查"
   ]
  },
  {
   "cell_type": "code",
   "execution_count": null,
   "metadata": {
    "colab": {
     "base_uri": "https://localhost:8080/",
     "height": 138
    },
    "colab_type": "code",
    "executionInfo": {
     "elapsed": 4192,
     "status": "ok",
     "timestamp": 1583230438866,
     "user": {
      "displayName": "597709514@qq.com",
      "photoUrl": "https://lh3.googleusercontent.com/a-/AOh14GiZ4b29y22LPZ8tUnu62hIRC6jZFH5v8X6Jes57=s64",
      "userId": "03859811009091074275"
     },
     "user_tz": -480
    },
    "id": "5wykSVGhAPcV",
    "outputId": "ffbf4182-95b9-48d8-dd45-79b4e1ddb351"
   },
   "outputs": [
    {
     "name": "stdout",
     "output_type": "stream",
     "text": [
      "len(E_nodes):113\n",
      "5a7a06935542990198eaf050_5\n",
      "Thomas G. Spear\n",
      "Arthur's MagazineArthur's Magazine (1844–1846) was an American literary periodical published in Philadelphia in the 19th century. Edited by T.S. Arthur, it featured work by Edgar A. Poe, J.H. Ingraham, Sarah Josepha Hale, Thomas G. Spear, and others. In May 1846 it was merged into \"Godey's Lady's Book\".\n",
      "offset: \n",
      "Thomas G. Spear\n"
     ]
    }
   ],
   "source": [
    "# entity offset\n",
    "E_nodes = [i for i in node_list if i.node_type == 'Entity']\n",
    "print(f\"len(E_nodes):{len(E_nodes)}\")\n",
    "test_start = int(E_nodes[77].start_in_paragraph)\n",
    "test_end = int(E_nodes[77].end_in_paragraph)\n",
    "print(E_nodes[77].paragraph_id)\n",
    "print(E_nodes[77].content_raw)\n",
    "r = [i for i in ques_para_list if i.para_id == E_nodes[77].paragraph_id][0].get_paragraph()\n",
    "print(r)\n",
    "print(f'offset: \\n{r[test_start:test_end]}')"
   ]
  },
  {
   "cell_type": "code",
   "execution_count": null,
   "metadata": {
    "colab": {
     "base_uri": "https://localhost:8080/",
     "height": 138
    },
    "colab_type": "code",
    "executionInfo": {
     "elapsed": 4173,
     "status": "ok",
     "timestamp": 1583230438867,
     "user": {
      "displayName": "597709514@qq.com",
      "photoUrl": "https://lh3.googleusercontent.com/a-/AOh14GiZ4b29y22LPZ8tUnu62hIRC6jZFH5v8X6Jes57=s64",
      "userId": "03859811009091074275"
     },
     "user_tz": -480
    },
    "id": "Jw-qHT2FAPfe",
    "outputId": "733d92d6-3ce8-4cf4-f159-487e1e931402"
   },
   "outputs": [
    {
     "name": "stdout",
     "output_type": "stream",
     "text": [
      "len(S_nodes):46\n",
      "5a7a06935542990198eaf050_7\n",
      " In 2011 the circulation of the magazine was 1,310,696 copies.\n",
      "First for WomenFirst for Women is a woman's magazine published by Bauer Media Group in the USA. The magazine was started in 1989. It is based in Englewood Cliffs, New Jersey. In 2011 the circulation of the magazine was 1,310,696 copies.\n",
      "offset: \n",
      " In 2011 the circulation of the magazine was 1,310,696 copies.\n"
     ]
    }
   ],
   "source": [
    "# sentence offset\n",
    "S_nodes = [i for i in node_list if i.node_type == 'Sentence']\n",
    "print(f\"len(S_nodes):{len(S_nodes)}\")\n",
    "test_start = int(S_nodes[36].start_in_paragraph)\n",
    "test_end = int(S_nodes[36].end_in_paragraph)\n",
    "print(S_nodes[36].paragraph_id)\n",
    "print(S_nodes[36].content_raw)\n",
    "r = [i for i in ques_para_list if i.para_id == S_nodes[36].paragraph_id][0].get_paragraph()\n",
    "print(r)\n",
    "print(f'offset: \\n{r[test_start:test_end]}')"
   ]
  },
  {
   "cell_type": "code",
   "execution_count": null,
   "metadata": {
    "colab": {},
    "colab_type": "code",
    "id": "ZyMYcTj59HcR"
   },
   "outputs": [],
   "source": []
  },
  {
   "cell_type": "code",
   "execution_count": null,
   "metadata": {
    "colab": {},
    "colab_type": "code",
    "id": "xLuhpVmawN4K"
   },
   "outputs": [],
   "source": [
    "# NER识别情况\n",
    "ner_nodes = []\n",
    "for i in node_list:\n",
    "    ner_nodes.extend(i.get_NER_tuples_list())"
   ]
  },
  {
   "cell_type": "code",
   "execution_count": null,
   "metadata": {
    "colab": {
     "base_uri": "https://localhost:8080/",
     "height": 454
    },
    "colab_type": "code",
    "executionInfo": {
     "elapsed": 4129,
     "status": "ok",
     "timestamp": 1583230438869,
     "user": {
      "displayName": "597709514@qq.com",
      "photoUrl": "https://lh3.googleusercontent.com/a-/AOh14GiZ4b29y22LPZ8tUnu62hIRC6jZFH5v8X6Jes57=s64",
      "userId": "03859811009091074275"
     },
     "user_tz": -480
    },
    "id": "J6yuJfxeSffl",
    "outputId": "e68b3545-53b9-422b-ece2-8bfa52239eb0"
   },
   "outputs": [
    {
     "data": {
      "text/plain": [
       "[[{'content': 'Radio City', 'span_end': 10, 'span_start': 0, 'type': 'GPE'},\n",
       "  {'content': 'Indian', 'span_end': 18, 'span_start': 12, 'type': 'NORP'}],\n",
       " [{'content': 'Albanian', 'span_end': 19, 'span_start': 11, 'type': 'NORP'}],\n",
       " [],\n",
       " [{'content': 'the Southern United States',\n",
       "   'span_end': 46,\n",
       "   'span_start': 20,\n",
       "   'type': 'LOC'}],\n",
       " [{'content': 'First Arthur County Courthouse',\n",
       "   'span_end': 30,\n",
       "   'span_start': 0,\n",
       "   'type': 'ORG'}],\n",
       " [{'content': \"Arthur's Magazine\",\n",
       "   'span_end': 17,\n",
       "   'span_start': 0,\n",
       "   'type': 'ORG'}],\n",
       " [{'content': 'Ukrainian Hockey Championship',\n",
       "   'span_end': 37,\n",
       "   'span_start': 8,\n",
       "   'type': 'ORG'}],\n",
       " [],\n",
       " [],\n",
       " [{'content': 'William Rast',\n",
       "   'span_end': 12,\n",
       "   'span_start': 0,\n",
       "   'type': 'PERSON'}]]"
      ]
     },
     "execution_count": 231,
     "metadata": {
      "tags": []
     },
     "output_type": "execute_result"
    }
   ],
   "source": [
    "# 段落节点的NER识别情况\n",
    "P_nodes = [i for i in node_list if i.node_type=='Paragraph']\n",
    "[i.content_NER_list for i in P_nodes]"
   ]
  },
  {
   "cell_type": "code",
   "execution_count": null,
   "metadata": {
    "colab": {
     "base_uri": "https://localhost:8080/",
     "height": 1000
    },
    "colab_type": "code",
    "executionInfo": {
     "elapsed": 4116,
     "status": "ok",
     "timestamp": 1583230438870,
     "user": {
      "displayName": "597709514@qq.com",
      "photoUrl": "https://lh3.googleusercontent.com/a-/AOh14GiZ4b29y22LPZ8tUnu62hIRC6jZFH5v8X6Jes57=s64",
      "userId": "03859811009091074275"
     },
     "user_tz": -480
    },
    "id": "KUEo7wvEwN2P",
    "outputId": "256f6a10-3521-41cd-fbdb-eecedd95b1e1"
   },
   "outputs": [
    {
     "data": {
      "text/plain": [
       "[[{'content': 'Radio City', 'span_end': 10, 'span_start': 0, 'type': 'GPE'},\n",
       "  {'content': 'India', 'span_end': 19, 'span_start': 14, 'type': 'GPE'},\n",
       "  {'content': '3 July 2001',\n",
       "   'span_end': 83,\n",
       "   'span_start': 72,\n",
       "   'type': 'DATE'}],\n",
       " [{'content': 'Mumbai', 'span_end': 74, 'span_start': 68, 'type': 'GPE'},\n",
       "  {'content': '2004', 'span_end': 104, 'span_start': 100, 'type': 'DATE'},\n",
       "  {'content': 'Bengaluru', 'span_end': 116, 'span_start': 107, 'type': 'ORG'},\n",
       "  {'content': '2001', 'span_end': 139, 'span_start': 135, 'type': 'DATE'},\n",
       "  {'content': 'Lucknow', 'span_end': 149, 'span_start': 142, 'type': 'GPE'},\n",
       "  {'content': 'New Delhi', 'span_end': 163, 'span_start': 154, 'type': 'GPE'},\n",
       "  {'content': '2003', 'span_end': 175, 'span_start': 171, 'type': 'DATE'}],\n",
       " [{'content': 'Hindi', 'span_end': 15, 'span_start': 10, 'type': 'LANGUAGE'},\n",
       "  {'content': 'English',\n",
       "   'span_end': 24,\n",
       "   'span_start': 17,\n",
       "   'type': 'LANGUAGE'}],\n",
       " [{'content': 'Hyderabad', 'span_end': 29, 'span_start': 20, 'type': 'GPE'},\n",
       "  {'content': 'March 2006', 'span_end': 43, 'span_start': 33, 'type': 'DATE'},\n",
       "  {'content': 'Chennai', 'span_end': 55, 'span_start': 48, 'type': 'GPE'},\n",
       "  {'content': '7 July 2006', 'span_end': 70, 'span_start': 59, 'type': 'DATE'},\n",
       "  {'content': 'Visakhapatnam October 2007',\n",
       "   'span_end': 104,\n",
       "   'span_start': 78,\n",
       "   'type': 'DATE'}],\n",
       " [{'content': 'New Media', 'span_end': 43, 'span_start': 34, 'type': 'ORG'},\n",
       "  {'content': 'May 2008', 'span_end': 55, 'span_start': 47, 'type': 'DATE'}],\n",
       " [{'content': 'Hindi', 'span_end': 49, 'span_start': 44, 'type': 'GPE'}],\n",
       " [],\n",
       " [{'content': 'Albania', 'span_end': 19, 'span_start': 12, 'type': 'GPE'},\n",
       "  {'content': 'the Albanian Football Federation',\n",
       "   'span_end': 67,\n",
       "   'span_start': 35,\n",
       "   'type': 'ORG'},\n",
       "  {'content': 'FSHF', 'span_end': 73, 'span_start': 69, 'type': 'ORG'}],\n",
       " [{'content': 'Balkan Cup', 'span_end': 64, 'span_start': 54, 'type': 'EVENT'},\n",
       "  {'content': '1929-1931', 'span_end': 92, 'span_start': 83, 'type': 'DATE'},\n",
       "  {'content': '1929', 'span_end': 115, 'span_start': 111, 'type': 'DATE'},\n",
       "  {'content': 'Albania', 'span_end': 133, 'span_start': 126, 'type': 'GPE'}],\n",
       " [{'content': 'June 6, 1930',\n",
       "   'span_end': 51,\n",
       "   'span_start': 39,\n",
       "   'type': 'DATE'},\n",
       "  {'content': 'Albania', 'span_end': 64, 'span_start': 57, 'type': 'GPE'},\n",
       "  {'content': '16 years', 'span_end': 85, 'span_start': 77, 'type': 'DATE'},\n",
       "  {'content': 'Yugoslavia', 'span_end': 152, 'span_start': 142, 'type': 'GPE'},\n",
       "  {'content': '1946', 'span_end': 160, 'span_start': 156, 'type': 'DATE'}],\n",
       " [{'content': '1932', 'span_end': 8, 'span_start': 4, 'type': 'DATE'},\n",
       "  {'content': 'Albania', 'span_end': 17, 'span_start': 10, 'type': 'GPE'},\n",
       "  {'content': 'FIFA', 'span_end': 29, 'span_start': 25, 'type': 'ORG'},\n",
       "  {'content': 'June', 'span_end': 52, 'span_start': 48, 'type': 'DATE'},\n",
       "  {'content': '1954', 'span_end': 77, 'span_start': 73, 'type': 'DATE'},\n",
       "  {'content': 'UEFA', 'span_end': 121, 'span_start': 117, 'type': 'ORG'}],\n",
       " [{'content': 'Echosmith', 'span_end': 9, 'span_start': 0, 'type': 'ORG'},\n",
       "  {'content': 'American', 'span_end': 24, 'span_start': 16, 'type': 'NORP'},\n",
       "  {'content': 'February 2009',\n",
       "   'span_end': 74,\n",
       "   'span_start': 61,\n",
       "   'type': 'DATE'},\n",
       "  {'content': 'Chino', 'span_end': 83, 'span_start': 78, 'type': 'GPE'},\n",
       "  {'content': 'California', 'span_end': 95, 'span_start': 85, 'type': 'GPE'}],\n",
       " [{'content': 'Sydney', 'span_end': 82, 'span_start': 76, 'type': 'GPE'},\n",
       "  {'content': 'Noah', 'span_end': 88, 'span_start': 84, 'type': 'PERSON'},\n",
       "  {'content': 'Graham Sierota',\n",
       "   'span_end': 107,\n",
       "   'span_start': 93,\n",
       "   'type': 'PERSON'},\n",
       "  {'content': 'Jamie', 'span_end': 156, 'span_start': 151, 'type': 'PERSON'},\n",
       "  {'content': 'late 2016',\n",
       "   'span_end': 169,\n",
       "   'span_start': 160,\n",
       "   'type': 'DATE'}],\n",
       " [{'content': 'Echosmith', 'span_end': 10, 'span_start': 1, 'type': 'PERSON'},\n",
       "  {'content': 'Ready Set Go',\n",
       "   'span_end': 41,\n",
       "   'span_start': 29,\n",
       "   'type': 'WORK_OF_ART'}],\n",
       " [{'content': 'Warner Bros.',\n",
       "   'span_end': 34,\n",
       "   'span_start': 22,\n",
       "   'type': 'ORG'}],\n",
       " [{'content': 'May 2012', 'span_end': 20, 'span_start': 12, 'type': 'DATE'}],\n",
       " [{'content': 'Cool Kids',\n",
       "   'span_end': 50,\n",
       "   'span_start': 41,\n",
       "   'type': 'WORK_OF_ART'},\n",
       "  {'content': 'Billboard',\n",
       "   'span_end': 94,\n",
       "   'span_start': 85,\n",
       "   'type': 'PRODUCT'},\n",
       "  {'content': 'RIAA', 'span_end': 149, 'span_start': 145, 'type': 'ORG'},\n",
       "  {'content': 'the United States',\n",
       "   'span_end': 196,\n",
       "   'span_start': 179,\n",
       "   'type': 'GPE'},\n",
       "  {'content': 'Australia', 'span_end': 242, 'span_start': 233, 'type': 'GPE'}],\n",
       " [{'content': 'Warner Bros.',\n",
       "   'span_end': 26,\n",
       "   'span_start': 14,\n",
       "   'type': 'ORG'}],\n",
       " [{'content': '2014', 'span_end': 52, 'span_start': 48, 'type': 'DATE'}],\n",
       " [{'content': 'Talking Dreams',\n",
       "   'span_end': 40,\n",
       "   'span_start': 26,\n",
       "   'type': 'WORK_OF_ART'},\n",
       "  {'content': 'October 8, 2013',\n",
       "   'span_end': 74,\n",
       "   'span_start': 59,\n",
       "   'type': 'DATE'}],\n",
       " [{'content': 'Southern United States',\n",
       "   'span_end': 46,\n",
       "   'span_start': 24,\n",
       "   'type': 'GPE'},\n",
       "  {'content': 'the Southern United States',\n",
       "   'span_end': 257,\n",
       "   'span_start': 231,\n",
       "   'type': 'LOC'}],\n",
       " [],\n",
       " [{'content': 'South', 'span_end': 72, 'span_start': 67, 'type': 'LOC'},\n",
       "  {'content': 'Wesleyan College',\n",
       "   'span_end': 93,\n",
       "   'span_start': 77,\n",
       "   'type': 'ORG'}],\n",
       " [{'content': 'Mary Baldwin University',\n",
       "   'span_end': 46,\n",
       "   'span_start': 23,\n",
       "   'type': 'ORG'},\n",
       "  {'content': 'Salem College',\n",
       "   'span_end': 64,\n",
       "   'span_start': 51,\n",
       "   'type': 'ORG'}],\n",
       " [{'content': 'The First Arthur County Courthouse',\n",
       "   'span_end': 34,\n",
       "   'span_start': 0,\n",
       "   'type': 'ORG'},\n",
       "  {'content': 'the United States',\n",
       "   'span_end': 102,\n",
       "   'span_start': 85,\n",
       "   'type': 'GPE'}],\n",
       " [{'content': \"Arthur's Magazine\",\n",
       "   'span_end': 17,\n",
       "   'span_start': 0,\n",
       "   'type': 'ORG'},\n",
       "  {'content': 'American', 'span_end': 45, 'span_start': 37, 'type': 'NORP'},\n",
       "  {'content': 'Philadelphia', 'span_end': 91, 'span_start': 79, 'type': 'GPE'},\n",
       "  {'content': 'the 19th century',\n",
       "   'span_end': 111,\n",
       "   'span_start': 95,\n",
       "   'type': 'DATE'}],\n",
       " [{'content': 'T.S. Arthur',\n",
       "   'span_end': 22,\n",
       "   'span_start': 11,\n",
       "   'type': 'PERSON'},\n",
       "  {'content': 'Edgar A. Poe',\n",
       "   'span_end': 56,\n",
       "   'span_start': 44,\n",
       "   'type': 'PERSON'},\n",
       "  {'content': 'J.H. Ingraham',\n",
       "   'span_end': 71,\n",
       "   'span_start': 58,\n",
       "   'type': 'PERSON'},\n",
       "  {'content': 'Sarah Josepha Hale',\n",
       "   'span_end': 91,\n",
       "   'span_start': 73,\n",
       "   'type': 'PERSON'},\n",
       "  {'content': 'Thomas G. Spear',\n",
       "   'span_end': 108,\n",
       "   'span_start': 93,\n",
       "   'type': 'PERSON'}],\n",
       " [{'content': 'May 1846', 'span_end': 12, 'span_start': 4, 'type': 'DATE'},\n",
       "  {'content': 'Godey', 'span_end': 38, 'span_start': 33, 'type': 'ORG'}],\n",
       " [{'content': 'Ukrainian Hockey Championship',\n",
       "   'span_end': 41,\n",
       "   'span_start': 12,\n",
       "   'type': 'EVENT'},\n",
       "  {'content': 'the 23rd season',\n",
       "   'span_end': 61,\n",
       "   'span_start': 46,\n",
       "   'type': 'DATE'},\n",
       "  {'content': 'the Ukrainian Hockey Championship',\n",
       "   'span_end': 98,\n",
       "   'span_start': 65,\n",
       "   'type': 'EVENT'}],\n",
       " [{'content': 'this season', 'span_end': 55, 'span_start': 44, 'type': 'DATE'},\n",
       "  {'content': 'Ukraine', 'span_end': 94, 'span_start': 87, 'type': 'GPE'}],\n",
       " [{'content': 'Kiev', 'span_end': 14, 'span_start': 10, 'type': 'GPE'},\n",
       "  {'content': 'the previous season',\n",
       "   'span_end': 84,\n",
       "   'span_start': 65,\n",
       "   'type': 'DATE'},\n",
       "  {'content': 'the year-end of 2014',\n",
       "   'span_end': 141,\n",
       "   'span_start': 121,\n",
       "   'type': 'DATE'}],\n",
       " [],\n",
       " [{'content': 'ATEK Kiev', 'span_end': 24, 'span_start': 15, 'type': 'ORG'},\n",
       "  {'content': 'HK Kremenchuk',\n",
       "   'span_end': 73,\n",
       "   'span_start': 60,\n",
       "   'type': 'PERSON'}],\n",
       " [{'content': 'Bauer Media Group',\n",
       "   'span_end': 68,\n",
       "   'span_start': 51,\n",
       "   'type': 'ORG'},\n",
       "  {'content': 'USA', 'span_end': 79, 'span_start': 76, 'type': 'GPE'}],\n",
       " [{'content': '1989', 'span_end': 33, 'span_start': 29, 'type': 'DATE'}],\n",
       " [{'content': 'Englewood Cliffs',\n",
       "   'span_end': 32,\n",
       "   'span_start': 16,\n",
       "   'type': 'GPE'},\n",
       "  {'content': 'New Jersey', 'span_end': 44, 'span_start': 34, 'type': 'GPE'}],\n",
       " [{'content': '2011', 'span_end': 8, 'span_start': 4, 'type': 'DATE'}],\n",
       " [{'content': '2008', 'span_end': 35, 'span_start': 31, 'type': 'DATE'},\n",
       "  {'content': 'Santa Ana Canyon',\n",
       "   'span_end': 68,\n",
       "   'span_start': 52,\n",
       "   'type': 'GPE'},\n",
       "  {'content': 'Orange County',\n",
       "   'span_end': 90,\n",
       "   'span_start': 77,\n",
       "   'type': 'GPE'},\n",
       "  {'content': 'California', 'span_end': 102, 'span_start': 92, 'type': 'GPE'}],\n",
       " [{'content': 'November 15, 2008',\n",
       "   'span_end': 60,\n",
       "   'span_start': 43,\n",
       "   'type': 'DATE'}],\n",
       " [{'content': 'approximately 2 hours later',\n",
       "   'span_end': 113,\n",
       "   'span_start': 86,\n",
       "   'type': 'TIME'}],\n",
       " [{'content': 'a day later', 'span_end': 44, 'span_start': 33, 'type': 'DATE'},\n",
       "  {'content': 'Anaheim Hills',\n",
       "   'span_end': 101,\n",
       "   'span_start': 88,\n",
       "   'type': 'GPE'},\n",
       "  {'content': 'Yorba Linda',\n",
       "   'span_end': 117,\n",
       "   'span_start': 106,\n",
       "   'type': 'PERSON'}],\n",
       " [{'content': 'William Rast',\n",
       "   'span_end': 12,\n",
       "   'span_start': 0,\n",
       "   'type': 'PERSON'},\n",
       "  {'content': 'American', 'span_end': 27, 'span_start': 19, 'type': 'NORP'},\n",
       "  {'content': 'Justin Timberlake',\n",
       "   'span_end': 70,\n",
       "   'span_start': 53,\n",
       "   'type': 'PERSON'},\n",
       "  {'content': 'Trace Ayala',\n",
       "   'span_end': 86,\n",
       "   'span_start': 75,\n",
       "   'type': 'PERSON'}],\n",
       " [],\n",
       " [{'content': 'October 17, 2006',\n",
       "   'span_end': 20,\n",
       "   'span_start': 4,\n",
       "   'type': 'DATE'},\n",
       "  {'content': 'Justin Timberlake',\n",
       "   'span_end': 39,\n",
       "   'span_start': 22,\n",
       "   'type': 'PERSON'},\n",
       "  {'content': 'Trace Ayala',\n",
       "   'span_end': 55,\n",
       "   'span_start': 44,\n",
       "   'type': 'PERSON'},\n",
       "  {'content': 'William Rast',\n",
       "   'span_end': 120,\n",
       "   'span_start': 108,\n",
       "   'type': 'PERSON'}],\n",
       " [],\n",
       " []]"
      ]
     },
     "execution_count": 232,
     "metadata": {
      "tags": []
     },
     "output_type": "execute_result"
    }
   ],
   "source": [
    "# 句子节点的识别情况\n",
    "S_nodes = [i for i in node_list if i.node_type=='Sentence']\n",
    "[i.content_NER_list for i in S_nodes]"
   ]
  },
  {
   "cell_type": "markdown",
   "metadata": {
    "colab_type": "text",
    "id": "h7VpTzW9wNzZ"
   },
   "source": [
    "## 建立实体hyper-link\n",
    "\n",
    "原文:\n",
    "\n",
    "- 句子和段落节点相连.(通过相同实体)\n",
    "- 问题节点和实体节点相连.\n"
   ]
  },
  {
   "cell_type": "code",
   "execution_count": null,
   "metadata": {
    "colab": {
     "base_uri": "https://localhost:8080/",
     "height": 34
    },
    "colab_type": "code",
    "executionInfo": {
     "elapsed": 4102,
     "status": "ok",
     "timestamp": 1583230438872,
     "user": {
      "displayName": "597709514@qq.com",
      "photoUrl": "https://lh3.googleusercontent.com/a-/AOh14GiZ4b29y22LPZ8tUnu62hIRC6jZFH5v8X6Jes57=s64",
      "userId": "03859811009091074275"
     },
     "user_tz": -480
    },
    "id": "n1ZRQKBu3pwi",
    "outputId": "2d70ac7e-d8ee-433c-e83e-294384f50e6b"
   },
   "outputs": [
    {
     "data": {
      "text/plain": [
       "[Node: Entity 102]"
      ]
     },
     "execution_count": 233,
     "metadata": {
      "tags": []
     },
     "output_type": "execute_result"
    }
   ],
   "source": [
    "# 连接Q节点和E节点.\n",
    "Q_node = [i for i in node_list if i.node_type == 'Question']\n",
    "assert Q_node != []\n",
    "question = Q_node[0].content_raw\n",
    "E_nodes = [i for i in node_list if i.node_type == 'Entity' and i.content_raw.replace(' ','') in question.replace(' ','')]\n",
    "E_nodes"
   ]
  },
  {
   "cell_type": "code",
   "execution_count": null,
   "metadata": {
    "colab": {},
    "colab_type": "code",
    "id": "J9vzPctLZnR2"
   },
   "outputs": [],
   "source": [
    "for i in E_nodes:\n",
    "    sp_adj.append(edge_type_map['Q_E'], Q_node[0].node_id, i.node_id)"
   ]
  },
  {
   "cell_type": "code",
   "execution_count": null,
   "metadata": {
    "colab": {},
    "colab_type": "code",
    "id": "CL42ipiWcCH0"
   },
   "outputs": [],
   "source": [
    "# 连接S和P节点\n",
    "# 注意!!原文没有使用entity linking系统, 而是直接使用Wikipedia提供的链接.\n",
    "# 这里暂时使用字符串match.\n",
    "S_node = [i for i in node_list if i.node_type == 'Sentence']\n",
    "E_node = [i for i in node_list if i.node_type == 'Entity']\n",
    "for E_n in E_node:\n",
    "    entity = E_n.content_raw.replace(' ','')\n",
    "    for S_n in S_node:\n",
    "        if entity in S_n.content_raw.replace(' ',''):\n",
    "            sp_adj.append(edge_type_map['S_S_hyper'], node_list[E_n.parent_id].node_id, node_list[S_n.parent_id].node_id)"
   ]
  },
  {
   "cell_type": "code",
   "execution_count": null,
   "metadata": {
    "colab": {},
    "colab_type": "code",
    "id": "hGNvzkBl3p29"
   },
   "outputs": [],
   "source": []
  },
  {
   "cell_type": "markdown",
   "metadata": {
    "colab_type": "text",
    "id": "57O-D3_gYTTd"
   },
   "source": [
    "## 建立 adj, labels"
   ]
  },
  {
   "cell_type": "code",
   "execution_count": null,
   "metadata": {
    "colab": {
     "base_uri": "https://localhost:8080/",
     "height": 202
    },
    "colab_type": "code",
    "executionInfo": {
     "elapsed": 4049,
     "status": "ok",
     "timestamp": 1583230438875,
     "user": {
      "displayName": "597709514@qq.com",
      "photoUrl": "https://lh3.googleusercontent.com/a-/AOh14GiZ4b29y22LPZ8tUnu62hIRC6jZFH5v8X6Jes57=s64",
      "userId": "03859811009091074275"
     },
     "user_tz": -480
    },
    "id": "J98KTcC3YTTh",
    "outputId": "72e1b11d-b3fe-40ad-9268-a7cc235d45c7"
   },
   "outputs": [
    {
     "name": "stdout",
     "output_type": "stream",
     "text": [
      "tensor([0., 0., 0., 0., 0., 0., 0., 0., 0., 0., 0., 0., 0., 0., 0., 0., 0., 0.,\n",
      "        0., 0., 0., 0., 0., 0., 0., 0., 0., 0., 0., 0., 0., 0., 0., 0., 0., 0.,\n",
      "        0., 0., 0., 0., 0., 0., 0., 0., 0., 0., 0., 0., 0., 0., 0., 0., 0., 0.,\n",
      "        0., 0., 0., 0., 0., 0., 0., 0., 0., 0., 0., 0., 0., 0., 0., 0., 0., 0.,\n",
      "        0., 0., 0., 0., 0., 0., 0., 0., 0., 0., 0., 0., 0., 0., 0., 0., 0., 0.,\n",
      "        0., 0., 0., 0., 0., 0., 0., 0., 0., 0., 1., 1., 0., 0., 0., 0., 0., 0.,\n",
      "        0., 0., 0., 0., 0., 0., 0., 0., 0., 0., 0., 0., 0., 0., 0., 0., 0., 0.,\n",
      "        0., 0., 0., 0., 0., 1., 1., 0., 0., 0., 0., 0., 0., 0., 0., 0., 0., 0.,\n",
      "        0., 0., 0., 0., 0., 0., 0., 0., 0., 0., 0., 0., 0., 0., 0., 0., 0., 0.,\n",
      "        0., 0., 0., 0., 0., 0., 0., 0.])\n",
      "torch.Size([170])\n"
     ]
    }
   ],
   "source": [
    "labels = torch.stack([torch.tensor(float(node.is_support)) for node in node_list], dim=0)\n",
    "print(labels)\n",
    "print(labels.shape)"
   ]
  },
  {
   "cell_type": "code",
   "execution_count": null,
   "metadata": {
    "colab": {
     "base_uri": "https://localhost:8080/",
     "height": 134
    },
    "colab_type": "code",
    "executionInfo": {
     "elapsed": 4029,
     "status": "ok",
     "timestamp": 1583230438876,
     "user": {
      "displayName": "597709514@qq.com",
      "photoUrl": "https://lh3.googleusercontent.com/a-/AOh14GiZ4b29y22LPZ8tUnu62hIRC6jZFH5v8X6Jes57=s64",
      "userId": "03859811009091074275"
     },
     "user_tz": -480
    },
    "id": "oqB1p_y5YTTk",
    "outputId": "eafa515e-7310-4aa6-c2ea-26ad01c78158"
   },
   "outputs": [
    {
     "data": {
      "text/plain": [
       "array([[0., 1., 0., ..., 0., 0., 0.],\n",
       "       [0., 0., 3., ..., 0., 0., 0.],\n",
       "       [0., 4., 0., ..., 0., 0., 0.],\n",
       "       ...,\n",
       "       [0., 0., 0., ..., 0., 0., 0.],\n",
       "       [0., 0., 0., ..., 0., 0., 0.],\n",
       "       [0., 0., 0., ..., 0., 0., 0.]], dtype=float32)"
      ]
     },
     "execution_count": 237,
     "metadata": {
      "tags": []
     },
     "output_type": "execute_result"
    }
   ],
   "source": [
    "sp_adj.to_dense()"
   ]
  },
  {
   "cell_type": "code",
   "execution_count": null,
   "metadata": {
    "colab": {
     "base_uri": "https://localhost:8080/",
     "height": 134
    },
    "colab_type": "code",
    "executionInfo": {
     "elapsed": 4007,
     "status": "ok",
     "timestamp": 1583230438876,
     "user": {
      "displayName": "597709514@qq.com",
      "photoUrl": "https://lh3.googleusercontent.com/a-/AOh14GiZ4b29y22LPZ8tUnu62hIRC6jZFH5v8X6Jes57=s64",
      "userId": "03859811009091074275"
     },
     "user_tz": -480
    },
    "id": "v9y7zlzRy5no",
    "outputId": "7426450d-2b92-4272-aaa5-260df9ce162a"
   },
   "outputs": [
    {
     "data": {
      "text/plain": [
       "array([[0., 1., 0., ..., 0., 0., 0.],\n",
       "       [1., 0., 4., ..., 0., 0., 0.],\n",
       "       [0., 4., 0., ..., 0., 0., 0.],\n",
       "       ...,\n",
       "       [0., 0., 0., ..., 0., 0., 0.],\n",
       "       [0., 0., 0., ..., 0., 0., 0.],\n",
       "       [0., 0., 0., ..., 0., 0., 0.]], dtype=float32)"
      ]
     },
     "execution_count": 238,
     "metadata": {
      "tags": []
     },
     "output_type": "execute_result"
    }
   ],
   "source": [
    "sp_adj.to_dense_symmetric()"
   ]
  },
  {
   "cell_type": "code",
   "execution_count": null,
   "metadata": {
    "colab": {
     "base_uri": "https://localhost:8080/",
     "height": 101
    },
    "colab_type": "code",
    "executionInfo": {
     "elapsed": 3990,
     "status": "ok",
     "timestamp": 1583230438878,
     "user": {
      "displayName": "597709514@qq.com",
      "photoUrl": "https://lh3.googleusercontent.com/a-/AOh14GiZ4b29y22LPZ8tUnu62hIRC6jZFH5v8X6Jes57=s64",
      "userId": "03859811009091074275"
     },
     "user_tz": -480
    },
    "id": "7QJcq-rHqk31",
    "outputId": "e69a81bb-2cd8-48fa-95f2-4ca9bf0eea4c"
   },
   "outputs": [
    {
     "data": {
      "text/plain": [
       "matrix([[ 0,  0,  0,  0,  0],\n",
       "        [ 0,  0, 19,  3,  0],\n",
       "        [ 0,  0,  0,  2,  0],\n",
       "        [ 0,  0,  0,  0,  3],\n",
       "        [ 0,  0,  0,  0,  0]])"
      ]
     },
     "execution_count": 239,
     "metadata": {
      "tags": []
     },
     "output_type": "execute_result"
    }
   ],
   "source": [
    "# 会覆盖!\n",
    "test_ajd = np.array([\n",
    "    [9,1,2],\n",
    "    [10,1,2],\n",
    "    [3,1,3],\n",
    "    [2,2,3],\n",
    "    [3,3,4],\n",
    "    ])\n",
    "sp.coo_matrix((test_ajd[:,0], (test_ajd[:,1], test_ajd[:,2])), shape=(5,5)).todense()"
   ]
  },
  {
   "cell_type": "code",
   "execution_count": null,
   "metadata": {
    "colab": {
     "base_uri": "https://localhost:8080/",
     "height": 67
    },
    "colab_type": "code",
    "executionInfo": {
     "elapsed": 3974,
     "status": "ok",
     "timestamp": 1583230438879,
     "user": {
      "displayName": "597709514@qq.com",
      "photoUrl": "https://lh3.googleusercontent.com/a-/AOh14GiZ4b29y22LPZ8tUnu62hIRC6jZFH5v8X6Jes57=s64",
      "userId": "03859811009091074275"
     },
     "user_tz": -480
    },
    "id": "rixMqYpJcB9m",
    "outputId": "1389721f-269d-46ec-9900-cc429badf95b"
   },
   "outputs": [
    {
     "name": "stdout",
     "output_type": "stream",
     "text": [
      "170\n",
      "200\n",
      "10\n"
     ]
    }
   ],
   "source": [
    "# 第一阶段结束.\n",
    "print(len(node_list))\n",
    "print(len(symm_adj))\n",
    "print(len(ques_para_list))"
   ]
  },
  {
   "cell_type": "code",
   "execution_count": null,
   "metadata": {
    "colab": {
     "base_uri": "https://localhost:8080/",
     "height": 131
    },
    "colab_type": "code",
    "executionInfo": {
     "elapsed": 3978,
     "status": "error",
     "timestamp": 1583230438886,
     "user": {
      "displayName": "597709514@qq.com",
      "photoUrl": "https://lh3.googleusercontent.com/a-/AOh14GiZ4b29y22LPZ8tUnu62hIRC6jZFH5v8X6Jes57=s64",
      "userId": "03859811009091074275"
     },
     "user_tz": -480
    },
    "id": "2Dk1oiT54H2Y",
    "outputId": "d03850f9-aed4-4d8b-d0e4-a26f510d264c"
   },
   "outputs": [
    {
     "ename": "SyntaxError",
     "evalue": "ignored",
     "output_type": "error",
     "traceback": [
      "\u001b[0;36m  File \u001b[0;32m\"<ipython-input-241-4cf4f10edf52>\"\u001b[0;36m, line \u001b[0;32m1\u001b[0m\n\u001b[0;31m    import\u001b[0m\n\u001b[0m           ^\u001b[0m\n\u001b[0;31mSyntaxError\u001b[0m\u001b[0;31m:\u001b[0m invalid syntax\n"
     ]
    }
   ],
   "source": [
    "# 保存为pickle\n",
    "import "
   ]
  },
  {
   "cell_type": "markdown",
   "metadata": {
    "colab_type": "text",
    "id": "rmNmVA1wj477"
   },
   "source": [
    "## 第二阶段\n",
    "\n",
    "bert-fine-turning之后获得段落的表达. node初始化表达通过offset获得."
   ]
  },
  {
   "cell_type": "code",
   "execution_count": null,
   "metadata": {
    "colab": {},
    "colab_type": "code",
    "id": "M21DkbX_j45b"
   },
   "outputs": [],
   "source": [
    "ques_para_list[0].get_ques_para_pair()"
   ]
  },
  {
   "cell_type": "code",
   "execution_count": null,
   "metadata": {
    "colab": {},
    "colab_type": "code",
    "id": "03ECYJDmj428"
   },
   "outputs": [],
   "source": []
  },
  {
   "cell_type": "code",
   "execution_count": null,
   "metadata": {
    "colab": {},
    "colab_type": "code",
    "id": "RWWONVYiYTTe"
   },
   "outputs": [],
   "source": [
    "# features [N_nodes, hidden]\n",
    "features = torch.stack([node.content_features.flatten() for node in node_list], dim=0)\n",
    "features.shape"
   ]
  },
  {
   "cell_type": "code",
   "execution_count": null,
   "metadata": {
    "colab": {},
    "colab_type": "code",
    "id": "80neyk29YTTv"
   },
   "outputs": [],
   "source": []
  },
  {
   "cell_type": "code",
   "execution_count": null,
   "metadata": {
    "colab": {},
    "colab_type": "code",
    "id": "o5Yltl-tYTTx"
   },
   "outputs": [],
   "source": []
  },
  {
   "cell_type": "code",
   "execution_count": null,
   "metadata": {
    "colab": {},
    "colab_type": "code",
    "id": "PyI3WAGgYTT0"
   },
   "outputs": [],
   "source": []
  },
  {
   "cell_type": "code",
   "execution_count": null,
   "metadata": {
    "colab": {},
    "colab_type": "code",
    "id": "z-UNJVl9YTT3"
   },
   "outputs": [],
   "source": []
  },
  {
   "cell_type": "code",
   "execution_count": null,
   "metadata": {
    "colab": {},
    "colab_type": "code",
    "id": "ecc8Fn8VYTT7"
   },
   "outputs": [],
   "source": []
  },
  {
   "cell_type": "code",
   "execution_count": null,
   "metadata": {
    "colab": {},
    "colab_type": "code",
    "id": "V50M94GYYTT-"
   },
   "outputs": [],
   "source": []
  },
  {
   "cell_type": "code",
   "execution_count": null,
   "metadata": {
    "colab": {},
    "colab_type": "code",
    "id": "TBDYTKqhYTUA"
   },
   "outputs": [],
   "source": []
  },
  {
   "cell_type": "code",
   "execution_count": null,
   "metadata": {
    "colab": {},
    "colab_type": "code",
    "id": "yOwRfWL7YTUD"
   },
   "outputs": [],
   "source": []
  }
 ],
 "metadata": {
  "accelerator": "GPU",
  "colab": {
   "collapsed_sections": [],
   "name": "HotpotQA_preprocessing.ipynb",
   "provenance": []
  },
  "kernelspec": {
   "display_name": "Python 3",
   "language": "python",
   "name": "python3"
  },
  "language_info": {
   "codemirror_mode": {
    "name": "ipython",
    "version": 3
   },
   "file_extension": ".py",
   "mimetype": "text/x-python",
   "name": "python",
   "nbconvert_exporter": "python",
   "pygments_lexer": "ipython3",
   "version": "3.7.6"
  },
  "toc": {
   "base_numbering": 1,
   "nav_menu": {},
   "number_sections": true,
   "sideBar": true,
   "skip_h1_title": false,
   "title_cell": "Table of Contents",
   "title_sidebar": "Contents",
   "toc_cell": true,
   "toc_position": {},
   "toc_section_display": true,
   "toc_window_display": false
  },
  "widgets": {
   "application/vnd.jupyter.widget-state+json": {
    "00a8432a201346b59998b56c8eaf21ca": {
     "model_module": "@jupyter-widgets/controls",
     "model_name": "DescriptionStyleModel",
     "state": {
      "_model_module": "@jupyter-widgets/controls",
      "_model_module_version": "1.5.0",
      "_model_name": "DescriptionStyleModel",
      "_view_count": null,
      "_view_module": "@jupyter-widgets/base",
      "_view_module_version": "1.2.0",
      "_view_name": "StyleView",
      "description_width": ""
     }
    },
    "1b0d63beeba9469f892987fb6070151f": {
     "model_module": "@jupyter-widgets/controls",
     "model_name": "ProgressStyleModel",
     "state": {
      "_model_module": "@jupyter-widgets/controls",
      "_model_module_version": "1.5.0",
      "_model_name": "ProgressStyleModel",
      "_view_count": null,
      "_view_module": "@jupyter-widgets/base",
      "_view_module_version": "1.2.0",
      "_view_name": "StyleView",
      "bar_color": null,
      "description_width": "initial"
     }
    },
    "23f4f3f664af4bcea50f9a431f83eb1e": {
     "model_module": "@jupyter-widgets/base",
     "model_name": "LayoutModel",
     "state": {
      "_model_module": "@jupyter-widgets/base",
      "_model_module_version": "1.2.0",
      "_model_name": "LayoutModel",
      "_view_count": null,
      "_view_module": "@jupyter-widgets/base",
      "_view_module_version": "1.2.0",
      "_view_name": "LayoutView",
      "align_content": null,
      "align_items": null,
      "align_self": null,
      "border": null,
      "bottom": null,
      "display": null,
      "flex": null,
      "flex_flow": null,
      "grid_area": null,
      "grid_auto_columns": null,
      "grid_auto_flow": null,
      "grid_auto_rows": null,
      "grid_column": null,
      "grid_gap": null,
      "grid_row": null,
      "grid_template_areas": null,
      "grid_template_columns": null,
      "grid_template_rows": null,
      "height": null,
      "justify_content": null,
      "justify_items": null,
      "left": null,
      "margin": null,
      "max_height": null,
      "max_width": null,
      "min_height": null,
      "min_width": null,
      "object_fit": null,
      "object_position": null,
      "order": null,
      "overflow": null,
      "overflow_x": null,
      "overflow_y": null,
      "padding": null,
      "right": null,
      "top": null,
      "visibility": null,
      "width": null
     }
    },
    "65536518c850442f87e421d942ccf585": {
     "model_module": "@jupyter-widgets/controls",
     "model_name": "HBoxModel",
     "state": {
      "_dom_classes": [],
      "_model_module": "@jupyter-widgets/controls",
      "_model_module_version": "1.5.0",
      "_model_name": "HBoxModel",
      "_view_count": null,
      "_view_module": "@jupyter-widgets/controls",
      "_view_module_version": "1.5.0",
      "_view_name": "HBoxView",
      "box_style": "",
      "children": [
       "IPY_MODEL_f3fd312440af441ba0420af18e0ad419",
       "IPY_MODEL_d110a70c0b2940f1a665034be37fe000"
      ],
      "layout": "IPY_MODEL_cab0cd450741456dbb7140ef3f7aeb00"
     }
    },
    "cab0cd450741456dbb7140ef3f7aeb00": {
     "model_module": "@jupyter-widgets/base",
     "model_name": "LayoutModel",
     "state": {
      "_model_module": "@jupyter-widgets/base",
      "_model_module_version": "1.2.0",
      "_model_name": "LayoutModel",
      "_view_count": null,
      "_view_module": "@jupyter-widgets/base",
      "_view_module_version": "1.2.0",
      "_view_name": "LayoutView",
      "align_content": null,
      "align_items": null,
      "align_self": null,
      "border": null,
      "bottom": null,
      "display": null,
      "flex": null,
      "flex_flow": null,
      "grid_area": null,
      "grid_auto_columns": null,
      "grid_auto_flow": null,
      "grid_auto_rows": null,
      "grid_column": null,
      "grid_gap": null,
      "grid_row": null,
      "grid_template_areas": null,
      "grid_template_columns": null,
      "grid_template_rows": null,
      "height": null,
      "justify_content": null,
      "justify_items": null,
      "left": null,
      "margin": null,
      "max_height": null,
      "max_width": null,
      "min_height": null,
      "min_width": null,
      "object_fit": null,
      "object_position": null,
      "order": null,
      "overflow": null,
      "overflow_x": null,
      "overflow_y": null,
      "padding": null,
      "right": null,
      "top": null,
      "visibility": null,
      "width": null
     }
    },
    "d110a70c0b2940f1a665034be37fe000": {
     "model_module": "@jupyter-widgets/controls",
     "model_name": "HTMLModel",
     "state": {
      "_dom_classes": [],
      "_model_module": "@jupyter-widgets/controls",
      "_model_module_version": "1.5.0",
      "_model_name": "HTMLModel",
      "_view_count": null,
      "_view_module": "@jupyter-widgets/controls",
      "_view_module_version": "1.5.0",
      "_view_name": "HTMLView",
      "description": "",
      "description_tooltip": null,
      "layout": "IPY_MODEL_23f4f3f664af4bcea50f9a431f83eb1e",
      "placeholder": "​",
      "style": "IPY_MODEL_00a8432a201346b59998b56c8eaf21ca",
      "value": "100% 2/2 [00:02&lt;00:00,  1.34s/it]"
     }
    },
    "ef67917e76b646e3b33a2de5dbdf2cbb": {
     "model_module": "@jupyter-widgets/base",
     "model_name": "LayoutModel",
     "state": {
      "_model_module": "@jupyter-widgets/base",
      "_model_module_version": "1.2.0",
      "_model_name": "LayoutModel",
      "_view_count": null,
      "_view_module": "@jupyter-widgets/base",
      "_view_module_version": "1.2.0",
      "_view_name": "LayoutView",
      "align_content": null,
      "align_items": null,
      "align_self": null,
      "border": null,
      "bottom": null,
      "display": null,
      "flex": null,
      "flex_flow": null,
      "grid_area": null,
      "grid_auto_columns": null,
      "grid_auto_flow": null,
      "grid_auto_rows": null,
      "grid_column": null,
      "grid_gap": null,
      "grid_row": null,
      "grid_template_areas": null,
      "grid_template_columns": null,
      "grid_template_rows": null,
      "height": null,
      "justify_content": null,
      "justify_items": null,
      "left": null,
      "margin": null,
      "max_height": null,
      "max_width": null,
      "min_height": null,
      "min_width": null,
      "object_fit": null,
      "object_position": null,
      "order": null,
      "overflow": null,
      "overflow_x": null,
      "overflow_y": null,
      "padding": null,
      "right": null,
      "top": null,
      "visibility": null,
      "width": null
     }
    },
    "f3fd312440af441ba0420af18e0ad419": {
     "model_module": "@jupyter-widgets/controls",
     "model_name": "IntProgressModel",
     "state": {
      "_dom_classes": [],
      "_model_module": "@jupyter-widgets/controls",
      "_model_module_version": "1.5.0",
      "_model_name": "IntProgressModel",
      "_view_count": null,
      "_view_module": "@jupyter-widgets/controls",
      "_view_module_version": "1.5.0",
      "_view_name": "ProgressView",
      "bar_style": "success",
      "description": "processing json items",
      "description_tooltip": null,
      "layout": "IPY_MODEL_ef67917e76b646e3b33a2de5dbdf2cbb",
      "max": 2,
      "min": 0,
      "orientation": "horizontal",
      "style": "IPY_MODEL_1b0d63beeba9469f892987fb6070151f",
      "value": 2
     }
    }
   }
  }
 },
 "nbformat": 4,
 "nbformat_minor": 4
}
