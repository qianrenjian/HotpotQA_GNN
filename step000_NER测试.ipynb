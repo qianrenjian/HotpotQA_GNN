{
 "cells": [
  {
   "cell_type": "markdown",
   "metadata": {
    "toc": true
   },
   "source": [
    "<h1>NER测试<span class=\"tocSkip\"></span></h1>\n",
    "<div class=\"toc\"><ul class=\"toc-item\"><li><span><a href=\"#分词测试\" data-toc-modified-id=\"分词测试-1\"><span class=\"toc-item-num\">1&nbsp;&nbsp;</span>分词测试</a></span></li><li><span><a href=\"#切词之后使用NER模型\" data-toc-modified-id=\"切词之后使用NER模型-2\"><span class=\"toc-item-num\">2&nbsp;&nbsp;</span>切词之后使用NER模型</a></span></li></ul></div>"
   ]
  },
  {
   "cell_type": "markdown",
   "metadata": {},
   "source": [
    "获得`cls_features`需要使用能适应变长输入的预训练模型, 或者自己训练2048长度以上的定长模型. "
   ]
  },
  {
   "cell_type": "markdown",
   "metadata": {},
   "source": [
    "# 分词测试"
   ]
  },
  {
   "cell_type": "code",
   "execution_count": 1,
   "metadata": {},
   "outputs": [],
   "source": [
    "use_proxy = False\n",
    "proxies={\"http_proxy\": \"127.0.0.1:10809\",\n",
    "        \"https_proxy\": \"127.0.0.1:10809\"} if use_proxy else None"
   ]
  },
  {
   "cell_type": "code",
   "execution_count": 2,
   "metadata": {},
   "outputs": [],
   "source": [
    "max_sen_in_train='''(\" The family first appeared in 2006 and the family have been involved in a number of the show's most high-profile storylines, most notably John Paul McQueen's (James Sutton) affair with Craig Dean (Guy Burnet); Jacqui McQueen's (Claire Cooper) whirlwind relationship with Tony Hutchinson (Nick Pickard); Myra McQueen's (Nicole Barber-Lane) long-lost son Niall Rafferty's (Barry Sloane) revenge on his family by holding them hostage in an abandoned church and blowing it up, ultimately killing his half-sister Tina Reilly (Leah Hackett); Theresa McQueen's (Jorgie Porter) pregnancy by her cousin Carmel McQueen's (Gemma Merna) fiancé Calvin Valentine (Ricky Whittle) and later shooting him dead on their wedding day; Mercedes McQueen's (Jennifer Metcalfe) affair with her fiancé Riley Costello's (Rob Norbuy) father Carl (Paul Opacic); being kidnapped by Riley's grandfather Silas; staking Riley's second cousin Mitzee Minniver; Jacqui coping with the death of her husband Rhys Ashworth (Andrew Moss) in a bus crash, learning that he had been having an affair with Cindy Cunningham (Stephanie Waring) and that he got Sinead O'Connor (Stephanie Davis) pregnant; Mercedes stalking Mitzeee (Rachel Shenton) and stabbing herself and framing her; Carmel's facial disfigurement; Myra faking her own death to escape her daughter Mercedes' evil husband, Dr. Paul Browning (Joseph Thompson); Mercedes killing her husband Doctor Browning by striking him over the head with a shovel; John Paul's male rape at the hands of his pupil Finn O'Connor (Keith Rice); the train crash which ultimately killed Carmel; Mercedes faking her death to help Grace Black (Tamara Wall) get revenge on Freddie Roscoe (Charlie Clapham); Theresa donating her kidney to Nico Blake (Persephone Swales-Dawson); Porsche (Twinnie Lee Moore) and Cleo McQueen's (Nadine Rose Mulkerrin) sexual abuse at the hands of their mother Reenie McQueen's (Zöe Lucker) fiancé Pete Buchanan (Kai Owen); Phoebe McQueen's (Mandip Gill) murder in hospital by the Gloved Hand Killer; the stillbirth of Mercedes' baby Gabriel McQueen; John Paul's transgender boss Sally St. Claire (Annie Wallace) being revealed as his biological father, Mercedes being framed for drugs by Joanne Cardsley (Rachel Leskovac), Celine McQueen (Sarah George) and Diego Salvador Martinez Hernandez De La Cruz (Juan Pablo Yepez)'s sham wedding for money and Celine being murdered by her ex-boyfriend and serial killer Cameron Campbell (Cameron Moore) after discover he causes the fire at the fair on Halloween 2016.\", 2534)'''\n"
   ]
  },
  {
   "cell_type": "code",
   "execution_count": 3,
   "metadata": {},
   "outputs": [],
   "source": [
    "from transformers import AutoConfig, AutoModel, BertConfig, AutoTokenizer"
   ]
  },
  {
   "cell_type": "code",
   "execution_count": 4,
   "metadata": {},
   "outputs": [],
   "source": [
    "model_name = 'xlnet-base-cased'\n",
    "\n",
    "tokenizer_XLNET = AutoTokenizer.from_pretrained(model_name,proxies=proxies)\n",
    "# model_XLNET = AutoModel.from_config(config)"
   ]
  },
  {
   "cell_type": "code",
   "execution_count": 5,
   "metadata": {},
   "outputs": [
    {
     "data": {
      "text/plain": [
       "'hello i am jim<sep> who are you<sep><cls>'"
      ]
     },
     "execution_count": 5,
     "metadata": {},
     "output_type": "execute_result"
    }
   ],
   "source": [
    "test = tokenizer_XLNET.encode('hello i am jim','who are you',add_special_tokens=True)\n",
    "test = tokenizer_XLNET.decode(test)\n",
    "test"
   ]
  },
  {
   "cell_type": "code",
   "execution_count": 6,
   "metadata": {},
   "outputs": [],
   "source": [
    "model_name2 = 'bert-base-uncased'\n",
    "\n",
    "tokenizer_BERT = AutoTokenizer.from_pretrained(model_name2,proxies=proxies)\n",
    "# model_XLNET = AutoModel.from_config(config)\n"
   ]
  },
  {
   "cell_type": "code",
   "execution_count": 7,
   "metadata": {},
   "outputs": [
    {
     "data": {
      "text/plain": [
       "693"
      ]
     },
     "execution_count": 7,
     "metadata": {},
     "output_type": "execute_result"
    }
   ],
   "source": [
    "test1 = tokenizer_XLNET.tokenize(max_sen_in_train)\n",
    "len(test1)"
   ]
  },
  {
   "cell_type": "code",
   "execution_count": 8,
   "metadata": {},
   "outputs": [
    {
     "data": {
      "text/plain": [
       "595"
      ]
     },
     "execution_count": 8,
     "metadata": {},
     "output_type": "execute_result"
    }
   ],
   "source": [
    "test2 = tokenizer_BERT.tokenize(max_sen_in_train)\n",
    "len(test2)"
   ]
  },
  {
   "cell_type": "markdown",
   "metadata": {},
   "source": [
    "# 切词之后使用NER模型"
   ]
  },
  {
   "cell_type": "code",
   "execution_count": 9,
   "metadata": {},
   "outputs": [],
   "source": [
    "import spacy\n",
    "spacy.prefer_gpu()\n",
    "# spacy.prefer_cpu()\n",
    "nlp = spacy.load(\"en_core_web_lg\")"
   ]
  },
  {
   "cell_type": "code",
   "execution_count": 10,
   "metadata": {},
   "outputs": [
    {
     "data": {
      "text/plain": [
       "508"
      ]
     },
     "execution_count": 10,
     "metadata": {},
     "output_type": "execute_result"
    }
   ],
   "source": [
    "res_nlp = nlp(max_sen_in_train)\n",
    "tokens =  [str(i) for i in res_nlp.doc]\n",
    "len(tokens)"
   ]
  },
  {
   "cell_type": "code",
   "execution_count": 11,
   "metadata": {},
   "outputs": [
    {
     "data": {
      "text/plain": [
       "510"
      ]
     },
     "execution_count": 11,
     "metadata": {},
     "output_type": "execute_result"
    }
   ],
   "source": [
    "tokens_XLNET = tokenizer_XLNET.encode(tokens)\n",
    "len(tokens_XLNET)"
   ]
  },
  {
   "cell_type": "markdown",
   "metadata": {},
   "source": [
    "`encode_plus`返回: `dict_keys(['input_ids', 'token_type_ids', 'attention_mask'])`"
   ]
  },
  {
   "cell_type": "code",
   "execution_count": 12,
   "metadata": {},
   "outputs": [
    {
     "data": {
      "text/plain": [
       "torch.Size([1, 695])"
      ]
     },
     "execution_count": 12,
     "metadata": {},
     "output_type": "execute_result"
    }
   ],
   "source": [
    "# 原始句子\n",
    "model_input1 = tokenizer_XLNET.encode_plus(max_sen_in_train,\n",
    "                                          add_special_tokens=True,\n",
    "                                         return_tensors='pt')\n",
    "model_input1['input_ids'].shape"
   ]
  },
  {
   "cell_type": "code",
   "execution_count": 13,
   "metadata": {},
   "outputs": [
    {
     "data": {
      "text/plain": [
       "torch.Size([1, 510])"
      ]
     },
     "execution_count": 13,
     "metadata": {},
     "output_type": "execute_result"
    }
   ],
   "source": [
    "# 分词后\n",
    "model_input2 = tokenizer_XLNET.encode_plus(tokens,\n",
    "                                          add_special_tokens=True,\n",
    "                                         return_tensors='pt')\n",
    "model_input2['input_ids'].shape"
   ]
  },
  {
   "cell_type": "markdown",
   "metadata": {},
   "source": [
    "**不能将分词后的tokens传入XLNET!**"
   ]
  },
  {
   "cell_type": "code",
   "execution_count": 14,
   "metadata": {
    "scrolled": true
   },
   "outputs": [
    {
     "data": {
      "text/plain": [
       "tensor([[   17,    10,    12,    32,   273,    89,  1144,    25,  1267,    21,\n",
       "            18,   273,    47,    72,   899,    25,    24,   243,    20,    18,\n",
       "           351,    26,    23,   127,   227,    13,  9697, 17411,    23,    19,\n",
       "           127,  7003,   408,  1209,  2956, 21905,    26,    23,    17,    10,\n",
       "         24500, 19435,    11,  7119,    33,  7454,  5153,    17,    10,  8696,\n",
       "           117,  3571,  1942,    11,    97,   586, 25075,  2956, 21905,    26,\n",
       "            23,    17,    10, 10294,  6121,  8101,    11, 31524,  1498,    33,\n",
       "          3342, 27280,    17,    10,   353,  4287,  9117,  1896,    11,    97,\n",
       "           631,   840,  2956, 21905,    26,    23,    17,    10,   353,   556,\n",
       "          5457, 20213,    13,  3150,   667,    11,   206,    13,  5546,    46,\n",
       "           966,  2971,  2225,  2942,  8037,   982,    26,    23,    17,    10,\n",
       "         10760,   844, 20861,    93,    11,  9621,    31,    45,   273,    37,\n",
       "          1757,   107,  8840,    25,    48,  4832,  1151,    21, 14080,    36,\n",
       "            76,    19,  4259,  1883,    45,   455,    13,    23,  8355, 20479,\n",
       "            17, 18037,    17,    10,  3780,  1703, 30708,    11,    97,   238,\n",
       "          1512,  2956, 21905,    26,    23,    17,    10,   989,   218, 14378,\n",
       "         15014,    11,  7532,    37,    62,  7907, 21399,  2956, 21905,    26,\n",
       "            23,    17,    10,   753,  1914,   661,  4963,   597,    11,    17,\n",
       "          2265,  1789, 16136, 12486,    17,    10, 15268, 17797,  8628,  5979,\n",
       "            11,    21,   266,  2601,   103,  1127,    31,    58,  3043,   191,\n",
       "            97, 12021,  2956, 21905,    26,    23,    17,    10,  7983,  8705,\n",
       "         12748, 10217,  3800,  4018,    11,  7119,    33,    62,    17,  2265,\n",
       "          1789, 11810, 28850,    26,    23,    17,    10,  4107,   508,  4523,\n",
       "          8884,    11,   668,  4157,    17,    10, 17323,   448,  9476,   556,\n",
       "            11,    97,   163,  9838,    37, 11810,    26,    23,  8714,  6896,\n",
       "           712,    97,    17,    23,  9109, 11810,    26,    23,   205,  7907,\n",
       "         17073,  2341,    93,  4982,  1197,  2013,    97,   586, 25075, 24273,\n",
       "            33,    18,   513,    20,    62,  1637, 28245,  5420,  6732,    17,\n",
       "            10,  1648, 15729, 13373,    11,    25,    24,  2400,  3829,    19,\n",
       "          1899,    29,    43,    54,    72,   491,    48,  7119,    33, 23249,\n",
       "         19588,    17,    10, 24645,  2643,   950,   621,    56,    11,    21,\n",
       "            29,    43,   345,    17,    83,  1069,  1117,   448,    26,  9554,\n",
       "            17,    10, 24645,  2643,   950,  3147,    11,  6164,    97, 12021,\n",
       "         12872,    56, 17073,  2341,  2461,    17,    10,  5057, 12214, 17623,\n",
       "           577,    11,    21, 26585,  2123,    21, 25712,    62,    97, 21399,\n",
       "            26,    23, 14747,  1894, 19223,   889,    97,   631,   840,    17,\n",
       "          2819,  2082,    62,   224,   513,    22,  3281,    62,  1430, 12021,\n",
       "            26,  4401,  1637,    19,   919,     9,  1209,  1788,    56,    17,\n",
       "            10, 30032,  6249,    11,    97, 12021,  1883,    62,  1637,  7995,\n",
       "          1788,    56,    37,  6800,   103,    95,    18,   291,    33,    24,\n",
       "         23185,    97,   408,  1209,    26,    23,  2725,  7999,    38,    18,\n",
       "           853,    20,    45, 20823, 11677,   448,    26,  9554,    17,    10,\n",
       "           536,    93,  8972,  5669,    11,    97,    18,  2074,  3829,    59,\n",
       "          4259,   533, 21399,    97, 12021,    17,  2819,  2082,    62,   513,\n",
       "            22,   222,  7356,  1631,    17,    10,  6468, 13421,  2296,    11,\n",
       "           133,  9621,    31, 19649,  7050,   721,    93,    17,    10, 31665,\n",
       "         11228,  8024,    98,    11,    97,   238,  1512, 26579,    62, 10076,\n",
       "            22, 22452,  8594,    17,    10, 12453,  1022,  7198, 12324,  1890,\n",
       "            13,   417,  3806,   672,    11,    97, 21341,    17,    10,   658,\n",
       "          3305,  4789,  1863,  5562,    11,    21, 27679,  2956, 21905,    26,\n",
       "            23,    17,    10,  8530,  9550,  3973,  9128,  2261,  4499,    11,\n",
       "          2841,  3190,    38,    18,   853,    20,    58,   831,   741,   254,\n",
       "           950,  2956, 21905,    26,    23,    17,    10,  1784,  8609, 13220,\n",
       "           118,    11,    17,  2265,  1789,  8904, 15457,    17,    10,  8334,\n",
       "           150, 11258,    11,    97, 31131,  2956, 21905,    26,    23,    17,\n",
       "            10,   692,   443,  4501,  7745,    11,  2396,    25,  1460,    37,\n",
       "            18,   457, 25628,  5929, 27196,    97,    18,   194, 27265,    20,\n",
       "         12021,    26,  1997,  9303,  2956, 21905,    97,   408,  1209,    26,\n",
       "            23, 28029,  5643, 16482,   524,     9, 11607,    17,    10, 14454,\n",
       "           950, 10622,    11,   163,  3065,    34,    45,  6146,   668,    19,\n",
       "         12021,   163, 16051,    28,  2221,    37, 29885,  5900,  9711,    17,\n",
       "            10,  5057, 12214, 11624, 19281,   369,    11,    19,  6590,   814,\n",
       "          2956, 21905,    17,    10,  9523,  6545,   984,    11,    21,  4223,\n",
       "         12432, 10113, 15122,   772,   974, 10201,    17,    10, 12528,   262,\n",
       "         19617,    17, 23418,  2754,    11,    26,    23,    17, 13942,  3043,\n",
       "            28,   356,    21,  6590,   814,   163,  9541,    37,    62,  2002,\n",
       "            13,  6549, 12313,    21,  8515,  8303,  9442,  6634,    17,    10,\n",
       "         18720,   118,   253,  5562,    11,    99,  5183,    43,  3535,    18,\n",
       "           761,    38,    18,  2376,    31, 15411,  2884,     9,    12,    19,\n",
       "           799,  3489,    11,     4,     3]])"
      ]
     },
     "execution_count": 14,
     "metadata": {},
     "output_type": "execute_result"
    }
   ],
   "source": [
    "model_input1['input_ids']"
   ]
  },
  {
   "cell_type": "code",
   "execution_count": 15,
   "metadata": {
    "scrolled": true
   },
   "outputs": [
    {
     "data": {
      "text/plain": [
       "tensor([[   10,    12,   152, 13606,  9447,     0,   153, 12153,   443,   305,\n",
       "         13606,  9613,     0,     0,   153,   101, 13920,  1168,   305,  8676,\n",
       "             0,  6296,  3937,    13,  9697,     0,    19,  6296,     0, 10089,\n",
       "         17323,     0,     0,    10, 24500,     0,    11,     0,  3263,     0,\n",
       "             0,    10,     0,     0,    11,    97,     0,     0,     0,    10,\n",
       "             0,     0,    11,     0,     0,  3263,     0,     0,    10,     0,\n",
       "             0,    11,    97,     0,     0,     0,    10,     0,     0,    13,\n",
       "             0,    11,  2410,    13,     0,   672,     0,     0,     0,    10,\n",
       "             0,     0,    11,     0,   253,  7496, 13606,  1164, 13551,     0,\n",
       "             0,   153,   262,     0, 26329,   443,     0,   669,   499,    19,\n",
       "             0,     0,  7496,  5960,    13,     0,     0, 18037,    10,     0,\n",
       "             0,    11,    97,     0,     0,     0,    10,     0,     0,    11,\n",
       "             0,  1164,  1921,     0,     0,     0,     0,    10,     0,     0,\n",
       "            11,     0,     0,     0,    10,     0,     0,    11,   443, 13732,\n",
       "             0, 10306, 18119,   253, 24737,     0,   765,    97,     0,     0,\n",
       "             0,    10,     0,     0,    11,     0,  3263,  1921,     0,     0,\n",
       "             0,     0,    10,     0,     0,    11, 15312,     0,    10, 17323,\n",
       "             0,    11,    97,  9553,     0,  1164,     0,     0, 30062,     0,\n",
       "            97,     0,     0,     0,  9699,     0,     0,     0,    97,     0,\n",
       "             0,  3263,   305, 22378,  1168,  1921, 27662,     0,     0,    10,\n",
       "             0,     0,    11,   153,   101,  6931,     0,    19, 25412,  4331,\n",
       "          1438,  6485,     0,     0,   262,     0,  3263,     0,     0,    10,\n",
       "             0,     0,    11,   443,  4331,  1438, 10865,     0,     0,    10,\n",
       "             0,     0,    11,     0,    97,     0,     0,     0,    10,     0,\n",
       "             0,    11,   443,     0,     0,   443,     0,  1921,    97,     0,\n",
       "             0,     0,     0,    97,     0,     0,  1921, 10886, 22378,   261,\n",
       "             0,  1921, 24894,     0,    26, 22274, 27662,    19,     0, 17323,\n",
       "             0,    10, 30032,     0,    11,    97,     0,     0,  1921, 27662,\n",
       "         24168,     0,  1164,     0, 10306,  2249,   305,  2722,  3263,   101,\n",
       "             0,    97, 10089, 17323,     0, 22416,     0,   627,   305,     0,\n",
       "          1168,  7496,     0,     0,     0,    10,     0,     0,    11,    97,\n",
       "           305, 11101,     0,  3241,     0,     0,     0,    97,     0,     0,\n",
       "          1921, 22378,   261, 15732,     0, 12436,    10,     0, 26538,    11,\n",
       "          5671,     0,   253,     0,     0,    10, 31665,     0,    11,    97,\n",
       "             0,     0,  1921,     0,   261,     0,     0,    10,     0,     0,\n",
       "            13,     0,    11,    97,     0,    10,     0,     0,     0,    11,\n",
       "           443,     0,     0,     0,    10,     0, 26979,     0,    11, 18580,\n",
       "             0,   627,   305,     0,  1168, 24737, 12576,     0,     0,     0,\n",
       "            10,     0,     0,    11,     0,     0,     0,    10,     0,     0,\n",
       "            11,    97,     0,     0,     0,    10,     0,     0,    11,     0,\n",
       "           153,     0,  1164,   305,     0,     0,     0,    97,   305,     0,\n",
       "          1168,     0,    26, 23976,     0,     0,    97, 10089, 17323,     0,\n",
       "             0,     0,     0,     0,     0,    10,     0,     0,    11,  9553,\n",
       "             0,   712,  7496,     0, 15312,    19,     0,  9553,     0,  1383,\n",
       "             0,  1164,     0,     0,    10,     0,     0,    11,    19,     0,\n",
       "             0,    10,     0, 22273,    11,   443,     0,     0,     0,     0,\n",
       "          3467,  3150,     0,    10,     0,     0,     0,    11,     0, 13942,\n",
       "             0,  1383,  9475,   443,     0,  9553,     0,  1164,  1921,  1506,\n",
       "            13,     0,   443,     0,     0,     0,     0,    10,     0,     0,\n",
       "            11,  6783, 14749,  1438,     0,   305,  3928,   627,   305, 10923,\n",
       "           253,     0, 24963,     9,    12,    19,     0,    11,     4,     3]])"
      ]
     },
     "execution_count": 15,
     "metadata": {},
     "output_type": "execute_result"
    }
   ],
   "source": [
    "model_input2['input_ids']"
   ]
  },
  {
   "cell_type": "code",
   "execution_count": null,
   "metadata": {},
   "outputs": [],
   "source": []
  },
  {
   "cell_type": "code",
   "execution_count": null,
   "metadata": {},
   "outputs": [],
   "source": []
  },
  {
   "cell_type": "code",
   "execution_count": null,
   "metadata": {},
   "outputs": [],
   "source": []
  }
 ],
 "metadata": {
  "kernelspec": {
   "display_name": "Python 3",
   "language": "python",
   "name": "python3"
  },
  "language_info": {
   "codemirror_mode": {
    "name": "ipython",
    "version": 3
   },
   "file_extension": ".py",
   "mimetype": "text/x-python",
   "name": "python",
   "nbconvert_exporter": "python",
   "pygments_lexer": "ipython3",
   "version": "3.7.6"
  },
  "toc": {
   "base_numbering": 1,
   "nav_menu": {},
   "number_sections": true,
   "sideBar": true,
   "skip_h1_title": false,
   "title_cell": "NER测试",
   "title_sidebar": "Contents",
   "toc_cell": true,
   "toc_position": {
    "height": "calc(100% - 180px)",
    "left": "10px",
    "top": "150px",
    "width": "294.875px"
   },
   "toc_section_display": true,
   "toc_window_display": true
  }
 },
 "nbformat": 4,
 "nbformat_minor": 4
}
