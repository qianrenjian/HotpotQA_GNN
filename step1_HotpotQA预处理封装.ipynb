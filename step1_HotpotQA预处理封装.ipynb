{
 "cells": [
  {
   "cell_type": "markdown",
   "metadata": {
    "colab_type": "text",
    "id": "-qAUL8Id-EbM"
   },
   "source": [
    "# HotpotQA预处理"
   ]
  },
  {
   "cell_type": "code",
   "execution_count": 1,
   "metadata": {
    "colab": {},
    "colab_type": "code",
    "id": "rotD6kvcZvsX"
   },
   "outputs": [],
   "source": [
    "try:\n",
    "    from google.colab import drive\n",
    "    drive.mount('/content/folders/')\n",
    "    !pip install transformers\n",
    "    # !pip install -U spacy[cuda100]\n",
    "    # !wget -P /content/folders/My\\ Drive/download/ https://github.com/explosion/spacy-models/releases/download/en_core_web_lg-2.2.5/en_core_web_lg-2.2.5.tar.gz\n",
    "    # !pip install /content/folders/My\\ Drive/download/en_core_web_lg-2.2.5.tar.gz\n",
    "    # !wget -P /content/folders/My\\ Drive/HotpotQA/ http://curtis.ml.cmu.edu/datasets/hotpot/hotpot_train_v1.1.json\n",
    "    # json_train_path = '/content/folders/My Drive/HotpotQA/样例_hotpot_train_v1.1.json' # 5个例子\n",
    "    json_train_path = '/content/folders/My Drive/HotpotQA/hotpot_train_v1.1.json'\n",
    "    save_cache_path = '/content/folders/My Drive/save_cache/'\n",
    "    save_cache_path_linux = '/content/folders/My\\ Drive/save_cache/'\n",
    "    HotpotQA_path = '/content/folders/My Drive/HotpotQA'\n",
    "except:\n",
    "    json_train_path = r'./data/hotpot_train_v1.1.json'\n",
    "    HotpotQA_path = './'\n",
    "    save_cache_path = 'save_cache/'\n",
    "    use_proxy = False\n",
    "    proxies={\"http_proxy\": \"127.0.0.1:10802\",\n",
    "        \"https_proxy\": \"127.0.0.1:10802\"} if use_proxy else None\n"
   ]
  },
  {
   "cell_type": "code",
   "execution_count": 2,
   "metadata": {
    "colab": {
     "base_uri": "https://localhost:8080/",
     "height": 34
    },
    "colab_type": "code",
    "executionInfo": {
     "elapsed": 52333,
     "status": "ok",
     "timestamp": 1583385989806,
     "user": {
      "displayName": "597709514@qq.com",
      "photoUrl": "https://lh3.googleusercontent.com/a-/AOh14GiZ4b29y22LPZ8tUnu62hIRC6jZFH5v8X6Jes57=s64",
      "userId": "03859811009091074275"
     },
     "user_tz": -480
    },
    "id": "jdkLccJOZ4XJ",
    "outputId": "f3d8e487-2685-4a1f-f83b-48af91982965",
    "scrolled": true
   },
   "outputs": [
    {
     "data": {
      "text/plain": [
       "dict_keys(['supporting_facts', 'level', 'question', 'context', 'answer', '_id', 'type'])"
      ]
     },
     "execution_count": 2,
     "metadata": {},
     "output_type": "execute_result"
    }
   ],
   "source": [
    "import json\n",
    "import torch\n",
    "import torch.nn as nn\n",
    "import numpy as np\n",
    "\n",
    "DEVICE = 'cuda' if torch.cuda.is_available() else 'cpu'\n",
    "\n",
    "with open(json_train_path, 'r', encoding='utf-8') as fp:\n",
    "    json_train = json.load(fp)\n",
    "    \n",
    "json_train[0].keys()"
   ]
  },
  {
   "cell_type": "code",
   "execution_count": 18,
   "metadata": {},
   "outputs": [
    {
     "data": {
      "text/plain": [
       "[[\"Arthur's Magazine\", 0], ['First for Women', 0]]"
      ]
     },
     "execution_count": 18,
     "metadata": {},
     "output_type": "execute_result"
    }
   ],
   "source": [
    "json_train[0]['supporting_facts']"
   ]
  },
  {
   "cell_type": "code",
   "execution_count": 3,
   "metadata": {},
   "outputs": [
    {
     "data": {
      "text/plain": [
       "{'bridge', 'comparison'}"
      ]
     },
     "execution_count": 3,
     "metadata": {},
     "output_type": "execute_result"
    }
   ],
   "source": [
    "types = [item['type'] for item in json_train]\n",
    "set(types)    "
   ]
  },
  {
   "cell_type": "code",
   "execution_count": 4,
   "metadata": {},
   "outputs": [
    {
     "data": {
      "text/plain": [
       "17456"
      ]
     },
     "execution_count": 4,
     "metadata": {},
     "output_type": "execute_result"
    }
   ],
   "source": [
    "answers = [item['answer'] for item in json_train if item['type'] == 'comparison']\n",
    "len(answers)"
   ]
  },
  {
   "cell_type": "code",
   "execution_count": 5,
   "metadata": {
    "scrolled": true
   },
   "outputs": [
    {
     "data": {
      "text/plain": [
       "[\"Arthur's Magazine\",\n",
       " 'Jonathan Stark',\n",
       " 'The Wolfhounds',\n",
       " 'no',\n",
       " 'no',\n",
       " 'New York City',\n",
       " 'Aleksander Ford',\n",
       " 'yes',\n",
       " 'director',\n",
       " 'The Saimaa Gesture',\n",
       " 'David Lee Roth',\n",
       " 'no',\n",
       " 'Glenn Hughes',\n",
       " 'Saint Motel',\n",
       " 'Boston College',\n",
       " 'yes',\n",
       " 'filmmaker',\n",
       " 'Golf Magazine',\n",
       " 'Washington, D.C.',\n",
       " 'rock band',\n",
       " 'yes',\n",
       " 'yes',\n",
       " 'MedStar Washington Hospital Center',\n",
       " 'yes',\n",
       " 'Turkey',\n",
       " 'plant',\n",
       " 'yes',\n",
       " 'Mary Pierce',\n",
       " 'English',\n",
       " 'no',\n",
       " 'Jimmie Ross',\n",
       " 'rock',\n",
       " 'yes',\n",
       " 'Odysseas Elytis',\n",
       " 'rock',\n",
       " 'Richard Ford',\n",
       " 'Saludos Amigos',\n",
       " 'Mara Santangelo',\n",
       " 'Meadowbank Gold Mine',\n",
       " 'H. Bruce \"Lucky\" Humberstone',\n",
       " 'no',\n",
       " 'Mary Ramsey',\n",
       " 'Jacob \"Jack\" Kevorkian',\n",
       " 'magazine',\n",
       " 'Memphis International Airport',\n",
       " 'Rickenbacker International Airport',\n",
       " 'playwright',\n",
       " 'China',\n",
       " 'plants',\n",
       " 'Mark L. Lester',\n",
       " 'The Raconteurs',\n",
       " 'Cooking Light',\n",
       " 'Virginia Wade',\n",
       " 'Allan Dwan',\n",
       " 'John Kennedy Toole',\n",
       " 'opera',\n",
       " 'yes',\n",
       " 'no',\n",
       " 'yes',\n",
       " 'Ochagavia',\n",
       " 'yes',\n",
       " 'Kerkor \"Kirk\" Kerkorian',\n",
       " 'no',\n",
       " 'Chien-gris',\n",
       " '\"Cosmicomics\"',\n",
       " 'yes',\n",
       " 'is a British author',\n",
       " 'Modern Drummer',\n",
       " 'band',\n",
       " 'yes',\n",
       " 'drink',\n",
       " 'yes',\n",
       " 'lead singer',\n",
       " 'Advanced Micro Devices',\n",
       " 'David Usher',\n",
       " 'no',\n",
       " 'tennis',\n",
       " 'Barton Mine',\n",
       " 'film director',\n",
       " 'Beyond the Gates of Splendor',\n",
       " 'yes',\n",
       " 'former tennis player',\n",
       " 'singer-songwriter, actor',\n",
       " 'no',\n",
       " 'Robert Manoogian Jr. (January 4, 1918 – April 3, 2002) was an American professional wrestler',\n",
       " 'no',\n",
       " 'no',\n",
       " 'flowering plants',\n",
       " 'film director',\n",
       " 'Planes',\n",
       " 'Pride Divide',\n",
       " 'Martin Heidegger',\n",
       " 'no',\n",
       " 'Firs',\n",
       " 'no',\n",
       " 'Alexander \"Alex\" Cox',\n",
       " 'bred for hunting',\n",
       " 'Elizabeth Smylie',\n",
       " 'director',\n",
       " 'Lorraine Vivian Hansberry']"
      ]
     },
     "execution_count": 5,
     "metadata": {},
     "output_type": "execute_result"
    }
   ],
   "source": [
    "answers[:100]"
   ]
  },
  {
   "cell_type": "code",
   "execution_count": 6,
   "metadata": {},
   "outputs": [],
   "source": [
    "answers2 = [item['answer'] for item in json_train if item['type'] != 'comparison' and item['answer'] in ['yes', 'no']]"
   ]
  },
  {
   "cell_type": "code",
   "execution_count": 7,
   "metadata": {},
   "outputs": [
    {
     "data": {
      "text/plain": [
       "[]"
      ]
     },
     "execution_count": 7,
     "metadata": {},
     "output_type": "execute_result"
    }
   ],
   "source": [
    "answers2"
   ]
  },
  {
   "cell_type": "markdown",
   "metadata": {
    "colab_type": "text",
    "id": "23u2zxA2RDEB"
   },
   "source": [
    "## 数据统计"
   ]
  },
  {
   "cell_type": "code",
   "execution_count": 20,
   "metadata": {},
   "outputs": [
    {
     "data": {
      "text/plain": [
       "3703344"
      ]
     },
     "execution_count": 20,
     "metadata": {},
     "output_type": "execute_result"
    }
   ],
   "source": [
    "# 句子总数   \n",
    "sent_len = [len((cont[1])) for ques in json_train for cont in ques['context']]\n",
    "sum(sent_len)"
   ]
  },
  {
   "cell_type": "code",
   "execution_count": 21,
   "metadata": {},
   "outputs": [
    {
     "data": {
      "text/plain": [
       "899667"
      ]
     },
     "execution_count": 21,
     "metadata": {},
     "output_type": "execute_result"
    }
   ],
   "source": [
    "# paragraph总数   \n",
    "para_len = [len((ques['context'])) for ques in json_train ]\n",
    "sum(para_len)"
   ]
  },
  {
   "cell_type": "code",
   "execution_count": 22,
   "metadata": {},
   "outputs": [
    {
     "data": {
      "text/plain": [
       "215684"
      ]
     },
     "execution_count": 22,
     "metadata": {},
     "output_type": "execute_result"
    }
   ],
   "source": [
    "# support sentence num:\n",
    "sent_len_supp = [len(ques['supporting_facts']) for ques in json_train]\n",
    "sum(sent_len_supp)"
   ]
  },
  {
   "cell_type": "code",
   "execution_count": 23,
   "metadata": {},
   "outputs": [
    {
     "data": {
      "text/plain": [
       "180894"
      ]
     },
     "execution_count": 23,
     "metadata": {},
     "output_type": "execute_result"
    }
   ],
   "source": [
    "# support para num:\n",
    "para_len_supp = [len( set([i[0] for i in ques['supporting_facts']]) ) for ques in json_train]\n",
    "sum(para_len_supp)"
   ]
  },
  {
   "cell_type": "code",
   "execution_count": 24,
   "metadata": {},
   "outputs": [
    {
     "data": {
      "text/plain": [
       "90447"
      ]
     },
     "execution_count": 24,
     "metadata": {},
     "output_type": "execute_result"
    }
   ],
   "source": [
    "# 问句总数\n",
    "len(json_train)"
   ]
  },
  {
   "cell_type": "code",
   "execution_count": 25,
   "metadata": {},
   "outputs": [
    {
     "data": {
      "text/plain": [
       "5481"
      ]
     },
     "execution_count": 25,
     "metadata": {},
     "output_type": "execute_result"
    }
   ],
   "source": [
    "# yes_no / span\n",
    "yesno_span = [1 for ques in json_train if ques['answer'] in ['yes', 'no']]\n",
    "sum(yesno_span)"
   ]
  },
  {
   "cell_type": "code",
   "execution_count": null,
   "metadata": {},
   "outputs": [],
   "source": []
  },
  {
   "cell_type": "code",
   "execution_count": null,
   "metadata": {},
   "outputs": [],
   "source": []
  },
  {
   "cell_type": "code",
   "execution_count": 3,
   "metadata": {
    "colab": {},
    "colab_type": "code",
    "id": "p8CMeIetKXsJ"
   },
   "outputs": [],
   "source": [
    "# 最长的一句话 bert分词长度:652\n",
    "sentenses_index_len = np.array([np.array([index1,index2,index3,len(s)]) for index1,item in enumerate(json_train) \\\n",
    "                 for index2,c in enumerate(item['context']) \\\n",
    "                 for index3,s in enumerate(c[1])])\n",
    "sentenses_len = [(s,len(s)) for index1,item in enumerate(json_train) \\\n",
    "                 for index2,c in enumerate(item['context']) \\\n",
    "                 for index3,s in enumerate(c[1])]"
   ]
  },
  {
   "cell_type": "code",
   "execution_count": 4,
   "metadata": {
    "colab": {},
    "colab_type": "code",
    "id": "oi3Ekf6rL4Wb"
   },
   "outputs": [],
   "source": [
    "max_index = np.argmax(sentenses_index_len[:,3],axis=0)"
   ]
  },
  {
   "cell_type": "code",
   "execution_count": 5,
   "metadata": {
    "colab": {
     "base_uri": "https://localhost:8080/",
     "height": 34
    },
    "colab_type": "code",
    "executionInfo": {
     "elapsed": 729,
     "status": "ok",
     "timestamp": 1583336859030,
     "user": {
      "displayName": "597709514@qq.com",
      "photoUrl": "https://lh3.googleusercontent.com/a-/AOh14GiZ4b29y22LPZ8tUnu62hIRC6jZFH5v8X6Jes57=s64",
      "userId": "03859811009091074275"
     },
     "user_tz": -480
    },
    "id": "qHA61eJQK_62",
    "outputId": "ae0361ac-ce6a-4114-9a2f-c129ad1a09aa"
   },
   "outputs": [
    {
     "data": {
      "text/plain": [
       "array([17519,     1,     1,  2534])"
      ]
     },
     "execution_count": 5,
     "metadata": {},
     "output_type": "execute_result"
    }
   ],
   "source": [
    "sentenses_index_len[max_index]"
   ]
  },
  {
   "cell_type": "code",
   "execution_count": 6,
   "metadata": {
    "colab": {
     "base_uri": "https://localhost:8080/",
     "height": 70
    },
    "colab_type": "code",
    "executionInfo": {
     "elapsed": 617,
     "status": "ok",
     "timestamp": 1583336859031,
     "user": {
      "displayName": "597709514@qq.com",
      "photoUrl": "https://lh3.googleusercontent.com/a-/AOh14GiZ4b29y22LPZ8tUnu62hIRC6jZFH5v8X6Jes57=s64",
      "userId": "03859811009091074275"
     },
     "user_tz": -480
    },
    "id": "YpCHR-qiOrsi",
    "outputId": "b14700f5-4853-415f-8a1f-3297901644f2",
    "scrolled": false
   },
   "outputs": [
    {
     "data": {
      "text/plain": [
       "(\" The family first appeared in 2006 and the family have been involved in a number of the show's most high-profile storylines, most notably John Paul McQueen's (James Sutton) affair with Craig Dean (Guy Burnet); Jacqui McQueen's (Claire Cooper) whirlwind relationship with Tony Hutchinson (Nick Pickard); Myra McQueen's (Nicole Barber-Lane) long-lost son Niall Rafferty's (Barry Sloane) revenge on his family by holding them hostage in an abandoned church and blowing it up, ultimately killing his half-sister Tina Reilly (Leah Hackett); Theresa McQueen's (Jorgie Porter) pregnancy by her cousin Carmel McQueen's (Gemma Merna) fiancé Calvin Valentine (Ricky Whittle) and later shooting him dead on their wedding day; Mercedes McQueen's (Jennifer Metcalfe) affair with her fiancé Riley Costello's (Rob Norbuy) father Carl (Paul Opacic); being kidnapped by Riley's grandfather Silas; staking Riley's second cousin Mitzee Minniver; Jacqui coping with the death of her husband Rhys Ashworth (Andrew Moss) in a bus crash, learning that he had been having an affair with Cindy Cunningham (Stephanie Waring) and that he got Sinead O'Connor (Stephanie Davis) pregnant; Mercedes stalking Mitzeee (Rachel Shenton) and stabbing herself and framing her; Carmel's facial disfigurement; Myra faking her own death to escape her daughter Mercedes' evil husband, Dr. Paul Browning (Joseph Thompson); Mercedes killing her husband Doctor Browning by striking him over the head with a shovel; John Paul's male rape at the hands of his pupil Finn O'Connor (Keith Rice); the train crash which ultimately killed Carmel; Mercedes faking her death to help Grace Black (Tamara Wall) get revenge on Freddie Roscoe (Charlie Clapham); Theresa donating her kidney to Nico Blake (Persephone Swales-Dawson); Porsche (Twinnie Lee Moore) and Cleo McQueen's (Nadine Rose Mulkerrin) sexual abuse at the hands of their mother Reenie McQueen's (Zöe Lucker) fiancé Pete Buchanan (Kai Owen); Phoebe McQueen's (Mandip Gill) murder in hospital by the Gloved Hand Killer; the stillbirth of Mercedes' baby Gabriel McQueen; John Paul's transgender boss Sally St. Claire (Annie Wallace) being revealed as his biological father, Mercedes being framed for drugs by Joanne Cardsley (Rachel Leskovac), Celine McQueen (Sarah George) and Diego Salvador Martinez Hernandez De La Cruz (Juan Pablo Yepez)'s sham wedding for money and Celine being murdered by her ex-boyfriend and serial killer Cameron Campbell (Cameron Moore) after discover he causes the fire at the fair on Halloween 2016.\",\n",
       " 2534)"
      ]
     },
     "execution_count": 6,
     "metadata": {},
     "output_type": "execute_result"
    }
   ],
   "source": [
    "sentenses_len[max_index]"
   ]
  },
  {
   "cell_type": "code",
   "execution_count": 7,
   "metadata": {
    "colab": {},
    "colab_type": "code",
    "id": "KlKhqQQcOrqI"
   },
   "outputs": [],
   "source": [
    "# 最长的整个段落 bert分词长度:1633\n",
    "paragraphs_index_len = np.array([np.array([index1,index2,len(''.join(c[1]))]) for index1,item in enumerate(json_train) \\\n",
    "                 for index2,c in enumerate(item['context'])])"
   ]
  },
  {
   "cell_type": "code",
   "execution_count": 8,
   "metadata": {
    "colab": {},
    "colab_type": "code",
    "id": "2_CPdFYbRGj5"
   },
   "outputs": [],
   "source": [
    "paragraphs_len = [(''.join(c[1]),len(''.join(c[1]))) for index1,item in enumerate(json_train) \\\n",
    "                 for index2,c in enumerate(item['context'])]"
   ]
  },
  {
   "cell_type": "code",
   "execution_count": 9,
   "metadata": {
    "colab": {
     "base_uri": "https://localhost:8080/",
     "height": 34
    },
    "colab_type": "code",
    "executionInfo": {
     "elapsed": 803,
     "status": "ok",
     "timestamp": 1583338615654,
     "user": {
      "displayName": "597709514@qq.com",
      "photoUrl": "https://lh3.googleusercontent.com/a-/AOh14GiZ4b29y22LPZ8tUnu62hIRC6jZFH5v8X6Jes57=s64",
      "userId": "03859811009091074275"
     },
     "user_tz": -480
    },
    "id": "_EaqyZNvRGqt",
    "outputId": "a59b8742-a618-4aa0-e780-b7264a473f77"
   },
   "outputs": [
    {
     "data": {
      "text/plain": [
       "8369"
      ]
     },
     "execution_count": 9,
     "metadata": {},
     "output_type": "execute_result"
    }
   ],
   "source": [
    "max_index_p = np.argmax(paragraphs_index_len[:,2],axis=0)\n",
    "max_index_p"
   ]
  },
  {
   "cell_type": "code",
   "execution_count": 10,
   "metadata": {
    "colab": {
     "base_uri": "https://localhost:8080/",
     "height": 70
    },
    "colab_type": "code",
    "executionInfo": {
     "elapsed": 713,
     "status": "ok",
     "timestamp": 1583338616057,
     "user": {
      "displayName": "597709514@qq.com",
      "photoUrl": "https://lh3.googleusercontent.com/a-/AOh14GiZ4b29y22LPZ8tUnu62hIRC6jZFH5v8X6Jes57=s64",
      "userId": "03859811009091074275"
     },
     "user_tz": -480
    },
    "id": "XCMbmjSZRGt0",
    "outputId": "6254dd6a-5f23-4582-dc01-bc4e2cb0a862",
    "scrolled": true
   },
   "outputs": [
    {
     "data": {
      "text/plain": [
       "('Loan modification is the systematic alteration of mortgage loan agreements that help those having problems making the payments by reducing interest rates, monthly payments or principal balances. Lending institutions could make one or more of these changes to relieve financial pressure on borrowers to prevent the condition of foreclosure. Loan modifications have been practiced in the United States since The 2008 Crash Of The Housing Market from Washington Mutual, Chase Home Finance, Chase, JP Morgan & Chase, other contributors like MER\\'s. Crimes of Mortgage ad Real Estate Staff had long assisted nd finally the squeaky will could not continue as their deviant practices broke the state and crashed. Modification owners either ordered by The United States Department of Housing, The United States IRS or President Obamas letters from Note Holders came to those various departments asking for the Democratic process to help them keep their homes and protection them from explosion. Thus the birth of Modifications. It is yet to date for clarity how theses enforcements came into existence and except b whom, but t is certain that note holders form the Midwest reached out in the Democratic Process for assistance. FBI Mortgage Fraud Department came into existence. Modifications HMAP HARP were also birthed to help note holders get Justice through reduced mortgage by making terms legal. Modification of mortgage terms was introduced by IRS staff addressing the crisis called the HAMP TEAMS that went across the United States desiring the new products to assist homeowners that were victims of predatory lending practices, unethical staff, brokers, attorneys and lenders that contributed to the crash. Modification were a fix to the crash as litigation has ensued as the lenders reorganized and renamed the lending institutions and government agencies are to closely monitor them. Prior to modifications loan holders that experiences crisis would use Loan assumptions and Loan transfers to keep the note in the 1930s. During the Great Depression, loan transfers, loan assumption, and loan bail out programs took place at the state level in an effort to reduce levels of loan foreclosures while the Federal Bureau of Investigation, Federal Trade Commission, Comptroller, the United States Government and State Government responded to lending institution violations of law in these arenas by setting public court records that are legal precedence of such illegal actions. The legal precedents and reporting agencies were created to address the violations of laws to consumers while the Modifications were created to assist the consumers that are victims of predatory lending practices. During the so-called \"Great Recession\" of the early 21st century, loan modification became a matter of national policy, with various actions taken to alter mortgage loan terms to prevent further economic destabilization. Due to absorbent personal profits nothing has been done to educate Homeowners or Creditors that this money from equity, escrow is truly theirs the Loan Note Holder and it is their monetary rights as the real prize and reason for the Housing Crash was the profit n obtaining the mortgage holders Escrow. The Escrow and Equity that is accursed form the Note Holders payments various staff through the United States claimed as recorded and cashed by all staff in real-estate from local residential Tax Assessing Staff, Real Estate Staff, Ordinance Staff, Police Staff, Brokers, attorneys, lending institutional staff but typically Attorneys who are also typically the owners or Rental properties that are trained through Bankruptcies\\'. that collect the Escrow that is rightfully the Homeowners but because most Homeowners are unaware of what money is due them and how they can loose their escrow. Most Creditors are unaware that as the note holder that the Note Holder are due a annual or semi annual equity check and again bank or other lending and or legal intuitions staff claim this monies instead. This money Note Holders were unaware of is the prize of real estate and the cause of the Real Estate Crash of 2008 where Lending Institutions provided mortgages to people years prior they know they would eventually loose with Loan holders purchasing Balloon Mortgages lending product that is designed to make fast money off the note holder whom is always typically unaware of their escrow, equity and that are further victimized by conferences and books on HOW TO MAKE MONEY IN REAL STATE - when in fact the money is the Note Holder. The key of the crash was not the House, but the loan product used and the interest and money that was accrued form the note holders that staff too immorally. The immoral and illegal actions of predatory lending station and their staff began with the inception of balloon mortgages although illegal activity has always existed in the arena, yet the crash created \"Watch Dog\" like HAMP TEAM, IRS, COMPTROLLER< Federal Trade Commission Consumer Protection Bureau, FBI, CIA, Local Police Department, ICE ( The FBI online Computer crime division receives and investigates computer crimes that record keeping staff from title companies, lending institutional staff, legal staff and others created fraudulent documents to change payments and billing of note holders to obtain the money note holders are typically unaware of) and other watch dog agencies came into existence to examine if houses were purchased through a processed check at Government Debited office as many obtained free homes illegally. Many were incarcerated for such illegal actions. Modifications fixed the Notes to proper lower interest, escrow, tax fees that staff typically raised for no reason. Many people from various arenas involved in reals estate have been incarcerated for these actions as well as other illegal actions like charging for a modification. Additionally Modifications were also made to address the falsifications such as inappropriate mortgage charges, filing of fraudulently deeds, reporting of and at times filing of fraudulent mortgages that were already paid off that were fraudulently continued by lenders staff and attorneys or brokers or anyone in the Real Estate Chain through the issues of real estate terms to continue to violate United States Laws, contract law and legal precedence where collusion was often done again to defraud and steal from the Note Holder was such a common practice that was evidence as to why the Mortgage Crash in 2008 occurred for the purpose of wining the prize of stealing form Homeowners and those that foreclosed was actually often purposefully for these monies note holders were unaware of to be obtained which was why Balloon mortgages and loans were given to the staff in the Real Estate Market with the hoper and the expectation that the loan holders would default as it offered opportunity to commit illegal transactions of obtaining the homeowners funds. While such scams were addressed through modifications in 2008. The Market relied heavily on Consumers ignorance to prosper, ignorance of real estate terms, ignorance on what they were to be charged properly for unethical financial gain and while staff in real estates lending arenas mingled terms to deceive y deliberate confusion consumers out of cash and homes while the USA Government provided Justice through President Obamas Inception and IRS Inception of Modifications which addressed these unethical profits in Reals Estate. It was in 2009 that HARP, HAMP and Modifications were introduced to stop the victimization of Note Holders. Taking on the Banks that ran USA Government was a great and dangerous undertaking that made America Great Again as Justice for Consumers reigned. Legal action taken against institutions that have such business practices can be viewed in State Code of Law and Federal Law on precedent cases that are available to the public. Finally, It had been unlawful to be charged by an attorney to modify as well as fro banking staff to modify terms to increase a mortgage and or change lending product to a balloon in an concerted effort to make homeowner foreclose which is also illegal, computer fraud and not the governments intended purpose or definition of a modification.',\n",
       " 8237)"
      ]
     },
     "execution_count": 10,
     "metadata": {},
     "output_type": "execute_result"
    }
   ],
   "source": [
    "paragraphs_len[max_index_p]"
   ]
  },
  {
   "cell_type": "code",
   "execution_count": 11,
   "metadata": {
    "colab": {},
    "colab_type": "code",
    "id": "ATcyb0L_RGms"
   },
   "outputs": [],
   "source": [
    "max_sen_in_train = \"\"\"The family first appeared in 2006 and the family have been involved in a number of the show's most high-profile storylines, most notably John Paul McQueen's (James Sutton) affair with Craig Dean (Guy Burnet); Jacqui McQueen's (Claire Cooper) whirlwind relationship with Tony Hutchinson (Nick Pickard); Myra McQueen's (Nicole Barber-Lane) long-lost son Niall Rafferty's (Barry Sloane) revenge on his family by holding them hostage in an abandoned church and blowing it up, ultimately killing his half-sister Tina Reilly (Leah Hackett); Theresa McQueen's (Jorgie Porter) pregnancy by her cousin Carmel McQueen's (Gemma Merna) fiancé Calvin Valentine (Ricky Whittle) and later shooting him dead on their wedding day; Mercedes McQueen's (Jennifer Metcalfe) affair with her fiancé Riley Costello's (Rob Norbuy) father Carl (Paul Opacic); being kidnapped by Riley's grandfather Silas; staking Riley's second cousin Mitzee Minniver; Jacqui coping with the death of her husband Rhys Ashworth (Andrew Moss) in a bus crash, learning that he had been having an affair with Cindy Cunningham (Stephanie Waring) and that he got Sinead O'Connor (Stephanie Davis) pregnant; Mercedes stalking Mitzeee (Rachel Shenton) and stabbing herself and framing her; Carmel's facial disfigurement; Myra faking her own death to escape her daughter Mercedes' evil husband, Dr. Paul Browning (Joseph Thompson); Mercedes killing her husband Doctor Browning by striking him over the head with a shovel; John Paul's male rape at the hands of his pupil Finn O'Connor (Keith Rice); the train crash which ultimately killed Carmel; Mercedes faking her death to help Grace Black (Tamara Wall) get revenge on Freddie Roscoe (Charlie Clapham); Theresa donating her kidney to Nico Blake (Persephone Swales-Dawson); Porsche (Twinnie Lee Moore) and Cleo McQueen's (Nadine Rose Mulkerrin) sexual abuse at the hands of their mother Reenie McQueen's (Zöe Lucker) fiancé Pete Buchanan (Kai Owen); Phoebe McQueen's (Mandip Gill) murder in hospital by the Gloved Hand Killer; the stillbirth of Mercedes' baby Gabriel McQueen; John Paul's transgender boss Sally St. Claire (Annie Wallace) being revealed as his biological father, Mercedes being framed for drugs by Joanne Cardsley (Rachel Leskovac), Celine McQueen (Sarah George) and Diego Salvador Martinez Hernandez De La Cruz (Juan Pablo Yepez)'s sham wedding for money and Celine being murdered by her ex-boyfriend and serial killer Cameron Campbell (Cameron Moore) after discover he causes the fire at the fair on Halloween 2016.\"\"\"\n",
    "max_p = 'Loan modification is the systematic alteration of mortgage loan agreements that help those having problems making the payments by reducing interest rates, monthly payments or principal balances. Lending institutions could make one or more of these changes to relieve financial pressure on borrowers to prevent the condition of foreclosure. Loan modifications have been practiced in the United States since The 2008 Crash Of The Housing Market from Washington Mutual, Chase Home Finance, Chase, JP Morgan & Chase, other contributors like MER\\'s. Crimes of Mortgage ad Real Estate Staff had long assisted nd finally the squeaky will could not continue as their deviant practices broke the state and crashed. Modification owners either ordered by The United States Department of Housing, The United States IRS or President Obamas letters from Note Holders came to those various departments asking for the Democratic process to help them keep their homes and protection them from explosion. Thus the birth of Modifications. It is yet to date for clarity how theses enforcements came into existence and except b whom, but t is certain that note holders form the Midwest reached out in the Democratic Process for assistance. FBI Mortgage Fraud Department came into existence. Modifications HMAP HARP were also birthed to help note holders get Justice through reduced mortgage by making terms legal. Modification of mortgage terms was introduced by IRS staff addressing the crisis called the HAMP TEAMS that went across the United States desiring the new products to assist homeowners that were victims of predatory lending practices, unethical staff, brokers, attorneys and lenders that contributed to the crash. Modification were a fix to the crash as litigation has ensued as the lenders reorganized and renamed the lending institutions and government agencies are to closely monitor them. Prior to modifications loan holders that experiences crisis would use Loan assumptions and Loan transfers to keep the note in the 1930s. During the Great Depression, loan transfers, loan assumption, and loan bail out programs took place at the state level in an effort to reduce levels of loan foreclosures while the Federal Bureau of Investigation, Federal Trade Commission, Comptroller, the United States Government and State Government responded to lending institution violations of law in these arenas by setting public court records that are legal precedence of such illegal actions. The legal precedents and reporting agencies were created to address the violations of laws to consumers while the Modifications were created to assist the consumers that are victims of predatory lending practices. During the so-called \"Great Recession\" of the early 21st century, loan modification became a matter of national policy, with various actions taken to alter mortgage loan terms to prevent further economic destabilization. Due to absorbent personal profits nothing has been done to educate Homeowners or Creditors that this money from equity, escrow is truly theirs the Loan Note Holder and it is their monetary rights as the real prize and reason for the Housing Crash was the profit n obtaining the mortgage holders Escrow. The Escrow and Equity that is accursed form the Note Holders payments various staff through the United States claimed as recorded and cashed by all staff in real-estate from local residential Tax Assessing Staff, Real Estate Staff, Ordinance Staff, Police Staff, Brokers, attorneys, lending institutional staff but typically Attorneys who are also typically the owners or Rental properties that are trained through Bankruptcies\\'. that collect the Escrow that is rightfully the Homeowners but because most Homeowners are unaware of what money is due them and how they can loose their escrow. Most Creditors are unaware that as the note holder that the Note Holder are due a annual or semi annual equity check and again bank or other lending and or legal intuitions staff claim this monies instead. This money Note Holders were unaware of is the prize of real estate and the cause of the Real Estate Crash of 2008 where Lending Institutions provided mortgages to people years prior they know they would eventually loose with Loan holders purchasing Balloon Mortgages lending product that is designed to make fast money off the note holder whom is always typically unaware of their escrow, equity and that are further victimized by conferences and books on HOW TO MAKE MONEY IN REAL STATE - when in fact the money is the Note Holder. The key of the crash was not the House, but the loan product used and the interest and money that was accrued form the note holders that staff too immorally. The immoral and illegal actions of predatory lending station and their staff began with the inception of balloon mortgages although illegal activity has always existed in the arena, yet the crash created \"Watch Dog\" like HAMP TEAM, IRS, COMPTROLLER< Federal Trade Commission Consumer Protection Bureau, FBI, CIA, Local Police Department, ICE ( The FBI online Computer crime division receives and investigates computer crimes that record keeping staff from title companies, lending institutional staff, legal staff and others created fraudulent documents to change payments and billing of note holders to obtain the money note holders are typically unaware of) and other watch dog agencies came into existence to examine if houses were purchased through a processed check at Government Debited office as many obtained free homes illegally. Many were incarcerated for such illegal actions. Modifications fixed the Notes to proper lower interest, escrow, tax fees that staff typically raised for no reason. Many people from various arenas involved in reals estate have been incarcerated for these actions as well as other illegal actions like charging for a modification. Additionally Modifications were also made to address the falsifications such as inappropriate mortgage charges, filing of fraudulently deeds, reporting of and at times filing of fraudulent mortgages that were already paid off that were fraudulently continued by lenders staff and attorneys or brokers or anyone in the Real Estate Chain through the issues of real estate terms to continue to violate United States Laws, contract law and legal precedence where collusion was often done again to defraud and steal from the Note Holder was such a common practice that was evidence as to why the Mortgage Crash in 2008 occurred for the purpose of wining the prize of stealing form Homeowners and those that foreclosed was actually often purposefully for these monies note holders were unaware of to be obtained which was why Balloon mortgages and loans were given to the staff in the Real Estate Market with the hoper and the expectation that the loan holders would default as it offered opportunity to commit illegal transactions of obtaining the homeowners funds. While such scams were addressed through modifications in 2008. The Market relied heavily on Consumers ignorance to prosper, ignorance of real estate terms, ignorance on what they were to be charged properly for unethical financial gain and while staff in real estates lending arenas mingled terms to deceive y deliberate confusion consumers out of cash and homes while the USA Government provided Justice through President Obamas Inception and IRS Inception of Modifications which addressed these unethical profits in Reals Estate. It was in 2009 that HARP, HAMP and Modifications were introduced to stop the victimization of Note Holders. Taking on the Banks that ran USA Government was a great and dangerous undertaking that made America Great Again as Justice for Consumers reigned. Legal action taken against institutions that have such business practices can be viewed in State Code of Law and Federal Law on precedent cases that are available to the public. Finally, It had been unlawful to be charged by an attorney to modify as well as fro banking staff to modify terms to increase a mortgage and or change lending product to a balloon in an concerted effort to make homeowner foreclose which is also illegal, computer fraud and not the governments intended purpose or definition of a modification.'\n"
   ]
  },
  {
   "cell_type": "markdown",
   "metadata": {
    "colab_type": "text",
    "id": "ZDfojwsPaC8_"
   },
   "source": [
    "## 使用BERT进行分词与NER\n",
    "\n",
    "应该先分词, 再获取NER span.\n",
    "\n",
    "**注意!** 使用GPU加速则不能使用多进程.\n",
    "\n",
    "**注意!** 不同模型的分词格式有差异. 不是所有模型都支持NER."
   ]
  },
  {
   "cell_type": "code",
   "execution_count": 6,
   "metadata": {
    "colab": {
     "base_uri": "https://localhost:8080/",
     "height": 258,
     "referenced_widgets": [
      "92c846f03e0c4d06b518d624095d113d",
      "b3acb9e750794fd68fd8ae8eb5d2c91c",
      "042a53c6472a4e8991cb0c14dca2fd8a",
      "83f91590075345eda4c12163d74bfb7f",
      "df201137d18f4a27b798c0733bea7711",
      "9c147c0f5f0c40f094fba7a8f451075f",
      "05e7c6af5ade4956bbb20e3844b3d99c",
      "bf2de5ad2a3d4bf8b973a2bc2dae76d1",
      "6deab0e22f084a4d8f57d5160cf5fd49",
      "13fb14ae019d4da693de0d133615b8a0",
      "9088a1261bf1401da098e1d698d673c6",
      "0bc249865c2641128f108a8e0ef19f82",
      "460810d3f53d46f9ad440e7837191449",
      "b62e1a58e4eb4b14b62b7e7bbaeb834d",
      "65b1940ed8854d928764f0e30928bbb3",
      "1a8823cb3bf94dfa9f279661b89045f2",
      "d712993961634f32b8e6b16bad7463da",
      "bb0a41d8cf4e4a51a6e76e1534c5e456",
      "437426565c5a4f0babe0eff95d84ddc7",
      "ebeecc000e9245ed8cbbb96b3d97206f",
      "7ff3e073a1e94e5384c234646d7fa881",
      "39b9a5358f104f47af19e64741ef4408",
      "b882872d552c400fa5fca758b47e5877",
      "61fe132c4bf846feaa0b9df5f1a29a4e",
      "73cd231d1da048a0835985ec80e11dd8",
      "1eb682e4616f4c688f14559f0b71b9d7",
      "b8f106822c68465382b5d10be3a5b106",
      "104cf01aa4f641edbaeb1e5927b919cd",
      "153cee48d1cf458a8d6658fa389411fa",
      "9054b0e935e0448eb43f5b2826e20df5",
      "760a89d1f3794fc5915052e2549eac5c",
      "bf4b4719d4f147f288e63cb3b2c2264e"
     ]
    },
    "colab_type": "code",
    "executionInfo": {
     "elapsed": 61578,
     "status": "ok",
     "timestamp": 1583386053105,
     "user": {
      "displayName": "597709514@qq.com",
      "photoUrl": "https://lh3.googleusercontent.com/a-/AOh14GiZ4b29y22LPZ8tUnu62hIRC6jZFH5v8X6Jes57=s64",
      "userId": "03859811009091074275"
     },
     "user_tz": -480
    },
    "id": "_ZARV3x7aJK9",
    "outputId": "616bdfaa-9a81-423c-ab43-42eb4c1bbe52"
   },
   "outputs": [],
   "source": [
    "from transformers import AutoModelForTokenClassification, AutoTokenizer\n",
    "\n",
    "model_NER = AutoModelForTokenClassification.from_pretrained(\"dbmdz/bert-large-cased-finetuned-conll03-english\",\n",
    "                                                           proxies = proxies)\n",
    "tokenizer = AutoTokenizer.from_pretrained(\"bert-large-cased-whole-word-masking\",\n",
    "                                         proxies = proxies)\n",
    "\n",
    "_ = model_NER.to(DEVICE)"
   ]
  },
  {
   "cell_type": "raw",
   "metadata": {
    "colab": {
     "base_uri": "https://localhost:8080/",
     "height": 261,
     "referenced_widgets": [
      "30fc4a4bccda4a83b9091aa600d582c1",
      "425b63c1bc02442c84259c9edb27dee8",
      "5bfa98884ea04308a7855cc29db50040",
      "523bf313746b499fbe83c27b371ef480",
      "bae5d5d7352c4c8fb3f7300b4658343e",
      "442b2b4f3e484e1fab55571897f24d47",
      "7e169196daa24d8db88b1de2c7b790c1",
      "50a0d26412784837a9ce6a309d4ff66b",
      "f74acb7e34b14c3d95ec3d6d2a534d41",
      "818e5abc8f6448d19bac5ae4c9c65d3c",
      "2fc0b205679947cc8b00df3182e6b128",
      "addf6edb4a6945f5a4ab5381a6e0cee6",
      "cb83cd3502e341f9838194be2faa1303",
      "bf9a6dbfb9f64d3d84d85efef524342b",
      "2ef728f711b04c69b5961da3e65c9511",
      "7f763cad449d44cca47863b93fb883d3",
      "1445f3a4722b467fa41b9e7ff08ba941",
      "8a6d60cf2f444278947f11c8bf3354ad",
      "e16165c7071b43ffa30148bf2e0a1b03",
      "c4f87d543a374f738397969e04f1f780",
      "bc7fda181a8a477baaa8c97b64960202",
      "6b9b79b1e9ee4e149cf5770bd8e12677",
      "d2e7cb4da0ae4b298e65195208cdf444",
      "c9722a11b319411287ed1524ac39f658",
      "4ef9a918507a42149d2d4ed21f8ab30a",
      "9e6069550a974dc3b9a9b3f21bb1b02e",
      "73417793dd1d4007a21e80e721fdb622",
      "538f47c8aae040d482f6c19b3e7aee02",
      "f9b8bcf7392f40fa8269c6cc914455c2",
      "8c93338a1308410e8cd90bc9f6d8f5ec",
      "6485d889735340d3b11650b060d0a519",
      "ba98b677fd9345f790c1a38b3b112037",
      "4551cdbfbca54a3a8323cf2c980e3c90",
      "b3298da5c0ae4b29a80c33ba6db4407a",
      "cc4952050c184d86977bdc9f6cb9f8de",
      "eba9f50eb37749acb381277755732ebf",
      "ab5a4c4bec974324807a07004ab53ca6",
      "4469c9c1a72f4998b461bc39a27fdca9",
      "14c70b8b49054aa4b8e02b68232b9c33",
      "e62b0a12df9c4a5f9c4fd72e3ec431e8"
     ]
    },
    "colab_type": "code",
    "executionInfo": {
     "elapsed": 74328,
     "status": "ok",
     "timestamp": 1583386066305,
     "user": {
      "displayName": "597709514@qq.com",
      "photoUrl": "https://lh3.googleusercontent.com/a-/AOh14GiZ4b29y22LPZ8tUnu62hIRC6jZFH5v8X6Jes57=s64",
      "userId": "03859811009091074275"
     },
     "user_tz": -480
    },
    "id": "bvZhnjp23bdU",
    "outputId": "3343b92c-95b6-41ba-f6c9-a7401837207f",
    "scrolled": true
   },
   "source": [
    "from transformers import AlbertModel, AlbertTokenizer, AlbertPreTrainedModel\n",
    "tokenizer2 = AlbertTokenizer.from_pretrained(\"KB/albert-xlarge-v2-ner\", proxies = proxies)\n",
    "model_NER_2 = AlbertPreTrainedModel.from_pretrained(\"KB/albert-xlarge-v2-ner\", proxies = proxies)\n",
    "_ = model_NER_2.eval()\n",
    "_ = model_NER_2.to(DEVICE)"
   ]
  },
  {
   "cell_type": "code",
   "execution_count": 7,
   "metadata": {
    "colab": {},
    "colab_type": "code",
    "id": "_Dqavor9tVJV"
   },
   "outputs": [],
   "source": [
    "def tokensizer_in_Model(content_raw, special=False, tokenizer = tokenizer):\n",
    "    tokens = tokenizer.tokenize(tokenizer.decode(tokenizer.encode(content_raw)))\n",
    "    if special: return tokens\n",
    "    else: return tokens[1:-1]"
   ]
  },
  {
   "cell_type": "code",
   "execution_count": 8,
   "metadata": {
    "colab": {
     "base_uri": "https://localhost:8080/",
     "height": 70
    },
    "colab_type": "code",
    "executionInfo": {
     "elapsed": 72230,
     "status": "ok",
     "timestamp": 1583386066306,
     "user": {
      "displayName": "597709514@qq.com",
      "photoUrl": "https://lh3.googleusercontent.com/a-/AOh14GiZ4b29y22LPZ8tUnu62hIRC6jZFH5v8X6Jes57=s64",
      "userId": "03859811009091074275"
     },
     "user_tz": -480
    },
    "id": "4-jsv-USvKwV",
    "outputId": "859a596f-7cb1-4fe3-bab9-8f404fe83616"
   },
   "outputs": [
    {
     "name": "stdout",
     "output_type": "stream",
     "text": [
      "['[CLS]', 'Echo', '##smith', 'is', 'an', 'American', ',', 'Corporate', 'indie', 'pop', 'band', 'formed', 'in', 'February', '2009', 'in', 'Chin', '##o', ',', 'California', '.', '[SEP]']\n"
     ]
    }
   ],
   "source": [
    "s = \"Echosmith is an American, Corporate indie pop band formed in February 2009 in Chino, California.\"\n",
    "print(tokensizer_in_Model(s, special=True, tokenizer=tokenizer))\n",
    "# print(tokensizer_in_Model(s, special=True, tokenizer=tokenizer2))"
   ]
  },
  {
   "cell_type": "code",
   "execution_count": 9,
   "metadata": {
    "code_folding": [
     0
    ],
    "colab": {},
    "colab_type": "code",
    "id": "SZi9D02t-eOC"
   },
   "outputs": [],
   "source": [
    "def find_NER_in_Model(content_raw, tokens=None, model=model_NER, tokenizer = tokenizer):\n",
    "    '''返回: tokens[1:-1], inputs, entities_list\n",
    "    第一个是不包含[CLS] [SEP]的分词序列(content_tokens是包含的).\n",
    "    第二个是实体列表.'''\n",
    "    label_list = [\n",
    "        \"O\",       # Outside of a named entity\n",
    "        \"B-MISC\",  # Beginning of a miscellaneous entity right after another miscellaneous entity\n",
    "        \"I-MISC\",  # Miscellaneous entity\n",
    "        \"B-PER\",   # Beginning of a person's name right after another person's name\n",
    "        \"I-PER\",   # Person's name\n",
    "        \"B-ORG\",   # Beginning of an organisation right after another organisation\n",
    "        \"I-ORG\",   # Organisation\n",
    "        \"B-LOC\",   # Beginning of a location right after another location\n",
    "        \"I-LOC\"    # Location\n",
    "        ]\n",
    "    # Bit of a hack to get the tokens with the special tokens\n",
    "    if not tokens: tokens = tokenizer.tokenize(tokenizer.decode(tokenizer.encode(content_raw)))\n",
    "    inputs = tokenizer.encode(content_raw, return_tensors='pt').to(DEVICE)\n",
    "    outputs = model_NER(inputs)[0]\n",
    "    predictions = torch.argmax(outputs, dim=2)\n",
    "    # 去除 [cls] [sep]\n",
    "    res = [(token, label_list[prediction]) for token, prediction in zip(tokens, predictions[0].tolist())][1:-1]\n",
    "    # print(predictions)\n",
    "    # print(res)\n",
    "\n",
    "    entities_list = []\n",
    "    cursor_1 = 0\n",
    "    cursor_2 = 0\n",
    "\n",
    "    while cursor_1 < len(res):\n",
    "        entities_dict = {}\n",
    "        temp = []\n",
    "        if res[cursor_1][1] == 'O': \n",
    "            cursor_1+=1\n",
    "            continue\n",
    "        \n",
    "        entities_dict['type'] = res[cursor_1][1]\n",
    "        entities_dict['span_start'] = cursor_1\n",
    "        temp.append(res[cursor_1][0])\n",
    "        cursor_2 = cursor_1 + 1\n",
    "        while cursor_2 < len(res):\n",
    "            if res[cursor_2][1] == 'O':\n",
    "                cursor_1 = cursor_2 + 1\n",
    "                break\n",
    "            \n",
    "            temp.append(res[cursor_2][0])\n",
    "            cursor_2 += 1\n",
    "        \n",
    "        cursor_1 += cursor_2\n",
    "        entities_dict['content'] = ' '.join(temp).replace(' ##', '')\n",
    "        entities_dict['content_tokens'] = temp\n",
    "        entities_list.append(entities_dict)\n",
    "\n",
    "    return tokens[1:-1], entities_list"
   ]
  },
  {
   "cell_type": "code",
   "execution_count": 10,
   "metadata": {
    "colab": {
     "base_uri": "https://localhost:8080/",
     "height": 70
    },
    "colab_type": "code",
    "executionInfo": {
     "elapsed": 1801,
     "status": "ok",
     "timestamp": 1583387858757,
     "user": {
      "displayName": "597709514@qq.com",
      "photoUrl": "https://lh3.googleusercontent.com/a-/AOh14GiZ4b29y22LPZ8tUnu62hIRC6jZFH5v8X6Jes57=s64",
      "userId": "03859811009091074275"
     },
     "user_tz": -480
    },
    "id": "4DQ3M6_Rnat4",
    "outputId": "08a26395-25ff-4640-c30f-c72b6ede6400"
   },
   "outputs": [
    {
     "name": "stdout",
     "output_type": "stream",
     "text": [
      "(['Echo', '##smith', 'is', 'an', 'American', ',', 'Corporate', 'indie', 'pop', 'band', 'formed', 'in', 'February', '2009', 'in', 'Chin', '##o', ',', 'California', '.'], [{'type': 'I-ORG', 'span_start': 0, 'content': 'Echosmith', 'content_tokens': ['Echo', '##smith']}, {'type': 'I-LOC', 'span_start': 15, 'content': 'Chino', 'content_tokens': ['Chin', '##o']}])\n"
     ]
    }
   ],
   "source": [
    "print(find_NER_in_Model(s, model=model_NER, tokenizer=tokenizer))\n",
    "# print(find_NER_in_Model(s, model=model_NER_2, tokenizer=tokenizer2))"
   ]
  },
  {
   "cell_type": "markdown",
   "metadata": {
    "colab_type": "text",
    "id": "aR4aOISX7g_-"
   },
   "source": [
    "## 使用spacy进行分词与NER\n"
   ]
  },
  {
   "cell_type": "raw",
   "metadata": {
    "colab": {},
    "colab_type": "code",
    "id": "8to-ov_oZ4Zm"
   },
   "source": [
    "import spacy\n",
    "spacy.prefer_gpu()\n",
    "# spacy.prefer_cpu()\n",
    "nlp = spacy.load(\"en_core_web_lg\")\n",
    "# 使用BERT进行fine-turning,文本也应该使用bert进行分词,以确保embedding的一致性.\n",
    "# 这要求ner模块能够接受分好词的list,而不是自己进行分词,否则实体span获取不准确."
   ]
  },
  {
   "cell_type": "raw",
   "metadata": {
    "colab": {},
    "colab_type": "code",
    "id": "m_iyjbfHZ4b6"
   },
   "source": [
    "def find_NER_in_spacy(raw_content, nlp = nlp, tokensize=True, ner=False, exclude_list = ['PERCENT', 'MONEY', 'QUANTITY', 'ORDINAL', 'CARDINAL']):\n",
    "    '''使用spacy进行NER.\n",
    "    标注解释: https://spacy.io/api/annotation\n",
    "    '''\n",
    "    res_nlp = nlp(raw_content)\n",
    "    tokens = []\n",
    "    if tokensize:\n",
    "       tokens =  [str(i) for i in res_nlp.doc]\n",
    "    \n",
    "    entities_list = []\n",
    "    if ner:\n",
    "        for item in res_nlp.ents:\n",
    "            if item.label_ in exclude_list: continue\n",
    "            entities_dict = {}\n",
    "            entities_dict['type'] = item.label_\n",
    "            entities_dict['span_start'] = item.start\n",
    "            entities_dict['content'] = item.text\n",
    "            entities_dict['span_end'] = item.end\n",
    "            entities_list.append(entities_dict)\n",
    "        # print(dir(item))\n",
    "    return tokens, entities_list"
   ]
  },
  {
   "cell_type": "raw",
   "metadata": {
    "colab": {},
    "colab_type": "code",
    "id": "11EGV2n1B_Ku"
   },
   "source": [
    "s = \"Echosmith is an American, Corporate indie pop band formed in February 2009 in Chino, California.\"\n",
    "ts, es = find_NER_in_spacy(s, ner=True)\n",
    "print(ts)\n",
    "es"
   ]
  },
  {
   "cell_type": "markdown",
   "metadata": {
    "colab_type": "text",
    "id": "8wYrwSgH7lFr"
   },
   "source": [
    "## class Node\n"
   ]
  },
  {
   "cell_type": "code",
   "execution_count": 20,
   "metadata": {
    "code_folding": [
     0,
     27,
     51,
     90,
     132
    ],
    "colab": {},
    "colab_type": "code",
    "id": "6lavnppTZ4gw"
   },
   "outputs": [],
   "source": [
    "class BaseNode(object):\n",
    "    '''Node class for graph'''\n",
    "    \n",
    "    def __init__(self, node_id, node_type, parent_id, \\\n",
    "            content_raw, content_tokens, content_features=None, cls_feature=None):\n",
    "        \n",
    "        self.node_id = node_id\n",
    "        self.node_type = node_type\n",
    "        self.parent_id = parent_id\n",
    "\n",
    "        self.content_raw = content_raw\n",
    "        self.content_tokens = content_tokens\n",
    "\n",
    "        self.content_features = content_features\n",
    "        self.cls_feature = None # final features. [1,dim]\n",
    "        \n",
    "    @classmethod\n",
    "    def build(cls):\n",
    "        raise NotImplementedError\n",
    "\n",
    "    def __str__(self):\n",
    "        raise NotImplementedError\n",
    "    \n",
    "    def __repr__(self):\n",
    "        raise NotImplementedError\n",
    "\n",
    "\n",
    "class QuestionNode(BaseNode):\n",
    "    def __init__(self,node_id, node_type, parent_id, content_raw, content_tokens,\\\n",
    "                    answer, ques_type):\n",
    "        super(QuestionNode, self).__init__(node_id, node_type, parent_id, content_raw, content_tokens)\n",
    "\n",
    "        self.question = self.content_raw\n",
    "        self.answer = answer\n",
    "        self.ques_type = ques_type\n",
    "\n",
    "    @classmethod\n",
    "    def build(cls, node_id, parent_id, content_raw, content_tokens,\n",
    "                answer, ques_type):\n",
    "\n",
    "        node_type = 'Question'\n",
    "        return cls(node_id, node_type, parent_id, content_raw, content_tokens,\\\n",
    "                    answer, ques_type)\n",
    "    \n",
    "    def __str__(self):\n",
    "        return f'QuestionNode: {self.node_id}'\n",
    "    \n",
    "    def __repr__(self):\n",
    "        return self.__str__()\n",
    "\n",
    "\n",
    "class ParagraphTitleNode(BaseNode):\n",
    "    '''不含整个段落, 只含有title'''\n",
    "    def __init__(self,node_id, node_type, parent_id, content_raw, content_tokens,\\\n",
    "                    content_NER_list = None):\n",
    "        super(ParagraphTitleNode, self).__init__(node_id, node_type, parent_id, content_raw, content_tokens)\n",
    "\n",
    "        self.content_NER_list = content_NER_list\n",
    "\n",
    "        self.paragraph_id = -99\n",
    "        self.start_in_paragraph = -99\n",
    "        self.end_in_paragraph = -99\n",
    "\n",
    "        self.is_support = None # 段落 句子 \n",
    "\n",
    "    @classmethod\n",
    "    def build(cls, node_id, parent_id, content_raw, content_tokens):\n",
    "\n",
    "        content_tokens, content_NER_list = find_NER_in_Model(content_raw, content_tokens)\n",
    "        # content_tokens: NO CLS.\n",
    "\n",
    "        node_type = 'Paragraph'\n",
    "        return cls(node_id, node_type, parent_id, content_raw, content_tokens,\\\n",
    "                    content_NER_list)\n",
    "    \n",
    "    def set_support(self):\n",
    "        self.is_support = True\n",
    "\n",
    "    def set_span_in_paragraph(self, para_id, start):\n",
    "        self.paragraph_id = para_id\n",
    "        self.start_in_paragraph = start\n",
    "        self.end_in_paragraph = start + len(self.content_tokens)\n",
    "\n",
    "    def __str__(self):\n",
    "        return f'ParagraphTitleNode: {self.node_id}'\n",
    "    \n",
    "    def __repr__(self):\n",
    "        return self.__str__()\n",
    "\n",
    "\n",
    "class SentenceNode(BaseNode):\n",
    "    def __init__(self,node_id, node_type, parent_id, content_raw, content_tokens,\\\n",
    "                    content_NER_list = None):\n",
    "        super(SentenceNode, self).__init__(node_id, node_type, parent_id, content_raw, content_tokens)\n",
    "\n",
    "        self.content_NER_list = content_NER_list\n",
    "\n",
    "        self.paragraph_id = -99\n",
    "        self.start_in_paragraph = -99\n",
    "        self.end_in_paragraph = -99\n",
    "\n",
    "        self.is_support = None # 段落 句子 \n",
    "\n",
    "    @classmethod\n",
    "    def build(cls, node_id, parent_id, content_raw, content_tokens=None):\n",
    "\n",
    "        content_tokens, content_NER_list = find_NER_in_Model(content_raw, content_tokens)\n",
    "        # content_tokens: NO CLS.\n",
    "\n",
    "        node_type = 'Sentence'\n",
    "        return cls(node_id, node_type, parent_id, content_raw, content_tokens,\\\n",
    "                    content_NER_list)\n",
    "\n",
    "    def set_span_in_paragraph(self, para_id, start):\n",
    "        self.paragraph_id = para_id\n",
    "        self.start_in_paragraph = start\n",
    "        self.end_in_paragraph = start + len(self.content_tokens)\n",
    "\n",
    "    def set_support(self):\n",
    "        self.is_support = True\n",
    "\n",
    "    def get_NER_tuples_list(self):\n",
    "        '''返回NER元组. e.g. [('ALLPE',id), ('DELL',id)]'''\n",
    "        return [(i['content'], self.node_id) for i in self.content_NER_list]\n",
    "\n",
    "    def __str__(self):\n",
    "        return f'SentenceNode: {self.node_id}'\n",
    "    \n",
    "    def __repr__(self):\n",
    "        return self.__str__()\n",
    "\n",
    "\n",
    "class EntityNode(BaseNode):\n",
    "    def __init__(self,node_id, node_type, parent_id, content_raw, content_tokens,\\\n",
    "                    ):\n",
    "        super(EntityNode, self).__init__(node_id, node_type, parent_id, content_raw, content_tokens)\n",
    "\n",
    "        self.start_in_sentence = -99\n",
    "        self.end_in_sentence = -99\n",
    "\n",
    "        self.paragraph_id = -99\n",
    "        self.start_in_paragraph = -99\n",
    "        self.end_in_paragraph = -99\n",
    "\n",
    "    @classmethod\n",
    "    def build(cls, node_id, parent_id, content_raw, content_tokens=None):\n",
    "\n",
    "        node_type = 'Entity'\n",
    "        return cls(node_id, node_type, parent_id, content_raw, content_tokens, \\\n",
    "                    )\n",
    "    \n",
    "    # only for E_node.\n",
    "    def set_span_in_sentence(self, start):\n",
    "        self.start_in_sentence = start\n",
    "        self.end_in_sentence = start + len(self.content_tokens)\n",
    "\n",
    "    def set_span_in_paragraph(self, para_id, start):\n",
    "        self.paragraph_id = para_id\n",
    "        self.start_in_paragraph = start\n",
    "        self.end_in_paragraph = start + len(self.content_tokens)\n",
    "\n",
    "    def __str__(self):\n",
    "        return f'EntityNode: {self.node_id}'\n",
    "    \n",
    "    def __repr__(self):\n",
    "        return self.__str__()\n",
    "\n"
   ]
  },
  {
   "cell_type": "markdown",
   "metadata": {
    "colab_type": "text",
    "id": "rhzonmnBejVv"
   },
   "source": [
    "## class Question_Paragraph\n",
    "\n",
    "辅助函数`get_feature_from_model`应放入py文件."
   ]
  },
  {
   "cell_type": "code",
   "execution_count": 12,
   "metadata": {
    "code_folding": [
     0,
     20,
     29,
     39,
     44,
     48,
     57
    ],
    "colab": {},
    "colab_type": "code",
    "id": "xbBMSNnEZ4iz"
   },
   "outputs": [],
   "source": [
    "class Question_Paragraph(object):\n",
    "    '''Q-P pair and label. for BERT and node init.\n",
    "    返回q-p对和q-s对, 还要确保能够初始化Node类.\n",
    "    每个问句有10个paragraph,即10个此类.'''\n",
    "    def __init__(self, ques_id, para_id, question_tokens, para_title_tokens, para_label, sents_in_para, sentences_label):\n",
    "        self.question_tokens = question_tokens\n",
    "        self.para_title_tokens = para_title_tokens\n",
    "        self.sents_in_para = sents_in_para\n",
    "        self.sentences_offsets = self.cal_offsets(self.sents_in_para)\n",
    "        self.sentences_label = sentences_label\n",
    "\n",
    "        self.ques_id = ques_id\n",
    "        self.para_id = para_id \n",
    "        self.para_label = para_label # 段落label\n",
    "\n",
    "        self.question_features = None # [N, dim]\n",
    "        self.para_features = None\n",
    "#         self.paragraph_features = None\n",
    "\n",
    "    @classmethod\n",
    "    def build(cls, ques_id, para_id, question, para_title_tokens, para_label, node_list):\n",
    "        Snodes = [n for n in node_list if n.paragraph_id == para_id and n.node_type == 'Sentence']\n",
    "        question_tokens = tokensizer_in_Model(question)\n",
    "        # para_title_tokens = tokensizer_in_Model(para_title)\n",
    "        sents_in_para = [n.content_tokens for n in Snodes]\n",
    "        sentences_label = [int(n.is_support) for n in Snodes]\n",
    "        return cls(ques_id, para_id, question_tokens, para_title_tokens, para_label, sents_in_para, sentences_label)\n",
    "\n",
    "    @staticmethod\n",
    "    def cal_offsets(sents_list):\n",
    "        cursor = 0\n",
    "        offsets = []\n",
    "        for sent_tokens in sents_list:\n",
    "            len_sent = len(sent_tokens)\n",
    "            offsets.append((cursor, cursor+len_sent))\n",
    "            cursor += len_sent\n",
    "        return offsets\n",
    "    \n",
    "    # content tokens\n",
    "    def get_para_tokens(self, contain_title = False):\n",
    "        para_token = self.para_title_tokens if contain_title else []\n",
    "        for i in self.sents_in_para: para_token.extend(i)\n",
    "        return para_token\n",
    "\n",
    "    def get_ques_para_label_tuple(self, contain_title = False):\n",
    "        '''问句-段落对'''\n",
    "        return (self.question_tokens, self.get_para_tokens(contain_title), self.para_label)\n",
    "\n",
    "    def get_ques_sent_label_list(self, contain_title = False):\n",
    "        '''问句-句子对'''\n",
    "        if contain_title:\n",
    "            return [(self.question_tokens, self.para_title_tokens.extend(sent_tokens), sent_label)\\\n",
    "                for sent_tokens,sent_label in zip(self.sents_in_para, self.sentences_label)]\n",
    "        else:\n",
    "            return [(self.question_tokens, sent_tokens, sent_label)\\\n",
    "                for sent_tokens,sent_label in zip(self.sents_in_para, self.sentences_label)]\n",
    "\n",
    "    def format_sents_in_para(self):\n",
    "        return ' '.join([f'{index}:{word}' for index,word in enumerate(self.sents_in_para)])\n",
    "\n",
    "    # features\n",
    "    def build_features(self):\n",
    "        '''build features from LM models'''\n",
    "    \n",
    "        self.question_features = get_feature_from_model(self.question_tokens)\n",
    "\n",
    "        para_features = 0\n",
    "        for one_line in self.get_ques_sent_label_list():\n",
    "\n",
    "            sent_features = get_feature_from_model(one_line[0], one_line[1], 'second')\n",
    "\n",
    "            if type(para_features) == int: para_features = sent_features.clone()\n",
    "            else: para_features = torch.cat((para_features, sent_features), dim=0)\n",
    "       \n",
    "        self.para_features = para_features\n",
    "        \n",
    "\n",
    "    def get_question_features(self):\n",
    "        return self.question_features\n",
    "\n",
    "    def get_paragraph_features(self):\n",
    "        return self.para_features\n",
    "\n",
    "    # other\n",
    "    def __str__(self):\n",
    "        return f'Q_P. p_id: {self.para_id}'\n",
    "    \n",
    "    def __repr__(self):\n",
    "        return f'Q_P. p_id: {self.para_id}'\n"
   ]
  },
  {
   "cell_type": "markdown",
   "metadata": {
    "colab_type": "text",
    "id": "agC59TUHeqe1"
   },
   "source": [
    "## class Adjacency_sp"
   ]
  },
  {
   "cell_type": "code",
   "execution_count": 13,
   "metadata": {
    "code_folding": [
     3
    ],
    "colab": {},
    "colab_type": "code",
    "id": "uycudvpHZ4ld"
   },
   "outputs": [],
   "source": [
    "import scipy.sparse as sp\n",
    "import numpy as np\n",
    "\n",
    "class Adjacency_sp(object):\n",
    "    '''无重复稀疏邻接矩阵'''\n",
    "    def __init__(self):\n",
    "        self.v_i_j = []\n",
    "        self.i_j_find_table = []\n",
    "\n",
    "    def append(self, v, i, j):\n",
    "        if not (i,j) in self.i_j_find_table:\n",
    "          self.v_i_j.append([v,i,j])\n",
    "          self.i_j_find_table.append((i,j))\n",
    "    \n",
    "    def to_dense(self, shape=(200, 200)):\n",
    "        '''return numpy ndarray.'''\n",
    "        np_adj = np.array(self.v_i_j)\n",
    "        full_adj = sp.coo_matrix((np_adj[:, 0], (np_adj[:, 1], np_adj[:, 2])), shape=shape, dtype=np.float32).todense()\n",
    "        full_adj = np.array(full_adj)\n",
    "        return full_adj\n",
    "\n",
    "    def to_dense_symmetric(self, shape=(200, 200)):\n",
    "        np_adj = np.array(self.v_i_j)\n",
    "        adj = sp.coo_matrix((np_adj[:, 0], (np_adj[:, 1], np_adj[:, 2])), shape=shape, dtype=np.float32)\n",
    "        adj_symm = adj + adj.T.multiply(adj.T > adj) - adj.multiply(adj.T > adj).todense()\n",
    "        adj_symm = np.array(adj_symm)\n",
    "        return adj_symm\n",
    "\n",
    "    def __repr__(self):\n",
    "        return f'Adjacency_sp has {len(self.v_i_j)} edges'\n",
    "    def __str__(self):\n",
    "        return f'Adjacency_sp has {len(self.v_i_j)} edges'\n",
    "    def __len__(self):\n",
    "        return len(self.v_i_j)"
   ]
  },
  {
   "cell_type": "markdown",
   "metadata": {
    "colab_type": "text",
    "id": "KwGo38uRxhZ6"
   },
   "source": [
    "## 开始\n",
    "\n",
    "**4种点**\n",
    "\n",
    "1. Question\n",
    "2. Paragraph\n",
    "3. Sentence\n",
    "4. Entity"
   ]
  },
  {
   "cell_type": "code",
   "execution_count": 14,
   "metadata": {
    "colab": {},
    "colab_type": "code",
    "id": "jJqc07XgewdW"
   },
   "outputs": [],
   "source": [
    "# 返回Q-paragraph(for BERT); adj; node_list\n",
    "edge_type_map = {\n",
    "    'Q_P':1,\n",
    "    'Q_E':2,\n",
    "    'P_S':3,\n",
    "    'S_S_hyper':4,\n",
    "    'S_E':5,\n",
    "    'P_P':6,\n",
    "    'S_S':7,\n",
    "}\n",
    "\n",
    "def create_ques_info_dict():\n",
    "    # 每个question item由5个元素组成\n",
    "    ques_info_dict={}\n",
    "    ques_info_dict['id'] = None\n",
    "    ques_info_dict['node_list'] = None\n",
    "    ques_info_dict['sp_adj'] = None\n",
    "    ques_info_dict['ques_para_list'] = None\n",
    "    return ques_info_dict"
   ]
  },
  {
   "cell_type": "markdown",
   "metadata": {
    "colab_type": "text",
    "id": "oXcs_BSKe9e1"
   },
   "source": [
    "### sub_func"
   ]
  },
  {
   "cell_type": "code",
   "execution_count": 21,
   "metadata": {
    "colab": {},
    "colab_type": "code",
    "id": "6gbKuMa0o4JB"
   },
   "outputs": [],
   "source": [
    "from collections import defaultdict\n",
    "from traceback import print_exc\n",
    "\n",
    "def _process(item):\n",
    "    '''sub-function for multi-processes function.'''\n",
    "    ques_info_dict = create_ques_info_dict()\n",
    "\n",
    "    supporting_facts = defaultdict(list)\n",
    "    for s_fact in item['supporting_facts']:\n",
    "        supporting_facts[s_fact[0]].append(s_fact[1])\n",
    "\n",
    "    level = item['level']\n",
    "    question = item['question']\n",
    "    context = item['context']\n",
    "    answer = item['answer']\n",
    "    Q_id = item['_id']\n",
    "    Q_type = item['type']\n",
    "\n",
    "    ques_info_dict['id'] = Q_id\n",
    "\n",
    "    node_list = []\n",
    "    sp_adj = Adjacency_sp()\n",
    "    index_cursor = 0\n",
    "    \n",
    "    Q_node_cursor = index_cursor    \n",
    "    ques_tokens = tokensizer_in_Model(question, special=False)\n",
    "    \n",
    "    # node_id, parent_id, content_raw, content_tokens\n",
    "    Q_node = QuestionNode.build(Q_node_cursor, -1, question, ques_tokens,\\\n",
    "                               answer = answer, ques_type = Q_type)\n",
    "    \n",
    "    node_list.append(Q_node)\n",
    "\n",
    "    ques_para_list = []\n",
    "    \n",
    "    for p_index, paragraph in enumerate(context):\n",
    "        # 通过`para_uu_id`在另一个列表(Q-P类列表)中查找对应的元素.\n",
    "        para_uu_id = f'{Q_id}_{p_index}'\n",
    "        offset_in_paragraph = 0\n",
    "        paragraph_label = 0\n",
    "\n",
    "        title = paragraph[0]\n",
    "        title_tokens = tokensizer_in_Model(title, special=True)\n",
    "        \n",
    "        index_cursor += 1\n",
    "\n",
    "        # 添加P-1和P\n",
    "        try:\n",
    "            if index_cursor != 0: sp_adj.append(edge_type_map['P_P'], P_node_cursor, index_cursor) \n",
    "        except (NameError): # 首次调用P_node_cursor会报错\n",
    "            pass\n",
    "        P_node_cursor = index_cursor\n",
    "        P_node = ParagraphTitleNode.build(P_node_cursor, Q_node_cursor, title, title_tokens)\n",
    "        P_node.set_span_in_paragraph(para_uu_id, offset_in_paragraph)\n",
    "        \n",
    "        # 判断 support paragraph\n",
    "        if title in supporting_facts.keys():\n",
    "            paragraph_label = 1\n",
    "            P_node.set_support()\n",
    "        node_list.append(P_node)\n",
    "        \n",
    "        # 添加Q和P\n",
    "        sp_adj.append(edge_type_map['Q_P'], Q_node_cursor, P_node_cursor)\n",
    "\n",
    "        \n",
    "        for s_index, sentence in enumerate(paragraph[1]):\n",
    "            S_id = f'{Q_id}_{p_index}_{s_index}'\n",
    "            sentence_tokens = tokensizer_in_Model(sentence, special=True)\n",
    "\n",
    "            index_cursor += 1\n",
    "            S_node_cursor = index_cursor\n",
    "            S_node = SentenceNode.build(S_node_cursor, P_node_cursor, sentence, sentence_tokens)\n",
    "            S_node.set_span_in_paragraph(para_uu_id, offset_in_paragraph)\n",
    "            \n",
    "            # 判断support fact\n",
    "            if (paragraph_label == 1) and (s_index in supporting_facts[title]):\n",
    "                S_node.set_support()\n",
    "            node_list.append(S_node)\n",
    "\n",
    "            # 添加S之间边; P和S之间边\n",
    "            if s_index != 0:\n",
    "                sp_adj.append(edge_type_map['S_S'], S_node_cursor - 1, S_node_cursor)\n",
    "            sp_adj.append(edge_type_map['P_S'], P_node_cursor, S_node_cursor)\n",
    "\n",
    "            # 添加S和E之间边\n",
    "            for entities_dict in S_node.content_NER_list:\n",
    "                index_cursor += 1\n",
    "                E_node_cursor = index_cursor\n",
    "                E_node = EntityNode.build(E_node_cursor, S_node_cursor, \\\n",
    "                                          entities_dict['content'], entities_dict['content_tokens'])\n",
    "                E_node.set_span_in_paragraph(para_uu_id,offset_in_paragraph+entities_dict['span_start'])\n",
    "                E_node.set_span_in_sentence(entities_dict['span_start'])\n",
    "\n",
    "                node_list.append(E_node)\n",
    "                sp_adj.append(edge_type_map['S_E'], S_node_cursor, E_node_cursor)\n",
    "            \n",
    "            offset_in_paragraph += len(sentence_tokens[1:-1])\n",
    "\n",
    "        # in paragraph loop.\n",
    "        ques_para = Question_Paragraph.build(Q_id, para_uu_id, question, title_tokens[1:-1], paragraph_label, node_list)\n",
    "        ques_para_list.append(ques_para)\n",
    "    \n",
    "    # in item loop\n",
    "    # 连接Q节点和E节点.\n",
    "    E_nodes_in_Q = [i for i in node_list if i.node_type == 'Entity' and i.content_raw.replace(' ','') \\\n",
    "                    in question.replace(' ','')]\n",
    "    for i in E_nodes_in_Q:\n",
    "        sp_adj.append(edge_type_map['Q_E'], Q_node_cursor, i.node_id)\n",
    "    \n",
    "    # 连接S和P节点\n",
    "    # 注意!!原文没有使用entity linking系统, 而是直接使用Wikipedia提供的链接.\n",
    "    # 这里暂时使用字符串match.\n",
    "    S_node = [i for i in node_list if i.node_type == 'Sentence']\n",
    "    E_nodes = [i for i in node_list if i.node_type == 'Entity']\n",
    "    for E_n in E_nodes:\n",
    "        entity = E_n.content_raw.replace(' ','')\n",
    "        for S_n in S_node:\n",
    "            if entity in S_n.content_raw.replace(' ',''):\n",
    "                sp_adj.append(edge_type_map['S_S_hyper'], node_list[E_n.parent_id].node_id, node_list[S_n.parent_id].node_id)\n",
    "            \n",
    "    \n",
    "    ques_info_dict['node_list'] = node_list\n",
    "    ques_info_dict['sp_adj'] = sp_adj\n",
    "    ques_info_dict['ques_para_list'] = ques_para_list\n",
    "    return ques_info_dict"
   ]
  },
  {
   "cell_type": "markdown",
   "metadata": {
    "colab_type": "text",
    "id": "sfqbljEtfAu3"
   },
   "source": [
    "### main func"
   ]
  },
  {
   "cell_type": "raw",
   "metadata": {
    "code_folding": [],
    "colab": {},
    "colab_type": "code",
    "id": "wyhVnDY2e1w5"
   },
   "source": [
    "from tqdm import tqdm_notebook\n",
    "from multiprocessing.dummy import Pool\n",
    "def preprocessing(item_num = 2, thread_num = 1):\n",
    "    '''main multi-processes function.'''\n",
    "    item_num = None if item_num<0 else item_num\n",
    "    thread_num = 1 if thread_num<0 else thread_num\n",
    "    \n",
    "    resturn_list = []\n",
    "    pbar = tqdm_notebook(total = len(json_train[:item_num]), desc = f'processing json items')\n",
    "    with Pool(thread_num) as pool:\n",
    "        pool_iter = pool.imap(_process, json_train[:item_num])\n",
    "        for i,r in enumerate(pool_iter):\n",
    "            resturn_list.append(r)\n",
    "            pbar.update()\n",
    "    return resturn_list"
   ]
  },
  {
   "cell_type": "raw",
   "metadata": {
    "colab": {
     "base_uri": "https://localhost:8080/",
     "height": 49,
     "referenced_widgets": [
      "54b460a72f4747fba7c9ea6e9ba65a25",
      "7f831d363465401aa7c36c4e226f3ce2",
      "7a9497dcc9ab42f2a80664cad7b99680",
      "f71c9f80b5cf4338920340936877437b",
      "e6b2e5a0bf4e421aafdcb1f2e5e5f085",
      "dfedd87ffb3640e5a96220d5d7dad7b8",
      "66953b42ca4c440e8e926ca3d51ea7ea",
      "4e3a51796c634630b1569952c86404a3"
     ]
    },
    "colab_type": "code",
    "executionInfo": {
     "elapsed": 248735,
     "status": "ok",
     "timestamp": 1583388136429,
     "user": {
      "displayName": "597709514@qq.com",
      "photoUrl": "https://lh3.googleusercontent.com/a-/AOh14GiZ4b29y22LPZ8tUnu62hIRC6jZFH5v8X6Jes57=s64",
      "userId": "03859811009091074275"
     },
     "user_tz": -480
    },
    "id": "TOGTkazN_hv5",
    "outputId": "d5c55fe5-b3ff-4053-c5b7-f1550db76c5a"
   },
   "source": [
    "hotpotQA_train_preprocess = preprocessing(100,1)"
   ]
  },
  {
   "cell_type": "code",
   "execution_count": 22,
   "metadata": {},
   "outputs": [],
   "source": [
    "from tqdm import tqdm_notebook\n",
    "def preprocessing(item_num = 5):\n",
    "    '''main multi-processes function.'''\n",
    "    item_num = None if item_num<0 else item_num\n",
    "    \n",
    "    resturn_list = [] \n",
    "    for item in tqdm_notebook(json_train[:item_num]):\n",
    "        resturn_list.append(_process(item))\n",
    "    \n",
    "    return resturn_list"
   ]
  },
  {
   "cell_type": "code",
   "execution_count": 23,
   "metadata": {
    "scrolled": true
   },
   "outputs": [
    {
     "data": {
      "application/vnd.jupyter.widget-view+json": {
       "model_id": "e7a32d492a4f4f599f30f66790e35059",
       "version_major": 2,
       "version_minor": 0
      },
      "text/plain": [
       "HBox(children=(IntProgress(value=0), HTML(value='')))"
      ]
     },
     "metadata": {},
     "output_type": "display_data"
    },
    {
     "name": "stdout",
     "output_type": "stream",
     "text": [
      "\n"
     ]
    },
    {
     "ename": "AttributeError",
     "evalue": "'QuestionNode' object has no attribute 'paragraph_id'",
     "output_type": "error",
     "traceback": [
      "\u001b[0;31m---------------------------------------------------------------------------\u001b[0m",
      "\u001b[0;31mAttributeError\u001b[0m                            Traceback (most recent call last)",
      "\u001b[0;32m<ipython-input-23-a90116869efc>\u001b[0m in \u001b[0;36m<module>\u001b[0;34m\u001b[0m\n\u001b[0;32m----> 1\u001b[0;31m \u001b[0mhotpotQA_train_preprocess\u001b[0m \u001b[0;34m=\u001b[0m \u001b[0mpreprocessing\u001b[0m\u001b[0;34m(\u001b[0m\u001b[0;36m100\u001b[0m\u001b[0;34m)\u001b[0m\u001b[0;34m\u001b[0m\u001b[0;34m\u001b[0m\u001b[0m\n\u001b[0m",
      "\u001b[0;32m<ipython-input-22-f4932b721da8>\u001b[0m in \u001b[0;36mpreprocessing\u001b[0;34m(item_num)\u001b[0m\n\u001b[1;32m      6\u001b[0m     \u001b[0mresturn_list\u001b[0m \u001b[0;34m=\u001b[0m \u001b[0;34m[\u001b[0m\u001b[0;34m]\u001b[0m\u001b[0;34m\u001b[0m\u001b[0;34m\u001b[0m\u001b[0m\n\u001b[1;32m      7\u001b[0m     \u001b[0;32mfor\u001b[0m \u001b[0mitem\u001b[0m \u001b[0;32min\u001b[0m \u001b[0mtqdm_notebook\u001b[0m\u001b[0;34m(\u001b[0m\u001b[0mjson_train\u001b[0m\u001b[0;34m[\u001b[0m\u001b[0;34m:\u001b[0m\u001b[0mitem_num\u001b[0m\u001b[0;34m]\u001b[0m\u001b[0;34m)\u001b[0m\u001b[0;34m:\u001b[0m\u001b[0;34m\u001b[0m\u001b[0;34m\u001b[0m\u001b[0m\n\u001b[0;32m----> 8\u001b[0;31m         \u001b[0mresturn_list\u001b[0m\u001b[0;34m.\u001b[0m\u001b[0mappend\u001b[0m\u001b[0;34m(\u001b[0m\u001b[0m_process\u001b[0m\u001b[0;34m(\u001b[0m\u001b[0mitem\u001b[0m\u001b[0;34m)\u001b[0m\u001b[0;34m)\u001b[0m\u001b[0;34m\u001b[0m\u001b[0;34m\u001b[0m\u001b[0m\n\u001b[0m\u001b[1;32m      9\u001b[0m \u001b[0;34m\u001b[0m\u001b[0m\n\u001b[1;32m     10\u001b[0m     \u001b[0;32mreturn\u001b[0m \u001b[0mresturn_list\u001b[0m\u001b[0;34m\u001b[0m\u001b[0;34m\u001b[0m\u001b[0m\n",
      "\u001b[0;32m<ipython-input-21-b510ee99fe51>\u001b[0m in \u001b[0;36m_process\u001b[0;34m(item)\u001b[0m\n\u001b[1;32m     98\u001b[0m \u001b[0;34m\u001b[0m\u001b[0m\n\u001b[1;32m     99\u001b[0m         \u001b[0;31m# in paragraph loop.\u001b[0m\u001b[0;34m\u001b[0m\u001b[0;34m\u001b[0m\u001b[0;34m\u001b[0m\u001b[0m\n\u001b[0;32m--> 100\u001b[0;31m         \u001b[0mques_para\u001b[0m \u001b[0;34m=\u001b[0m \u001b[0mQuestion_Paragraph\u001b[0m\u001b[0;34m.\u001b[0m\u001b[0mbuild\u001b[0m\u001b[0;34m(\u001b[0m\u001b[0mQ_id\u001b[0m\u001b[0;34m,\u001b[0m \u001b[0mpara_uu_id\u001b[0m\u001b[0;34m,\u001b[0m \u001b[0mquestion\u001b[0m\u001b[0;34m,\u001b[0m \u001b[0mtitle_tokens\u001b[0m\u001b[0;34m[\u001b[0m\u001b[0;36m1\u001b[0m\u001b[0;34m:\u001b[0m\u001b[0;34m-\u001b[0m\u001b[0;36m1\u001b[0m\u001b[0;34m]\u001b[0m\u001b[0;34m,\u001b[0m \u001b[0mparagraph_label\u001b[0m\u001b[0;34m,\u001b[0m \u001b[0mnode_list\u001b[0m\u001b[0;34m)\u001b[0m\u001b[0;34m\u001b[0m\u001b[0;34m\u001b[0m\u001b[0m\n\u001b[0m\u001b[1;32m    101\u001b[0m         \u001b[0mques_para_list\u001b[0m\u001b[0;34m.\u001b[0m\u001b[0mappend\u001b[0m\u001b[0;34m(\u001b[0m\u001b[0mques_para\u001b[0m\u001b[0;34m)\u001b[0m\u001b[0;34m\u001b[0m\u001b[0;34m\u001b[0m\u001b[0m\n\u001b[1;32m    102\u001b[0m \u001b[0;34m\u001b[0m\u001b[0m\n",
      "\u001b[0;32m<ipython-input-12-9a36823dfc61>\u001b[0m in \u001b[0;36mbuild\u001b[0;34m(cls, ques_id, para_id, question, para_title_tokens, para_label, node_list)\u001b[0m\n\u001b[1;32m     20\u001b[0m     \u001b[0;34m@\u001b[0m\u001b[0mclassmethod\u001b[0m\u001b[0;34m\u001b[0m\u001b[0;34m\u001b[0m\u001b[0m\n\u001b[1;32m     21\u001b[0m     \u001b[0;32mdef\u001b[0m \u001b[0mbuild\u001b[0m\u001b[0;34m(\u001b[0m\u001b[0mcls\u001b[0m\u001b[0;34m,\u001b[0m \u001b[0mques_id\u001b[0m\u001b[0;34m,\u001b[0m \u001b[0mpara_id\u001b[0m\u001b[0;34m,\u001b[0m \u001b[0mquestion\u001b[0m\u001b[0;34m,\u001b[0m \u001b[0mpara_title_tokens\u001b[0m\u001b[0;34m,\u001b[0m \u001b[0mpara_label\u001b[0m\u001b[0;34m,\u001b[0m \u001b[0mnode_list\u001b[0m\u001b[0;34m)\u001b[0m\u001b[0;34m:\u001b[0m\u001b[0;34m\u001b[0m\u001b[0;34m\u001b[0m\u001b[0m\n\u001b[0;32m---> 22\u001b[0;31m         \u001b[0mSnodes\u001b[0m \u001b[0;34m=\u001b[0m \u001b[0;34m[\u001b[0m\u001b[0mn\u001b[0m \u001b[0;32mfor\u001b[0m \u001b[0mn\u001b[0m \u001b[0;32min\u001b[0m \u001b[0mnode_list\u001b[0m \u001b[0;32mif\u001b[0m \u001b[0mn\u001b[0m\u001b[0;34m.\u001b[0m\u001b[0mparagraph_id\u001b[0m \u001b[0;34m==\u001b[0m \u001b[0mpara_id\u001b[0m \u001b[0;32mand\u001b[0m \u001b[0mn\u001b[0m\u001b[0;34m.\u001b[0m\u001b[0mnode_type\u001b[0m \u001b[0;34m==\u001b[0m \u001b[0;34m'Sentence'\u001b[0m\u001b[0;34m]\u001b[0m\u001b[0;34m\u001b[0m\u001b[0;34m\u001b[0m\u001b[0m\n\u001b[0m\u001b[1;32m     23\u001b[0m         \u001b[0mquestion_tokens\u001b[0m \u001b[0;34m=\u001b[0m \u001b[0mtokensizer_in_Model\u001b[0m\u001b[0;34m(\u001b[0m\u001b[0mquestion\u001b[0m\u001b[0;34m)\u001b[0m\u001b[0;34m\u001b[0m\u001b[0;34m\u001b[0m\u001b[0m\n\u001b[1;32m     24\u001b[0m         \u001b[0;31m# para_title_tokens = tokensizer_in_Model(para_title)\u001b[0m\u001b[0;34m\u001b[0m\u001b[0;34m\u001b[0m\u001b[0;34m\u001b[0m\u001b[0m\n",
      "\u001b[0;32m<ipython-input-12-9a36823dfc61>\u001b[0m in \u001b[0;36m<listcomp>\u001b[0;34m(.0)\u001b[0m\n\u001b[1;32m     20\u001b[0m     \u001b[0;34m@\u001b[0m\u001b[0mclassmethod\u001b[0m\u001b[0;34m\u001b[0m\u001b[0;34m\u001b[0m\u001b[0m\n\u001b[1;32m     21\u001b[0m     \u001b[0;32mdef\u001b[0m \u001b[0mbuild\u001b[0m\u001b[0;34m(\u001b[0m\u001b[0mcls\u001b[0m\u001b[0;34m,\u001b[0m \u001b[0mques_id\u001b[0m\u001b[0;34m,\u001b[0m \u001b[0mpara_id\u001b[0m\u001b[0;34m,\u001b[0m \u001b[0mquestion\u001b[0m\u001b[0;34m,\u001b[0m \u001b[0mpara_title_tokens\u001b[0m\u001b[0;34m,\u001b[0m \u001b[0mpara_label\u001b[0m\u001b[0;34m,\u001b[0m \u001b[0mnode_list\u001b[0m\u001b[0;34m)\u001b[0m\u001b[0;34m:\u001b[0m\u001b[0;34m\u001b[0m\u001b[0;34m\u001b[0m\u001b[0m\n\u001b[0;32m---> 22\u001b[0;31m         \u001b[0mSnodes\u001b[0m \u001b[0;34m=\u001b[0m \u001b[0;34m[\u001b[0m\u001b[0mn\u001b[0m \u001b[0;32mfor\u001b[0m \u001b[0mn\u001b[0m \u001b[0;32min\u001b[0m \u001b[0mnode_list\u001b[0m \u001b[0;32mif\u001b[0m \u001b[0mn\u001b[0m\u001b[0;34m.\u001b[0m\u001b[0mparagraph_id\u001b[0m \u001b[0;34m==\u001b[0m \u001b[0mpara_id\u001b[0m \u001b[0;32mand\u001b[0m \u001b[0mn\u001b[0m\u001b[0;34m.\u001b[0m\u001b[0mnode_type\u001b[0m \u001b[0;34m==\u001b[0m \u001b[0;34m'Sentence'\u001b[0m\u001b[0;34m]\u001b[0m\u001b[0;34m\u001b[0m\u001b[0;34m\u001b[0m\u001b[0m\n\u001b[0m\u001b[1;32m     23\u001b[0m         \u001b[0mquestion_tokens\u001b[0m \u001b[0;34m=\u001b[0m \u001b[0mtokensizer_in_Model\u001b[0m\u001b[0;34m(\u001b[0m\u001b[0mquestion\u001b[0m\u001b[0;34m)\u001b[0m\u001b[0;34m\u001b[0m\u001b[0;34m\u001b[0m\u001b[0m\n\u001b[1;32m     24\u001b[0m         \u001b[0;31m# para_title_tokens = tokensizer_in_Model(para_title)\u001b[0m\u001b[0;34m\u001b[0m\u001b[0;34m\u001b[0m\u001b[0;34m\u001b[0m\u001b[0m\n",
      "\u001b[0;31mAttributeError\u001b[0m: 'QuestionNode' object has no attribute 'paragraph_id'"
     ]
    }
   ],
   "source": [
    "hotpotQA_train_preprocess = preprocessing(100)"
   ]
  },
  {
   "cell_type": "markdown",
   "metadata": {
    "colab_type": "text",
    "id": "8mPCZsJ5h0JR"
   },
   "source": [
    "## 检查"
   ]
  },
  {
   "cell_type": "markdown",
   "metadata": {
    "colab_type": "text",
    "id": "WtAYrLymQ7eB"
   },
   "source": [
    "### E,S和Q-P类之间的对应关系."
   ]
  },
  {
   "cell_type": "code",
   "execution_count": 31,
   "metadata": {
    "colab": {},
    "colab_type": "code",
    "id": "tD97_rokh0Mi"
   },
   "outputs": [],
   "source": [
    "def check_span_offset_in_QP(index_of_ques, index_of_X, Node_Type):\n",
    "    assert Node_Type in ['Entity', 'Sentence', 'Paragraph']\n",
    "    assert hotpotQA_train_preprocess\n",
    "\n",
    "    node_list = hotpotQA_train_preprocess[index_of_ques]['node_list']\n",
    "    ques_para_list = hotpotQA_train_preprocess[index_of_ques]['ques_para_list']\n",
    "\n",
    "    X_node = [i for i in node_list if i.node_type == Node_Type]\n",
    "    print(f\"len {Node_Type} node: {len(X_node)}\")\n",
    "    test_start = int(X_node[index_of_X].start_in_paragraph)\n",
    "    test_end = int(X_node[index_of_X].end_in_paragraph)\n",
    "    print(X_node[index_of_X].paragraph_id)\n",
    "    print(X_node[index_of_X].content_raw)\n",
    "    r = [i for i in ques_para_list if i.para_id == X_node[index_of_X].paragraph_id][0].get_para_tokens()\n",
    "    print(r)\n",
    "    print(f'offset in paragraph: \\n{r[test_start:test_end]}')"
   ]
  },
  {
   "cell_type": "code",
   "execution_count": 32,
   "metadata": {
    "colab": {
     "base_uri": "https://localhost:8080/",
     "height": 138
    },
    "colab_type": "code",
    "executionInfo": {
     "elapsed": 248699,
     "status": "ok",
     "timestamp": 1583388136435,
     "user": {
      "displayName": "597709514@qq.com",
      "photoUrl": "https://lh3.googleusercontent.com/a-/AOh14GiZ4b29y22LPZ8tUnu62hIRC6jZFH5v8X6Jes57=s64",
      "userId": "03859811009091074275"
     },
     "user_tz": -480
    },
    "id": "mtDQxEaqh0G8",
    "outputId": "df5fc9f9-3baf-4af7-abf1-1a4748432e08"
   },
   "outputs": [
    {
     "name": "stdout",
     "output_type": "stream",
     "text": [
      "len Entity node: 115\n",
      "5a8d7341554299441c6b9fe5_0\n",
      "James L . Brooks\n",
      "['Lisa', 'Marie', 'Simpson', 'is', 'a', 'fictional', 'character', 'in', 'the', 'animated', 'television', 'series', '\"', 'The', 'Simpsons', '\"', '.', 'She', 'is', 'the', 'middle', 'child', 'and', 'most', 'intelligent', 'of', 'the', 'Simpson', 'family', '.', 'Voiced', 'by', 'Year', '##dley', 'Smith', ',', 'Lisa', 'first', 'appeared', 'on', 'television', 'in', '\"', 'The', 'Trace', '##y', 'U', '##ll', '##man', 'Show', '\"', 'short', '\"', 'Good', 'Night', '\"', 'on', 'April', '19', ',', '1987', '.', 'Cartoon', '##ist', 'Matt', 'G', '##ro', '##ening', 'created', 'and', 'designed', 'her', 'while', 'waiting', 'to', 'meet', 'James', 'L', '.', 'Brooks', '.', 'G', '##ro', '##ening', 'had', 'been', 'invited', 'to', 'pitch', 'a', 'series', 'of', 'shorts', 'based', 'on', 'his', 'comic', '\"', 'Life', 'in', 'Hell', '\"', ',', 'but', 'instead', 'decided', 'to', 'create', 'a', 'new', 'set', 'of', 'characters', '.', 'He', 'named', 'the', 'elder', 'Simpson', 'daughter', 'after', 'his', 'younger', 'sister', 'Lisa', 'G', '##ro', '##ening', '.', 'After', 'appearing', 'on', '\"', 'The', 'Trace', '##y', 'U', '##ll', '##man', 'Show', '\"', 'for', 'three', 'years', ',', 'the', 'Simpson', 'family', 'were', 'moved', 'to', 'their', 'own', 'series', 'on', 'Fox', ',', 'which', 'debuted', 'on', 'December', '17', ',', '1989', '.']\n",
      "offset in paragraph: \n",
      "['James', 'L', '.', 'Brooks']\n"
     ]
    }
   ],
   "source": [
    "check_span_offset_in_QP(2, 6, 'Entity')"
   ]
  },
  {
   "cell_type": "code",
   "execution_count": 33,
   "metadata": {
    "colab": {
     "base_uri": "https://localhost:8080/",
     "height": 138
    },
    "colab_type": "code",
    "executionInfo": {
     "elapsed": 248681,
     "status": "ok",
     "timestamp": 1583388136437,
     "user": {
      "displayName": "597709514@qq.com",
      "photoUrl": "https://lh3.googleusercontent.com/a-/AOh14GiZ4b29y22LPZ8tUnu62hIRC6jZFH5v8X6Jes57=s64",
      "userId": "03859811009091074275"
     },
     "user_tz": -480
    },
    "id": "b2variD_sSTB",
    "outputId": "ddc54d22-ed12-4ded-fa76-26d2d98ca21f"
   },
   "outputs": [
    {
     "name": "stdout",
     "output_type": "stream",
     "text": [
      "len Sentence node: 68\n",
      "5a8d7341554299441c6b9fe5_0\n",
      " Voiced by Yeardley Smith, Lisa first appeared on television in \"The Tracey Ullman Show\" short \"Good Night\" on April 19, 1987.\n",
      "['Lisa', 'Marie', 'Simpson', 'is', 'a', 'fictional', 'character', 'in', 'the', 'animated', 'television', 'series', '\"', 'The', 'Simpsons', '\"', '.', 'She', 'is', 'the', 'middle', 'child', 'and', 'most', 'intelligent', 'of', 'the', 'Simpson', 'family', '.', 'Voiced', 'by', 'Year', '##dley', 'Smith', ',', 'Lisa', 'first', 'appeared', 'on', 'television', 'in', '\"', 'The', 'Trace', '##y', 'U', '##ll', '##man', 'Show', '\"', 'short', '\"', 'Good', 'Night', '\"', 'on', 'April', '19', ',', '1987', '.', 'Cartoon', '##ist', 'Matt', 'G', '##ro', '##ening', 'created', 'and', 'designed', 'her', 'while', 'waiting', 'to', 'meet', 'James', 'L', '.', 'Brooks', '.', 'G', '##ro', '##ening', 'had', 'been', 'invited', 'to', 'pitch', 'a', 'series', 'of', 'shorts', 'based', 'on', 'his', 'comic', '\"', 'Life', 'in', 'Hell', '\"', ',', 'but', 'instead', 'decided', 'to', 'create', 'a', 'new', 'set', 'of', 'characters', '.', 'He', 'named', 'the', 'elder', 'Simpson', 'daughter', 'after', 'his', 'younger', 'sister', 'Lisa', 'G', '##ro', '##ening', '.', 'After', 'appearing', 'on', '\"', 'The', 'Trace', '##y', 'U', '##ll', '##man', 'Show', '\"', 'for', 'three', 'years', ',', 'the', 'Simpson', 'family', 'were', 'moved', 'to', 'their', 'own', 'series', 'on', 'Fox', ',', 'which', 'debuted', 'on', 'December', '17', ',', '1989', '.']\n",
      "offset in paragraph: \n",
      "['Voiced', 'by', 'Year', '##dley', 'Smith', ',', 'Lisa', 'first', 'appeared', 'on', 'television', 'in', '\"', 'The', 'Trace', '##y', 'U', '##ll', '##man', 'Show', '\"', 'short', '\"', 'Good', 'Night', '\"', 'on', 'April', '19', ',', '1987', '.']\n"
     ]
    }
   ],
   "source": [
    "check_span_offset_in_QP(2, 2, 'Sentence')"
   ]
  },
  {
   "cell_type": "markdown",
   "metadata": {
    "colab_type": "text",
    "id": "UYDne_PCQ32s"
   },
   "source": [
    "### E和S之间的对应关系."
   ]
  },
  {
   "cell_type": "code",
   "execution_count": 34,
   "metadata": {
    "colab": {},
    "colab_type": "code",
    "id": "8y-0Bj96LvrX"
   },
   "outputs": [],
   "source": [
    "import numpy as np\n",
    "def check_span_offset_in_S(index_of_ques, choose_num, seed=1234):\n",
    "    Node_Type = 'Entity'\n",
    "    assert hotpotQA_train_preprocess\n",
    "\n",
    "    node_list = hotpotQA_train_preprocess[index_of_ques]['node_list']\n",
    "\n",
    "    X_node = [i for i in node_list if i.node_type == Node_Type]\n",
    "    print(f\"len {Node_Type} node: {len(X_node)}\")\n",
    "\n",
    "    np.random.seed(seed)\n",
    "    choose_nodes = np.random.choice(X_node, choose_num)\n",
    "\n",
    "    for N_index,N in enumerate(choose_nodes):\n",
    "        print(f'N: {N_index}')\n",
    "        print(f'E_node:\\n\\t{N.content_raw}')\n",
    "        test_start = int(N.start_in_sentence)\n",
    "        test_end = int(N.end_in_sentence)\n",
    "\n",
    "        N_parent = node_list[N.parent_id]\n",
    "        print(f'in S_node:\\n\\t{N_parent.content_tokens[test_start:test_end]}')\n",
    "        print(f'{N_parent.content_tokens}\\n\\n')"
   ]
  },
  {
   "cell_type": "code",
   "execution_count": 35,
   "metadata": {
    "colab": {
     "base_uri": "https://localhost:8080/",
     "height": 457
    },
    "colab_type": "code",
    "executionInfo": {
     "elapsed": 248656,
     "status": "ok",
     "timestamp": 1583388136441,
     "user": {
      "displayName": "597709514@qq.com",
      "photoUrl": "https://lh3.googleusercontent.com/a-/AOh14GiZ4b29y22LPZ8tUnu62hIRC6jZFH5v8X6Jes57=s64",
      "userId": "03859811009091074275"
     },
     "user_tz": -480
    },
    "id": "g_4GP69NLvxO",
    "outputId": "e7cf99c7-39c7-4118-ed4c-0230712af6c6"
   },
   "outputs": [
    {
     "name": "stdout",
     "output_type": "stream",
     "text": [
      "len Entity node: 115\n",
      "N: 0\n",
      "E_node:\n",
      "\tEverything ' s Coming Up\n",
      "in S_node:\n",
      "\t['Everything', \"'\", 's', 'Coming', 'Up']\n",
      "['She', 'is', 'co', '-', 'host', 'of', 'Everything', \"'\", 's', 'Coming', 'Up', 'Po', '##d', '##cast', ',', 'a', 'Simpsons', '-', 'focused', 'podcast', 'along', 'with', 'Julia', 'Prescott', '.']\n",
      "\n",
      "\n",
      "N: 1\n",
      "E_node:\n",
      "\tThe Tracey Ullman Show\n",
      "in S_node:\n",
      "\t['The', 'Trace', '##y', 'U', '##ll', '##man', 'Show']\n",
      "['After', 'appearing', 'for', 'three', 'seasons', 'on', '\"', 'The', 'Trace', '##y', 'U', '##ll', '##man', 'Show', '\"', ',', 'the', 'Simpson', 'family', 'got', 'their', 'own', 'series', 'on', 'Fox', 'that', 'debuted', 'December', '17', ',', '1989', '.']\n",
      "\n",
      "\n",
      "N: 2\n",
      "E_node:\n",
      "\tGoertz\n",
      "in S_node:\n",
      "\t['Go', '##ert', '##z']\n",
      "['Go', '##ert', '##z', 'is', 'known', 'for', 'her', 'satirical', 'songs', 'based', 'on', 'various', 'pop', 'culture', 'topics', '.']\n",
      "\n",
      "\n"
     ]
    }
   ],
   "source": [
    "check_span_offset_in_S(2, 3)"
   ]
  },
  {
   "cell_type": "markdown",
   "metadata": {
    "colab_type": "text",
    "id": "6ooxb21ZQ-yv"
   },
   "source": [
    "## 保存为pkl"
   ]
  },
  {
   "cell_type": "code",
   "execution_count": 36,
   "metadata": {
    "colab": {},
    "colab_type": "code",
    "id": "xTN23CuDZ4nt"
   },
   "outputs": [],
   "source": [
    "import pickle"
   ]
  },
  {
   "cell_type": "code",
   "execution_count": 37,
   "metadata": {
    "colab": {
     "base_uri": "https://localhost:8080/",
     "height": 67
    },
    "colab_type": "code",
    "executionInfo": {
     "elapsed": 252249,
     "status": "ok",
     "timestamp": 1583388140066,
     "user": {
      "displayName": "597709514@qq.com",
      "photoUrl": "https://lh3.googleusercontent.com/a-/AOh14GiZ4b29y22LPZ8tUnu62hIRC6jZFH5v8X6Jes57=s64",
      "userId": "03859811009091074275"
     },
     "user_tz": -480
    },
    "id": "w-3FJG-vZ4eV",
    "outputId": "9eb5d134-8a61-4700-a9c8-cebcb2814238"
   },
   "outputs": [
    {
     "name": "stdout",
     "output_type": "stream",
     "text": [
      "total 4.0M\r\n",
      "-rw-r--r-- 1 root root 8.3K Mar  8 17:41 Classes.py\r\n",
      "drwxr-xr-x 2 root root  246 Mar  7 00:53 data\r\n",
      "-rw-r--r-- 1 root root  71K Mar  6 20:12 HotpotQA_preprocessing.ipynb\r\n",
      "-rw-r--r-- 1 root root 3.6M Mar  6 17:51 hotpotQA_train_process100.pkl\r\n",
      "-rw-r--r-- 1 root root 6.4K Mar  6 17:51 main.py\r\n",
      "drwxr-xr-x 2 root root   36 Mar  8 16:57 __pycache__\r\n",
      "-rw-r--r-- 1 root root  956 Mar  6 17:51 README.en.md\r\n",
      "-rw-r--r-- 1 root root 1.3K Mar  6 17:51 README.md\r\n",
      "drwxr-xr-x 2 root root   72 Mar  8 11:33 save_cache\r\n",
      "-rw-r--r-- 1 root root  181 Mar  6 17:51 start_jupyter_lab_here.bat\r\n",
      "-rw-r--r-- 1 root root 143K Mar  9 10:15 step1_HotpotQA预处理封装.ipynb\r\n",
      "-rw-r--r-- 1 root root  55K Mar  8 11:39 step2_train_on_BERT.ipynb\r\n",
      "-rw-r--r-- 1 root root  33K Mar  9 10:13 step3_Build_node_features.ipynb\r\n",
      "-rw-r--r-- 1 root root 6.5K Mar  7 13:17 untitled.txt\r\n",
      "-rw-r--r-- 1 root root  46K Mar  9 09:19 语言模型测试.ipynb\r\n"
     ]
    }
   ],
   "source": [
    "with open(save_cache_path+'hotpotQA_train_preprocess100.pkl', 'wb') as fp:\n",
    "    pickle.dump(hotpotQA_train_preprocess, fp, protocol=-1)\n",
    "!ls -hl $save_cache_path_linux"
   ]
  },
  {
   "cell_type": "code",
   "execution_count": null,
   "metadata": {},
   "outputs": [],
   "source": []
  },
  {
   "cell_type": "code",
   "execution_count": null,
   "metadata": {},
   "outputs": [],
   "source": []
  },
  {
   "cell_type": "code",
   "execution_count": null,
   "metadata": {},
   "outputs": [],
   "source": []
  },
  {
   "cell_type": "code",
   "execution_count": null,
   "metadata": {},
   "outputs": [],
   "source": []
  }
 ],
 "metadata": {
  "accelerator": "GPU",
  "colab": {
   "authorship_tag": "ABX9TyOWs1CvIgcE62fwWQtLHOjK",
   "collapsed_sections": [],
   "machine_shape": "hm",
   "name": "HotpotQA预处理封装.ipynb",
   "provenance": [],
   "toc_visible": true
  },
  "kernelspec": {
   "display_name": "Python 3",
   "language": "python",
   "name": "python3"
  },
  "language_info": {
   "codemirror_mode": {
    "name": "ipython",
    "version": 3
   },
   "file_extension": ".py",
   "mimetype": "text/x-python",
   "name": "python",
   "nbconvert_exporter": "python",
   "pygments_lexer": "ipython3",
   "version": "3.7.4"
  },
  "toc": {
   "base_numbering": 1,
   "nav_menu": {},
   "number_sections": true,
   "sideBar": true,
   "skip_h1_title": false,
   "title_cell": "Table of Contents",
   "title_sidebar": "Contents",
   "toc_cell": false,
   "toc_position": {
    "height": "calc(100% - 180px)",
    "left": "10px",
    "top": "150px",
    "width": "248.955px"
   },
   "toc_section_display": true,
   "toc_window_display": true
  },
  "widgets": {
   "application/vnd.jupyter.widget-state+json": {
    "042a53c6472a4e8991cb0c14dca2fd8a": {
     "model_module": "@jupyter-widgets/controls",
     "model_name": "IntProgressModel",
     "state": {
      "_dom_classes": [],
      "_model_module": "@jupyter-widgets/controls",
      "_model_module_version": "1.5.0",
      "_model_name": "IntProgressModel",
      "_view_count": null,
      "_view_module": "@jupyter-widgets/controls",
      "_view_module_version": "1.5.0",
      "_view_name": "ProgressView",
      "bar_style": "success",
      "description": "Downloading",
      "description_tooltip": null,
      "layout": "IPY_MODEL_9c147c0f5f0c40f094fba7a8f451075f",
      "max": 1089,
      "min": 0,
      "orientation": "horizontal",
      "style": "IPY_MODEL_df201137d18f4a27b798c0733bea7711",
      "value": 1089
     }
    },
    "05e7c6af5ade4956bbb20e3844b3d99c": {
     "model_module": "@jupyter-widgets/controls",
     "model_name": "DescriptionStyleModel",
     "state": {
      "_model_module": "@jupyter-widgets/controls",
      "_model_module_version": "1.5.0",
      "_model_name": "DescriptionStyleModel",
      "_view_count": null,
      "_view_module": "@jupyter-widgets/base",
      "_view_module_version": "1.2.0",
      "_view_name": "StyleView",
      "description_width": ""
     }
    },
    "0bc249865c2641128f108a8e0ef19f82": {
     "model_module": "@jupyter-widgets/controls",
     "model_name": "HTMLModel",
     "state": {
      "_dom_classes": [],
      "_model_module": "@jupyter-widgets/controls",
      "_model_module_version": "1.5.0",
      "_model_name": "HTMLModel",
      "_view_count": null,
      "_view_module": "@jupyter-widgets/controls",
      "_view_module_version": "1.5.0",
      "_view_name": "HTMLView",
      "description": "",
      "description_tooltip": null,
      "layout": "IPY_MODEL_1a8823cb3bf94dfa9f279661b89045f2",
      "placeholder": "​",
      "style": "IPY_MODEL_65b1940ed8854d928764f0e30928bbb3",
      "value": "100% 1.33G/1.33G [00:37&lt;00:00, 35.7MB/s]"
     }
    },
    "104cf01aa4f641edbaeb1e5927b919cd": {
     "model_module": "@jupyter-widgets/controls",
     "model_name": "HTMLModel",
     "state": {
      "_dom_classes": [],
      "_model_module": "@jupyter-widgets/controls",
      "_model_module_version": "1.5.0",
      "_model_name": "HTMLModel",
      "_view_count": null,
      "_view_module": "@jupyter-widgets/controls",
      "_view_module_version": "1.5.0",
      "_view_name": "HTMLView",
      "description": "",
      "description_tooltip": null,
      "layout": "IPY_MODEL_bf4b4719d4f147f288e63cb3b2c2264e",
      "placeholder": "​",
      "style": "IPY_MODEL_760a89d1f3794fc5915052e2549eac5c",
      "value": "100% 213k/213k [00:00&lt;00:00, 853kB/s]"
     }
    },
    "13fb14ae019d4da693de0d133615b8a0": {
     "model_module": "@jupyter-widgets/base",
     "model_name": "LayoutModel",
     "state": {
      "_model_module": "@jupyter-widgets/base",
      "_model_module_version": "1.2.0",
      "_model_name": "LayoutModel",
      "_view_count": null,
      "_view_module": "@jupyter-widgets/base",
      "_view_module_version": "1.2.0",
      "_view_name": "LayoutView",
      "align_content": null,
      "align_items": null,
      "align_self": null,
      "border": null,
      "bottom": null,
      "display": null,
      "flex": null,
      "flex_flow": null,
      "grid_area": null,
      "grid_auto_columns": null,
      "grid_auto_flow": null,
      "grid_auto_rows": null,
      "grid_column": null,
      "grid_gap": null,
      "grid_row": null,
      "grid_template_areas": null,
      "grid_template_columns": null,
      "grid_template_rows": null,
      "height": null,
      "justify_content": null,
      "justify_items": null,
      "left": null,
      "margin": null,
      "max_height": null,
      "max_width": null,
      "min_height": null,
      "min_width": null,
      "object_fit": null,
      "object_position": null,
      "order": null,
      "overflow": null,
      "overflow_x": null,
      "overflow_y": null,
      "padding": null,
      "right": null,
      "top": null,
      "visibility": null,
      "width": null
     }
    },
    "1445f3a4722b467fa41b9e7ff08ba941": {
     "model_module": "@jupyter-widgets/controls",
     "model_name": "HBoxModel",
     "state": {
      "_dom_classes": [],
      "_model_module": "@jupyter-widgets/controls",
      "_model_module_version": "1.5.0",
      "_model_name": "HBoxModel",
      "_view_count": null,
      "_view_module": "@jupyter-widgets/controls",
      "_view_module_version": "1.5.0",
      "_view_name": "HBoxView",
      "box_style": "",
      "children": [
       "IPY_MODEL_e16165c7071b43ffa30148bf2e0a1b03",
       "IPY_MODEL_c4f87d543a374f738397969e04f1f780"
      ],
      "layout": "IPY_MODEL_8a6d60cf2f444278947f11c8bf3354ad"
     }
    },
    "14c70b8b49054aa4b8e02b68232b9c33": {
     "model_module": "@jupyter-widgets/controls",
     "model_name": "DescriptionStyleModel",
     "state": {
      "_model_module": "@jupyter-widgets/controls",
      "_model_module_version": "1.5.0",
      "_model_name": "DescriptionStyleModel",
      "_view_count": null,
      "_view_module": "@jupyter-widgets/base",
      "_view_module_version": "1.2.0",
      "_view_name": "StyleView",
      "description_width": ""
     }
    },
    "153cee48d1cf458a8d6658fa389411fa": {
     "model_module": "@jupyter-widgets/controls",
     "model_name": "ProgressStyleModel",
     "state": {
      "_model_module": "@jupyter-widgets/controls",
      "_model_module_version": "1.5.0",
      "_model_name": "ProgressStyleModel",
      "_view_count": null,
      "_view_module": "@jupyter-widgets/base",
      "_view_module_version": "1.2.0",
      "_view_name": "StyleView",
      "bar_color": null,
      "description_width": "initial"
     }
    },
    "1a8823cb3bf94dfa9f279661b89045f2": {
     "model_module": "@jupyter-widgets/base",
     "model_name": "LayoutModel",
     "state": {
      "_model_module": "@jupyter-widgets/base",
      "_model_module_version": "1.2.0",
      "_model_name": "LayoutModel",
      "_view_count": null,
      "_view_module": "@jupyter-widgets/base",
      "_view_module_version": "1.2.0",
      "_view_name": "LayoutView",
      "align_content": null,
      "align_items": null,
      "align_self": null,
      "border": null,
      "bottom": null,
      "display": null,
      "flex": null,
      "flex_flow": null,
      "grid_area": null,
      "grid_auto_columns": null,
      "grid_auto_flow": null,
      "grid_auto_rows": null,
      "grid_column": null,
      "grid_gap": null,
      "grid_row": null,
      "grid_template_areas": null,
      "grid_template_columns": null,
      "grid_template_rows": null,
      "height": null,
      "justify_content": null,
      "justify_items": null,
      "left": null,
      "margin": null,
      "max_height": null,
      "max_width": null,
      "min_height": null,
      "min_width": null,
      "object_fit": null,
      "object_position": null,
      "order": null,
      "overflow": null,
      "overflow_x": null,
      "overflow_y": null,
      "padding": null,
      "right": null,
      "top": null,
      "visibility": null,
      "width": null
     }
    },
    "1eb682e4616f4c688f14559f0b71b9d7": {
     "model_module": "@jupyter-widgets/base",
     "model_name": "LayoutModel",
     "state": {
      "_model_module": "@jupyter-widgets/base",
      "_model_module_version": "1.2.0",
      "_model_name": "LayoutModel",
      "_view_count": null,
      "_view_module": "@jupyter-widgets/base",
      "_view_module_version": "1.2.0",
      "_view_name": "LayoutView",
      "align_content": null,
      "align_items": null,
      "align_self": null,
      "border": null,
      "bottom": null,
      "display": null,
      "flex": null,
      "flex_flow": null,
      "grid_area": null,
      "grid_auto_columns": null,
      "grid_auto_flow": null,
      "grid_auto_rows": null,
      "grid_column": null,
      "grid_gap": null,
      "grid_row": null,
      "grid_template_areas": null,
      "grid_template_columns": null,
      "grid_template_rows": null,
      "height": null,
      "justify_content": null,
      "justify_items": null,
      "left": null,
      "margin": null,
      "max_height": null,
      "max_width": null,
      "min_height": null,
      "min_width": null,
      "object_fit": null,
      "object_position": null,
      "order": null,
      "overflow": null,
      "overflow_x": null,
      "overflow_y": null,
      "padding": null,
      "right": null,
      "top": null,
      "visibility": null,
      "width": null
     }
    },
    "2ef728f711b04c69b5961da3e65c9511": {
     "model_module": "@jupyter-widgets/controls",
     "model_name": "DescriptionStyleModel",
     "state": {
      "_model_module": "@jupyter-widgets/controls",
      "_model_module_version": "1.5.0",
      "_model_name": "DescriptionStyleModel",
      "_view_count": null,
      "_view_module": "@jupyter-widgets/base",
      "_view_module_version": "1.2.0",
      "_view_name": "StyleView",
      "description_width": ""
     }
    },
    "2fc0b205679947cc8b00df3182e6b128": {
     "model_module": "@jupyter-widgets/controls",
     "model_name": "IntProgressModel",
     "state": {
      "_dom_classes": [],
      "_model_module": "@jupyter-widgets/controls",
      "_model_module_version": "1.5.0",
      "_model_name": "IntProgressModel",
      "_view_count": null,
      "_view_module": "@jupyter-widgets/controls",
      "_view_module_version": "1.5.0",
      "_view_name": "ProgressView",
      "bar_style": "success",
      "description": "Downloading",
      "description_tooltip": null,
      "layout": "IPY_MODEL_bf9a6dbfb9f64d3d84d85efef524342b",
      "max": 156,
      "min": 0,
      "orientation": "horizontal",
      "style": "IPY_MODEL_cb83cd3502e341f9838194be2faa1303",
      "value": 156
     }
    },
    "30fc4a4bccda4a83b9091aa600d582c1": {
     "model_module": "@jupyter-widgets/controls",
     "model_name": "HBoxModel",
     "state": {
      "_dom_classes": [],
      "_model_module": "@jupyter-widgets/controls",
      "_model_module_version": "1.5.0",
      "_model_name": "HBoxModel",
      "_view_count": null,
      "_view_module": "@jupyter-widgets/controls",
      "_view_module_version": "1.5.0",
      "_view_name": "HBoxView",
      "box_style": "",
      "children": [
       "IPY_MODEL_5bfa98884ea04308a7855cc29db50040",
       "IPY_MODEL_523bf313746b499fbe83c27b371ef480"
      ],
      "layout": "IPY_MODEL_425b63c1bc02442c84259c9edb27dee8"
     }
    },
    "39b9a5358f104f47af19e64741ef4408": {
     "model_module": "@jupyter-widgets/base",
     "model_name": "LayoutModel",
     "state": {
      "_model_module": "@jupyter-widgets/base",
      "_model_module_version": "1.2.0",
      "_model_name": "LayoutModel",
      "_view_count": null,
      "_view_module": "@jupyter-widgets/base",
      "_view_module_version": "1.2.0",
      "_view_name": "LayoutView",
      "align_content": null,
      "align_items": null,
      "align_self": null,
      "border": null,
      "bottom": null,
      "display": null,
      "flex": null,
      "flex_flow": null,
      "grid_area": null,
      "grid_auto_columns": null,
      "grid_auto_flow": null,
      "grid_auto_rows": null,
      "grid_column": null,
      "grid_gap": null,
      "grid_row": null,
      "grid_template_areas": null,
      "grid_template_columns": null,
      "grid_template_rows": null,
      "height": null,
      "justify_content": null,
      "justify_items": null,
      "left": null,
      "margin": null,
      "max_height": null,
      "max_width": null,
      "min_height": null,
      "min_width": null,
      "object_fit": null,
      "object_position": null,
      "order": null,
      "overflow": null,
      "overflow_x": null,
      "overflow_y": null,
      "padding": null,
      "right": null,
      "top": null,
      "visibility": null,
      "width": null
     }
    },
    "425b63c1bc02442c84259c9edb27dee8": {
     "model_module": "@jupyter-widgets/base",
     "model_name": "LayoutModel",
     "state": {
      "_model_module": "@jupyter-widgets/base",
      "_model_module_version": "1.2.0",
      "_model_name": "LayoutModel",
      "_view_count": null,
      "_view_module": "@jupyter-widgets/base",
      "_view_module_version": "1.2.0",
      "_view_name": "LayoutView",
      "align_content": null,
      "align_items": null,
      "align_self": null,
      "border": null,
      "bottom": null,
      "display": null,
      "flex": null,
      "flex_flow": null,
      "grid_area": null,
      "grid_auto_columns": null,
      "grid_auto_flow": null,
      "grid_auto_rows": null,
      "grid_column": null,
      "grid_gap": null,
      "grid_row": null,
      "grid_template_areas": null,
      "grid_template_columns": null,
      "grid_template_rows": null,
      "height": null,
      "justify_content": null,
      "justify_items": null,
      "left": null,
      "margin": null,
      "max_height": null,
      "max_width": null,
      "min_height": null,
      "min_width": null,
      "object_fit": null,
      "object_position": null,
      "order": null,
      "overflow": null,
      "overflow_x": null,
      "overflow_y": null,
      "padding": null,
      "right": null,
      "top": null,
      "visibility": null,
      "width": null
     }
    },
    "437426565c5a4f0babe0eff95d84ddc7": {
     "model_module": "@jupyter-widgets/controls",
     "model_name": "IntProgressModel",
     "state": {
      "_dom_classes": [],
      "_model_module": "@jupyter-widgets/controls",
      "_model_module_version": "1.5.0",
      "_model_name": "IntProgressModel",
      "_view_count": null,
      "_view_module": "@jupyter-widgets/controls",
      "_view_module_version": "1.5.0",
      "_view_name": "ProgressView",
      "bar_style": "success",
      "description": "Downloading",
      "description_tooltip": null,
      "layout": "IPY_MODEL_39b9a5358f104f47af19e64741ef4408",
      "max": 569,
      "min": 0,
      "orientation": "horizontal",
      "style": "IPY_MODEL_7ff3e073a1e94e5384c234646d7fa881",
      "value": 569
     }
    },
    "442b2b4f3e484e1fab55571897f24d47": {
     "model_module": "@jupyter-widgets/base",
     "model_name": "LayoutModel",
     "state": {
      "_model_module": "@jupyter-widgets/base",
      "_model_module_version": "1.2.0",
      "_model_name": "LayoutModel",
      "_view_count": null,
      "_view_module": "@jupyter-widgets/base",
      "_view_module_version": "1.2.0",
      "_view_name": "LayoutView",
      "align_content": null,
      "align_items": null,
      "align_self": null,
      "border": null,
      "bottom": null,
      "display": null,
      "flex": null,
      "flex_flow": null,
      "grid_area": null,
      "grid_auto_columns": null,
      "grid_auto_flow": null,
      "grid_auto_rows": null,
      "grid_column": null,
      "grid_gap": null,
      "grid_row": null,
      "grid_template_areas": null,
      "grid_template_columns": null,
      "grid_template_rows": null,
      "height": null,
      "justify_content": null,
      "justify_items": null,
      "left": null,
      "margin": null,
      "max_height": null,
      "max_width": null,
      "min_height": null,
      "min_width": null,
      "object_fit": null,
      "object_position": null,
      "order": null,
      "overflow": null,
      "overflow_x": null,
      "overflow_y": null,
      "padding": null,
      "right": null,
      "top": null,
      "visibility": null,
      "width": null
     }
    },
    "4469c9c1a72f4998b461bc39a27fdca9": {
     "model_module": "@jupyter-widgets/base",
     "model_name": "LayoutModel",
     "state": {
      "_model_module": "@jupyter-widgets/base",
      "_model_module_version": "1.2.0",
      "_model_name": "LayoutModel",
      "_view_count": null,
      "_view_module": "@jupyter-widgets/base",
      "_view_module_version": "1.2.0",
      "_view_name": "LayoutView",
      "align_content": null,
      "align_items": null,
      "align_self": null,
      "border": null,
      "bottom": null,
      "display": null,
      "flex": null,
      "flex_flow": null,
      "grid_area": null,
      "grid_auto_columns": null,
      "grid_auto_flow": null,
      "grid_auto_rows": null,
      "grid_column": null,
      "grid_gap": null,
      "grid_row": null,
      "grid_template_areas": null,
      "grid_template_columns": null,
      "grid_template_rows": null,
      "height": null,
      "justify_content": null,
      "justify_items": null,
      "left": null,
      "margin": null,
      "max_height": null,
      "max_width": null,
      "min_height": null,
      "min_width": null,
      "object_fit": null,
      "object_position": null,
      "order": null,
      "overflow": null,
      "overflow_x": null,
      "overflow_y": null,
      "padding": null,
      "right": null,
      "top": null,
      "visibility": null,
      "width": null
     }
    },
    "4551cdbfbca54a3a8323cf2c980e3c90": {
     "model_module": "@jupyter-widgets/controls",
     "model_name": "HBoxModel",
     "state": {
      "_dom_classes": [],
      "_model_module": "@jupyter-widgets/controls",
      "_model_module_version": "1.5.0",
      "_model_name": "HBoxModel",
      "_view_count": null,
      "_view_module": "@jupyter-widgets/controls",
      "_view_module_version": "1.5.0",
      "_view_name": "HBoxView",
      "box_style": "",
      "children": [
       "IPY_MODEL_cc4952050c184d86977bdc9f6cb9f8de",
       "IPY_MODEL_eba9f50eb37749acb381277755732ebf"
      ],
      "layout": "IPY_MODEL_b3298da5c0ae4b29a80c33ba6db4407a"
     }
    },
    "460810d3f53d46f9ad440e7837191449": {
     "model_module": "@jupyter-widgets/controls",
     "model_name": "ProgressStyleModel",
     "state": {
      "_model_module": "@jupyter-widgets/controls",
      "_model_module_version": "1.5.0",
      "_model_name": "ProgressStyleModel",
      "_view_count": null,
      "_view_module": "@jupyter-widgets/base",
      "_view_module_version": "1.2.0",
      "_view_name": "StyleView",
      "bar_color": null,
      "description_width": "initial"
     }
    },
    "4e3a51796c634630b1569952c86404a3": {
     "model_module": "@jupyter-widgets/base",
     "model_name": "LayoutModel",
     "state": {
      "_model_module": "@jupyter-widgets/base",
      "_model_module_version": "1.2.0",
      "_model_name": "LayoutModel",
      "_view_count": null,
      "_view_module": "@jupyter-widgets/base",
      "_view_module_version": "1.2.0",
      "_view_name": "LayoutView",
      "align_content": null,
      "align_items": null,
      "align_self": null,
      "border": null,
      "bottom": null,
      "display": null,
      "flex": null,
      "flex_flow": null,
      "grid_area": null,
      "grid_auto_columns": null,
      "grid_auto_flow": null,
      "grid_auto_rows": null,
      "grid_column": null,
      "grid_gap": null,
      "grid_row": null,
      "grid_template_areas": null,
      "grid_template_columns": null,
      "grid_template_rows": null,
      "height": null,
      "justify_content": null,
      "justify_items": null,
      "left": null,
      "margin": null,
      "max_height": null,
      "max_width": null,
      "min_height": null,
      "min_width": null,
      "object_fit": null,
      "object_position": null,
      "order": null,
      "overflow": null,
      "overflow_x": null,
      "overflow_y": null,
      "padding": null,
      "right": null,
      "top": null,
      "visibility": null,
      "width": null
     }
    },
    "4ef9a918507a42149d2d4ed21f8ab30a": {
     "model_module": "@jupyter-widgets/controls",
     "model_name": "HBoxModel",
     "state": {
      "_dom_classes": [],
      "_model_module": "@jupyter-widgets/controls",
      "_model_module_version": "1.5.0",
      "_model_name": "HBoxModel",
      "_view_count": null,
      "_view_module": "@jupyter-widgets/controls",
      "_view_module_version": "1.5.0",
      "_view_name": "HBoxView",
      "box_style": "",
      "children": [
       "IPY_MODEL_73417793dd1d4007a21e80e721fdb622",
       "IPY_MODEL_538f47c8aae040d482f6c19b3e7aee02"
      ],
      "layout": "IPY_MODEL_9e6069550a974dc3b9a9b3f21bb1b02e"
     }
    },
    "50a0d26412784837a9ce6a309d4ff66b": {
     "model_module": "@jupyter-widgets/base",
     "model_name": "LayoutModel",
     "state": {
      "_model_module": "@jupyter-widgets/base",
      "_model_module_version": "1.2.0",
      "_model_name": "LayoutModel",
      "_view_count": null,
      "_view_module": "@jupyter-widgets/base",
      "_view_module_version": "1.2.0",
      "_view_name": "LayoutView",
      "align_content": null,
      "align_items": null,
      "align_self": null,
      "border": null,
      "bottom": null,
      "display": null,
      "flex": null,
      "flex_flow": null,
      "grid_area": null,
      "grid_auto_columns": null,
      "grid_auto_flow": null,
      "grid_auto_rows": null,
      "grid_column": null,
      "grid_gap": null,
      "grid_row": null,
      "grid_template_areas": null,
      "grid_template_columns": null,
      "grid_template_rows": null,
      "height": null,
      "justify_content": null,
      "justify_items": null,
      "left": null,
      "margin": null,
      "max_height": null,
      "max_width": null,
      "min_height": null,
      "min_width": null,
      "object_fit": null,
      "object_position": null,
      "order": null,
      "overflow": null,
      "overflow_x": null,
      "overflow_y": null,
      "padding": null,
      "right": null,
      "top": null,
      "visibility": null,
      "width": null
     }
    },
    "523bf313746b499fbe83c27b371ef480": {
     "model_module": "@jupyter-widgets/controls",
     "model_name": "HTMLModel",
     "state": {
      "_dom_classes": [],
      "_model_module": "@jupyter-widgets/controls",
      "_model_module_version": "1.5.0",
      "_model_name": "HTMLModel",
      "_view_count": null,
      "_view_module": "@jupyter-widgets/controls",
      "_view_module_version": "1.5.0",
      "_view_name": "HTMLView",
      "description": "",
      "description_tooltip": null,
      "layout": "IPY_MODEL_50a0d26412784837a9ce6a309d4ff66b",
      "placeholder": "​",
      "style": "IPY_MODEL_7e169196daa24d8db88b1de2c7b790c1",
      "value": "100% 760k/760k [00:00&lt;00:00, 1.82MB/s]"
     }
    },
    "538f47c8aae040d482f6c19b3e7aee02": {
     "model_module": "@jupyter-widgets/controls",
     "model_name": "HTMLModel",
     "state": {
      "_dom_classes": [],
      "_model_module": "@jupyter-widgets/controls",
      "_model_module_version": "1.5.0",
      "_model_name": "HTMLModel",
      "_view_count": null,
      "_view_module": "@jupyter-widgets/controls",
      "_view_module_version": "1.5.0",
      "_view_name": "HTMLView",
      "description": "",
      "description_tooltip": null,
      "layout": "IPY_MODEL_ba98b677fd9345f790c1a38b3b112037",
      "placeholder": "​",
      "style": "IPY_MODEL_6485d889735340d3b11650b060d0a519",
      "value": "100% 1.46k/1.46k [00:00&lt;00:00, 55.9kB/s]"
     }
    },
    "54b460a72f4747fba7c9ea6e9ba65a25": {
     "model_module": "@jupyter-widgets/controls",
     "model_name": "HBoxModel",
     "state": {
      "_dom_classes": [],
      "_model_module": "@jupyter-widgets/controls",
      "_model_module_version": "1.5.0",
      "_model_name": "HBoxModel",
      "_view_count": null,
      "_view_module": "@jupyter-widgets/controls",
      "_view_module_version": "1.5.0",
      "_view_name": "HBoxView",
      "box_style": "",
      "children": [
       "IPY_MODEL_7a9497dcc9ab42f2a80664cad7b99680",
       "IPY_MODEL_f71c9f80b5cf4338920340936877437b"
      ],
      "layout": "IPY_MODEL_7f831d363465401aa7c36c4e226f3ce2"
     }
    },
    "5bfa98884ea04308a7855cc29db50040": {
     "model_module": "@jupyter-widgets/controls",
     "model_name": "IntProgressModel",
     "state": {
      "_dom_classes": [],
      "_model_module": "@jupyter-widgets/controls",
      "_model_module_version": "1.5.0",
      "_model_name": "IntProgressModel",
      "_view_count": null,
      "_view_module": "@jupyter-widgets/controls",
      "_view_module_version": "1.5.0",
      "_view_name": "ProgressView",
      "bar_style": "success",
      "description": "Downloading",
      "description_tooltip": null,
      "layout": "IPY_MODEL_442b2b4f3e484e1fab55571897f24d47",
      "max": 760289,
      "min": 0,
      "orientation": "horizontal",
      "style": "IPY_MODEL_bae5d5d7352c4c8fb3f7300b4658343e",
      "value": 760289
     }
    },
    "61fe132c4bf846feaa0b9df5f1a29a4e": {
     "model_module": "@jupyter-widgets/base",
     "model_name": "LayoutModel",
     "state": {
      "_model_module": "@jupyter-widgets/base",
      "_model_module_version": "1.2.0",
      "_model_name": "LayoutModel",
      "_view_count": null,
      "_view_module": "@jupyter-widgets/base",
      "_view_module_version": "1.2.0",
      "_view_name": "LayoutView",
      "align_content": null,
      "align_items": null,
      "align_self": null,
      "border": null,
      "bottom": null,
      "display": null,
      "flex": null,
      "flex_flow": null,
      "grid_area": null,
      "grid_auto_columns": null,
      "grid_auto_flow": null,
      "grid_auto_rows": null,
      "grid_column": null,
      "grid_gap": null,
      "grid_row": null,
      "grid_template_areas": null,
      "grid_template_columns": null,
      "grid_template_rows": null,
      "height": null,
      "justify_content": null,
      "justify_items": null,
      "left": null,
      "margin": null,
      "max_height": null,
      "max_width": null,
      "min_height": null,
      "min_width": null,
      "object_fit": null,
      "object_position": null,
      "order": null,
      "overflow": null,
      "overflow_x": null,
      "overflow_y": null,
      "padding": null,
      "right": null,
      "top": null,
      "visibility": null,
      "width": null
     }
    },
    "6485d889735340d3b11650b060d0a519": {
     "model_module": "@jupyter-widgets/controls",
     "model_name": "DescriptionStyleModel",
     "state": {
      "_model_module": "@jupyter-widgets/controls",
      "_model_module_version": "1.5.0",
      "_model_name": "DescriptionStyleModel",
      "_view_count": null,
      "_view_module": "@jupyter-widgets/base",
      "_view_module_version": "1.2.0",
      "_view_name": "StyleView",
      "description_width": ""
     }
    },
    "65b1940ed8854d928764f0e30928bbb3": {
     "model_module": "@jupyter-widgets/controls",
     "model_name": "DescriptionStyleModel",
     "state": {
      "_model_module": "@jupyter-widgets/controls",
      "_model_module_version": "1.5.0",
      "_model_name": "DescriptionStyleModel",
      "_view_count": null,
      "_view_module": "@jupyter-widgets/base",
      "_view_module_version": "1.2.0",
      "_view_name": "StyleView",
      "description_width": ""
     }
    },
    "66953b42ca4c440e8e926ca3d51ea7ea": {
     "model_module": "@jupyter-widgets/controls",
     "model_name": "DescriptionStyleModel",
     "state": {
      "_model_module": "@jupyter-widgets/controls",
      "_model_module_version": "1.5.0",
      "_model_name": "DescriptionStyleModel",
      "_view_count": null,
      "_view_module": "@jupyter-widgets/base",
      "_view_module_version": "1.2.0",
      "_view_name": "StyleView",
      "description_width": ""
     }
    },
    "6b9b79b1e9ee4e149cf5770bd8e12677": {
     "model_module": "@jupyter-widgets/base",
     "model_name": "LayoutModel",
     "state": {
      "_model_module": "@jupyter-widgets/base",
      "_model_module_version": "1.2.0",
      "_model_name": "LayoutModel",
      "_view_count": null,
      "_view_module": "@jupyter-widgets/base",
      "_view_module_version": "1.2.0",
      "_view_name": "LayoutView",
      "align_content": null,
      "align_items": null,
      "align_self": null,
      "border": null,
      "bottom": null,
      "display": null,
      "flex": null,
      "flex_flow": null,
      "grid_area": null,
      "grid_auto_columns": null,
      "grid_auto_flow": null,
      "grid_auto_rows": null,
      "grid_column": null,
      "grid_gap": null,
      "grid_row": null,
      "grid_template_areas": null,
      "grid_template_columns": null,
      "grid_template_rows": null,
      "height": null,
      "justify_content": null,
      "justify_items": null,
      "left": null,
      "margin": null,
      "max_height": null,
      "max_width": null,
      "min_height": null,
      "min_width": null,
      "object_fit": null,
      "object_position": null,
      "order": null,
      "overflow": null,
      "overflow_x": null,
      "overflow_y": null,
      "padding": null,
      "right": null,
      "top": null,
      "visibility": null,
      "width": null
     }
    },
    "6deab0e22f084a4d8f57d5160cf5fd49": {
     "model_module": "@jupyter-widgets/controls",
     "model_name": "HBoxModel",
     "state": {
      "_dom_classes": [],
      "_model_module": "@jupyter-widgets/controls",
      "_model_module_version": "1.5.0",
      "_model_name": "HBoxModel",
      "_view_count": null,
      "_view_module": "@jupyter-widgets/controls",
      "_view_module_version": "1.5.0",
      "_view_name": "HBoxView",
      "box_style": "",
      "children": [
       "IPY_MODEL_9088a1261bf1401da098e1d698d673c6",
       "IPY_MODEL_0bc249865c2641128f108a8e0ef19f82"
      ],
      "layout": "IPY_MODEL_13fb14ae019d4da693de0d133615b8a0"
     }
    },
    "73417793dd1d4007a21e80e721fdb622": {
     "model_module": "@jupyter-widgets/controls",
     "model_name": "IntProgressModel",
     "state": {
      "_dom_classes": [],
      "_model_module": "@jupyter-widgets/controls",
      "_model_module_version": "1.5.0",
      "_model_name": "IntProgressModel",
      "_view_count": null,
      "_view_module": "@jupyter-widgets/controls",
      "_view_module_version": "1.5.0",
      "_view_name": "ProgressView",
      "bar_style": "success",
      "description": "Downloading",
      "description_tooltip": null,
      "layout": "IPY_MODEL_8c93338a1308410e8cd90bc9f6d8f5ec",
      "max": 1461,
      "min": 0,
      "orientation": "horizontal",
      "style": "IPY_MODEL_f9b8bcf7392f40fa8269c6cc914455c2",
      "value": 1461
     }
    },
    "73cd231d1da048a0835985ec80e11dd8": {
     "model_module": "@jupyter-widgets/controls",
     "model_name": "HBoxModel",
     "state": {
      "_dom_classes": [],
      "_model_module": "@jupyter-widgets/controls",
      "_model_module_version": "1.5.0",
      "_model_name": "HBoxModel",
      "_view_count": null,
      "_view_module": "@jupyter-widgets/controls",
      "_view_module_version": "1.5.0",
      "_view_name": "HBoxView",
      "box_style": "",
      "children": [
       "IPY_MODEL_b8f106822c68465382b5d10be3a5b106",
       "IPY_MODEL_104cf01aa4f641edbaeb1e5927b919cd"
      ],
      "layout": "IPY_MODEL_1eb682e4616f4c688f14559f0b71b9d7"
     }
    },
    "760a89d1f3794fc5915052e2549eac5c": {
     "model_module": "@jupyter-widgets/controls",
     "model_name": "DescriptionStyleModel",
     "state": {
      "_model_module": "@jupyter-widgets/controls",
      "_model_module_version": "1.5.0",
      "_model_name": "DescriptionStyleModel",
      "_view_count": null,
      "_view_module": "@jupyter-widgets/base",
      "_view_module_version": "1.2.0",
      "_view_name": "StyleView",
      "description_width": ""
     }
    },
    "7a9497dcc9ab42f2a80664cad7b99680": {
     "model_module": "@jupyter-widgets/controls",
     "model_name": "IntProgressModel",
     "state": {
      "_dom_classes": [],
      "_model_module": "@jupyter-widgets/controls",
      "_model_module_version": "1.5.0",
      "_model_name": "IntProgressModel",
      "_view_count": null,
      "_view_module": "@jupyter-widgets/controls",
      "_view_module_version": "1.5.0",
      "_view_name": "ProgressView",
      "bar_style": "",
      "description": "processing json items",
      "description_tooltip": null,
      "layout": "IPY_MODEL_dfedd87ffb3640e5a96220d5d7dad7b8",
      "max": 100,
      "min": 0,
      "orientation": "horizontal",
      "style": "IPY_MODEL_e6b2e5a0bf4e421aafdcb1f2e5e5f085",
      "value": 100
     }
    },
    "7e169196daa24d8db88b1de2c7b790c1": {
     "model_module": "@jupyter-widgets/controls",
     "model_name": "DescriptionStyleModel",
     "state": {
      "_model_module": "@jupyter-widgets/controls",
      "_model_module_version": "1.5.0",
      "_model_name": "DescriptionStyleModel",
      "_view_count": null,
      "_view_module": "@jupyter-widgets/base",
      "_view_module_version": "1.2.0",
      "_view_name": "StyleView",
      "description_width": ""
     }
    },
    "7f763cad449d44cca47863b93fb883d3": {
     "model_module": "@jupyter-widgets/base",
     "model_name": "LayoutModel",
     "state": {
      "_model_module": "@jupyter-widgets/base",
      "_model_module_version": "1.2.0",
      "_model_name": "LayoutModel",
      "_view_count": null,
      "_view_module": "@jupyter-widgets/base",
      "_view_module_version": "1.2.0",
      "_view_name": "LayoutView",
      "align_content": null,
      "align_items": null,
      "align_self": null,
      "border": null,
      "bottom": null,
      "display": null,
      "flex": null,
      "flex_flow": null,
      "grid_area": null,
      "grid_auto_columns": null,
      "grid_auto_flow": null,
      "grid_auto_rows": null,
      "grid_column": null,
      "grid_gap": null,
      "grid_row": null,
      "grid_template_areas": null,
      "grid_template_columns": null,
      "grid_template_rows": null,
      "height": null,
      "justify_content": null,
      "justify_items": null,
      "left": null,
      "margin": null,
      "max_height": null,
      "max_width": null,
      "min_height": null,
      "min_width": null,
      "object_fit": null,
      "object_position": null,
      "order": null,
      "overflow": null,
      "overflow_x": null,
      "overflow_y": null,
      "padding": null,
      "right": null,
      "top": null,
      "visibility": null,
      "width": null
     }
    },
    "7f831d363465401aa7c36c4e226f3ce2": {
     "model_module": "@jupyter-widgets/base",
     "model_name": "LayoutModel",
     "state": {
      "_model_module": "@jupyter-widgets/base",
      "_model_module_version": "1.2.0",
      "_model_name": "LayoutModel",
      "_view_count": null,
      "_view_module": "@jupyter-widgets/base",
      "_view_module_version": "1.2.0",
      "_view_name": "LayoutView",
      "align_content": null,
      "align_items": null,
      "align_self": null,
      "border": null,
      "bottom": null,
      "display": null,
      "flex": null,
      "flex_flow": null,
      "grid_area": null,
      "grid_auto_columns": null,
      "grid_auto_flow": null,
      "grid_auto_rows": null,
      "grid_column": null,
      "grid_gap": null,
      "grid_row": null,
      "grid_template_areas": null,
      "grid_template_columns": null,
      "grid_template_rows": null,
      "height": null,
      "justify_content": null,
      "justify_items": null,
      "left": null,
      "margin": null,
      "max_height": null,
      "max_width": null,
      "min_height": null,
      "min_width": null,
      "object_fit": null,
      "object_position": null,
      "order": null,
      "overflow": null,
      "overflow_x": null,
      "overflow_y": null,
      "padding": null,
      "right": null,
      "top": null,
      "visibility": null,
      "width": null
     }
    },
    "7ff3e073a1e94e5384c234646d7fa881": {
     "model_module": "@jupyter-widgets/controls",
     "model_name": "ProgressStyleModel",
     "state": {
      "_model_module": "@jupyter-widgets/controls",
      "_model_module_version": "1.5.0",
      "_model_name": "ProgressStyleModel",
      "_view_count": null,
      "_view_module": "@jupyter-widgets/base",
      "_view_module_version": "1.2.0",
      "_view_name": "StyleView",
      "bar_color": null,
      "description_width": "initial"
     }
    },
    "818e5abc8f6448d19bac5ae4c9c65d3c": {
     "model_module": "@jupyter-widgets/base",
     "model_name": "LayoutModel",
     "state": {
      "_model_module": "@jupyter-widgets/base",
      "_model_module_version": "1.2.0",
      "_model_name": "LayoutModel",
      "_view_count": null,
      "_view_module": "@jupyter-widgets/base",
      "_view_module_version": "1.2.0",
      "_view_name": "LayoutView",
      "align_content": null,
      "align_items": null,
      "align_self": null,
      "border": null,
      "bottom": null,
      "display": null,
      "flex": null,
      "flex_flow": null,
      "grid_area": null,
      "grid_auto_columns": null,
      "grid_auto_flow": null,
      "grid_auto_rows": null,
      "grid_column": null,
      "grid_gap": null,
      "grid_row": null,
      "grid_template_areas": null,
      "grid_template_columns": null,
      "grid_template_rows": null,
      "height": null,
      "justify_content": null,
      "justify_items": null,
      "left": null,
      "margin": null,
      "max_height": null,
      "max_width": null,
      "min_height": null,
      "min_width": null,
      "object_fit": null,
      "object_position": null,
      "order": null,
      "overflow": null,
      "overflow_x": null,
      "overflow_y": null,
      "padding": null,
      "right": null,
      "top": null,
      "visibility": null,
      "width": null
     }
    },
    "83f91590075345eda4c12163d74bfb7f": {
     "model_module": "@jupyter-widgets/controls",
     "model_name": "HTMLModel",
     "state": {
      "_dom_classes": [],
      "_model_module": "@jupyter-widgets/controls",
      "_model_module_version": "1.5.0",
      "_model_name": "HTMLModel",
      "_view_count": null,
      "_view_module": "@jupyter-widgets/controls",
      "_view_module_version": "1.5.0",
      "_view_name": "HTMLView",
      "description": "",
      "description_tooltip": null,
      "layout": "IPY_MODEL_bf2de5ad2a3d4bf8b973a2bc2dae76d1",
      "placeholder": "​",
      "style": "IPY_MODEL_05e7c6af5ade4956bbb20e3844b3d99c",
      "value": "100% 1.09k/1.09k [00:00&lt;00:00, 46.1kB/s]"
     }
    },
    "8a6d60cf2f444278947f11c8bf3354ad": {
     "model_module": "@jupyter-widgets/base",
     "model_name": "LayoutModel",
     "state": {
      "_model_module": "@jupyter-widgets/base",
      "_model_module_version": "1.2.0",
      "_model_name": "LayoutModel",
      "_view_count": null,
      "_view_module": "@jupyter-widgets/base",
      "_view_module_version": "1.2.0",
      "_view_name": "LayoutView",
      "align_content": null,
      "align_items": null,
      "align_self": null,
      "border": null,
      "bottom": null,
      "display": null,
      "flex": null,
      "flex_flow": null,
      "grid_area": null,
      "grid_auto_columns": null,
      "grid_auto_flow": null,
      "grid_auto_rows": null,
      "grid_column": null,
      "grid_gap": null,
      "grid_row": null,
      "grid_template_areas": null,
      "grid_template_columns": null,
      "grid_template_rows": null,
      "height": null,
      "justify_content": null,
      "justify_items": null,
      "left": null,
      "margin": null,
      "max_height": null,
      "max_width": null,
      "min_height": null,
      "min_width": null,
      "object_fit": null,
      "object_position": null,
      "order": null,
      "overflow": null,
      "overflow_x": null,
      "overflow_y": null,
      "padding": null,
      "right": null,
      "top": null,
      "visibility": null,
      "width": null
     }
    },
    "8c93338a1308410e8cd90bc9f6d8f5ec": {
     "model_module": "@jupyter-widgets/base",
     "model_name": "LayoutModel",
     "state": {
      "_model_module": "@jupyter-widgets/base",
      "_model_module_version": "1.2.0",
      "_model_name": "LayoutModel",
      "_view_count": null,
      "_view_module": "@jupyter-widgets/base",
      "_view_module_version": "1.2.0",
      "_view_name": "LayoutView",
      "align_content": null,
      "align_items": null,
      "align_self": null,
      "border": null,
      "bottom": null,
      "display": null,
      "flex": null,
      "flex_flow": null,
      "grid_area": null,
      "grid_auto_columns": null,
      "grid_auto_flow": null,
      "grid_auto_rows": null,
      "grid_column": null,
      "grid_gap": null,
      "grid_row": null,
      "grid_template_areas": null,
      "grid_template_columns": null,
      "grid_template_rows": null,
      "height": null,
      "justify_content": null,
      "justify_items": null,
      "left": null,
      "margin": null,
      "max_height": null,
      "max_width": null,
      "min_height": null,
      "min_width": null,
      "object_fit": null,
      "object_position": null,
      "order": null,
      "overflow": null,
      "overflow_x": null,
      "overflow_y": null,
      "padding": null,
      "right": null,
      "top": null,
      "visibility": null,
      "width": null
     }
    },
    "9054b0e935e0448eb43f5b2826e20df5": {
     "model_module": "@jupyter-widgets/base",
     "model_name": "LayoutModel",
     "state": {
      "_model_module": "@jupyter-widgets/base",
      "_model_module_version": "1.2.0",
      "_model_name": "LayoutModel",
      "_view_count": null,
      "_view_module": "@jupyter-widgets/base",
      "_view_module_version": "1.2.0",
      "_view_name": "LayoutView",
      "align_content": null,
      "align_items": null,
      "align_self": null,
      "border": null,
      "bottom": null,
      "display": null,
      "flex": null,
      "flex_flow": null,
      "grid_area": null,
      "grid_auto_columns": null,
      "grid_auto_flow": null,
      "grid_auto_rows": null,
      "grid_column": null,
      "grid_gap": null,
      "grid_row": null,
      "grid_template_areas": null,
      "grid_template_columns": null,
      "grid_template_rows": null,
      "height": null,
      "justify_content": null,
      "justify_items": null,
      "left": null,
      "margin": null,
      "max_height": null,
      "max_width": null,
      "min_height": null,
      "min_width": null,
      "object_fit": null,
      "object_position": null,
      "order": null,
      "overflow": null,
      "overflow_x": null,
      "overflow_y": null,
      "padding": null,
      "right": null,
      "top": null,
      "visibility": null,
      "width": null
     }
    },
    "9088a1261bf1401da098e1d698d673c6": {
     "model_module": "@jupyter-widgets/controls",
     "model_name": "IntProgressModel",
     "state": {
      "_dom_classes": [],
      "_model_module": "@jupyter-widgets/controls",
      "_model_module_version": "1.5.0",
      "_model_name": "IntProgressModel",
      "_view_count": null,
      "_view_module": "@jupyter-widgets/controls",
      "_view_module_version": "1.5.0",
      "_view_name": "ProgressView",
      "bar_style": "success",
      "description": "Downloading",
      "description_tooltip": null,
      "layout": "IPY_MODEL_b62e1a58e4eb4b14b62b7e7bbaeb834d",
      "max": 1334448817,
      "min": 0,
      "orientation": "horizontal",
      "style": "IPY_MODEL_460810d3f53d46f9ad440e7837191449",
      "value": 1334448817
     }
    },
    "92c846f03e0c4d06b518d624095d113d": {
     "model_module": "@jupyter-widgets/controls",
     "model_name": "HBoxModel",
     "state": {
      "_dom_classes": [],
      "_model_module": "@jupyter-widgets/controls",
      "_model_module_version": "1.5.0",
      "_model_name": "HBoxModel",
      "_view_count": null,
      "_view_module": "@jupyter-widgets/controls",
      "_view_module_version": "1.5.0",
      "_view_name": "HBoxView",
      "box_style": "",
      "children": [
       "IPY_MODEL_042a53c6472a4e8991cb0c14dca2fd8a",
       "IPY_MODEL_83f91590075345eda4c12163d74bfb7f"
      ],
      "layout": "IPY_MODEL_b3acb9e750794fd68fd8ae8eb5d2c91c"
     }
    },
    "9c147c0f5f0c40f094fba7a8f451075f": {
     "model_module": "@jupyter-widgets/base",
     "model_name": "LayoutModel",
     "state": {
      "_model_module": "@jupyter-widgets/base",
      "_model_module_version": "1.2.0",
      "_model_name": "LayoutModel",
      "_view_count": null,
      "_view_module": "@jupyter-widgets/base",
      "_view_module_version": "1.2.0",
      "_view_name": "LayoutView",
      "align_content": null,
      "align_items": null,
      "align_self": null,
      "border": null,
      "bottom": null,
      "display": null,
      "flex": null,
      "flex_flow": null,
      "grid_area": null,
      "grid_auto_columns": null,
      "grid_auto_flow": null,
      "grid_auto_rows": null,
      "grid_column": null,
      "grid_gap": null,
      "grid_row": null,
      "grid_template_areas": null,
      "grid_template_columns": null,
      "grid_template_rows": null,
      "height": null,
      "justify_content": null,
      "justify_items": null,
      "left": null,
      "margin": null,
      "max_height": null,
      "max_width": null,
      "min_height": null,
      "min_width": null,
      "object_fit": null,
      "object_position": null,
      "order": null,
      "overflow": null,
      "overflow_x": null,
      "overflow_y": null,
      "padding": null,
      "right": null,
      "top": null,
      "visibility": null,
      "width": null
     }
    },
    "9e6069550a974dc3b9a9b3f21bb1b02e": {
     "model_module": "@jupyter-widgets/base",
     "model_name": "LayoutModel",
     "state": {
      "_model_module": "@jupyter-widgets/base",
      "_model_module_version": "1.2.0",
      "_model_name": "LayoutModel",
      "_view_count": null,
      "_view_module": "@jupyter-widgets/base",
      "_view_module_version": "1.2.0",
      "_view_name": "LayoutView",
      "align_content": null,
      "align_items": null,
      "align_self": null,
      "border": null,
      "bottom": null,
      "display": null,
      "flex": null,
      "flex_flow": null,
      "grid_area": null,
      "grid_auto_columns": null,
      "grid_auto_flow": null,
      "grid_auto_rows": null,
      "grid_column": null,
      "grid_gap": null,
      "grid_row": null,
      "grid_template_areas": null,
      "grid_template_columns": null,
      "grid_template_rows": null,
      "height": null,
      "justify_content": null,
      "justify_items": null,
      "left": null,
      "margin": null,
      "max_height": null,
      "max_width": null,
      "min_height": null,
      "min_width": null,
      "object_fit": null,
      "object_position": null,
      "order": null,
      "overflow": null,
      "overflow_x": null,
      "overflow_y": null,
      "padding": null,
      "right": null,
      "top": null,
      "visibility": null,
      "width": null
     }
    },
    "ab5a4c4bec974324807a07004ab53ca6": {
     "model_module": "@jupyter-widgets/controls",
     "model_name": "ProgressStyleModel",
     "state": {
      "_model_module": "@jupyter-widgets/controls",
      "_model_module_version": "1.5.0",
      "_model_name": "ProgressStyleModel",
      "_view_count": null,
      "_view_module": "@jupyter-widgets/base",
      "_view_module_version": "1.2.0",
      "_view_name": "StyleView",
      "bar_color": null,
      "description_width": "initial"
     }
    },
    "addf6edb4a6945f5a4ab5381a6e0cee6": {
     "model_module": "@jupyter-widgets/controls",
     "model_name": "HTMLModel",
     "state": {
      "_dom_classes": [],
      "_model_module": "@jupyter-widgets/controls",
      "_model_module_version": "1.5.0",
      "_model_name": "HTMLModel",
      "_view_count": null,
      "_view_module": "@jupyter-widgets/controls",
      "_view_module_version": "1.5.0",
      "_view_name": "HTMLView",
      "description": "",
      "description_tooltip": null,
      "layout": "IPY_MODEL_7f763cad449d44cca47863b93fb883d3",
      "placeholder": "​",
      "style": "IPY_MODEL_2ef728f711b04c69b5961da3e65c9511",
      "value": "100% 156/156 [00:00&lt;00:00, 5.41kB/s]"
     }
    },
    "b3298da5c0ae4b29a80c33ba6db4407a": {
     "model_module": "@jupyter-widgets/base",
     "model_name": "LayoutModel",
     "state": {
      "_model_module": "@jupyter-widgets/base",
      "_model_module_version": "1.2.0",
      "_model_name": "LayoutModel",
      "_view_count": null,
      "_view_module": "@jupyter-widgets/base",
      "_view_module_version": "1.2.0",
      "_view_name": "LayoutView",
      "align_content": null,
      "align_items": null,
      "align_self": null,
      "border": null,
      "bottom": null,
      "display": null,
      "flex": null,
      "flex_flow": null,
      "grid_area": null,
      "grid_auto_columns": null,
      "grid_auto_flow": null,
      "grid_auto_rows": null,
      "grid_column": null,
      "grid_gap": null,
      "grid_row": null,
      "grid_template_areas": null,
      "grid_template_columns": null,
      "grid_template_rows": null,
      "height": null,
      "justify_content": null,
      "justify_items": null,
      "left": null,
      "margin": null,
      "max_height": null,
      "max_width": null,
      "min_height": null,
      "min_width": null,
      "object_fit": null,
      "object_position": null,
      "order": null,
      "overflow": null,
      "overflow_x": null,
      "overflow_y": null,
      "padding": null,
      "right": null,
      "top": null,
      "visibility": null,
      "width": null
     }
    },
    "b3acb9e750794fd68fd8ae8eb5d2c91c": {
     "model_module": "@jupyter-widgets/base",
     "model_name": "LayoutModel",
     "state": {
      "_model_module": "@jupyter-widgets/base",
      "_model_module_version": "1.2.0",
      "_model_name": "LayoutModel",
      "_view_count": null,
      "_view_module": "@jupyter-widgets/base",
      "_view_module_version": "1.2.0",
      "_view_name": "LayoutView",
      "align_content": null,
      "align_items": null,
      "align_self": null,
      "border": null,
      "bottom": null,
      "display": null,
      "flex": null,
      "flex_flow": null,
      "grid_area": null,
      "grid_auto_columns": null,
      "grid_auto_flow": null,
      "grid_auto_rows": null,
      "grid_column": null,
      "grid_gap": null,
      "grid_row": null,
      "grid_template_areas": null,
      "grid_template_columns": null,
      "grid_template_rows": null,
      "height": null,
      "justify_content": null,
      "justify_items": null,
      "left": null,
      "margin": null,
      "max_height": null,
      "max_width": null,
      "min_height": null,
      "min_width": null,
      "object_fit": null,
      "object_position": null,
      "order": null,
      "overflow": null,
      "overflow_x": null,
      "overflow_y": null,
      "padding": null,
      "right": null,
      "top": null,
      "visibility": null,
      "width": null
     }
    },
    "b62e1a58e4eb4b14b62b7e7bbaeb834d": {
     "model_module": "@jupyter-widgets/base",
     "model_name": "LayoutModel",
     "state": {
      "_model_module": "@jupyter-widgets/base",
      "_model_module_version": "1.2.0",
      "_model_name": "LayoutModel",
      "_view_count": null,
      "_view_module": "@jupyter-widgets/base",
      "_view_module_version": "1.2.0",
      "_view_name": "LayoutView",
      "align_content": null,
      "align_items": null,
      "align_self": null,
      "border": null,
      "bottom": null,
      "display": null,
      "flex": null,
      "flex_flow": null,
      "grid_area": null,
      "grid_auto_columns": null,
      "grid_auto_flow": null,
      "grid_auto_rows": null,
      "grid_column": null,
      "grid_gap": null,
      "grid_row": null,
      "grid_template_areas": null,
      "grid_template_columns": null,
      "grid_template_rows": null,
      "height": null,
      "justify_content": null,
      "justify_items": null,
      "left": null,
      "margin": null,
      "max_height": null,
      "max_width": null,
      "min_height": null,
      "min_width": null,
      "object_fit": null,
      "object_position": null,
      "order": null,
      "overflow": null,
      "overflow_x": null,
      "overflow_y": null,
      "padding": null,
      "right": null,
      "top": null,
      "visibility": null,
      "width": null
     }
    },
    "b882872d552c400fa5fca758b47e5877": {
     "model_module": "@jupyter-widgets/controls",
     "model_name": "DescriptionStyleModel",
     "state": {
      "_model_module": "@jupyter-widgets/controls",
      "_model_module_version": "1.5.0",
      "_model_name": "DescriptionStyleModel",
      "_view_count": null,
      "_view_module": "@jupyter-widgets/base",
      "_view_module_version": "1.2.0",
      "_view_name": "StyleView",
      "description_width": ""
     }
    },
    "b8f106822c68465382b5d10be3a5b106": {
     "model_module": "@jupyter-widgets/controls",
     "model_name": "IntProgressModel",
     "state": {
      "_dom_classes": [],
      "_model_module": "@jupyter-widgets/controls",
      "_model_module_version": "1.5.0",
      "_model_name": "IntProgressModel",
      "_view_count": null,
      "_view_module": "@jupyter-widgets/controls",
      "_view_module_version": "1.5.0",
      "_view_name": "ProgressView",
      "bar_style": "success",
      "description": "Downloading",
      "description_tooltip": null,
      "layout": "IPY_MODEL_9054b0e935e0448eb43f5b2826e20df5",
      "max": 213450,
      "min": 0,
      "orientation": "horizontal",
      "style": "IPY_MODEL_153cee48d1cf458a8d6658fa389411fa",
      "value": 213450
     }
    },
    "ba98b677fd9345f790c1a38b3b112037": {
     "model_module": "@jupyter-widgets/base",
     "model_name": "LayoutModel",
     "state": {
      "_model_module": "@jupyter-widgets/base",
      "_model_module_version": "1.2.0",
      "_model_name": "LayoutModel",
      "_view_count": null,
      "_view_module": "@jupyter-widgets/base",
      "_view_module_version": "1.2.0",
      "_view_name": "LayoutView",
      "align_content": null,
      "align_items": null,
      "align_self": null,
      "border": null,
      "bottom": null,
      "display": null,
      "flex": null,
      "flex_flow": null,
      "grid_area": null,
      "grid_auto_columns": null,
      "grid_auto_flow": null,
      "grid_auto_rows": null,
      "grid_column": null,
      "grid_gap": null,
      "grid_row": null,
      "grid_template_areas": null,
      "grid_template_columns": null,
      "grid_template_rows": null,
      "height": null,
      "justify_content": null,
      "justify_items": null,
      "left": null,
      "margin": null,
      "max_height": null,
      "max_width": null,
      "min_height": null,
      "min_width": null,
      "object_fit": null,
      "object_position": null,
      "order": null,
      "overflow": null,
      "overflow_x": null,
      "overflow_y": null,
      "padding": null,
      "right": null,
      "top": null,
      "visibility": null,
      "width": null
     }
    },
    "bae5d5d7352c4c8fb3f7300b4658343e": {
     "model_module": "@jupyter-widgets/controls",
     "model_name": "ProgressStyleModel",
     "state": {
      "_model_module": "@jupyter-widgets/controls",
      "_model_module_version": "1.5.0",
      "_model_name": "ProgressStyleModel",
      "_view_count": null,
      "_view_module": "@jupyter-widgets/base",
      "_view_module_version": "1.2.0",
      "_view_name": "StyleView",
      "bar_color": null,
      "description_width": "initial"
     }
    },
    "bb0a41d8cf4e4a51a6e76e1534c5e456": {
     "model_module": "@jupyter-widgets/base",
     "model_name": "LayoutModel",
     "state": {
      "_model_module": "@jupyter-widgets/base",
      "_model_module_version": "1.2.0",
      "_model_name": "LayoutModel",
      "_view_count": null,
      "_view_module": "@jupyter-widgets/base",
      "_view_module_version": "1.2.0",
      "_view_name": "LayoutView",
      "align_content": null,
      "align_items": null,
      "align_self": null,
      "border": null,
      "bottom": null,
      "display": null,
      "flex": null,
      "flex_flow": null,
      "grid_area": null,
      "grid_auto_columns": null,
      "grid_auto_flow": null,
      "grid_auto_rows": null,
      "grid_column": null,
      "grid_gap": null,
      "grid_row": null,
      "grid_template_areas": null,
      "grid_template_columns": null,
      "grid_template_rows": null,
      "height": null,
      "justify_content": null,
      "justify_items": null,
      "left": null,
      "margin": null,
      "max_height": null,
      "max_width": null,
      "min_height": null,
      "min_width": null,
      "object_fit": null,
      "object_position": null,
      "order": null,
      "overflow": null,
      "overflow_x": null,
      "overflow_y": null,
      "padding": null,
      "right": null,
      "top": null,
      "visibility": null,
      "width": null
     }
    },
    "bc7fda181a8a477baaa8c97b64960202": {
     "model_module": "@jupyter-widgets/controls",
     "model_name": "ProgressStyleModel",
     "state": {
      "_model_module": "@jupyter-widgets/controls",
      "_model_module_version": "1.5.0",
      "_model_name": "ProgressStyleModel",
      "_view_count": null,
      "_view_module": "@jupyter-widgets/base",
      "_view_module_version": "1.2.0",
      "_view_name": "StyleView",
      "bar_color": null,
      "description_width": "initial"
     }
    },
    "bf2de5ad2a3d4bf8b973a2bc2dae76d1": {
     "model_module": "@jupyter-widgets/base",
     "model_name": "LayoutModel",
     "state": {
      "_model_module": "@jupyter-widgets/base",
      "_model_module_version": "1.2.0",
      "_model_name": "LayoutModel",
      "_view_count": null,
      "_view_module": "@jupyter-widgets/base",
      "_view_module_version": "1.2.0",
      "_view_name": "LayoutView",
      "align_content": null,
      "align_items": null,
      "align_self": null,
      "border": null,
      "bottom": null,
      "display": null,
      "flex": null,
      "flex_flow": null,
      "grid_area": null,
      "grid_auto_columns": null,
      "grid_auto_flow": null,
      "grid_auto_rows": null,
      "grid_column": null,
      "grid_gap": null,
      "grid_row": null,
      "grid_template_areas": null,
      "grid_template_columns": null,
      "grid_template_rows": null,
      "height": null,
      "justify_content": null,
      "justify_items": null,
      "left": null,
      "margin": null,
      "max_height": null,
      "max_width": null,
      "min_height": null,
      "min_width": null,
      "object_fit": null,
      "object_position": null,
      "order": null,
      "overflow": null,
      "overflow_x": null,
      "overflow_y": null,
      "padding": null,
      "right": null,
      "top": null,
      "visibility": null,
      "width": null
     }
    },
    "bf4b4719d4f147f288e63cb3b2c2264e": {
     "model_module": "@jupyter-widgets/base",
     "model_name": "LayoutModel",
     "state": {
      "_model_module": "@jupyter-widgets/base",
      "_model_module_version": "1.2.0",
      "_model_name": "LayoutModel",
      "_view_count": null,
      "_view_module": "@jupyter-widgets/base",
      "_view_module_version": "1.2.0",
      "_view_name": "LayoutView",
      "align_content": null,
      "align_items": null,
      "align_self": null,
      "border": null,
      "bottom": null,
      "display": null,
      "flex": null,
      "flex_flow": null,
      "grid_area": null,
      "grid_auto_columns": null,
      "grid_auto_flow": null,
      "grid_auto_rows": null,
      "grid_column": null,
      "grid_gap": null,
      "grid_row": null,
      "grid_template_areas": null,
      "grid_template_columns": null,
      "grid_template_rows": null,
      "height": null,
      "justify_content": null,
      "justify_items": null,
      "left": null,
      "margin": null,
      "max_height": null,
      "max_width": null,
      "min_height": null,
      "min_width": null,
      "object_fit": null,
      "object_position": null,
      "order": null,
      "overflow": null,
      "overflow_x": null,
      "overflow_y": null,
      "padding": null,
      "right": null,
      "top": null,
      "visibility": null,
      "width": null
     }
    },
    "bf9a6dbfb9f64d3d84d85efef524342b": {
     "model_module": "@jupyter-widgets/base",
     "model_name": "LayoutModel",
     "state": {
      "_model_module": "@jupyter-widgets/base",
      "_model_module_version": "1.2.0",
      "_model_name": "LayoutModel",
      "_view_count": null,
      "_view_module": "@jupyter-widgets/base",
      "_view_module_version": "1.2.0",
      "_view_name": "LayoutView",
      "align_content": null,
      "align_items": null,
      "align_self": null,
      "border": null,
      "bottom": null,
      "display": null,
      "flex": null,
      "flex_flow": null,
      "grid_area": null,
      "grid_auto_columns": null,
      "grid_auto_flow": null,
      "grid_auto_rows": null,
      "grid_column": null,
      "grid_gap": null,
      "grid_row": null,
      "grid_template_areas": null,
      "grid_template_columns": null,
      "grid_template_rows": null,
      "height": null,
      "justify_content": null,
      "justify_items": null,
      "left": null,
      "margin": null,
      "max_height": null,
      "max_width": null,
      "min_height": null,
      "min_width": null,
      "object_fit": null,
      "object_position": null,
      "order": null,
      "overflow": null,
      "overflow_x": null,
      "overflow_y": null,
      "padding": null,
      "right": null,
      "top": null,
      "visibility": null,
      "width": null
     }
    },
    "c4f87d543a374f738397969e04f1f780": {
     "model_module": "@jupyter-widgets/controls",
     "model_name": "HTMLModel",
     "state": {
      "_dom_classes": [],
      "_model_module": "@jupyter-widgets/controls",
      "_model_module_version": "1.5.0",
      "_model_name": "HTMLModel",
      "_view_count": null,
      "_view_module": "@jupyter-widgets/controls",
      "_view_module_version": "1.5.0",
      "_view_name": "HTMLView",
      "description": "",
      "description_tooltip": null,
      "layout": "IPY_MODEL_c9722a11b319411287ed1524ac39f658",
      "placeholder": "​",
      "style": "IPY_MODEL_d2e7cb4da0ae4b298e65195208cdf444",
      "value": "100% 105/105 [00:00&lt;00:00, 4.36kB/s]"
     }
    },
    "c9722a11b319411287ed1524ac39f658": {
     "model_module": "@jupyter-widgets/base",
     "model_name": "LayoutModel",
     "state": {
      "_model_module": "@jupyter-widgets/base",
      "_model_module_version": "1.2.0",
      "_model_name": "LayoutModel",
      "_view_count": null,
      "_view_module": "@jupyter-widgets/base",
      "_view_module_version": "1.2.0",
      "_view_name": "LayoutView",
      "align_content": null,
      "align_items": null,
      "align_self": null,
      "border": null,
      "bottom": null,
      "display": null,
      "flex": null,
      "flex_flow": null,
      "grid_area": null,
      "grid_auto_columns": null,
      "grid_auto_flow": null,
      "grid_auto_rows": null,
      "grid_column": null,
      "grid_gap": null,
      "grid_row": null,
      "grid_template_areas": null,
      "grid_template_columns": null,
      "grid_template_rows": null,
      "height": null,
      "justify_content": null,
      "justify_items": null,
      "left": null,
      "margin": null,
      "max_height": null,
      "max_width": null,
      "min_height": null,
      "min_width": null,
      "object_fit": null,
      "object_position": null,
      "order": null,
      "overflow": null,
      "overflow_x": null,
      "overflow_y": null,
      "padding": null,
      "right": null,
      "top": null,
      "visibility": null,
      "width": null
     }
    },
    "cb83cd3502e341f9838194be2faa1303": {
     "model_module": "@jupyter-widgets/controls",
     "model_name": "ProgressStyleModel",
     "state": {
      "_model_module": "@jupyter-widgets/controls",
      "_model_module_version": "1.5.0",
      "_model_name": "ProgressStyleModel",
      "_view_count": null,
      "_view_module": "@jupyter-widgets/base",
      "_view_module_version": "1.2.0",
      "_view_name": "StyleView",
      "bar_color": null,
      "description_width": "initial"
     }
    },
    "cc4952050c184d86977bdc9f6cb9f8de": {
     "model_module": "@jupyter-widgets/controls",
     "model_name": "IntProgressModel",
     "state": {
      "_dom_classes": [],
      "_model_module": "@jupyter-widgets/controls",
      "_model_module_version": "1.5.0",
      "_model_name": "IntProgressModel",
      "_view_count": null,
      "_view_module": "@jupyter-widgets/controls",
      "_view_module_version": "1.5.0",
      "_view_name": "ProgressView",
      "bar_style": "success",
      "description": "Downloading",
      "description_tooltip": null,
      "layout": "IPY_MODEL_4469c9c1a72f4998b461bc39a27fdca9",
      "max": 234979538,
      "min": 0,
      "orientation": "horizontal",
      "style": "IPY_MODEL_ab5a4c4bec974324807a07004ab53ca6",
      "value": 234979538
     }
    },
    "d2e7cb4da0ae4b298e65195208cdf444": {
     "model_module": "@jupyter-widgets/controls",
     "model_name": "DescriptionStyleModel",
     "state": {
      "_model_module": "@jupyter-widgets/controls",
      "_model_module_version": "1.5.0",
      "_model_name": "DescriptionStyleModel",
      "_view_count": null,
      "_view_module": "@jupyter-widgets/base",
      "_view_module_version": "1.2.0",
      "_view_name": "StyleView",
      "description_width": ""
     }
    },
    "d712993961634f32b8e6b16bad7463da": {
     "model_module": "@jupyter-widgets/controls",
     "model_name": "HBoxModel",
     "state": {
      "_dom_classes": [],
      "_model_module": "@jupyter-widgets/controls",
      "_model_module_version": "1.5.0",
      "_model_name": "HBoxModel",
      "_view_count": null,
      "_view_module": "@jupyter-widgets/controls",
      "_view_module_version": "1.5.0",
      "_view_name": "HBoxView",
      "box_style": "",
      "children": [
       "IPY_MODEL_437426565c5a4f0babe0eff95d84ddc7",
       "IPY_MODEL_ebeecc000e9245ed8cbbb96b3d97206f"
      ],
      "layout": "IPY_MODEL_bb0a41d8cf4e4a51a6e76e1534c5e456"
     }
    },
    "df201137d18f4a27b798c0733bea7711": {
     "model_module": "@jupyter-widgets/controls",
     "model_name": "ProgressStyleModel",
     "state": {
      "_model_module": "@jupyter-widgets/controls",
      "_model_module_version": "1.5.0",
      "_model_name": "ProgressStyleModel",
      "_view_count": null,
      "_view_module": "@jupyter-widgets/base",
      "_view_module_version": "1.2.0",
      "_view_name": "StyleView",
      "bar_color": null,
      "description_width": "initial"
     }
    },
    "dfedd87ffb3640e5a96220d5d7dad7b8": {
     "model_module": "@jupyter-widgets/base",
     "model_name": "LayoutModel",
     "state": {
      "_model_module": "@jupyter-widgets/base",
      "_model_module_version": "1.2.0",
      "_model_name": "LayoutModel",
      "_view_count": null,
      "_view_module": "@jupyter-widgets/base",
      "_view_module_version": "1.2.0",
      "_view_name": "LayoutView",
      "align_content": null,
      "align_items": null,
      "align_self": null,
      "border": null,
      "bottom": null,
      "display": null,
      "flex": null,
      "flex_flow": null,
      "grid_area": null,
      "grid_auto_columns": null,
      "grid_auto_flow": null,
      "grid_auto_rows": null,
      "grid_column": null,
      "grid_gap": null,
      "grid_row": null,
      "grid_template_areas": null,
      "grid_template_columns": null,
      "grid_template_rows": null,
      "height": null,
      "justify_content": null,
      "justify_items": null,
      "left": null,
      "margin": null,
      "max_height": null,
      "max_width": null,
      "min_height": null,
      "min_width": null,
      "object_fit": null,
      "object_position": null,
      "order": null,
      "overflow": null,
      "overflow_x": null,
      "overflow_y": null,
      "padding": null,
      "right": null,
      "top": null,
      "visibility": null,
      "width": null
     }
    },
    "e16165c7071b43ffa30148bf2e0a1b03": {
     "model_module": "@jupyter-widgets/controls",
     "model_name": "IntProgressModel",
     "state": {
      "_dom_classes": [],
      "_model_module": "@jupyter-widgets/controls",
      "_model_module_version": "1.5.0",
      "_model_name": "IntProgressModel",
      "_view_count": null,
      "_view_module": "@jupyter-widgets/controls",
      "_view_module_version": "1.5.0",
      "_view_name": "ProgressView",
      "bar_style": "success",
      "description": "Downloading",
      "description_tooltip": null,
      "layout": "IPY_MODEL_6b9b79b1e9ee4e149cf5770bd8e12677",
      "max": 105,
      "min": 0,
      "orientation": "horizontal",
      "style": "IPY_MODEL_bc7fda181a8a477baaa8c97b64960202",
      "value": 105
     }
    },
    "e62b0a12df9c4a5f9c4fd72e3ec431e8": {
     "model_module": "@jupyter-widgets/base",
     "model_name": "LayoutModel",
     "state": {
      "_model_module": "@jupyter-widgets/base",
      "_model_module_version": "1.2.0",
      "_model_name": "LayoutModel",
      "_view_count": null,
      "_view_module": "@jupyter-widgets/base",
      "_view_module_version": "1.2.0",
      "_view_name": "LayoutView",
      "align_content": null,
      "align_items": null,
      "align_self": null,
      "border": null,
      "bottom": null,
      "display": null,
      "flex": null,
      "flex_flow": null,
      "grid_area": null,
      "grid_auto_columns": null,
      "grid_auto_flow": null,
      "grid_auto_rows": null,
      "grid_column": null,
      "grid_gap": null,
      "grid_row": null,
      "grid_template_areas": null,
      "grid_template_columns": null,
      "grid_template_rows": null,
      "height": null,
      "justify_content": null,
      "justify_items": null,
      "left": null,
      "margin": null,
      "max_height": null,
      "max_width": null,
      "min_height": null,
      "min_width": null,
      "object_fit": null,
      "object_position": null,
      "order": null,
      "overflow": null,
      "overflow_x": null,
      "overflow_y": null,
      "padding": null,
      "right": null,
      "top": null,
      "visibility": null,
      "width": null
     }
    },
    "e6b2e5a0bf4e421aafdcb1f2e5e5f085": {
     "model_module": "@jupyter-widgets/controls",
     "model_name": "ProgressStyleModel",
     "state": {
      "_model_module": "@jupyter-widgets/controls",
      "_model_module_version": "1.5.0",
      "_model_name": "ProgressStyleModel",
      "_view_count": null,
      "_view_module": "@jupyter-widgets/base",
      "_view_module_version": "1.2.0",
      "_view_name": "StyleView",
      "bar_color": null,
      "description_width": "initial"
     }
    },
    "eba9f50eb37749acb381277755732ebf": {
     "model_module": "@jupyter-widgets/controls",
     "model_name": "HTMLModel",
     "state": {
      "_dom_classes": [],
      "_model_module": "@jupyter-widgets/controls",
      "_model_module_version": "1.5.0",
      "_model_name": "HTMLModel",
      "_view_count": null,
      "_view_module": "@jupyter-widgets/controls",
      "_view_module_version": "1.5.0",
      "_view_name": "HTMLView",
      "description": "",
      "description_tooltip": null,
      "layout": "IPY_MODEL_e62b0a12df9c4a5f9c4fd72e3ec431e8",
      "placeholder": "​",
      "style": "IPY_MODEL_14c70b8b49054aa4b8e02b68232b9c33",
      "value": "100% 235M/235M [00:09&lt;00:00, 25.2MB/s]"
     }
    },
    "ebeecc000e9245ed8cbbb96b3d97206f": {
     "model_module": "@jupyter-widgets/controls",
     "model_name": "HTMLModel",
     "state": {
      "_dom_classes": [],
      "_model_module": "@jupyter-widgets/controls",
      "_model_module_version": "1.5.0",
      "_model_name": "HTMLModel",
      "_view_count": null,
      "_view_module": "@jupyter-widgets/controls",
      "_view_module_version": "1.5.0",
      "_view_name": "HTMLView",
      "description": "",
      "description_tooltip": null,
      "layout": "IPY_MODEL_61fe132c4bf846feaa0b9df5f1a29a4e",
      "placeholder": "​",
      "style": "IPY_MODEL_b882872d552c400fa5fca758b47e5877",
      "value": "100% 569/569 [00:00&lt;00:00, 23.5kB/s]"
     }
    },
    "f71c9f80b5cf4338920340936877437b": {
     "model_module": "@jupyter-widgets/controls",
     "model_name": "HTMLModel",
     "state": {
      "_dom_classes": [],
      "_model_module": "@jupyter-widgets/controls",
      "_model_module_version": "1.5.0",
      "_model_name": "HTMLModel",
      "_view_count": null,
      "_view_module": "@jupyter-widgets/controls",
      "_view_module_version": "1.5.0",
      "_view_name": "HTMLView",
      "description": "",
      "description_tooltip": null,
      "layout": "IPY_MODEL_4e3a51796c634630b1569952c86404a3",
      "placeholder": "​",
      "style": "IPY_MODEL_66953b42ca4c440e8e926ca3d51ea7ea",
      "value": "100% 100/100 [04:06&lt;00:00,  2.15s/it]"
     }
    },
    "f74acb7e34b14c3d95ec3d6d2a534d41": {
     "model_module": "@jupyter-widgets/controls",
     "model_name": "HBoxModel",
     "state": {
      "_dom_classes": [],
      "_model_module": "@jupyter-widgets/controls",
      "_model_module_version": "1.5.0",
      "_model_name": "HBoxModel",
      "_view_count": null,
      "_view_module": "@jupyter-widgets/controls",
      "_view_module_version": "1.5.0",
      "_view_name": "HBoxView",
      "box_style": "",
      "children": [
       "IPY_MODEL_2fc0b205679947cc8b00df3182e6b128",
       "IPY_MODEL_addf6edb4a6945f5a4ab5381a6e0cee6"
      ],
      "layout": "IPY_MODEL_818e5abc8f6448d19bac5ae4c9c65d3c"
     }
    },
    "f9b8bcf7392f40fa8269c6cc914455c2": {
     "model_module": "@jupyter-widgets/controls",
     "model_name": "ProgressStyleModel",
     "state": {
      "_model_module": "@jupyter-widgets/controls",
      "_model_module_version": "1.5.0",
      "_model_name": "ProgressStyleModel",
      "_view_count": null,
      "_view_module": "@jupyter-widgets/base",
      "_view_module_version": "1.2.0",
      "_view_name": "StyleView",
      "bar_color": null,
      "description_width": "initial"
     }
    }
   }
  }
 },
 "nbformat": 4,
 "nbformat_minor": 1
}
