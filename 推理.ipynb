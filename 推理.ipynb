{
 "cells": [
  {
   "cell_type": "markdown",
   "metadata": {
    "toc": true
   },
   "source": [
    "<h1>Table of Contents<span class=\"tocSkip\"></span></h1>\n",
    "<div class=\"toc\"><ul class=\"toc-item\"><li><span><a href=\"#构建图\" data-toc-modified-id=\"构建图-1\"><span class=\"toc-item-num\">1&nbsp;&nbsp;</span>构建图</a></span></li><li><span><a href=\"#GNN\" data-toc-modified-id=\"GNN-2\"><span class=\"toc-item-num\">2&nbsp;&nbsp;</span>GNN</a></span></li><li><span><a href=\"#QA\" data-toc-modified-id=\"QA-3\"><span class=\"toc-item-num\">3&nbsp;&nbsp;</span>QA</a></span></li><li><span><a href=\"#整合\" data-toc-modified-id=\"整合-4\"><span class=\"toc-item-num\">4&nbsp;&nbsp;</span>整合</a></span></li></ul></div>"
   ]
  },
  {
   "cell_type": "code",
   "execution_count": 1,
   "metadata": {},
   "outputs": [],
   "source": [
    "from argparse import Namespace\n",
    "import json\n",
    "import torch\n",
    "from collections import defaultdict\n",
    "\n",
    "from QA_models import AutoQuestionAnswering\n",
    "from GNN import GAT_HotpotQA"
   ]
  },
  {
   "cell_type": "code",
   "execution_count": 2,
   "metadata": {},
   "outputs": [],
   "source": [
    "args = Namespace(\n",
    "    \n",
    "    dev_json_path = 'data/HotpotQA/hotpot_dev_distractor_v1.json',\n",
    "    \n",
    "    GNN_model_path = 'save_cache_GNN/GNN_HotpotQA_hidden64_heads8_pad300_chunk_first.pt',\n",
    "    QA_model_path = 'save_cache_permutations/HotpotQA_QA_BiGRU_roberta-base-squad2.pt',\n",
    "    model_path = 'data/models/roberta-base-squad2',\n",
    "#     # GNN parameters\n",
    "    features = 768,\n",
    "    hidden = 64,\n",
    "    nclass = 2,\n",
    "    dropout = 0,\n",
    "    alpha = 0.3,\n",
    "    nheads = 8,\n",
    "    pad_max_num = 300,\n",
    "\n",
    "    device = 'cuda:0',\n",
    "    \n",
    "    pretrained_model_path=0,\n",
    "    header_mode=0,\n",
    "    cls_token_id=0,\n",
    "    \n",
    "    topN_sents=3,\n",
    "    max_length=512,\n",
    "    uncased=False,\n",
    "    seed=123,\n",
    ")"
   ]
  },
  {
   "cell_type": "code",
   "execution_count": 3,
   "metadata": {},
   "outputs": [],
   "source": [
    "with open(args.dev_json_path, 'r', encoding='utf-8') as f1:\n",
    "    dev_json = json.load(f1)"
   ]
  },
  {
   "cell_type": "code",
   "execution_count": 4,
   "metadata": {},
   "outputs": [],
   "source": [
    "one_item = dev_json[0]"
   ]
  },
  {
   "cell_type": "code",
   "execution_count": 5,
   "metadata": {
    "scrolled": true
   },
   "outputs": [
    {
     "data": {
      "text/plain": [
       "{'_id': '5a8b57f25542995d1e6f1371',\n",
       " 'answer': 'yes',\n",
       " 'question': 'Were Scott Derrickson and Ed Wood of the same nationality?',\n",
       " 'supporting_facts': [['Scott Derrickson', 0], ['Ed Wood', 0]],\n",
       " 'context': [['Ed Wood (film)',\n",
       "   ['Ed Wood is a 1994 American biographical period comedy-drama film directed and produced by Tim Burton, and starring Johnny Depp as cult filmmaker Ed Wood.',\n",
       "    \" The film concerns the period in Wood's life when he made his best-known films as well as his relationship with actor Bela Lugosi, played by Martin Landau.\",\n",
       "    ' Sarah Jessica Parker, Patricia Arquette, Jeffrey Jones, Lisa Marie, and Bill Murray are among the supporting cast.']],\n",
       "  ['Scott Derrickson',\n",
       "   ['Scott Derrickson (born July 16, 1966) is an American director, screenwriter and producer.',\n",
       "    ' He lives in Los Angeles, California.',\n",
       "    ' He is best known for directing horror films such as \"Sinister\", \"The Exorcism of Emily Rose\", and \"Deliver Us From Evil\", as well as the 2016 Marvel Cinematic Universe installment, \"Doctor Strange.\"']],\n",
       "  ['Woodson, Arkansas',\n",
       "   ['Woodson is a census-designated place (CDP) in Pulaski County, Arkansas, in the United States.',\n",
       "    ' Its population was 403 at the 2010 census.',\n",
       "    ' It is part of the Little Rock–North Little Rock–Conway Metropolitan Statistical Area.',\n",
       "    ' Woodson and its accompanying Woodson Lake and Wood Hollow are the namesake for Ed Wood Sr., a prominent plantation owner, trader, and businessman at the turn of the 20th century.',\n",
       "    ' Woodson is adjacent to the Wood Plantation, the largest of the plantations own by Ed Wood Sr.']],\n",
       "  ['Tyler Bates',\n",
       "   ['Tyler Bates (born June 5, 1965) is an American musician, music producer, and composer for films, television, and video games.',\n",
       "    ' Much of his work is in the action and horror film genres, with films like \"Dawn of the Dead, 300, Sucker Punch,\" and \"John Wick.\"',\n",
       "    ' He has collaborated with directors like Zack Snyder, Rob Zombie, Neil Marshall, William Friedkin, Scott Derrickson, and James Gunn.',\n",
       "    ' With Gunn, he has scored every one of the director\\'s films; including \"Guardians of the Galaxy\", which became one of the highest grossing domestic movies of 2014, and its 2017 sequel.',\n",
       "    ' In addition, he is also the lead guitarist of the American rock band Marilyn Manson, and produced its albums \"The Pale Emperor\" and \"Heaven Upside Down\".']],\n",
       "  ['Ed Wood',\n",
       "   ['Edward Davis Wood Jr. (October 10, 1924 – December 10, 1978) was an American filmmaker, actor, writer, producer, and director.']],\n",
       "  ['Deliver Us from Evil (2014 film)',\n",
       "   ['Deliver Us from Evil is a 2014 American supernatural horror film directed by Scott Derrickson and produced by Jerry Bruckheimer.',\n",
       "    ' The film is officially based on a 2001 non-fiction book entitled \"Beware the Night\" by Ralph Sarchie and Lisa Collier Cool, and its marketing campaign highlighted that it was \"inspired by actual accounts\".',\n",
       "    ' The film stars Eric Bana, Édgar Ramírez, Sean Harris, Olivia Munn, and Joel McHale in the main roles and was released on July 2, 2014.']],\n",
       "  ['Adam Collis',\n",
       "   ['Adam Collis is an American filmmaker and actor.',\n",
       "    ' He attended the Duke University from 1986 to 1990 and the University of California, Los Angeles from 2007 to 2010.',\n",
       "    ' He also studied cinema at the University of Southern California from 1991 to 1997.',\n",
       "    ' Collis first work was the assistant director for the Scott Derrickson\\'s short \"Love in the Ruins\" (1995).',\n",
       "    ' In 1998, he played \"Crankshaft\" in Eric Koyanagi\\'s \"Hundred Percent\".']],\n",
       "  ['Sinister (film)',\n",
       "   ['Sinister is a 2012 supernatural horror film directed by Scott Derrickson and written by Derrickson and C. Robert Cargill.',\n",
       "    ' It stars Ethan Hawke as fictional true-crime writer Ellison Oswalt who discovers a box of home movies in his attic that puts his family in danger.']],\n",
       "  ['Conrad Brooks',\n",
       "   ['Conrad Brooks (born Conrad Biedrzycki on January 3, 1931 in Baltimore, Maryland) is an American actor.',\n",
       "    ' He moved to Hollywood, California in 1948 to pursue a career in acting.',\n",
       "    ' He got his start in movies appearing in Ed Wood films such as \"Plan 9 from Outer Space\", \"Glen or Glenda\", and \"Jail Bait.\"',\n",
       "    ' He took a break from acting during the 1960s and 1970s but due to the ongoing interest in the films of Ed Wood, he reemerged in the 1980s and has become a prolific actor.',\n",
       "    ' He also has since gone on to write, produce and direct several films.']],\n",
       "  ['Doctor Strange (2016 film)',\n",
       "   ['Doctor Strange is a 2016 American superhero film based on the Marvel Comics character of the same name, produced by Marvel Studios and distributed by Walt Disney Studios Motion Pictures.',\n",
       "    ' It is the fourteenth film of the Marvel Cinematic Universe (MCU).',\n",
       "    ' The film was directed by Scott Derrickson, who wrote it with Jon Spaihts and C. Robert Cargill, and stars Benedict Cumberbatch as Stephen Strange, along with Chiwetel Ejiofor, Rachel McAdams, Benedict Wong, Michael Stuhlbarg, Benjamin Bratt, Scott Adkins, Mads Mikkelsen, and Tilda Swinton.',\n",
       "    ' In \"Doctor Strange\", surgeon Strange learns the mystic arts after a career-ending car accident.']]],\n",
       " 'type': 'comparison',\n",
       " 'level': 'hard'}"
      ]
     },
     "execution_count": 5,
     "metadata": {},
     "output_type": "execute_result"
    }
   ],
   "source": [
    "one_item"
   ]
  },
  {
   "cell_type": "markdown",
   "metadata": {},
   "source": [
    "# 构建图"
   ]
  },
  {
   "cell_type": "code",
   "execution_count": 31,
   "metadata": {},
   "outputs": [],
   "source": [
    "from gen_nodes_repr import build_for_one_item"
   ]
  },
  {
   "cell_type": "code",
   "execution_count": 32,
   "metadata": {},
   "outputs": [
    {
     "name": "stdout",
     "output_type": "stream",
     "text": [
      "init...\n"
     ]
    },
    {
     "name": "stderr",
     "output_type": "stream",
     "text": [
      "100%|██████████| 2/2 [00:07<00:00,  3.92s/it]\n"
     ]
    }
   ],
   "source": [
    "ques_items = build_for_one_item(dev_json[:2], args)"
   ]
  },
  {
   "cell_type": "markdown",
   "metadata": {},
   "source": [
    "# GNN"
   ]
  },
  {
   "cell_type": "code",
   "execution_count": 33,
   "metadata": {
    "scrolled": true
   },
   "outputs": [],
   "source": [
    "classifier = GAT_HotpotQA(features=args.features, hidden=args.hidden, nclass=args.nclass, \n",
    "                            dropout=args.dropout, alpha=args.alpha, nheads=args.nheads, \n",
    "                            nodes_num=args.pad_max_num)\n",
    "classifier.to(\"cuda\")\n",
    "args.GNN_model_path = 'save_cache_GNN/GNN_HotpotQA_hidden64_heads8_pad300_chunk_first.pt'\n",
    "# checkpoint = torch.load(args.GNN_model_path)\n",
    "# classifier.load_state_dict(checkpoint['model'])"
   ]
  },
  {
   "cell_type": "code",
   "execution_count": 34,
   "metadata": {},
   "outputs": [],
   "source": [
    "from datasets import HotpotQA_GNN_Dataset, gen_GNN_batches"
   ]
  },
  {
   "cell_type": "code",
   "execution_count": 35,
   "metadata": {},
   "outputs": [],
   "source": [
    "dataset = HotpotQA_GNN_Dataset.load_for_eval(ques_items)\n",
    "dataset.set_parameters(300,0)\n",
    "dataset.set_split('val')"
   ]
  },
  {
   "cell_type": "code",
   "execution_count": 36,
   "metadata": {},
   "outputs": [
    {
     "data": {
      "text/plain": [
       "HotpotQA GNN Dataset. mode: val. size: 2. max_seq: 300"
      ]
     },
     "execution_count": 36,
     "metadata": {},
     "output_type": "execute_result"
    }
   ],
   "source": [
    "dataset"
   ]
  },
  {
   "cell_type": "code",
   "execution_count": 37,
   "metadata": {},
   "outputs": [],
   "source": [
    "batch_generator = gen_GNN_batches(dataset, 1, shuffle=False, drop_last=False, device='cuda')\n",
    "QA_eval_list=[]\n",
    "for index, batch_dict in enumerate(batch_generator):\n",
    "    with torch.no_grad():\n",
    "        logits_sent, logits_para, logits_Qtype = \\\n",
    "                        classifier(batch_dict['feature_matrix'], batch_dict['adj'])\n",
    "\n",
    "        max_value, max_index = logits_sent.max(dim=-1) # max_index is predict class.\n",
    "        topN_sent_index_batch = (max_value * batch_dict['sent_mask'].squeeze()).topk(3, dim=-1)[1]\n",
    "        topN_sent_index_batch = topN_sent_index_batch.squeeze().tolist()\n",
    "        \n",
    "    item=ques_items[index]\n",
    "    info_list = [[item[\"node_list\"][item[\"node_list\"][s_id].parent_id].content_raw, \n",
    "                         item[\"node_list\"][s_id].order_in_para,\n",
    "                        item[\"node_list\"][s_id].content_raw] \\\n",
    "                 for s_id in topN_sent_index_batch]\n",
    "    \n",
    "    print(item['id'])\n",
    "    \n",
    "    question = item[\"node_list\"][0].content_raw\n",
    "    sup_sent_id_list = [i[:-1] for i in info_list]\n",
    "    sup_sent_list = [i[-1] for i in info_list]\n",
    "    \n",
    "    print(sup_sent_id_list)\n",
    "    print(sup_sent_list)\n",
    "    QA_eval_list.append((question, sup_sent_list))"
   ]
  },
  {
   "cell_type": "code",
   "execution_count": 38,
   "metadata": {},
   "outputs": [
    {
     "data": {
      "text/plain": [
       "{'5a8b57f25542995d1e6f1371': [['Doctor Strange (2016 film)', 1],\n",
       "  ['Woodson, Arkansas', 2],\n",
       "  ['Adam Collis', 1]],\n",
       " '5a8c7595554299585d9e36b6': [['Village accountant', 0],\n",
       "  ['Charles Craft', 3],\n",
       "  ['Charles Craft', 4]]}"
      ]
     },
     "execution_count": 38,
     "metadata": {},
     "output_type": "execute_result"
    }
   ],
   "source": [
    "sup_dict"
   ]
  },
  {
   "cell_type": "code",
   "execution_count": 39,
   "metadata": {},
   "outputs": [
    {
     "data": {
      "text/plain": [
       "{'5a8b57f25542995d1e6f1371': [' It is the fourteenth film of the Marvel Cinematic Universe (MCU).',\n",
       "  ' It is part of the Little Rock–North Little Rock–Conway Metropolitan Statistical Area.',\n",
       "  ' He attended the Duke University from 1986 to 1990 and the University of California, Los Angeles from 2007 to 2010.'],\n",
       " '5a8c7595554299585d9e36b6': ['The Village Accountant (variously known as \"Patwari\", \"Talati\", \"Patel\", \"Karnam\", \"Adhikari\", \"Shanbogaru\",\"Patnaik\" etc.) is an administrative government position found in rural parts of the Indian sub-continent.',\n",
       "  ' Over the next 25 years, Craft would edit 90 feature-length films.',\n",
       "  ' In the early 1950s he would switch his focus to the small screen, his first show being \"Racket Squad\", from 1951–53, for which he was the main editor, editing 93 of the 98 episodes.']}"
      ]
     },
     "execution_count": 39,
     "metadata": {},
     "output_type": "execute_result"
    }
   ],
   "source": [
    "sup_raw_dict"
   ]
  },
  {
   "cell_type": "markdown",
   "metadata": {},
   "source": [
    "# QA"
   ]
  },
  {
   "cell_type": "code",
   "execution_count": 13,
   "metadata": {},
   "outputs": [],
   "source": [
    "from datasets import HotpotQA_QA_Dataset, generate_QA_batches\n",
    "from transformers import AutoTokenizer\n",
    "from QA_models import AutoQuestionAnswering"
   ]
  },
  {
   "cell_type": "code",
   "execution_count": 14,
   "metadata": {},
   "outputs": [],
   "source": [
    "args.header_mode = 'MLP'\n",
    "\n",
    "tokenizer = AutoTokenizer.from_pretrained(args.model_path, local_files_only=True)\n",
    "classifier = AutoQuestionAnswering.from_pretrained(model_path=args.model_path,\n",
    "                                                    header_mode=args.header_mode,\n",
    "                                                    cls_index=tokenizer.cls_token_id)\n",
    "classifier = classifier.to(args.device)\n",
    "# checkpoint = torch.load(args.QA_model_path)\n",
    "# classifier.load_state_dict(checkpoint['model'])\n",
    "_ = classifier.eval()"
   ]
  },
  {
   "cell_type": "code",
   "execution_count": 42,
   "metadata": {},
   "outputs": [
    {
     "data": {
      "text/plain": [
       "[('Were Scott Derrickson and Ed Wood of the same nationality?',\n",
       "  [' In \"Doctor Strange\", surgeon Strange learns the mystic arts after a career-ending car accident.',\n",
       "   ' It stars Ethan Hawke as fictional true-crime writer Ellison Oswalt who discovers a box of home movies in his attic that puts his family in danger.',\n",
       "   ' With Gunn, he has scored every one of the director\\'s films; including \"Guardians of the Galaxy\", which became one of the highest grossing domestic movies of 2014, and its 2017 sequel.']),\n",
       " ('What government position was held by the woman who portrayed Corliss Archer in the film Kiss and Tell?',\n",
       "  [' As an adult, she was named United States ambassador to Ghana and to Czechoslovakia and also served as Chief of Protocol of the United States.',\n",
       "   ' It stars Shirley Temple in her final starring role as well as her final film appearance.',\n",
       "   ' A holder of the post would be the third-highest-ranked Great Officer of State, below the Lord High Steward and the Lord High Chancellor.'])]"
      ]
     },
     "execution_count": 42,
     "metadata": {},
     "output_type": "execute_result"
    }
   ],
   "source": [
    "QA_eval_list"
   ]
  },
  {
   "cell_type": "code",
   "execution_count": 15,
   "metadata": {},
   "outputs": [],
   "source": [
    "datasetQA = HotpotQA_QA_Dataset.load_for_eval(QA_eval_list)\n",
    "datasetQA.set_parameters(tokenizer = tokenizer, topN_sents = args.topN_sents,\n",
    "                        max_length=args.max_length, uncased=args.uncased,\n",
    "                        permutations=False, random_seed=args.seed)\n",
    "batch_generatorQA = generate_QA_batches(datasetQA, 1, shuffle=False, drop_last=False, device=\"cuda\")"
   ]
  },
  {
   "cell_type": "code",
   "execution_count": 16,
   "metadata": {},
   "outputs": [
    {
     "data": {
      "text/plain": [
       "HotpotQA QA Dataset. mode: eval. size: 2. sents num: 3"
      ]
     },
     "execution_count": 16,
     "metadata": {},
     "output_type": "execute_result"
    }
   ],
   "source": [
    "datasetQA"
   ]
  },
  {
   "cell_type": "code",
   "execution_count": 17,
   "metadata": {},
   "outputs": [
    {
     "name": "stdout",
     "output_type": "stream",
     "text": [
      "0\n",
      "1\n"
     ]
    }
   ],
   "source": [
    "ans_dict = {}\n",
    "ans_dict_topN = defaultdict(list)\n",
    "\n",
    "for index, batch_dict in enumerate(batch_generatorQA):\n",
    "    print(index)\n",
    "    with torch.no_grad():\n",
    "        res = classifier(**batch_dict)\n",
    "        start_top_log_probs, start_top_index, end_top_log_probs, end_top_index, cls_logits = res[:5]\n",
    "        start_top_index = start_top_index.squeeze().tolist()\n",
    "        end_top_index = end_top_index.squeeze().tolist()\n",
    "        assert len(start_top_index) == len(end_top_index)\n",
    "        \n",
    "        input_ids = batch_dict['input_ids'].squeeze().tolist()\n",
    "        item = ques_items[index]\n",
    "        for index,(i,j) in enumerate(zip(start_top_index,end_top_index)):\n",
    "            if index == 0: ans_dict[item['id']] = tokenizer.decode(input_ids[i:j+1])\n",
    "            ans_dict_topN[item['id']].append(tokenizer.decode(input_ids[i:j+1]))"
   ]
  },
  {
   "cell_type": "code",
   "execution_count": 18,
   "metadata": {},
   "outputs": [
    {
     "data": {
      "text/plain": [
       "{'5a8b57f25542995d1e6f1371': ' Scott Derrickson and Ed Wood of the same nationality</s></s> In Doctor Strange surgeon Strange learns the mystic arts after a career ending car accident   It stars Ethan Hawke as fictional true crime writer Ellison Oswalt who discovers a box of home movies in his attic that puts his family in danger   With Gunn he has scored',\n",
       " '5a8c7595554299585d9e36b6': ''}"
      ]
     },
     "execution_count": 18,
     "metadata": {},
     "output_type": "execute_result"
    }
   ],
   "source": [
    "ans_dict"
   ]
  },
  {
   "cell_type": "markdown",
   "metadata": {},
   "source": [
    "# 整合"
   ]
  },
  {
   "cell_type": "code",
   "execution_count": 40,
   "metadata": {},
   "outputs": [],
   "source": [
    "final_res = {}\n",
    "final_res['answer'] = ans_dict\n",
    "final_res['sp'] = sup_dict"
   ]
  },
  {
   "cell_type": "code",
   "execution_count": 41,
   "metadata": {},
   "outputs": [
    {
     "data": {
      "text/plain": [
       "{'answer': {'5a8b57f25542995d1e6f1371': ' Scott Derrickson and Ed Wood of the same nationality</s></s> In Doctor Strange surgeon Strange learns the mystic arts after a career ending car accident   It stars Ethan Hawke as fictional true crime writer Ellison Oswalt who discovers a box of home movies in his attic that puts his family in danger   With Gunn he has scored',\n",
       "  '5a8c7595554299585d9e36b6': ''},\n",
       " 'sp': {'5a8b57f25542995d1e6f1371': [['Doctor Strange (2016 film)', 1],\n",
       "   ['Woodson, Arkansas', 2],\n",
       "   ['Adam Collis', 1]],\n",
       "  '5a8c7595554299585d9e36b6': [['Village accountant', 0],\n",
       "   ['Charles Craft', 3],\n",
       "   ['Charles Craft', 4]]}}"
      ]
     },
     "execution_count": 41,
     "metadata": {},
     "output_type": "execute_result"
    }
   ],
   "source": [
    "final_res"
   ]
  },
  {
   "cell_type": "code",
   "execution_count": null,
   "metadata": {},
   "outputs": [],
   "source": []
  },
  {
   "cell_type": "code",
   "execution_count": null,
   "metadata": {},
   "outputs": [],
   "source": []
  },
  {
   "cell_type": "code",
   "execution_count": null,
   "metadata": {},
   "outputs": [],
   "source": []
  },
  {
   "cell_type": "code",
   "execution_count": null,
   "metadata": {},
   "outputs": [],
   "source": []
  },
  {
   "cell_type": "code",
   "execution_count": null,
   "metadata": {},
   "outputs": [],
   "source": []
  }
 ],
 "metadata": {
  "kernelspec": {
   "display_name": "Python 3",
   "language": "python",
   "name": "python3"
  },
  "language_info": {
   "codemirror_mode": {
    "name": "ipython",
    "version": 3
   },
   "file_extension": ".py",
   "mimetype": "text/x-python",
   "name": "python",
   "nbconvert_exporter": "python",
   "pygments_lexer": "ipython3",
   "version": "3.7.6"
  },
  "toc": {
   "base_numbering": 1,
   "nav_menu": {},
   "number_sections": true,
   "sideBar": true,
   "skip_h1_title": false,
   "title_cell": "Table of Contents",
   "title_sidebar": "Contents",
   "toc_cell": true,
   "toc_position": {
    "height": "calc(100% - 180px)",
    "left": "10px",
    "top": "150px",
    "width": "165px"
   },
   "toc_section_display": true,
   "toc_window_display": true
  }
 },
 "nbformat": 4,
 "nbformat_minor": 4
}
