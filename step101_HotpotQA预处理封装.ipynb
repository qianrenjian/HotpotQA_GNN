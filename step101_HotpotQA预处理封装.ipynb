{
 "cells": [
  {
   "cell_type": "markdown",
   "metadata": {},
   "source": [
    "# 初始化"
   ]
  },
  {
   "cell_type": "code",
   "execution_count": 1,
   "metadata": {
    "code_folding": []
   },
   "outputs": [],
   "source": [
    "json_train_path = r'./data/hotpot_train_v1.1.json'\n",
    "HotpotQA_path = './'\n",
    "save_cache_path = 'save_cache/'\n",
    "use_proxy = 1\n",
    "proxies={\"http_proxy\": \"127.0.0.1:10809\",\n",
    "        \"https_proxy\": \"127.0.0.1:10809\"} if use_proxy else None"
   ]
  },
  {
   "cell_type": "code",
   "execution_count": 2,
   "metadata": {},
   "outputs": [],
   "source": [
    "import ujson as json\n",
    "import torch\n",
    "import torch.nn as nn\n",
    "import numpy as np\n",
    "import time\n",
    "import pickle\n",
    "\n",
    "DEVICE = 'cuda' if torch.cuda.is_available() else 'cpu'"
   ]
  },
  {
   "cell_type": "code",
   "execution_count": 3,
   "metadata": {},
   "outputs": [
    {
     "data": {
      "text/plain": [
       "dict_keys(['supporting_facts', 'level', 'question', 'context', 'answer', '_id', 'type'])"
      ]
     },
     "execution_count": 3,
     "metadata": {},
     "output_type": "execute_result"
    }
   ],
   "source": [
    "with open(json_train_path, 'r', encoding='utf-8') as fp:\n",
    "    json_train = json.load(fp)\n",
    "    \n",
    "json_train[0].keys()"
   ]
  },
  {
   "cell_type": "markdown",
   "metadata": {},
   "source": [
    "# classes"
   ]
  },
  {
   "cell_type": "code",
   "execution_count": 4,
   "metadata": {
    "code_folding": [
     0,
     33,
     79,
     129,
     182,
     219
    ]
   },
   "outputs": [],
   "source": [
    "class BaseNode(object):\n",
    "    '''Node class for graph'''\n",
    "    \n",
    "    def __init__(self, node_id, node_type, parent_id,\n",
    "                 content_raw, content_tokens=None, cls_feature=None):\n",
    "        \n",
    "        self.node_id = node_id\n",
    "        self.node_type = node_type\n",
    "        self.parent_id = parent_id\n",
    "\n",
    "        self.content_raw = content_raw\n",
    "        self.content_tokens = content_tokens\n",
    "\n",
    "        self.cls_feature = cls_feature # final features. [1,dim]\n",
    "        \n",
    "    @classmethod\n",
    "    def build(cls):\n",
    "        raise NotImplementedError\n",
    "        \n",
    "    def to_serializable(self):\n",
    "        raise NotImplementedError\n",
    "\n",
    "    @classmethod\n",
    "    def from_serializable(cls, contents):\n",
    "        raise NotImplementedError\n",
    "\n",
    "    def __str__(self):\n",
    "        raise NotImplementedError\n",
    "    \n",
    "    def __repr__(self):\n",
    "        raise NotImplementedError\n",
    "\n",
    "\n",
    "class QuestionNode(BaseNode):\n",
    "    def __init__(self,node_id, node_type, parent_id, content_raw, content_tokens,\n",
    "                 answer, answer_tokens, ques_type, cls_feature=None):\n",
    "        super(QuestionNode, self).__init__(node_id, node_type, parent_id, \n",
    "                                           content_raw,content_tokens,cls_feature)\n",
    "\n",
    "        self.question = self.content_raw\n",
    "        self.answer = answer\n",
    "        self.answer_tokens = answer_tokens\n",
    "        self.ques_type = ques_type\n",
    "\n",
    "    @classmethod\n",
    "    def build(cls, node_id, parent_id, content_raw,\n",
    "                answer, ques_type):\n",
    "        \n",
    "        node_type = 'Question'\n",
    "        answer_tokens = tokenizer.tokenize(answer)\n",
    "        content_tokens = tokenizer.tokenize(content_raw)\n",
    "        return cls(node_id, node_type, parent_id, content_raw, content_tokens,\\\n",
    "                    answer, answer_tokens, ques_type)\n",
    "\n",
    "    def to_serializable(self):\n",
    "        return {\n",
    "            'node_id': self.node_id,\n",
    "            'node_type': self.node_type,\n",
    "            'parent_id': self.parent_id,\n",
    "            'content_raw': self.content_raw,\n",
    "            'content_tokens': self.content_tokens,\n",
    "            'answer': self.answer,\n",
    "            'answer_tokens': self.answer_tokens,\n",
    "            'ques_type': self.ques_type,\n",
    "            'cls_feature': self.cls_feature.tolist(),\n",
    "               }\n",
    "\n",
    "    @classmethod\n",
    "    def from_serializable(cls, state_dicts):\n",
    "        state_dicts['cls_feature'] = torch.tensor(state_dicts['cls_feature'])\n",
    "        return cls(**state_dicts)\n",
    "    \n",
    "    def __str__(self):\n",
    "        return f'QuestionNode: {self.node_id}'\n",
    "    \n",
    "    def __repr__(self):\n",
    "        return self.__str__()\n",
    "\n",
    "\n",
    "class ParagraphTitleNode(BaseNode):\n",
    "    '''不含整个段落, 只含有title'''\n",
    "    def __init__(self,node_id, node_type, parent_id, content_raw, content_tokens,\n",
    "                 content_NER_list = None, cls_feature=None, is_support=False):\n",
    "        super(ParagraphTitleNode, self).__init__(node_id, node_type, parent_id, \n",
    "                                           content_raw,content_tokens,cls_feature)\n",
    "\n",
    "        self.content_NER_list = content_NER_list\n",
    "\n",
    "        self.is_support = is_support # 段落 句子 \n",
    "\n",
    "    @classmethod\n",
    "    def build(cls, node_id, parent_id, content_raw):\n",
    "\n",
    "        _, content_NER_list = find_NER_in_spacy(content_raw, ner=True)\n",
    "        content_tokens = tokenizer.tokenize(content_raw)\n",
    "#          content_NER_list = find_NER_in_Model(content_raw, content_tokens)\n",
    "        # content_tokens: NO CLS.\n",
    "\n",
    "        node_type = 'Paragraph'\n",
    "        return cls(node_id, node_type, parent_id, content_raw, content_tokens,\\\n",
    "                    content_NER_list)\n",
    "    \n",
    "    def set_support(self):\n",
    "        self.is_support = True\n",
    "\n",
    "    def to_serializable(self):\n",
    "        return {\n",
    "            'node_id': self.node_id,\n",
    "            'node_type': self.node_type,\n",
    "            'parent_id': self.parent_id,\n",
    "            'content_raw': self.content_raw,\n",
    "            'content_tokens': self.content_tokens,\n",
    "            'content_NER_list': self.content_NER_list,\n",
    "            'cls_feature': self.cls_feature.tolist(),\n",
    "            'is_support': self.is_support,\n",
    "               }\n",
    "\n",
    "    @classmethod\n",
    "    def from_serializable(cls, state_dicts):\n",
    "        state_dicts['cls_feature'] = torch.tensor(state_dicts['cls_feature'])\n",
    "        return cls(**state_dicts)\n",
    "        \n",
    "    def __str__(self):\n",
    "        return f'ParagraphTitleNode: {self.node_id}'\n",
    "    \n",
    "    def __repr__(self):\n",
    "        return self.__str__()\n",
    "\n",
    "\n",
    "class SentenceNode(BaseNode):\n",
    "    def __init__(self,node_id, node_type, parent_id, content_raw, content_tokens,\\\n",
    "                    content_NER_list = None, cls_feature=None, is_support = False):\n",
    "        super(SentenceNode, self).__init__(node_id, node_type, parent_id, \n",
    "                                           content_raw,content_tokens,cls_feature)\n",
    "\n",
    "        self.content_NER_list = content_NER_list\n",
    "\n",
    "        self.is_support = is_support # 段落 句子 \n",
    "\n",
    "    @classmethod\n",
    "    def build(cls, node_id, parent_id, content_raw):\n",
    "\n",
    "        _, content_NER_list = find_NER_in_spacy(content_raw, ner=True)\n",
    "        content_tokens = tokenizer.tokenize(content_raw)\n",
    "#          content_NER_list = find_NER_in_Model(content_raw, content_tokens)\n",
    "        # content_tokens: NO CLS.\n",
    "\n",
    "        node_type = 'Sentence'\n",
    "        return cls(node_id, node_type, parent_id, content_raw, content_tokens,\\\n",
    "                    content_NER_list)\n",
    "\n",
    "    def set_support(self):\n",
    "        self.is_support = True\n",
    "\n",
    "    def get_NER_tuples_list(self):\n",
    "        '''返回NER元组. e.g. [('ALLPE',id), ('DELL',id)]'''\n",
    "        return [(i['content'], self.node_id) for i in self.content_NER_list]\n",
    "\n",
    "    def to_serializable(self):\n",
    "        return {\n",
    "            'node_id': self.node_id,\n",
    "            'node_type': self.node_type,\n",
    "            'parent_id': self.parent_id,\n",
    "            'content_raw': self.content_raw,\n",
    "            'content_tokens': self.content_tokens,\n",
    "            'content_NER_list': self.content_NER_list,\n",
    "            'cls_feature': self.cls_feature.tolist(),\n",
    "            'is_support': self.is_support,\n",
    "               }\n",
    "\n",
    "    @classmethod\n",
    "    def from_serializable(cls, state_dicts):\n",
    "        state_dicts['cls_feature'] = torch.tensor(state_dicts['cls_feature'])\n",
    "        return cls(**state_dicts)\n",
    "    \n",
    "    def __str__(self):\n",
    "        return f'SentenceNode: {self.node_id}'\n",
    "    \n",
    "    def __repr__(self):\n",
    "        return self.__str__()\n",
    "\n",
    "\n",
    "class EntityNode(BaseNode):\n",
    "    def __init__(self,node_id, node_type, parent_id, content_raw, \n",
    "                 content_tokens, cls_feature=None):\n",
    "        super(EntityNode, self).__init__(node_id, node_type, parent_id, \n",
    "                                           content_raw,content_tokens,cls_feature)\n",
    "\n",
    "    @classmethod\n",
    "    def build(cls, node_id, parent_id, content_raw):\n",
    "\n",
    "        node_type = 'Entity'\n",
    "        content_tokens = tokenizer.tokenize(content_raw)\n",
    "        return cls(node_id, node_type, parent_id, content_raw,content_tokens)\n",
    "    \n",
    "    def to_serializable(self):\n",
    "        return {\n",
    "            'node_id': self.node_id,\n",
    "            'node_type': self.node_type,\n",
    "            'parent_id': self.parent_id,\n",
    "            'content_raw': self.content_raw,\n",
    "            'content_tokens': self.content_tokens,\n",
    "            'cls_feature': self.cls_feature.tolist(),\n",
    "               }\n",
    "\n",
    "    @classmethod\n",
    "    def from_serializable(cls, state_dicts):\n",
    "        state_dicts['cls_feature'] = torch.tensor(state_dicts['cls_feature'])\n",
    "        return cls(**state_dicts)\n",
    "        \n",
    "    def __str__(self):\n",
    "        return f'EntityNode: {self.node_id}'\n",
    "    \n",
    "    def __repr__(self):\n",
    "        return self.__str__()\n",
    "\n",
    "import scipy.sparse as sp\n",
    "import numpy as np\n",
    "\n",
    "class Adjacency_sp():\n",
    "    '''无重复稀疏邻接矩阵'''\n",
    "    def __init__(self, v_i_j=[]):\n",
    "        self.v_i_j = v_i_j\n",
    "        self.i_j_find_table = []\n",
    "\n",
    "    def append(self, v, i, j):\n",
    "        if not (i,j) in self.i_j_find_table:\n",
    "            self.v_i_j.append([v,i,j])\n",
    "            self.i_j_find_table.append((i,j))\n",
    "    \n",
    "    def to_dense(self):\n",
    "        '''return numpy ndarray.'''\n",
    "        np_adj = np.array(self.v_i_j)\n",
    "        node_len = max(max(np_adj[:, 1]), max(np_adj[:, 2])) + 1\n",
    "        full_adj = sp.coo_matrix((np_adj[:, 0], (np_adj[:, 1], np_adj[:, 2])), \n",
    "                                 shape=(node_len,node_len), dtype=np.float32).todense()\n",
    "        full_adj = np.array(full_adj) + np.eye(node_len,node_len)\n",
    "        return full_adj\n",
    "\n",
    "    def to_dense_symmetric(self):\n",
    "        '''self-loop symmetric adj matrix.'''\n",
    "        np_adj = np.array(self.v_i_j)\n",
    "        node_len = max(max(np_adj[:, 1]), max(np_adj[:, 2])) + 1\n",
    "        adj = sp.coo_matrix((np_adj[:, 0], (np_adj[:, 1], np_adj[:, 2])), \n",
    "                            shape=(node_len,node_len), dtype=np.float32)\n",
    "        adj_symm = adj + adj.T.multiply(adj.T > adj) - adj.multiply(adj.T > adj).todense()\n",
    "        adj_symm = np.array(adj_symm) + np.eye(node_len,node_len)\n",
    "        return adj_symm\n",
    "\n",
    "    def to_serializable(self):\n",
    "        return {\n",
    "            'v_i_j': self.v_i_j,\n",
    "               }\n",
    "\n",
    "    @classmethod\n",
    "    def from_serializable(cls, state_dicts):\n",
    "        return cls(**state_dicts)\n",
    "    \n",
    "    def __repr__(self):\n",
    "        np_adj = np.array(self.v_i_j)\n",
    "        return f'Adjacency_sp has {len(self.v_i_j)} edges {max(max(np_adj[:, 1]), max(np_adj[:, 2])) + 1} nodes.'\n",
    "    def __str__(self):\n",
    "        return self.__repr__()\n",
    "    def __len__(self):\n",
    "        return len(self.v_i_j)"
   ]
  },
  {
   "cell_type": "code",
   "execution_count": 5,
   "metadata": {
    "code_folding": [
     0
    ]
   },
   "outputs": [],
   "source": [
    "def auto_reload_Node(state_dicts):\n",
    "    node_type = state_dicts['node_type']\n",
    "    if node_type == 'Question':\n",
    "        return QuestionNode.from_serializable(state_dicts)\n",
    "    elif node_type == 'Paragraph':\n",
    "        return ParagraphTitleNode.from_serializable(state_dicts)\n",
    "    elif node_type == 'Sentence':\n",
    "        return SentenceNode.from_serializable(state_dicts)\n",
    "    elif node_type == 'Entity':\n",
    "        return EntityNode.from_serializable(state_dicts)\n",
    "    else:\n",
    "        raise"
   ]
  },
  {
   "cell_type": "markdown",
   "metadata": {},
   "source": [
    "# ner"
   ]
  },
  {
   "cell_type": "code",
   "execution_count": null,
   "metadata": {
    "colab": {
     "base_uri": "https://localhost:8080/",
     "height": 258,
     "referenced_widgets": [
      "92c846f03e0c4d06b518d624095d113d",
      "b3acb9e750794fd68fd8ae8eb5d2c91c",
      "042a53c6472a4e8991cb0c14dca2fd8a",
      "83f91590075345eda4c12163d74bfb7f",
      "df201137d18f4a27b798c0733bea7711",
      "9c147c0f5f0c40f094fba7a8f451075f",
      "05e7c6af5ade4956bbb20e3844b3d99c",
      "bf2de5ad2a3d4bf8b973a2bc2dae76d1",
      "6deab0e22f084a4d8f57d5160cf5fd49",
      "13fb14ae019d4da693de0d133615b8a0",
      "9088a1261bf1401da098e1d698d673c6",
      "0bc249865c2641128f108a8e0ef19f82",
      "460810d3f53d46f9ad440e7837191449",
      "b62e1a58e4eb4b14b62b7e7bbaeb834d",
      "65b1940ed8854d928764f0e30928bbb3",
      "1a8823cb3bf94dfa9f279661b89045f2",
      "d712993961634f32b8e6b16bad7463da",
      "bb0a41d8cf4e4a51a6e76e1534c5e456",
      "437426565c5a4f0babe0eff95d84ddc7",
      "ebeecc000e9245ed8cbbb96b3d97206f",
      "7ff3e073a1e94e5384c234646d7fa881",
      "39b9a5358f104f47af19e64741ef4408",
      "b882872d552c400fa5fca758b47e5877",
      "61fe132c4bf846feaa0b9df5f1a29a4e",
      "73cd231d1da048a0835985ec80e11dd8",
      "1eb682e4616f4c688f14559f0b71b9d7",
      "b8f106822c68465382b5d10be3a5b106",
      "104cf01aa4f641edbaeb1e5927b919cd",
      "153cee48d1cf458a8d6658fa389411fa",
      "9054b0e935e0448eb43f5b2826e20df5",
      "760a89d1f3794fc5915052e2549eac5c",
      "bf4b4719d4f147f288e63cb3b2c2264e"
     ]
    },
    "colab_type": "code",
    "deletable": false,
    "editable": false,
    "executionInfo": {
     "elapsed": 61578,
     "status": "ok",
     "timestamp": 1583386053105,
     "user": {
      "displayName": "597709514@qq.com",
      "photoUrl": "https://lh3.googleusercontent.com/a-/AOh14GiZ4b29y22LPZ8tUnu62hIRC6jZFH5v8X6Jes57=s64",
      "userId": "03859811009091074275"
     },
     "user_tz": -480
    },
    "id": "_ZARV3x7aJK9",
    "outputId": "616bdfaa-9a81-423c-ab43-42eb4c1bbe52",
    "run_control": {
     "frozen": true
    }
   },
   "outputs": [],
   "source": [
    "from transformers import AutoModelForTokenClassification, AutoTokenizer\n",
    "\n",
    "model_NER = AutoModelForTokenClassification.from_pretrained(\"dbmdz/bert-large-cased-finetuned-conll03-english\",\n",
    "                                                           proxies = proxies)\n",
    "tokenizer = AutoTokenizer.from_pretrained(\"bert-large-cased-whole-word-masking\",\n",
    "                                         proxies = proxies)\n",
    "\n",
    "_ = model_NER.to(DEVICE)"
   ]
  },
  {
   "cell_type": "code",
   "execution_count": null,
   "metadata": {
    "code_folding": [
     5
    ],
    "deletable": false,
    "editable": false,
    "run_control": {
     "frozen": true
    }
   },
   "outputs": [],
   "source": [
    "def tokensizer_in_Model(content_raw, special=False, tokenizer = tokenizer):\n",
    "    tokens = tokenizer.tokenize(tokenizer.decode(tokenizer.encode(content_raw)))\n",
    "    if special: return tokens\n",
    "    else: return tokens[1:-1]\n",
    "\n",
    "def find_NER_in_Model(content_raw, tokens=None, model=model_NER, tokenizer = tokenizer):\n",
    "    '''返回: tokens[1:-1], inputs, entities_list\n",
    "    第一个是不包含[CLS] [SEP]的分词序列(content_tokens是包含的).\n",
    "    第二个是实体列表.'''\n",
    "    label_list = [\n",
    "        \"O\",       # Outside of a named entity\n",
    "        \"B-MISC\",  # Beginning of a miscellaneous entity right after another miscellaneous entity\n",
    "        \"I-MISC\",  # Miscellaneous entity\n",
    "        \"B-PER\",   # Beginning of a person's name right after another person's name\n",
    "        \"I-PER\",   # Person's name\n",
    "        \"B-ORG\",   # Beginning of an organisation right after another organisation\n",
    "        \"I-ORG\",   # Organisation\n",
    "        \"B-LOC\",   # Beginning of a location right after another location\n",
    "        \"I-LOC\"    # Location\n",
    "        ]\n",
    "    # Bit of a hack to get the tokens with the special tokens\n",
    "    if not tokens: tokens = tokenizer.tokenize(tokenizer.decode(tokenizer.encode(content_raw)))\n",
    "    inputs = tokenizer.encode(content_raw, return_tensors='pt').to(DEVICE)\n",
    "    outputs = model_NER(inputs)[0]\n",
    "    predictions = torch.argmax(outputs, dim=2)\n",
    "    # 去除 [cls] [sep]\n",
    "    res = [(token, label_list[prediction]) for token, prediction in zip(tokens, predictions[0].tolist())][1:-1]\n",
    "    # print(predictions)\n",
    "    # print(res)\n",
    "\n",
    "    entities_list = []\n",
    "    cursor_1 = 0\n",
    "    cursor_2 = 0\n",
    "\n",
    "    while cursor_1 < len(res):\n",
    "        entities_dict = {}\n",
    "        temp = []\n",
    "        if res[cursor_1][1] == 'O': \n",
    "            cursor_1+=1\n",
    "            continue\n",
    "        \n",
    "        entities_dict['type'] = res[cursor_1][1]\n",
    "        entities_dict['span_start'] = cursor_1\n",
    "        temp.append(res[cursor_1][0])\n",
    "        cursor_2 = cursor_1 + 1\n",
    "        while cursor_2 < len(res):\n",
    "            if res[cursor_2][1] == 'O':\n",
    "                cursor_1 = cursor_2 + 1\n",
    "                break\n",
    "            \n",
    "            temp.append(res[cursor_2][0])\n",
    "            cursor_2 += 1\n",
    "        \n",
    "        cursor_1 += cursor_2\n",
    "        entities_dict['content'] = ' '.join(temp).replace(' ##', '')\n",
    "        entities_dict['content_tokens'] = temp\n",
    "        entities_list.append(entities_dict)\n",
    "\n",
    "    return tokens[1:-1], entities_list"
   ]
  },
  {
   "cell_type": "code",
   "execution_count": 6,
   "metadata": {},
   "outputs": [],
   "source": [
    "from transformers import XLNetTokenizer\n",
    "\n",
    "model_path = '/g/data/models/xlnet-large-cased'\n",
    "tokenizer = XLNetTokenizer.from_pretrained(model_path)"
   ]
  },
  {
   "cell_type": "code",
   "execution_count": 7,
   "metadata": {},
   "outputs": [],
   "source": [
    "def tokensizer_in_Model(content_raw, special=False, tokenizer = tokenizer):\n",
    "    tokens = tokenizer.tokenize(content_raw)\n",
    "    return tokens"
   ]
  },
  {
   "cell_type": "code",
   "execution_count": 8,
   "metadata": {
    "colab": {},
    "colab_type": "code",
    "id": "8to-ov_oZ4Zm"
   },
   "outputs": [],
   "source": [
    "import spacy\n",
    "spacy.prefer_gpu()\n",
    "nlp = spacy.load(\"en_core_web_lg\")\n",
    "# 使用BERT进行fine-turning,文本也应该使用bert进行分词,以确保embedding的一致性.\n",
    "# 这要求ner模块能够接受分好词的list,而不是自己进行分词,否则实体span获取不准确."
   ]
  },
  {
   "cell_type": "code",
   "execution_count": 9,
   "metadata": {
    "code_folding": [
     0
    ],
    "colab": {},
    "colab_type": "code",
    "id": "m_iyjbfHZ4b6"
   },
   "outputs": [],
   "source": [
    "def find_NER_in_spacy(raw_content, nlp = nlp, tokensize=False, ner=False, \\\n",
    "                      exclude_list = ['PERCENT', 'MONEY', 'QUANTITY', 'ORDINAL', 'CARDINAL']):\n",
    "    '''使用spacy进行NER.\n",
    "    标注解释: https://spacy.io/api/annotation\n",
    "    '''\n",
    "    res_nlp = nlp(raw_content)\n",
    "    tokens = None\n",
    "    if tokensize:\n",
    "        tokens =  [str(i) for i in res_nlp.doc]\n",
    "    \n",
    "    entities_list = None\n",
    "    if ner:\n",
    "        entities_list = []\n",
    "        for item in res_nlp.ents:\n",
    "            if item.label_ in exclude_list: continue\n",
    "            entities_dict = {}\n",
    "            entities_dict['type'] = item.label_\n",
    "            entities_dict['span_start'] = item.start\n",
    "            entities_dict['content'] = item.text\n",
    "            entities_dict['span_end'] = item.end\n",
    "            entities_list.append(entities_dict)\n",
    "        # print(dir(item))\n",
    "    return tokens, entities_list"
   ]
  },
  {
   "cell_type": "code",
   "execution_count": null,
   "metadata": {},
   "outputs": [],
   "source": []
  },
  {
   "cell_type": "markdown",
   "metadata": {},
   "source": [
    "# 构建图"
   ]
  },
  {
   "cell_type": "code",
   "execution_count": 10,
   "metadata": {
    "code_folding": [
     1,
     11
    ]
   },
   "outputs": [],
   "source": [
    "# 返回Q-paragraph(for BERT); adj; node_list\n",
    "edge_type_map = {\n",
    "    'Q_P':1,\n",
    "    'Q_E':2,\n",
    "    'P_S':3,\n",
    "    'S_P_hyper':4,\n",
    "    'S_E':5,\n",
    "    'P_P':6,\n",
    "    'S_S':7,\n",
    "}\n",
    "\n",
    "def create_ques_info_dict():\n",
    "    # 每个question item由5个元素组成\n",
    "    ques_info_dict={}\n",
    "    ques_info_dict['id'] = None\n",
    "    ques_info_dict['node_list'] = None\n",
    "    ques_info_dict['sp_adj'] = None\n",
    "    return ques_info_dict"
   ]
  },
  {
   "cell_type": "code",
   "execution_count": 11,
   "metadata": {
    "code_folding": [
     3,
     30
    ]
   },
   "outputs": [],
   "source": [
    "from collections import defaultdict\n",
    "from traceback import print_exc\n",
    "\n",
    "def process(item):\n",
    "    '''sub-function for multi-processes function.'''\n",
    "    ques_info_dict = create_ques_info_dict()\n",
    "\n",
    "    supporting_facts = defaultdict(list)\n",
    "    for s_fact in item['supporting_facts']:\n",
    "        supporting_facts[s_fact[0]].append(s_fact[1])\n",
    "\n",
    "    level = item['level']\n",
    "    question = item['question']\n",
    "    context = item['context']\n",
    "    answer = item['answer']\n",
    "    Q_id = item['_id']\n",
    "    Q_type = item['type']\n",
    "\n",
    "    ques_info_dict['id'] = Q_id\n",
    "\n",
    "    node_list = []\n",
    "    sp_adj = Adjacency_sp([])\n",
    "    index_cursor = 0\n",
    "    \n",
    "    Q_node_cursor = index_cursor    \n",
    "    Q_node = QuestionNode.build(Q_node_cursor, -1, question,\n",
    "                               answer = answer, ques_type = Q_type)\n",
    "    \n",
    "    node_list.append(Q_node)\n",
    "    \n",
    "    for p_index, paragraph in enumerate(context):\n",
    "        paragraph_label = 0\n",
    "\n",
    "        title = paragraph[0]\n",
    "        \n",
    "        index_cursor += 1\n",
    "\n",
    "        # 添加P-1和P\n",
    "        try:\n",
    "            if index_cursor != 0: sp_adj.append(edge_type_map['P_P'], P_node_cursor, index_cursor) \n",
    "        except (NameError): # 首次调用P_node_cursor会报错\n",
    "            pass\n",
    "        P_node_cursor = index_cursor\n",
    "        P_node = ParagraphTitleNode.build(P_node_cursor, Q_node_cursor, title)\n",
    "        \n",
    "        # 判断 support paragraph\n",
    "        if title in supporting_facts.keys():\n",
    "            paragraph_label = 1\n",
    "            P_node.set_support()\n",
    "        node_list.append(P_node)\n",
    "        \n",
    "        # 添加Q和P\n",
    "        sp_adj.append(edge_type_map['Q_P'], Q_node_cursor, P_node_cursor)\n",
    "\n",
    "        for s_index, sentence in enumerate(paragraph[1]):\n",
    "            S_id = f'{Q_id}_{p_index}_{s_index}'\n",
    "\n",
    "            index_cursor += 1\n",
    "            S_node_cursor = index_cursor\n",
    "            S_node = SentenceNode.build(S_node_cursor, P_node_cursor, sentence)\n",
    "            \n",
    "            # 判断support fact\n",
    "            if (paragraph_label == 1) and (s_index in supporting_facts[title]):\n",
    "                S_node.set_support()\n",
    "            node_list.append(S_node)\n",
    "\n",
    "            # 添加S之间边; P和S之间边\n",
    "            if s_index != 0:\n",
    "                sp_adj.append(edge_type_map['S_S'], S_node_cursor - 1 - _Entity_len, S_node_cursor)\n",
    "            sp_adj.append(edge_type_map['P_S'], P_node_cursor, S_node_cursor)\n",
    "\n",
    "            # 添加S和E之间边\n",
    "            _Entity_len = len(S_node.content_NER_list)\n",
    "            for entities_dict in S_node.content_NER_list:\n",
    "                index_cursor += 1\n",
    "                E_node_cursor = index_cursor\n",
    "                E_node = EntityNode.build(E_node_cursor, S_node_cursor,\n",
    "                                          entities_dict['content'])\n",
    "#                 E_node.set_span_in_sentence(entities_dict['span_start'])\n",
    "\n",
    "                node_list.append(E_node)\n",
    "                sp_adj.append(edge_type_map['S_E'], S_node_cursor, E_node_cursor)\n",
    "              \n",
    "    # in item loop\n",
    "    # 连接Q节点和E节点.\n",
    "    E_nodes_in_Q = [i for i in node_list if i.node_type == 'Entity' \\\n",
    "                    and i.content_raw.replace(' ','') in question.replace(' ','')]\n",
    "    for i in E_nodes_in_Q:\n",
    "        sp_adj.append(edge_type_map['Q_E'], Q_node_cursor, i.node_id)\n",
    "    \n",
    "    # 连接S和P节点\n",
    "    S_nodes = [i for i in node_list if i.node_type == 'Sentence']\n",
    "    E_nodes = [i for i in node_list if i.node_type == 'Entity']\n",
    "    for E_n in E_nodes:\n",
    "        entity = E_n.content_raw.replace(' ','')\n",
    "        for S_n in S_nodes:\n",
    "            if entity in S_n.content_raw.replace(' ',''):\n",
    "                sp_adj.append(edge_type_map['S_P_hyper'], node_list[E_n.parent_id].node_id, node_list[S_n.parent_id].node_id)\n",
    "            \n",
    "    if len(node_list) != sp_adj.to_dense_symmetric().shape[0]:\n",
    "        print(node_list)\n",
    "        for i,(v_i_j) in enumerate(sp_adj.v_i_j): print(f\"{i}:\\t{v_i_j}\")\n",
    "        raise AssertionError\n",
    "        \n",
    "    ques_info_dict['node_list'] = node_list\n",
    "    ques_info_dict['sp_adj'] = sp_adj\n",
    "    return ques_info_dict"
   ]
  },
  {
   "cell_type": "code",
   "execution_count": 49,
   "metadata": {
    "code_folding": [],
    "deletable": false,
    "editable": false,
    "run_control": {
     "frozen": true
    }
   },
   "outputs": [],
   "source": [
    "from tqdm.notebook import tqdm\n",
    "def preprocessing(item_num = 5):\n",
    "    item_num = None if item_num<0 else item_num\n",
    "    \n",
    "    resturn_list = [] \n",
    "    for item in tqdm(json_train[:item_num]):\n",
    "        resturn_list.append(process(item))\n",
    "    \n",
    "    return resturn_list"
   ]
  },
  {
   "cell_type": "code",
   "execution_count": 50,
   "metadata": {
    "deletable": false,
    "editable": false,
    "run_control": {
     "frozen": true
    }
   },
   "outputs": [
    {
     "data": {
      "application/vnd.jupyter.widget-view+json": {
       "model_id": "d1cbc7845c344f36a89e08d1f5163966",
       "version_major": 2,
       "version_minor": 0
      },
      "text/plain": [
       "HBox(children=(FloatProgress(value=0.0, max=20.0), HTML(value='')))"
      ]
     },
     "metadata": {},
     "output_type": "display_data"
    },
    {
     "name": "stdout",
     "output_type": "stream",
     "text": [
      "\n"
     ]
    }
   ],
   "source": [
    "hotpotQA_train_preprocess = preprocessing(20)"
   ]
  },
  {
   "cell_type": "code",
   "execution_count": null,
   "metadata": {},
   "outputs": [],
   "source": []
  },
  {
   "cell_type": "code",
   "execution_count": null,
   "metadata": {
    "deletable": false,
    "editable": false,
    "run_control": {
     "frozen": true
    }
   },
   "outputs": [],
   "source": [
    "from tqdm.notebook import tqdm\n",
    "from multiprocessing import Pool\n",
    "def preprocessing(item_num = 2, process_num = 1):\n",
    "    '''main multi-processes function.'''\n",
    "    item_num = None if item_num<0 else item_num\n",
    "    process_num = 1 if process_num<0 else process_num\n",
    "    \n",
    "    resturn_list = []\n",
    "    pbar = tqdm(total = len(json_train[:item_num]), desc = f'processing json items')\n",
    "    with Pool(process_num) as pool:\n",
    "        pool_iter = pool.imap(process, json_train[:item_num])\n",
    "        for i,r in enumerate(pool_iter):\n",
    "            resturn_list.append(r)\n",
    "            pbar.update()\n",
    "    return resturn_list"
   ]
  },
  {
   "cell_type": "code",
   "execution_count": null,
   "metadata": {
    "deletable": false,
    "editable": false,
    "run_control": {
     "frozen": true
    },
    "scrolled": false
   },
   "outputs": [],
   "source": [
    "hotpotQA_train_preprocess = preprocessing(100,16)"
   ]
  },
  {
   "cell_type": "code",
   "execution_count": null,
   "metadata": {},
   "outputs": [],
   "source": []
  },
  {
   "cell_type": "markdown",
   "metadata": {
    "deletable": false,
    "editable": false,
    "run_control": {
     "frozen": true
    }
   },
   "source": [
    "## 测试序列化"
   ]
  },
  {
   "cell_type": "code",
   "execution_count": 14,
   "metadata": {
    "deletable": false,
    "editable": false,
    "run_control": {
     "frozen": true
    }
   },
   "outputs": [
    {
     "data": {
      "text/plain": [
       "500"
      ]
     },
     "execution_count": 14,
     "metadata": {},
     "output_type": "execute_result"
    }
   ],
   "source": [
    "len(hotpotQA_train_preprocess)"
   ]
  },
  {
   "cell_type": "code",
   "execution_count": 16,
   "metadata": {
    "code_folding": [],
    "deletable": false,
    "editable": false,
    "run_control": {
     "frozen": true
    }
   },
   "outputs": [],
   "source": [
    "for ques_item in hotpotQA_train_preprocess:\n",
    "    for node in ques_item['node_list']:\n",
    "        node.cls_feature = torch.randn([1,768])\n",
    "    ques_item['node_list'] = [node.to_serializable() for node in ques_item['node_list']]\n",
    "    ques_item['sp_adj'] = ques_item['sp_adj'].to_serializable()"
   ]
  },
  {
   "cell_type": "code",
   "execution_count": 20,
   "metadata": {
    "code_folding": [],
    "deletable": false,
    "editable": false,
    "run_control": {
     "frozen": true
    }
   },
   "outputs": [
    {
     "name": "stdout",
     "output_type": "stream",
     "text": [
      "总用量 114G\r\n",
      "-rwxrwxrwx 1 root root 1.5G 3月  17 17:23 test500.json\r\n",
      "-rwxrwxrwx 1 root root  11G 3月  17 17:10 HotpotPrepro_5000.pkl\r\n",
      "-rwxrwxrwx 1 root root  12G 3月  17 16:46 HotpotPrepro_4500.pkl\r\n",
      "-rwxrwxrwx 1 root root  12G 3月  17 16:21 HotpotPrepro_4000.pkl\r\n",
      "-rwxrwxrwx 1 root root  11G 3月  17 15:57 HotpotPrepro_3500.pkl\r\n",
      "-rwxrwxrwx 1 root root  12G 3月  17 15:32 HotpotPrepro_3000.pkl\r\n",
      "-rwxrwxrwx 1 root root  12G 3月  17 15:08 HotpotPrepro_2500.pkl\r\n",
      "-rwxrwxrwx 1 root root  12G 3月  17 14:43 HotpotPrepro_2000.pkl\r\n",
      "-rwxrwxrwx 1 root root  12G 3月  17 14:19 HotpotPrepro_1500.pkl\r\n",
      "-rwxrwxrwx 1 root root  12G 3月  17 13:55 HotpotPrepro_1000.pkl\r\n",
      "-rwxrwxrwx 1 root root  12G 3月  17 13:31 HotpotPrepro_500.pkl\r\n"
     ]
    }
   ],
   "source": [
    "with open('save_preprocess/test500.json', 'w', encoding='utf-8') as fp:\n",
    "    json.dump(hotpotQA_train_preprocess, fp)\n",
    "!ls -hlt save_preprocess"
   ]
  },
  {
   "cell_type": "code",
   "execution_count": 24,
   "metadata": {
    "deletable": false,
    "editable": false,
    "run_control": {
     "frozen": true
    }
   },
   "outputs": [],
   "source": [
    "with open('save_preprocess/test500.json', 'r', encoding='utf-8') as fp:\n",
    "    reload_hotpotQA = json.load(fp)"
   ]
  },
  {
   "cell_type": "code",
   "execution_count": 25,
   "metadata": {
    "deletable": false,
    "editable": false,
    "run_control": {
     "frozen": true
    }
   },
   "outputs": [],
   "source": [
    "for ques_item in reload_hotpotQA:\n",
    "    ques_item['node_list'] = [auto_reload_Node(item) for item in ques_item['node_list']]\n",
    "    ques_item['sp_adj'] = Adjacency_sp.from_serializable(ques_item['sp_adj'])"
   ]
  },
  {
   "cell_type": "markdown",
   "metadata": {},
   "source": [
    "# get_features_from_XLNET\n",
    "\n",
    "下载地址:\n",
    "```http\n",
    "https://s3.amazonaws.com/models.huggingface.co/bert/xlnet-base-cased-pytorch_model.bin\n",
    "https://s3.amazonaws.com/models.huggingface.co/bert/xlnet-large-cased-pytorch_model.bin\n",
    "\n",
    "https://s3.amazonaws.com/models.huggingface.co/bert/xlnet-base-cased-config.json\n",
    "https://s3.amazonaws.com/models.huggingface.co/bert/xlnet-large-cased-config.json\n",
    "```\n",
    "\n",
    "文件名必须设置为:\n",
    "```bash\n",
    "/g/data/models/xlnet-base-cased# ll -hl\n",
    "\n",
    "-rwxrwxrwx 1 root root  691 3月  16 22:51 config.json*\n",
    "-rwxrwxrwx 1 root root 446M 3月  16 22:21 pytorch_model.bin*\n",
    "```"
   ]
  },
  {
   "cell_type": "code",
   "execution_count": 12,
   "metadata": {
    "code_folding": [
     0
    ]
   },
   "outputs": [],
   "source": [
    "def get_cls_feature_from_XLNET(text,text_pair=None,\n",
    "                            tokenizer = None,\n",
    "                            model = None,\n",
    "                            add_special_tokens = True,\n",
    "                           device = 'cuda',\n",
    "                           test_mode = False):\n",
    "    '''XLNET在512张TPU v3上训练5.5天得到. 一张TPU 8核心 128GB内存.'''\n",
    "    if test_mode: return torch.randn([30, 1, 768])   \n",
    "    assert model\n",
    "    model_input = tokenizer_XLNET.encode_plus(text,text_pair,\n",
    "                                        add_special_tokens=add_special_tokens,\n",
    "                                        return_tensors='pt')\n",
    "    \n",
    "    model_input = {k:v.to(device) for k,v in model_input.items()}\n",
    "    \n",
    "    # 不能在函数里面设置device.\n",
    "    # model.to(device)\n",
    "    with torch.no_grad():\n",
    "        last_hidden_state = model(**model_input)[0].cpu()[:,-1,:]\n",
    "    \n",
    "    del model_input\n",
    "    \n",
    "    return last_hidden_state"
   ]
  },
  {
   "cell_type": "code",
   "execution_count": 13,
   "metadata": {
    "code_folding": [
     1
    ]
   },
   "outputs": [],
   "source": [
    "from transformers import AutoConfig, AutoModel, AutoTokenizer\n",
    "\n",
    "model_name = 'xlnet-base-cased'\n",
    "\n",
    "proxies={\"http_proxy\": \"127.0.0.1:10809\",\n",
    "         \"https_proxy\": \"127.0.0.1:10809\"}\n",
    "proxies=None\n",
    "\n",
    "tokenizer_XLNET = AutoTokenizer.from_pretrained(model_name,proxies=proxies)"
   ]
  },
  {
   "cell_type": "code",
   "execution_count": 14,
   "metadata": {},
   "outputs": [],
   "source": [
    "model_path = '/g/data/models/xlnet-base-cased'\n",
    "\n",
    "model_XLNET01 = AutoModel.from_pretrained(model_path,local_files_only=True)\n",
    "model_XLNET01.eval()\n",
    "_ = model_XLNET01.to(DEVICE)\n",
    "\n",
    "# model_XLNET02 = AutoModel.from_pretrained(model_path,local_files_only=True)\n",
    "# _ = model_XLNET02.to(DEVICE)\n",
    "\n",
    "# model_XLNET03 = AutoModel.from_pretrained(model_path,local_files_only=True)\n",
    "# _ = model_XLNET03.to(DEVICE)\n",
    "\n",
    "# model_XLNET04 = AutoModel.from_pretrained(model_path,local_files_only=True)\n",
    "# _ = model_XLNET04.to(DEVICE)\n"
   ]
  },
  {
   "cell_type": "markdown",
   "metadata": {},
   "source": [
    "**注意**. 关于bert ner和XLNET获取features. 不同模型的分词结果不一样. 上文使用bert分词和ner, 目的是获取ner的`cls_features`. 之后只需使用原始句子, 重新进行分词, 计算`span`即可."
   ]
  },
  {
   "cell_type": "code",
   "execution_count": 15,
   "metadata": {},
   "outputs": [],
   "source": [
    "from traceback import print_exc"
   ]
  },
  {
   "cell_type": "code",
   "execution_count": 16,
   "metadata": {
    "code_folding": [
     0
    ],
    "scrolled": true
   },
   "outputs": [],
   "source": [
    "def build(index_item, test_mode = False):\n",
    "    index, ques_item = index_item[0], index_item[1]\n",
    "    if index % 1 == 0:\n",
    "        model_XLNET = model_XLNET01\n",
    "#     elif index % 2 == 1:\n",
    "#         model_XLNET = model_XLNET02\n",
    "#     elif index % 4 == 2:\n",
    "#         model_XLNET = model_XLNET03\n",
    "#     elif index % 4 == 3:\n",
    "#         model_XLNET = model_XLNET04\n",
    "        \n",
    "    try:\n",
    "        node_list = ques_item['node_list']\n",
    "        # Q node\n",
    "        Q_node = node_list[0]\n",
    "        Q_node.cls_feature = get_cls_feature_from_XLNET(Q_node.content_raw,\n",
    "                                                         tokenizer = tokenizer_XLNET,\n",
    "                                                          model = model_XLNET,\n",
    "                                                         device = DEVICE,\n",
    "                                                        test_mode=test_mode) # [1,N,D]\n",
    "#         Q_node.cls_feature = Q_node.content_features[:,-1,:]\n",
    "\n",
    "\n",
    "        # S node\n",
    "        for S_node in [i for i in node_list if i.node_type == 'Sentence']:\n",
    "            # content_features不能包含特殊字符.\n",
    "#             S_node.content_features = get_cls_feature_from_XLNET(S_node.content_raw,\n",
    "#                                                                 add_special_tokens=False,\n",
    "#                                                                 tokenizer = tokenizer_XLNET,\n",
    "#                                                                 model = model_XLNET,\n",
    "#                                                                 device = DEVICE)\n",
    "\n",
    "            S_node.cls_feature = get_cls_feature_from_XLNET(Q_node.content_raw, \n",
    "                                                            S_node.content_raw,\n",
    "                                                            add_special_tokens=True,\n",
    "                                                            tokenizer = tokenizer_XLNET,\n",
    "                                                            model = model_XLNET,\n",
    "                                                            device = DEVICE,\n",
    "                                                        test_mode=test_mode)   \n",
    "\n",
    "        # P node\n",
    "        for P_i, P_node in [(i,n) for i,n in enumerate(node_list) if n.node_type == 'Paragraph']:\n",
    "                S_in_P = [n for n in node_list if n.parent_id == P_i]\n",
    "                all_S_raw = ' '.join([n.content_raw for n in S_in_P])\n",
    "#                 P_node.content_features = [n.content_features for n in S_in_P]\n",
    "                P_node.cls_feature = get_cls_feature_from_XLNET(Q_node.content_raw, \n",
    "                                                                all_S_raw,\n",
    "                                                                add_special_tokens=True,\n",
    "                                                                tokenizer = tokenizer_XLNET,\n",
    "                                                                model = model_XLNET,\n",
    "                                                                device = DEVICE,\n",
    "                                                        test_mode=test_mode)\n",
    "\n",
    "        # E node\n",
    "        for E_node in [i for i in node_list if i.node_type == 'Entity']:\n",
    "#             start = E_node.start_in_sentence\n",
    "#             end = E_node.end_in_sentence\n",
    "    #         E_node.content_features = node_list[E_node.parent_id].content_features[:,start:end,:]\n",
    "    #         E_node.cls_feature = torch.mean(E_node.content_features, dim = 1)\n",
    "\n",
    "#             E_node.content_features = get_cls_feature_from_XLNET(E_node.content_raw,\n",
    "#                                                                 add_special_tokens=False,\n",
    "#                                                                 tokenizer = tokenizer_XLNET,\n",
    "#                                                                 model = model_XLNET,\n",
    "#                                                                 device = DEVICE)\n",
    "            E_node.cls_feature = get_cls_feature_from_XLNET(Q_node.content_raw,\n",
    "                                                            E_node.content_raw, \n",
    "                                                            add_special_tokens=True,\n",
    "                                                            tokenizer = tokenizer_XLNET,\n",
    "                                                            model = model_XLNET,\n",
    "                                                            device = DEVICE,\n",
    "                                                        test_mode=test_mode)\n",
    "\n",
    "            # 减负\n",
    "#             E_node.content_features = None\n",
    "\n",
    "        return (index,ques_item)\n",
    "    except:\n",
    "        print_exc()"
   ]
  },
  {
   "cell_type": "code",
   "execution_count": 76,
   "metadata": {
    "code_folding": [
     0
    ],
    "deletable": false,
    "editable": false,
    "run_control": {
     "frozen": true
    }
   },
   "outputs": [],
   "source": [
    "# 单进程\n",
    "from tqdm.notebook import tqdm\n",
    "\n",
    "def building_cls(item_num = 5):\n",
    "    item_num = None if item_num<0 else item_num\n",
    "    \n",
    "    resturn_list = [] \n",
    "    for item in tqdm(hotpotQA_train_preprocess[:item_num], desc = 'building features'):\n",
    "        resturn_list.append(_build(item))\n",
    "    \n",
    "    return resturn_list"
   ]
  },
  {
   "cell_type": "code",
   "execution_count": null,
   "metadata": {
    "deletable": false,
    "editable": false,
    "run_control": {
     "frozen": true
    }
   },
   "outputs": [],
   "source": [
    "hotpotQA_cls_feat = building_cls(20)"
   ]
  },
  {
   "cell_type": "code",
   "execution_count": 26,
   "metadata": {
    "deletable": false,
    "editable": false,
    "run_control": {
     "frozen": true
    },
    "scrolled": true
   },
   "outputs": [
    {
     "data": {
      "text/plain": [
       "5000"
      ]
     },
     "execution_count": 26,
     "metadata": {},
     "output_type": "execute_result"
    }
   ],
   "source": [
    "Hotpot_index_items = [(i, item) for i,item in enumerate(hotpotQA_train_preprocess)]\n",
    "len(Hotpot_index_items)"
   ]
  },
  {
   "cell_type": "code",
   "execution_count": 29,
   "metadata": {
    "code_folding": [],
    "deletable": false,
    "editable": false,
    "run_control": {
     "frozen": true
    }
   },
   "outputs": [],
   "source": [
    "from tqdm.notebook import tqdm\n",
    "from multiprocessing.dummy import Pool\n",
    "\n",
    "# torch.multiprocessing.set_start_method('spawn', force=True)\n",
    "# model_XLNET.share_memory()\n",
    "\n",
    "def multi_build(from_index = 0, to_index = None, thread_num = 1):\n",
    "    try:\n",
    "        thread_num = 1 if thread_num<0 else thread_num\n",
    "\n",
    "        resturn_list = []\n",
    "        pbar = tqdm(total = len(hotpotQA_train_preprocess[from_index:to_index]), desc = f'building features')\n",
    "        with Pool(thread_num) as pool:\n",
    "            pool_iter = pool.imap(_build, Hotpot_index_items[from_index:to_index])\n",
    "            for i,r in enumerate(pool_iter):\n",
    "                resturn_list.append(r)\n",
    "                pbar.update()\n",
    "        return resturn_list\n",
    "    except:\n",
    "        print (time.strftime(\"%Y-%m-%d %H:%M:%S\", time.localtime()))\n",
    "        print_exc()"
   ]
  },
  {
   "cell_type": "code",
   "execution_count": 34,
   "metadata": {
    "deletable": false,
    "editable": false,
    "run_control": {
     "frozen": true
    },
    "scrolled": true
   },
   "outputs": [
    {
     "data": {
      "application/vnd.jupyter.widget-view+json": {
       "model_id": "8f936bdaae1a46a1bf09c8f3ae3b78ca",
       "version_major": 2,
       "version_minor": 0
      },
      "text/plain": [
       "HBox(children=(FloatProgress(value=0.0, description='building features', max=20.0, style=ProgressStyle(descrip…"
      ]
     },
     "metadata": {},
     "output_type": "display_data"
    }
   ],
   "source": [
    "hotpotQA_preprocess_cls = multi_build(-1,1)\n",
    "# 20/20 [01:21<00:00, 4.25s/it]"
   ]
  },
  {
   "cell_type": "code",
   "execution_count": 30,
   "metadata": {
    "deletable": false,
    "editable": false,
    "run_control": {
     "frozen": true
    }
   },
   "outputs": [],
   "source": [
    "hotpotQA_preprocess_cls = []"
   ]
  },
  {
   "cell_type": "code",
   "execution_count": 31,
   "metadata": {
    "deletable": false,
    "editable": false,
    "run_control": {
     "frozen": true
    }
   },
   "outputs": [
    {
     "data": {
      "application/vnd.jupyter.widget-view+json": {
       "model_id": "783df18f012e498787ecff2126096671",
       "version_major": 2,
       "version_minor": 0
      },
      "text/plain": [
       "HBox(children=(FloatProgress(value=1.0, bar_style='info', description='building features', max=1.0, style=Prog…"
      ]
     },
     "metadata": {},
     "output_type": "display_data"
    }
   ],
   "source": [
    "hotpotQA_preprocess_cls.extend(multi_build(-1,1))"
   ]
  },
  {
   "cell_type": "code",
   "execution_count": 32,
   "metadata": {
    "deletable": false,
    "editable": false,
    "run_control": {
     "frozen": true
    }
   },
   "outputs": [
    {
     "data": {
      "application/vnd.jupyter.widget-view+json": {
       "model_id": "222fcdb1dd5d4c4f9ffdc23bdb464843",
       "version_major": 2,
       "version_minor": 0
      },
      "text/plain": [
       "HBox(children=(FloatProgress(value=1.0, bar_style='info', description='clean features', max=1.0, style=Progres…"
      ]
     },
     "metadata": {},
     "output_type": "display_data"
    },
    {
     "name": "stdout",
     "output_type": "stream",
     "text": [
      "\n"
     ]
    }
   ],
   "source": [
    "for ques_item in tqdm(hotpotQA_preprocess_cls, desc = 'clean features'):\n",
    "    for X_node in [i for i in ques_item['node_list']]:\n",
    "        X_node.content_features = None"
   ]
  },
  {
   "cell_type": "markdown",
   "metadata": {
    "deletable": false,
    "editable": false,
    "run_control": {
     "frozen": true
    }
   },
   "source": [
    "# 检查nan"
   ]
  },
  {
   "cell_type": "code",
   "execution_count": null,
   "metadata": {
    "deletable": false,
    "editable": false,
    "run_control": {
     "frozen": true
    }
   },
   "outputs": [],
   "source": [
    "for ques_item in tqdm(hotpotQA_preprocess_cls, desc = 'clean features'):\n",
    "    for X_node in [i for i in ques_item['node_list']]:\n",
    "        if torch.any(torch.isnan(X_node.cls_feature)).item():\n",
    "            print (X_node)"
   ]
  },
  {
   "cell_type": "markdown",
   "metadata": {
    "deletable": false,
    "editable": false,
    "run_control": {
     "frozen": true
    }
   },
   "source": [
    "# 保存"
   ]
  },
  {
   "cell_type": "code",
   "execution_count": null,
   "metadata": {
    "deletable": false,
    "editable": false,
    "run_control": {
     "frozen": true
    },
    "scrolled": true
   },
   "outputs": [],
   "source": [
    "import pickle\n",
    "with open(save_cache_path+f'hotpotQA_preprocess_cls_{len(hotpotQA_preprocess_cls)}.pkl', 'wb') as fp:\n",
    "    pickle.dump(hotpotQA_preprocess_cls, fp, protocol=-1)\n",
    "!ls -hl $save_cache_path"
   ]
  },
  {
   "cell_type": "code",
   "execution_count": 38,
   "metadata": {
    "deletable": false,
    "editable": false,
    "run_control": {
     "frozen": true
    }
   },
   "outputs": [
    {
     "name": "stdout",
     "output_type": "stream",
     "text": [
      "总用量 2.9G\r\n",
      "-rwxrwxrwx 1 root root 2.5G 3月  16 12:17 hotpotQA_preprocess_cls100.pkl\r\n",
      "-rwxrwxrwx 1 root root 470M 3月  16 20:42 hotpotQA_preprocess_cls20.pkl\r\n"
     ]
    }
   ],
   "source": [
    "import pickle\n",
    "with open(save_cache_path+'hotpotQA_preprocess_cls20.pkl', 'wb') as fp:\n",
    "    pickle.dump(hotpotQA_preprocess_cls[:20], fp, protocol=-1)\n",
    "!ls -hl $save_cache_path"
   ]
  },
  {
   "cell_type": "code",
   "execution_count": null,
   "metadata": {},
   "outputs": [],
   "source": []
  },
  {
   "cell_type": "markdown",
   "metadata": {},
   "source": [
    "# 封装与内存优化"
   ]
  },
  {
   "cell_type": "code",
   "execution_count": 17,
   "metadata": {},
   "outputs": [],
   "source": [
    "import os\n",
    "import json\n",
    "from tqdm.notebook import tqdm"
   ]
  },
  {
   "cell_type": "code",
   "execution_count": 18,
   "metadata": {},
   "outputs": [],
   "source": [
    "def save_in_splits(split_num = 200, start = 0, end = 1000):\n",
    "    hotpotQA_preprocess_cls = []\n",
    "    for index,item in enumerate(tqdm(json_train[start:end])):\n",
    "        if os.path.exists(f\"save_preprocess_new/{item['_id']}.json\"): continue\n",
    "        i = build((index + start + 1, process(item)))\n",
    "        hotpotQA_preprocess_cls.append(i[1])\n",
    "        if i[0] % split_num == 0:\n",
    "            \n",
    "            for ques_item in tqdm(hotpotQA_preprocess_cls, desc = f'{i[0]}'):\n",
    "                ques_item['node_list'] = [node.to_serializable() for node in ques_item['node_list']]\n",
    "                ques_item['sp_adj'] = ques_item['sp_adj'].to_serializable()\n",
    "\n",
    "                with open(f\"save_preprocess_new/{ques_item['id']}.json\", 'w', encoding='utf-8') as fp:\n",
    "                    json.dump(ques_item, fp)\n",
    "                \n",
    "            hotpotQA_preprocess_cls = []\n",
    "            torch.cuda.empty_cache()\n"
   ]
  },
  {
   "cell_type": "code",
   "execution_count": 19,
   "metadata": {
    "scrolled": true
   },
   "outputs": [
    {
     "data": {
      "application/vnd.jupyter.widget-view+json": {
       "model_id": "a0e72928c0784b039e094851e60414f6",
       "version_major": 2,
       "version_minor": 0
      },
      "text/plain": [
       "HBox(children=(FloatProgress(value=0.0, max=60000.0), HTML(value='')))"
      ]
     },
     "metadata": {},
     "output_type": "display_data"
    },
    {
     "data": {
      "application/vnd.jupyter.widget-view+json": {
       "model_id": "648b105247144a4f97fe316516547002",
       "version_major": 2,
       "version_minor": 0
      },
      "text/plain": [
       "HBox(children=(FloatProgress(value=0.0, description='50200', max=200.0, style=ProgressStyle(description_width=…"
      ]
     },
     "metadata": {},
     "output_type": "display_data"
    },
    {
     "name": "stdout",
     "output_type": "stream",
     "text": [
      "\n"
     ]
    },
    {
     "data": {
      "application/vnd.jupyter.widget-view+json": {
       "model_id": "8c6c7c1927ac40748f9347255436bc3d",
       "version_major": 2,
       "version_minor": 0
      },
      "text/plain": [
       "HBox(children=(FloatProgress(value=0.0, description='50400', max=200.0, style=ProgressStyle(description_width=…"
      ]
     },
     "metadata": {},
     "output_type": "display_data"
    },
    {
     "name": "stdout",
     "output_type": "stream",
     "text": [
      "\n"
     ]
    },
    {
     "data": {
      "application/vnd.jupyter.widget-view+json": {
       "model_id": "c9917e25141d4e35b0fdcdcad62efa9f",
       "version_major": 2,
       "version_minor": 0
      },
      "text/plain": [
       "HBox(children=(FloatProgress(value=0.0, description='50600', max=200.0, style=ProgressStyle(description_width=…"
      ]
     },
     "metadata": {},
     "output_type": "display_data"
    },
    {
     "name": "stdout",
     "output_type": "stream",
     "text": [
      "\n"
     ]
    },
    {
     "data": {
      "application/vnd.jupyter.widget-view+json": {
       "model_id": "8d462f0736e34c409c74ca60c02aebd2",
       "version_major": 2,
       "version_minor": 0
      },
      "text/plain": [
       "HBox(children=(FloatProgress(value=0.0, description='50800', max=200.0, style=ProgressStyle(description_width=…"
      ]
     },
     "metadata": {},
     "output_type": "display_data"
    },
    {
     "name": "stdout",
     "output_type": "stream",
     "text": [
      "\n"
     ]
    },
    {
     "data": {
      "application/vnd.jupyter.widget-view+json": {
       "model_id": "3d1999acdfbc4e89bbb62cbc6528c25c",
       "version_major": 2,
       "version_minor": 0
      },
      "text/plain": [
       "HBox(children=(FloatProgress(value=0.0, description='51000', max=200.0, style=ProgressStyle(description_width=…"
      ]
     },
     "metadata": {},
     "output_type": "display_data"
    },
    {
     "name": "stdout",
     "output_type": "stream",
     "text": [
      "\n"
     ]
    },
    {
     "data": {
      "application/vnd.jupyter.widget-view+json": {
       "model_id": "2e146ab0430f4a65895edee55c56ae34",
       "version_major": 2,
       "version_minor": 0
      },
      "text/plain": [
       "HBox(children=(FloatProgress(value=0.0, description='51200', max=200.0, style=ProgressStyle(description_width=…"
      ]
     },
     "metadata": {},
     "output_type": "display_data"
    },
    {
     "name": "stdout",
     "output_type": "stream",
     "text": [
      "\n"
     ]
    },
    {
     "data": {
      "application/vnd.jupyter.widget-view+json": {
       "model_id": "62057616fd7849c198bb89c45106d200",
       "version_major": 2,
       "version_minor": 0
      },
      "text/plain": [
       "HBox(children=(FloatProgress(value=0.0, description='51400', max=200.0, style=ProgressStyle(description_width=…"
      ]
     },
     "metadata": {},
     "output_type": "display_data"
    },
    {
     "name": "stdout",
     "output_type": "stream",
     "text": [
      "\n"
     ]
    },
    {
     "data": {
      "application/vnd.jupyter.widget-view+json": {
       "model_id": "16e6fd19572d4b9da51af6bb96dd33dd",
       "version_major": 2,
       "version_minor": 0
      },
      "text/plain": [
       "HBox(children=(FloatProgress(value=0.0, description='51600', max=200.0, style=ProgressStyle(description_width=…"
      ]
     },
     "metadata": {},
     "output_type": "display_data"
    },
    {
     "name": "stdout",
     "output_type": "stream",
     "text": [
      "\n"
     ]
    },
    {
     "data": {
      "application/vnd.jupyter.widget-view+json": {
       "model_id": "02ad1fbb809e494ca91c9006094d540d",
       "version_major": 2,
       "version_minor": 0
      },
      "text/plain": [
       "HBox(children=(FloatProgress(value=0.0, description='51800', max=200.0, style=ProgressStyle(description_width=…"
      ]
     },
     "metadata": {},
     "output_type": "display_data"
    },
    {
     "name": "stdout",
     "output_type": "stream",
     "text": [
      "\n"
     ]
    },
    {
     "data": {
      "application/vnd.jupyter.widget-view+json": {
       "model_id": "f7e5c4675eb843f2b3141b49281dcaf4",
       "version_major": 2,
       "version_minor": 0
      },
      "text/plain": [
       "HBox(children=(FloatProgress(value=0.0, description='52000', max=200.0, style=ProgressStyle(description_width=…"
      ]
     },
     "metadata": {},
     "output_type": "display_data"
    },
    {
     "name": "stdout",
     "output_type": "stream",
     "text": [
      "\n"
     ]
    },
    {
     "data": {
      "application/vnd.jupyter.widget-view+json": {
       "model_id": "75035065bc594732a1aec122e8c455c3",
       "version_major": 2,
       "version_minor": 0
      },
      "text/plain": [
       "HBox(children=(FloatProgress(value=0.0, description='52200', max=200.0, style=ProgressStyle(description_width=…"
      ]
     },
     "metadata": {},
     "output_type": "display_data"
    },
    {
     "name": "stdout",
     "output_type": "stream",
     "text": [
      "\n"
     ]
    },
    {
     "data": {
      "application/vnd.jupyter.widget-view+json": {
       "model_id": "4053520bcee84a27ae8e8e0bc414f30b",
       "version_major": 2,
       "version_minor": 0
      },
      "text/plain": [
       "HBox(children=(FloatProgress(value=0.0, description='52400', max=200.0, style=ProgressStyle(description_width=…"
      ]
     },
     "metadata": {},
     "output_type": "display_data"
    },
    {
     "name": "stdout",
     "output_type": "stream",
     "text": [
      "\n"
     ]
    },
    {
     "data": {
      "application/vnd.jupyter.widget-view+json": {
       "model_id": "274b5f4e69964acfb5fe7271276ff037",
       "version_major": 2,
       "version_minor": 0
      },
      "text/plain": [
       "HBox(children=(FloatProgress(value=0.0, description='52600', max=200.0, style=ProgressStyle(description_width=…"
      ]
     },
     "metadata": {},
     "output_type": "display_data"
    },
    {
     "name": "stdout",
     "output_type": "stream",
     "text": [
      "\n"
     ]
    },
    {
     "data": {
      "application/vnd.jupyter.widget-view+json": {
       "model_id": "d5bc00e4c7bc462bba6924a5531ff9d9",
       "version_major": 2,
       "version_minor": 0
      },
      "text/plain": [
       "HBox(children=(FloatProgress(value=0.0, description='52800', max=200.0, style=ProgressStyle(description_width=…"
      ]
     },
     "metadata": {},
     "output_type": "display_data"
    },
    {
     "name": "stdout",
     "output_type": "stream",
     "text": [
      "\n"
     ]
    },
    {
     "data": {
      "application/vnd.jupyter.widget-view+json": {
       "model_id": "d7e977ee1a5145a2b7a77104f6b0bcc4",
       "version_major": 2,
       "version_minor": 0
      },
      "text/plain": [
       "HBox(children=(FloatProgress(value=0.0, description='53000', max=200.0, style=ProgressStyle(description_width=…"
      ]
     },
     "metadata": {},
     "output_type": "display_data"
    },
    {
     "name": "stdout",
     "output_type": "stream",
     "text": [
      "\n"
     ]
    },
    {
     "data": {
      "application/vnd.jupyter.widget-view+json": {
       "model_id": "dfcbc1017cdf4d4f9bf3a815bace54a8",
       "version_major": 2,
       "version_minor": 0
      },
      "text/plain": [
       "HBox(children=(FloatProgress(value=0.0, description='53200', max=200.0, style=ProgressStyle(description_width=…"
      ]
     },
     "metadata": {},
     "output_type": "display_data"
    },
    {
     "name": "stdout",
     "output_type": "stream",
     "text": [
      "\n"
     ]
    },
    {
     "data": {
      "application/vnd.jupyter.widget-view+json": {
       "model_id": "7871a84b757e4003bf53d12ed3ce2c6e",
       "version_major": 2,
       "version_minor": 0
      },
      "text/plain": [
       "HBox(children=(FloatProgress(value=0.0, description='53400', max=200.0, style=ProgressStyle(description_width=…"
      ]
     },
     "metadata": {},
     "output_type": "display_data"
    },
    {
     "name": "stdout",
     "output_type": "stream",
     "text": [
      "\n"
     ]
    },
    {
     "data": {
      "application/vnd.jupyter.widget-view+json": {
       "model_id": "6a88cba43f1946feaa2eb92cfb3ef816",
       "version_major": 2,
       "version_minor": 0
      },
      "text/plain": [
       "HBox(children=(FloatProgress(value=0.0, description='53600', max=200.0, style=ProgressStyle(description_width=…"
      ]
     },
     "metadata": {},
     "output_type": "display_data"
    },
    {
     "name": "stdout",
     "output_type": "stream",
     "text": [
      "\n"
     ]
    },
    {
     "data": {
      "application/vnd.jupyter.widget-view+json": {
       "model_id": "60d160e4553c40c59f0c8c4eb853cf14",
       "version_major": 2,
       "version_minor": 0
      },
      "text/plain": [
       "HBox(children=(FloatProgress(value=0.0, description='53800', max=200.0, style=ProgressStyle(description_width=…"
      ]
     },
     "metadata": {},
     "output_type": "display_data"
    },
    {
     "name": "stdout",
     "output_type": "stream",
     "text": [
      "\n"
     ]
    },
    {
     "data": {
      "application/vnd.jupyter.widget-view+json": {
       "model_id": "c2666ef92546408b8610d3de875e011a",
       "version_major": 2,
       "version_minor": 0
      },
      "text/plain": [
       "HBox(children=(FloatProgress(value=0.0, description='54000', max=200.0, style=ProgressStyle(description_width=…"
      ]
     },
     "metadata": {},
     "output_type": "display_data"
    },
    {
     "name": "stdout",
     "output_type": "stream",
     "text": [
      "\n"
     ]
    },
    {
     "data": {
      "application/vnd.jupyter.widget-view+json": {
       "model_id": "d4cf3599731b42788fbea425345e01cf",
       "version_major": 2,
       "version_minor": 0
      },
      "text/plain": [
       "HBox(children=(FloatProgress(value=0.0, description='54200', max=200.0, style=ProgressStyle(description_width=…"
      ]
     },
     "metadata": {},
     "output_type": "display_data"
    },
    {
     "name": "stdout",
     "output_type": "stream",
     "text": [
      "\n"
     ]
    },
    {
     "data": {
      "application/vnd.jupyter.widget-view+json": {
       "model_id": "6a121fdcc54042d78c6b4abac9e454a9",
       "version_major": 2,
       "version_minor": 0
      },
      "text/plain": [
       "HBox(children=(FloatProgress(value=0.0, description='54400', max=200.0, style=ProgressStyle(description_width=…"
      ]
     },
     "metadata": {},
     "output_type": "display_data"
    },
    {
     "name": "stdout",
     "output_type": "stream",
     "text": [
      "\n"
     ]
    },
    {
     "data": {
      "application/vnd.jupyter.widget-view+json": {
       "model_id": "2f9db6bd278f4221b2a1f70e12789b37",
       "version_major": 2,
       "version_minor": 0
      },
      "text/plain": [
       "HBox(children=(FloatProgress(value=0.0, description='54600', max=200.0, style=ProgressStyle(description_width=…"
      ]
     },
     "metadata": {},
     "output_type": "display_data"
    },
    {
     "name": "stdout",
     "output_type": "stream",
     "text": [
      "\n"
     ]
    },
    {
     "data": {
      "application/vnd.jupyter.widget-view+json": {
       "model_id": "cf5d28903177409c84892ea91a2bdf8b",
       "version_major": 2,
       "version_minor": 0
      },
      "text/plain": [
       "HBox(children=(FloatProgress(value=0.0, description='54800', max=200.0, style=ProgressStyle(description_width=…"
      ]
     },
     "metadata": {},
     "output_type": "display_data"
    },
    {
     "name": "stdout",
     "output_type": "stream",
     "text": [
      "\n"
     ]
    },
    {
     "data": {
      "application/vnd.jupyter.widget-view+json": {
       "model_id": "3b79145939e3491b92b6f925f589953b",
       "version_major": 2,
       "version_minor": 0
      },
      "text/plain": [
       "HBox(children=(FloatProgress(value=0.0, description='55000', max=200.0, style=ProgressStyle(description_width=…"
      ]
     },
     "metadata": {},
     "output_type": "display_data"
    },
    {
     "name": "stdout",
     "output_type": "stream",
     "text": [
      "\n"
     ]
    },
    {
     "data": {
      "application/vnd.jupyter.widget-view+json": {
       "model_id": "015dfb1e9f79493e8ccdf43f97e5a111",
       "version_major": 2,
       "version_minor": 0
      },
      "text/plain": [
       "HBox(children=(FloatProgress(value=0.0, description='55200', max=200.0, style=ProgressStyle(description_width=…"
      ]
     },
     "metadata": {},
     "output_type": "display_data"
    },
    {
     "name": "stdout",
     "output_type": "stream",
     "text": [
      "\n"
     ]
    },
    {
     "data": {
      "application/vnd.jupyter.widget-view+json": {
       "model_id": "72a79023558b463e9557787436bc8853",
       "version_major": 2,
       "version_minor": 0
      },
      "text/plain": [
       "HBox(children=(FloatProgress(value=0.0, description='55400', max=200.0, style=ProgressStyle(description_width=…"
      ]
     },
     "metadata": {},
     "output_type": "display_data"
    },
    {
     "name": "stdout",
     "output_type": "stream",
     "text": [
      "\n"
     ]
    },
    {
     "data": {
      "application/vnd.jupyter.widget-view+json": {
       "model_id": "d60d98c382074d6c9fcf83a91023aa0c",
       "version_major": 2,
       "version_minor": 0
      },
      "text/plain": [
       "HBox(children=(FloatProgress(value=0.0, description='55600', max=200.0, style=ProgressStyle(description_width=…"
      ]
     },
     "metadata": {},
     "output_type": "display_data"
    },
    {
     "name": "stdout",
     "output_type": "stream",
     "text": [
      "\n"
     ]
    },
    {
     "data": {
      "application/vnd.jupyter.widget-view+json": {
       "model_id": "48192a2d689b4a19896d1c28506e1e3d",
       "version_major": 2,
       "version_minor": 0
      },
      "text/plain": [
       "HBox(children=(FloatProgress(value=0.0, description='55800', max=200.0, style=ProgressStyle(description_width=…"
      ]
     },
     "metadata": {},
     "output_type": "display_data"
    },
    {
     "name": "stdout",
     "output_type": "stream",
     "text": [
      "\n"
     ]
    },
    {
     "data": {
      "application/vnd.jupyter.widget-view+json": {
       "model_id": "958d19157fcb498faa6c200bc0ef54f6",
       "version_major": 2,
       "version_minor": 0
      },
      "text/plain": [
       "HBox(children=(FloatProgress(value=0.0, description='56000', max=200.0, style=ProgressStyle(description_width=…"
      ]
     },
     "metadata": {},
     "output_type": "display_data"
    },
    {
     "name": "stdout",
     "output_type": "stream",
     "text": [
      "\n"
     ]
    },
    {
     "data": {
      "application/vnd.jupyter.widget-view+json": {
       "model_id": "1bf7ad74736f44dd8617697bb3a654b9",
       "version_major": 2,
       "version_minor": 0
      },
      "text/plain": [
       "HBox(children=(FloatProgress(value=0.0, description='56200', max=200.0, style=ProgressStyle(description_width=…"
      ]
     },
     "metadata": {},
     "output_type": "display_data"
    },
    {
     "name": "stdout",
     "output_type": "stream",
     "text": [
      "\n"
     ]
    },
    {
     "data": {
      "application/vnd.jupyter.widget-view+json": {
       "model_id": "db7f6c3493da4cfbbc4d9d6e062f6f7b",
       "version_major": 2,
       "version_minor": 0
      },
      "text/plain": [
       "HBox(children=(FloatProgress(value=0.0, description='56400', max=200.0, style=ProgressStyle(description_width=…"
      ]
     },
     "metadata": {},
     "output_type": "display_data"
    },
    {
     "name": "stdout",
     "output_type": "stream",
     "text": [
      "\n"
     ]
    },
    {
     "data": {
      "application/vnd.jupyter.widget-view+json": {
       "model_id": "ff8ac74dbccc4545ae6c713bebaa5e6c",
       "version_major": 2,
       "version_minor": 0
      },
      "text/plain": [
       "HBox(children=(FloatProgress(value=0.0, description='56600', max=200.0, style=ProgressStyle(description_width=…"
      ]
     },
     "metadata": {},
     "output_type": "display_data"
    },
    {
     "name": "stdout",
     "output_type": "stream",
     "text": [
      "\n"
     ]
    },
    {
     "data": {
      "application/vnd.jupyter.widget-view+json": {
       "model_id": "8a93f2e3c6ba4d3e8269d4099edc7b36",
       "version_major": 2,
       "version_minor": 0
      },
      "text/plain": [
       "HBox(children=(FloatProgress(value=0.0, description='56800', max=200.0, style=ProgressStyle(description_width=…"
      ]
     },
     "metadata": {},
     "output_type": "display_data"
    },
    {
     "name": "stdout",
     "output_type": "stream",
     "text": [
      "\n"
     ]
    },
    {
     "data": {
      "application/vnd.jupyter.widget-view+json": {
       "model_id": "bec2483edbb04ee99a4a89f91c9863b9",
       "version_major": 2,
       "version_minor": 0
      },
      "text/plain": [
       "HBox(children=(FloatProgress(value=0.0, description='57000', max=200.0, style=ProgressStyle(description_width=…"
      ]
     },
     "metadata": {},
     "output_type": "display_data"
    },
    {
     "name": "stdout",
     "output_type": "stream",
     "text": [
      "\n"
     ]
    },
    {
     "data": {
      "application/vnd.jupyter.widget-view+json": {
       "model_id": "79ccc40b4b534f748b58d6596a87a087",
       "version_major": 2,
       "version_minor": 0
      },
      "text/plain": [
       "HBox(children=(FloatProgress(value=0.0, description='57200', max=200.0, style=ProgressStyle(description_width=…"
      ]
     },
     "metadata": {},
     "output_type": "display_data"
    },
    {
     "name": "stdout",
     "output_type": "stream",
     "text": [
      "\n"
     ]
    },
    {
     "data": {
      "application/vnd.jupyter.widget-view+json": {
       "model_id": "34fd8a6cd73147cf9138f9a32a69f70f",
       "version_major": 2,
       "version_minor": 0
      },
      "text/plain": [
       "HBox(children=(FloatProgress(value=0.0, description='57400', max=200.0, style=ProgressStyle(description_width=…"
      ]
     },
     "metadata": {},
     "output_type": "display_data"
    },
    {
     "name": "stdout",
     "output_type": "stream",
     "text": [
      "\n"
     ]
    },
    {
     "data": {
      "application/vnd.jupyter.widget-view+json": {
       "model_id": "9e3f65a4ab394e979d2fc4aa3abaf88d",
       "version_major": 2,
       "version_minor": 0
      },
      "text/plain": [
       "HBox(children=(FloatProgress(value=0.0, description='57600', max=200.0, style=ProgressStyle(description_width=…"
      ]
     },
     "metadata": {},
     "output_type": "display_data"
    },
    {
     "name": "stdout",
     "output_type": "stream",
     "text": [
      "\n"
     ]
    },
    {
     "data": {
      "application/vnd.jupyter.widget-view+json": {
       "model_id": "06ba66e55765440c9fde7d6a5c93f420",
       "version_major": 2,
       "version_minor": 0
      },
      "text/plain": [
       "HBox(children=(FloatProgress(value=0.0, description='57800', max=200.0, style=ProgressStyle(description_width=…"
      ]
     },
     "metadata": {},
     "output_type": "display_data"
    },
    {
     "name": "stdout",
     "output_type": "stream",
     "text": [
      "\n"
     ]
    },
    {
     "data": {
      "application/vnd.jupyter.widget-view+json": {
       "model_id": "cbd16655bbb6490da337c57ccd978463",
       "version_major": 2,
       "version_minor": 0
      },
      "text/plain": [
       "HBox(children=(FloatProgress(value=0.0, description='58000', max=200.0, style=ProgressStyle(description_width=…"
      ]
     },
     "metadata": {},
     "output_type": "display_data"
    },
    {
     "name": "stdout",
     "output_type": "stream",
     "text": [
      "\n"
     ]
    },
    {
     "data": {
      "application/vnd.jupyter.widget-view+json": {
       "model_id": "219928f66e9d4711ac3624ceeb62a531",
       "version_major": 2,
       "version_minor": 0
      },
      "text/plain": [
       "HBox(children=(FloatProgress(value=0.0, description='58200', max=200.0, style=ProgressStyle(description_width=…"
      ]
     },
     "metadata": {},
     "output_type": "display_data"
    },
    {
     "name": "stdout",
     "output_type": "stream",
     "text": [
      "\n"
     ]
    },
    {
     "data": {
      "application/vnd.jupyter.widget-view+json": {
       "model_id": "08e6160e16d64520b85e20a8f959b8d8",
       "version_major": 2,
       "version_minor": 0
      },
      "text/plain": [
       "HBox(children=(FloatProgress(value=0.0, description='58400', max=200.0, style=ProgressStyle(description_width=…"
      ]
     },
     "metadata": {},
     "output_type": "display_data"
    },
    {
     "name": "stdout",
     "output_type": "stream",
     "text": [
      "\n"
     ]
    },
    {
     "data": {
      "application/vnd.jupyter.widget-view+json": {
       "model_id": "f72472d6cfbd46de9bdd008df42b760e",
       "version_major": 2,
       "version_minor": 0
      },
      "text/plain": [
       "HBox(children=(FloatProgress(value=0.0, description='58600', max=200.0, style=ProgressStyle(description_width=…"
      ]
     },
     "metadata": {},
     "output_type": "display_data"
    },
    {
     "name": "stdout",
     "output_type": "stream",
     "text": [
      "\n"
     ]
    },
    {
     "data": {
      "application/vnd.jupyter.widget-view+json": {
       "model_id": "1527d4c18af24c5b9b94e0836d0a6744",
       "version_major": 2,
       "version_minor": 0
      },
      "text/plain": [
       "HBox(children=(FloatProgress(value=0.0, description='58800', max=200.0, style=ProgressStyle(description_width=…"
      ]
     },
     "metadata": {},
     "output_type": "display_data"
    },
    {
     "name": "stdout",
     "output_type": "stream",
     "text": [
      "\n"
     ]
    },
    {
     "data": {
      "application/vnd.jupyter.widget-view+json": {
       "model_id": "7b848cffc3194aec9421cd5b93da30a7",
       "version_major": 2,
       "version_minor": 0
      },
      "text/plain": [
       "HBox(children=(FloatProgress(value=0.0, description='59000', max=200.0, style=ProgressStyle(description_width=…"
      ]
     },
     "metadata": {},
     "output_type": "display_data"
    },
    {
     "name": "stdout",
     "output_type": "stream",
     "text": [
      "\n"
     ]
    },
    {
     "data": {
      "application/vnd.jupyter.widget-view+json": {
       "model_id": "256bef916dfc405490976549ac0d58bc",
       "version_major": 2,
       "version_minor": 0
      },
      "text/plain": [
       "HBox(children=(FloatProgress(value=0.0, description='59200', max=200.0, style=ProgressStyle(description_width=…"
      ]
     },
     "metadata": {},
     "output_type": "display_data"
    },
    {
     "name": "stdout",
     "output_type": "stream",
     "text": [
      "\n"
     ]
    },
    {
     "data": {
      "application/vnd.jupyter.widget-view+json": {
       "model_id": "4cf8399a52874963848d80cdfb02dc2f",
       "version_major": 2,
       "version_minor": 0
      },
      "text/plain": [
       "HBox(children=(FloatProgress(value=0.0, description='59400', max=200.0, style=ProgressStyle(description_width=…"
      ]
     },
     "metadata": {},
     "output_type": "display_data"
    },
    {
     "name": "stdout",
     "output_type": "stream",
     "text": [
      "\n"
     ]
    },
    {
     "data": {
      "application/vnd.jupyter.widget-view+json": {
       "model_id": "4f819cd4c8ff42ad9720a572f05a5890",
       "version_major": 2,
       "version_minor": 0
      },
      "text/plain": [
       "HBox(children=(FloatProgress(value=0.0, description='59600', max=200.0, style=ProgressStyle(description_width=…"
      ]
     },
     "metadata": {},
     "output_type": "display_data"
    },
    {
     "name": "stdout",
     "output_type": "stream",
     "text": [
      "\n"
     ]
    },
    {
     "data": {
      "application/vnd.jupyter.widget-view+json": {
       "model_id": "ed6634e7ddeb4dffb7a727bd52d7d939",
       "version_major": 2,
       "version_minor": 0
      },
      "text/plain": [
       "HBox(children=(FloatProgress(value=0.0, description='59800', max=200.0, style=ProgressStyle(description_width=…"
      ]
     },
     "metadata": {},
     "output_type": "display_data"
    },
    {
     "name": "stdout",
     "output_type": "stream",
     "text": [
      "\n"
     ]
    },
    {
     "data": {
      "application/vnd.jupyter.widget-view+json": {
       "model_id": "14bf16933bd940d6b3fc2579f3381ff7",
       "version_major": 2,
       "version_minor": 0
      },
      "text/plain": [
       "HBox(children=(FloatProgress(value=0.0, description='60000', max=200.0, style=ProgressStyle(description_width=…"
      ]
     },
     "metadata": {},
     "output_type": "display_data"
    },
    {
     "name": "stdout",
     "output_type": "stream",
     "text": [
      "\n",
      "\n",
      "60000\n"
     ]
    }
   ],
   "source": [
    "save_in_splits(start = 0, end = 60000)\n",
    "!ls -l save_preprocess_new/|grep \"^-\"| wc -l"
   ]
  },
  {
   "cell_type": "markdown",
   "metadata": {},
   "source": [
    "## 整合json chunk\n",
    "\n"
   ]
  },
  {
   "cell_type": "code",
   "execution_count": 1,
   "metadata": {
    "deletable": false,
    "editable": false,
    "run_control": {
     "frozen": true
    }
   },
   "outputs": [],
   "source": [
    "import os\n",
    "import json\n",
    "from tqdm.notebook import tqdm\n",
    "from class_simple import QuestionNode, ParagraphTitleNode, SentenceNode, EntityNode, Adjacency_sp, auto_reload_Node"
   ]
  },
  {
   "cell_type": "code",
   "execution_count": 3,
   "metadata": {
    "deletable": false,
    "editable": false,
    "run_control": {
     "frozen": true
    }
   },
   "outputs": [
    {
     "data": {
      "application/vnd.jupyter.widget-view+json": {
       "model_id": "83f61688508e40a7b0f0071a8e8fdc45",
       "version_major": 2,
       "version_minor": 0
      },
      "text/plain": [
       "HBox(children=(FloatProgress(value=0.0, description='0 ~ 2000', max=2000.0, style=ProgressStyle(description_wi…"
      ]
     },
     "metadata": {},
     "output_type": "display_data"
    },
    {
     "name": "stdout",
     "output_type": "stream",
     "text": [
      "\n"
     ]
    }
   ],
   "source": [
    "paths = [f\"save_preprocess/{path}\" for path in os.listdir('save_preprocess/')]\n",
    "chunk_size = 2000\n",
    "\n",
    "done_list = []\n",
    "for index in range(0, len(paths), chunk_size):\n",
    "    if index == 2000:\n",
    "        break\n",
    "    chunk_json = []\n",
    "    _to = min(index + chunk_size, len(paths))\n",
    "    with open(f\"HotpotQA_chunk_jsons3/{index}_{_to}.json\", 'w', encoding='utf-8') as fp1:\n",
    "        fp1.write('[')\n",
    "        for path in tqdm(paths[index:_to], desc = f\"{index} ~ {_to}\"):\n",
    "            with open(path, 'r', encoding='utf-8') as fp2:\n",
    "                fp1.write(fp2.read() + ',')\n",
    "            done_list.append(path)\n",
    "        fp1.seek(fp1.tell() - 1)\n",
    "        fp1.write(']')\n",
    "    break"
   ]
  },
  {
   "cell_type": "code",
   "execution_count": 1,
   "metadata": {
    "deletable": false,
    "editable": false,
    "run_control": {
     "frozen": true
    }
   },
   "outputs": [
    {
     "name": "stdout",
     "output_type": "stream",
     "text": [
      "91.39\n"
     ]
    }
   ],
   "source": [
    "import ujson\n",
    "import time\n",
    "start = time.time()\n",
    "\n",
    "with open('HotpotQA_chunk_jsons2/0_1000.json', 'r', encoding='utf-8') as fp:\n",
    "    xx = ujson.load(fp)\n",
    "    \n",
    "end = time.time()\n",
    "\n",
    "print(f\"{end-start:.2f}s\")"
   ]
  },
  {
   "cell_type": "code",
   "execution_count": null,
   "metadata": {
    "deletable": false,
    "editable": false,
    "run_control": {
     "frozen": true
    }
   },
   "outputs": [],
   "source": []
  },
  {
   "cell_type": "code",
   "execution_count": null,
   "metadata": {
    "deletable": false,
    "editable": false,
    "run_control": {
     "frozen": true
    }
   },
   "outputs": [],
   "source": [
    "import ijson\n",
    "\n",
    "res = []\n",
    "def floaten(event):\n",
    "    if event[1] == 'number':\n",
    "        return (event[0], event[1], float(event[2]))\n",
    "    else:\n",
    "        return event\n",
    "\n",
    "pbar = tqdm(total = 1000)\n",
    "with open('HotpotQA_chunk_jsons3/0_1000.json', 'r', encoding='utf-8') as fp:\n",
    "    events = map(floaten, ijson.parse(fp))\n",
    "    objects = ijson.common.items(events, 'items.item')\n",
    "    for QA_item in objects:\n",
    "        QA_item['node_list'] = [auto_reload_Node(state_dicts) for state_dicts in QA_item['node_list']]\n",
    "        QA_item['sp_adj'] = Adjacency_sp.from_serializable(QA_item['sp_adj'])\n",
    "        res.append(QA_item)\n",
    "        pbar.update()"
   ]
  },
  {
   "cell_type": "code",
   "execution_count": null,
   "metadata": {
    "deletable": false,
    "editable": false,
    "run_control": {
     "frozen": true
    }
   },
   "outputs": [],
   "source": []
  },
  {
   "cell_type": "code",
   "execution_count": null,
   "metadata": {
    "deletable": false,
    "editable": false,
    "run_control": {
     "frozen": true
    }
   },
   "outputs": [],
   "source": []
  },
  {
   "cell_type": "code",
   "execution_count": 3,
   "metadata": {
    "deletable": false,
    "editable": false,
    "run_control": {
     "frozen": true
    }
   },
   "outputs": [],
   "source": [
    "import os, time, gc\n",
    "import ujson as json\n",
    "from tqdm.notebook import tqdm\n",
    "from multiprocessing import Pool\n",
    "\n",
    "from class_simple import QuestionNode, ParagraphTitleNode, SentenceNode, EntityNode, Adjacency_sp, auto_reload_Node"
   ]
  },
  {
   "cell_type": "code",
   "execution_count": 4,
   "metadata": {
    "deletable": false,
    "editable": false,
    "run_control": {
     "frozen": true
    }
   },
   "outputs": [],
   "source": [
    "paths = [f\"save_preprocess/{path}\" for path in os.listdir('save_preprocess')]\n",
    "QA_item_list = []"
   ]
  },
  {
   "cell_type": "code",
   "execution_count": 5,
   "metadata": {
    "code_folding": [
     8
    ],
    "deletable": false,
    "editable": false,
    "run_control": {
     "frozen": true
    }
   },
   "outputs": [],
   "source": [
    "def __item(path):\n",
    "    with open(path, 'r', encoding = 'utf-8') as fp:\n",
    "        QA_item = json.load(fp)\n",
    "#     QA_item['node_list'] = [auto_reload_Node(state_dicts) for state_dicts in QA_item['node_list']]\n",
    "#     QA_item['sp_adj'] = Adjacency_sp.from_serializable(QA_item['sp_adj'])\n",
    "        return QA_item\n",
    "        \n",
    "        \n",
    "def __items(path):\n",
    "    start = time.time()\n",
    "    with open(path, 'r', encoding = 'utf-8') as fp:\n",
    "        _temp = json.load(fp)\n",
    "\n",
    "    end = time.time()\n",
    "    print(f\"{end-start:.2f}s\")\n",
    "\n",
    "    for QA_item in _temp:\n",
    "        QA_item['node_list'] = [auto_reload_Node(state_dicts) for state_dicts in QA_item['node_list']]\n",
    "        QA_item['sp_adj'] = Adjacency_sp.from_serializable(QA_item['sp_adj'])\n",
    "    QA_item_list.extend(_temp)\n",
    "    return _temp\n",
    "    \n",
    "def multi_build(from_index = 0, to_index = 1000, p_num = 8):\n",
    "    p_num = 1 if p_num<0 else p_num\n",
    "\n",
    "    resturn_list = []\n",
    "    pbar = tqdm(total = len(paths[from_index:to_index]), desc = f'reloading')\n",
    "    with Pool(p_num) as pool:\n",
    "        pool_iter = pool.imap(__item, paths[from_index:to_index])\n",
    "        for r in pool_iter:\n",
    "            resturn_list.append(r)\n",
    "            pbar.update()\n",
    "    return resturn_list\n"
   ]
  },
  {
   "cell_type": "code",
   "execution_count": 6,
   "metadata": {
    "deletable": false,
    "editable": false,
    "run_control": {
     "frozen": true
    },
    "scrolled": true
   },
   "outputs": [
    {
     "data": {
      "application/vnd.jupyter.widget-view+json": {
       "model_id": "5cb357f030104aa1b04b2bb76900f9d3",
       "version_major": 2,
       "version_minor": 0
      },
      "text/plain": [
       "HBox(children=(FloatProgress(value=0.0, description='reloading', max=1000.0, style=ProgressStyle(description_w…"
      ]
     },
     "metadata": {},
     "output_type": "display_data"
    }
   ],
   "source": [
    "res = multi_build()"
   ]
  },
  {
   "cell_type": "code",
   "execution_count": 23,
   "metadata": {
    "deletable": false,
    "editable": false,
    "run_control": {
     "frozen": true
    }
   },
   "outputs": [],
   "source": [
    "import sys\n",
    "def get_size(obj, seen=None):\n",
    "    # From \n",
    "    # Recursively finds size of objects\n",
    "    size = sys.getsizeof(obj)\n",
    "    if seen is None:\n",
    "        seen = set()\n",
    "    obj_id = id(obj)\n",
    "    if obj_id in seen:\n",
    "        return 0\n",
    "# Important mark as seen *before* entering recursion to gracefully handle\n",
    "    # self-referential objects\n",
    "    seen.add(obj_id)\n",
    "    if isinstance(obj, dict):\n",
    "        size += sum([get_size(v, seen) for v in obj.values()])\n",
    "        size += sum([get_size(k, seen) for k in obj.keys()])\n",
    "    elif hasattr(obj, '__dict__'):\n",
    "        size += get_size(obj.__dict__, seen)\n",
    "    elif hasattr(obj, '__iter__') and not isinstance(obj, (str, bytes, bytearray)):\n",
    "        size += sum([get_size(i, seen) for i in obj])\n",
    "    return size"
   ]
  },
  {
   "cell_type": "code",
   "execution_count": 24,
   "metadata": {
    "deletable": false,
    "editable": false,
    "run_control": {
     "frozen": true
    }
   },
   "outputs": [
    {
     "data": {
      "text/plain": [
       "19390231714"
      ]
     },
     "execution_count": 24,
     "metadata": {},
     "output_type": "execute_result"
    }
   ],
   "source": [
    "get_size(res) / 1024 / 1024 / 1024"
   ]
  },
  {
   "cell_type": "code",
   "execution_count": 25,
   "metadata": {
    "deletable": false,
    "editable": false,
    "run_control": {
     "frozen": true
    }
   },
   "outputs": [],
   "source": [
    "sys.getsizeof?"
   ]
  },
  {
   "cell_type": "code",
   "execution_count": null,
   "metadata": {
    "deletable": false,
    "editable": false,
    "run_control": {
     "frozen": true
    }
   },
   "outputs": [],
   "source": [
    "import os, time, gc\n",
    "import ujson as json\n",
    "\n",
    "start = time.time()\n",
    "with open('HotpotQA_chunk_jsons/0_5000.json', 'r', encoding = 'utf-8') as fp:\n",
    "    _temp = json.load(fp)\n",
    "\n",
    "end = time.time()\n",
    "print(f\"{end-start:.2f}s\")"
   ]
  },
  {
   "cell_type": "code",
   "execution_count": null,
   "metadata": {},
   "outputs": [],
   "source": []
  },
  {
   "cell_type": "code",
   "execution_count": null,
   "metadata": {},
   "outputs": [],
   "source": []
  },
  {
   "cell_type": "code",
   "execution_count": null,
   "metadata": {},
   "outputs": [],
   "source": []
  }
 ],
 "metadata": {
  "kernelspec": {
   "display_name": "Python 3",
   "language": "python",
   "name": "python3"
  },
  "language_info": {
   "codemirror_mode": {
    "name": "ipython",
    "version": 3
   },
   "file_extension": ".py",
   "mimetype": "text/x-python",
   "name": "python",
   "nbconvert_exporter": "python",
   "pygments_lexer": "ipython3",
   "version": "3.7.6"
  },
  "toc": {
   "base_numbering": 1,
   "nav_menu": {},
   "number_sections": true,
   "sideBar": true,
   "skip_h1_title": false,
   "title_cell": "Table of Contents",
   "title_sidebar": "Contents",
   "toc_cell": false,
   "toc_position": {
    "height": "calc(100% - 180px)",
    "left": "10px",
    "top": "150px",
    "width": "208.275px"
   },
   "toc_section_display": true,
   "toc_window_display": true
  },
  "widgets": {
   "application/vnd.jupyter.widget-state+json": {
    "state": {
     "003ef1b6ad214ef09b653e414544c5d9": {
      "model_module": "@jupyter-widgets/controls",
      "model_module_version": "1.5.0",
      "model_name": "FloatProgressModel",
      "state": {
       "bar_style": "success",
       "description": "28400: 100%",
       "layout": "IPY_MODEL_0e129f3af035424a9b179d8f0adb8bf0",
       "max": 200,
       "style": "IPY_MODEL_69038d113ee748eb9e333d8f7e393c4c",
       "value": 200
      }
     },
     "00ce34db032d474195aaef0783194f69": {
      "model_module": "@jupyter-widgets/controls",
      "model_module_version": "1.5.0",
      "model_name": "DescriptionStyleModel",
      "state": {
       "description_width": ""
      }
     },
     "010670d4af534f428295347c2450e607": {
      "model_module": "@jupyter-widgets/controls",
      "model_module_version": "1.5.0",
      "model_name": "HTMLModel",
      "state": {
       "layout": "IPY_MODEL_eeefe0b1237e456e98eaa303dbba7b7f",
       "style": "IPY_MODEL_1588dea7e9364a91817abce9ca332e61",
       "value": " 200/200 [20:31&lt;00:00,  6.16s/it]"
      }
     },
     "017eded1232e4a0ca639227e3e095256": {
      "model_module": "@jupyter-widgets/controls",
      "model_module_version": "1.5.0",
      "model_name": "DescriptionStyleModel",
      "state": {
       "description_width": ""
      }
     },
     "01d5e35c470e4a2489e41bd23c74b4dd": {
      "model_module": "@jupyter-widgets/controls",
      "model_module_version": "1.5.0",
      "model_name": "DescriptionStyleModel",
      "state": {
       "description_width": ""
      }
     },
     "0252f41d45464caeb7b6023db9dcda21": {
      "model_module": "@jupyter-widgets/controls",
      "model_module_version": "1.5.0",
      "model_name": "HTMLModel",
      "state": {
       "layout": "IPY_MODEL_bf1337088c0e4e05a4889ae6b0d3583c",
       "style": "IPY_MODEL_62b266e5f37e40e6b93c0b0d41f78118",
       "value": " 200/200 [00:34&lt;00:00,  5.74it/s]"
      }
     },
     "0259bcd1d7d94896946fad933ecca3db": {
      "model_module": "@jupyter-widgets/base",
      "model_module_version": "1.2.0",
      "model_name": "LayoutModel",
      "state": {}
     },
     "027a6f6dee024848911cc6cf267aa3ec": {
      "model_module": "@jupyter-widgets/base",
      "model_module_version": "1.2.0",
      "model_name": "LayoutModel",
      "state": {}
     },
     "02c71c779726416c87c427a96bd0d4cf": {
      "model_module": "@jupyter-widgets/controls",
      "model_module_version": "1.5.0",
      "model_name": "HBoxModel",
      "state": {
       "children": [
        "IPY_MODEL_e8f30c4b1e544768ac68ebda8acfedf4",
        "IPY_MODEL_52973297c5a84933b5188583dc85a860"
       ],
       "layout": "IPY_MODEL_69c5d98abfe64cbcb494514cc69e2e9d"
      }
     },
     "02c790ffef3e43ae8938f96ed521177c": {
      "model_module": "@jupyter-widgets/base",
      "model_module_version": "1.2.0",
      "model_name": "LayoutModel",
      "state": {}
     },
     "02cd40b1d5794da5ac5b077523e5ae8c": {
      "model_module": "@jupyter-widgets/base",
      "model_module_version": "1.2.0",
      "model_name": "LayoutModel",
      "state": {}
     },
     "030746ecd4254dacb44132043be4859d": {
      "model_module": "@jupyter-widgets/controls",
      "model_module_version": "1.5.0",
      "model_name": "HBoxModel",
      "state": {
       "children": [
        "IPY_MODEL_be193a8fb94e4d029d373a5bd717e82e",
        "IPY_MODEL_421f8a27c0bc4238a23d64b6979c47e5"
       ],
       "layout": "IPY_MODEL_69c933e6fac94f19b3079d3a42ce6c57"
      }
     },
     "0326eec39ef24dcebde7e5911cf249f9": {
      "model_module": "@jupyter-widgets/controls",
      "model_module_version": "1.5.0",
      "model_name": "ProgressStyleModel",
      "state": {
       "description_width": "initial"
      }
     },
     "038bd8ecb5b04a6d9be35ba4ce33b2d0": {
      "model_module": "@jupyter-widgets/controls",
      "model_module_version": "1.5.0",
      "model_name": "HBoxModel",
      "state": {
       "children": [
        "IPY_MODEL_bdd1b9206c2c43a18e3af9199ba6a734",
        "IPY_MODEL_eb9d6db0c4d144c682e41a6c7efa5735"
       ],
       "layout": "IPY_MODEL_1fbffe9cfd7845159752bf7974460eb7"
      }
     },
     "03e77dfe4bd44cda99e822bff4fcff37": {
      "model_module": "@jupyter-widgets/base",
      "model_module_version": "1.2.0",
      "model_name": "LayoutModel",
      "state": {}
     },
     "0408787d62a5460ea3d5b530064d4fd1": {
      "model_module": "@jupyter-widgets/base",
      "model_module_version": "1.2.0",
      "model_name": "LayoutModel",
      "state": {}
     },
     "04246e8a79a84b13891867cc89e6c2f7": {
      "model_module": "@jupyter-widgets/controls",
      "model_module_version": "1.5.0",
      "model_name": "HTMLModel",
      "state": {
       "layout": "IPY_MODEL_6691194252ab4504b2f3bef43554e99a",
       "style": "IPY_MODEL_b0e672314b154ed9a23420805b62e0d3",
       "value": " 200/200 [04:36&lt;00:00,  1.38s/it]"
      }
     },
     "043e6b1d117c44f2a5316da445bd5d1e": {
      "model_module": "@jupyter-widgets/controls",
      "model_module_version": "1.5.0",
      "model_name": "DescriptionStyleModel",
      "state": {
       "description_width": ""
      }
     },
     "045f36df5e0c4364a6daf1766279a966": {
      "model_module": "@jupyter-widgets/controls",
      "model_module_version": "1.5.0",
      "model_name": "FloatProgressModel",
      "state": {
       "bar_style": "success",
       "description": "21400: 100%",
       "layout": "IPY_MODEL_0866989cd6fa45b28afe3b957c4c91a8",
       "max": 200,
       "style": "IPY_MODEL_41524e162f1c4269b0096ec176f8ea94",
       "value": 200
      }
     },
     "046ae35128a341a99e7abb0a8bc2b5fb": {
      "model_module": "@jupyter-widgets/controls",
      "model_module_version": "1.5.0",
      "model_name": "FloatProgressModel",
      "state": {
       "bar_style": "success",
       "description": "40800: 100%",
       "layout": "IPY_MODEL_393edcc13f394bd59e95092355007d39",
       "max": 200,
       "style": "IPY_MODEL_b12b6906a4bf45c990cea29c9b348141",
       "value": 200
      }
     },
     "046f9b56797b44be804c3c0f99ce3614": {
      "model_module": "@jupyter-widgets/base",
      "model_module_version": "1.2.0",
      "model_name": "LayoutModel",
      "state": {}
     },
     "04fce52d97554deab06b5eea2ec6c417": {
      "model_module": "@jupyter-widgets/base",
      "model_module_version": "1.2.0",
      "model_name": "LayoutModel",
      "state": {}
     },
     "058670d9e32d463fb315833cb0f0a4b0": {
      "model_module": "@jupyter-widgets/base",
      "model_module_version": "1.2.0",
      "model_name": "LayoutModel",
      "state": {}
     },
     "05936c0f88704eb7845148b2b6ead2d9": {
      "model_module": "@jupyter-widgets/controls",
      "model_module_version": "1.5.0",
      "model_name": "HTMLModel",
      "state": {
       "layout": "IPY_MODEL_247bb55a7f59495cb5c42dfbf5f10f99",
       "style": "IPY_MODEL_4be31e4ad613431296f047da1bd6e61e",
       "value": " 200/200 [00:36&lt;00:00,  5.44it/s]"
      }
     },
     "05d917de13114cec9f07b35a20594a4c": {
      "model_module": "@jupyter-widgets/base",
      "model_module_version": "1.2.0",
      "model_name": "LayoutModel",
      "state": {}
     },
     "05dd834689414bfbb3b92ac11188477f": {
      "model_module": "@jupyter-widgets/controls",
      "model_module_version": "1.5.0",
      "model_name": "HBoxModel",
      "state": {
       "children": [
        "IPY_MODEL_ba8d4cf79388495c8869b3ba3bd2d079",
        "IPY_MODEL_ad6b33663bfd4b46b2e86e533ae384ff"
       ],
       "layout": "IPY_MODEL_4ab64641e89a4ee5a33f3b15ca119182"
      }
     },
     "06197a7caace4befb460631ee53a0acf": {
      "model_module": "@jupyter-widgets/base",
      "model_module_version": "1.2.0",
      "model_name": "LayoutModel",
      "state": {}
     },
     "0657fdda906a4d6d9d06a3a695cbcf72": {
      "model_module": "@jupyter-widgets/controls",
      "model_module_version": "1.5.0",
      "model_name": "ProgressStyleModel",
      "state": {
       "description_width": "initial"
      }
     },
     "073842d866a245fd8225454e378c4884": {
      "model_module": "@jupyter-widgets/controls",
      "model_module_version": "1.5.0",
      "model_name": "HTMLModel",
      "state": {
       "layout": "IPY_MODEL_e1513b9298f84c0d8402d4d2a5ff5700",
       "style": "IPY_MODEL_72873a4664a24fb3ba5874c3d4a00c78",
       "value": " 200/200 [07:14&lt;00:00,  2.17s/it]"
      }
     },
     "078c5d96451044f0b219caff33dbf0c0": {
      "model_module": "@jupyter-widgets/controls",
      "model_module_version": "1.5.0",
      "model_name": "FloatProgressModel",
      "state": {
       "bar_style": "success",
       "description": "47200: 100%",
       "layout": "IPY_MODEL_ef98ae235c0f4ad8b3e13d423317ba39",
       "max": 200,
       "style": "IPY_MODEL_a54d54839fff4c13a47643315f0fb220",
       "value": 200
      }
     },
     "080e5fa7f4154be4beac5d212de4af3e": {
      "model_module": "@jupyter-widgets/base",
      "model_module_version": "1.2.0",
      "model_name": "LayoutModel",
      "state": {}
     },
     "081b8ad7b2134b30b3c1436320c656ac": {
      "model_module": "@jupyter-widgets/controls",
      "model_module_version": "1.5.0",
      "model_name": "HBoxModel",
      "state": {
       "children": [
        "IPY_MODEL_12c9fa3c426244ef8af5535a73701ae9",
        "IPY_MODEL_b2db5d069f48409aa0306494ca2b87da"
       ],
       "layout": "IPY_MODEL_60dc032e6b5f429bb4cc356d35f24af7"
      }
     },
     "0866989cd6fa45b28afe3b957c4c91a8": {
      "model_module": "@jupyter-widgets/base",
      "model_module_version": "1.2.0",
      "model_name": "LayoutModel",
      "state": {}
     },
     "09258d4b2faf461fb4781b826ce7452d": {
      "model_module": "@jupyter-widgets/controls",
      "model_module_version": "1.5.0",
      "model_name": "HBoxModel",
      "state": {
       "children": [
        "IPY_MODEL_d39f0acd20e345f5bb239c64c1db5409",
        "IPY_MODEL_4cf2c4b346fc42158d6faf533fe2ea7a"
       ],
       "layout": "IPY_MODEL_c59f4c321b4a496890e98123dcddb25c"
      }
     },
     "092a3d0fa1f643dc8a73c349ad0888aa": {
      "model_module": "@jupyter-widgets/base",
      "model_module_version": "1.2.0",
      "model_name": "LayoutModel",
      "state": {}
     },
     "0992844e1a9c41cd840bddc8e9213755": {
      "model_module": "@jupyter-widgets/base",
      "model_module_version": "1.2.0",
      "model_name": "LayoutModel",
      "state": {}
     },
     "09edb71d46494c1e95450385cdcfa33d": {
      "model_module": "@jupyter-widgets/base",
      "model_module_version": "1.2.0",
      "model_name": "LayoutModel",
      "state": {}
     },
     "0a0ed394e0b14b369bc3fe736c456a90": {
      "model_module": "@jupyter-widgets/controls",
      "model_module_version": "1.5.0",
      "model_name": "HBoxModel",
      "state": {
       "children": [
        "IPY_MODEL_386fb56b99a841d08c5d8c3758d46a5e",
        "IPY_MODEL_b39b358876134d348e6b766efc329624"
       ],
       "layout": "IPY_MODEL_3f692b37d70e44a39d98781732226377"
      }
     },
     "0ad8857f89654293a202c57db710b1f3": {
      "model_module": "@jupyter-widgets/base",
      "model_module_version": "1.2.0",
      "model_name": "LayoutModel",
      "state": {}
     },
     "0b6ce14b5c6c46278e5cc0040e2f2f8d": {
      "model_module": "@jupyter-widgets/controls",
      "model_module_version": "1.5.0",
      "model_name": "FloatProgressModel",
      "state": {
       "bar_style": "success",
       "description": "40600: 100%",
       "layout": "IPY_MODEL_b5ac09ee4e6f4c9bb24fd176a5d9083e",
       "max": 200,
       "style": "IPY_MODEL_d06e3b173a2641268098a5048cdff1c5",
       "value": 200
      }
     },
     "0bbd80a325364569b8ed5db251519156": {
      "model_module": "@jupyter-widgets/controls",
      "model_module_version": "1.5.0",
      "model_name": "HBoxModel",
      "state": {
       "children": [
        "IPY_MODEL_470c41b4966245278ba2bf00851d44b3",
        "IPY_MODEL_21aa4c44893949f7afbd59ed8607bfa5"
       ],
       "layout": "IPY_MODEL_7d31c14fa8f2420eb28e3fbcb8183b23"
      }
     },
     "0bc4829a22cf4815927e4736ec23ac80": {
      "model_module": "@jupyter-widgets/controls",
      "model_module_version": "1.5.0",
      "model_name": "ProgressStyleModel",
      "state": {
       "description_width": "initial"
      }
     },
     "0bc9be7f47df45f3b414f779c23cec69": {
      "model_module": "@jupyter-widgets/controls",
      "model_module_version": "1.5.0",
      "model_name": "HTMLModel",
      "state": {
       "layout": "IPY_MODEL_a98210f43a6f44ae9fde5881038a4c78",
       "style": "IPY_MODEL_be8eecb17bfa40709872396316f188b2",
       "value": " 200/200 [13:00&lt;00:00,  3.90s/it]"
      }
     },
     "0c045b3604864dd592a543b49c467d84": {
      "model_module": "@jupyter-widgets/controls",
      "model_module_version": "1.5.0",
      "model_name": "DescriptionStyleModel",
      "state": {
       "description_width": ""
      }
     },
     "0c11946469f748fb9e0aedd06137ee48": {
      "model_module": "@jupyter-widgets/base",
      "model_module_version": "1.2.0",
      "model_name": "LayoutModel",
      "state": {}
     },
     "0c5d22ac3ac6421994e84be4c2ac6dee": {
      "model_module": "@jupyter-widgets/controls",
      "model_module_version": "1.5.0",
      "model_name": "FloatProgressModel",
      "state": {
       "bar_style": "success",
       "description": "47000: 100%",
       "layout": "IPY_MODEL_cc215c0beb374398b2e6e2e6cd51536f",
       "max": 200,
       "style": "IPY_MODEL_1e1a5d97b7b84feb8cca235300119462",
       "value": 200
      }
     },
     "0db08f15a92d48e0baff8b090db2354c": {
      "model_module": "@jupyter-widgets/controls",
      "model_module_version": "1.5.0",
      "model_name": "ProgressStyleModel",
      "state": {
       "description_width": "initial"
      }
     },
     "0de9e8f837e44007ac9bfeaf6f5ed4ce": {
      "model_module": "@jupyter-widgets/controls",
      "model_module_version": "1.5.0",
      "model_name": "DescriptionStyleModel",
      "state": {
       "description_width": ""
      }
     },
     "0e129f3af035424a9b179d8f0adb8bf0": {
      "model_module": "@jupyter-widgets/base",
      "model_module_version": "1.2.0",
      "model_name": "LayoutModel",
      "state": {}
     },
     "0e917dacb3454648a9e8cf42c866a865": {
      "model_module": "@jupyter-widgets/controls",
      "model_module_version": "1.5.0",
      "model_name": "DescriptionStyleModel",
      "state": {
       "description_width": ""
      }
     },
     "0e9d7e4f594c4f22921bcd4c30fd3506": {
      "model_module": "@jupyter-widgets/controls",
      "model_module_version": "1.5.0",
      "model_name": "HTMLModel",
      "state": {
       "layout": "IPY_MODEL_fdf28525925c442d93130a143b14ef09",
       "style": "IPY_MODEL_2bc1942d250a4539a86f5e3188312b14",
       "value": " 200/200 [10:12&lt;00:00,  3.06s/it]"
      }
     },
     "0ee777ca232346288cdcf81ca8cb5298": {
      "model_module": "@jupyter-widgets/base",
      "model_module_version": "1.2.0",
      "model_name": "LayoutModel",
      "state": {}
     },
     "0f3848559ee544f4ad689a33cda1eef9": {
      "model_module": "@jupyter-widgets/base",
      "model_module_version": "1.2.0",
      "model_name": "LayoutModel",
      "state": {}
     },
     "1023eb9b694149cc8d589c2c0da0522e": {
      "model_module": "@jupyter-widgets/controls",
      "model_module_version": "1.5.0",
      "model_name": "HTMLModel",
      "state": {
       "layout": "IPY_MODEL_3b92550da53c475ba9d6761bcc746829",
       "style": "IPY_MODEL_8366cd9ee34e42339f2058fa83384f4a",
       "value": " 200/200 [10:50&lt;00:00,  3.25s/it]"
      }
     },
     "10517313a12b460a81515b77b1a98247": {
      "model_module": "@jupyter-widgets/controls",
      "model_module_version": "1.5.0",
      "model_name": "HTMLModel",
      "state": {
       "layout": "IPY_MODEL_bf9f3c081f4e437fae86ad1a98b1b618",
       "style": "IPY_MODEL_a2e7a6dc16d846cbb604394c567a0c9b",
       "value": " 200/200 [10:23&lt;00:00,  3.12s/it]"
      }
     },
     "1081113b4bd24f26be3adfe1480ee86d": {
      "model_module": "@jupyter-widgets/controls",
      "model_module_version": "1.5.0",
      "model_name": "FloatProgressModel",
      "state": {
       "bar_style": "success",
       "description": "42800: 100%",
       "layout": "IPY_MODEL_5fc57689e9c94c6bb81baaeac6dd3a31",
       "max": 200,
       "style": "IPY_MODEL_93e31b68f83e4c46959bc744eb79ec82",
       "value": 200
      }
     },
     "1237266dd403401096b4ad58edfe4af7": {
      "model_module": "@jupyter-widgets/base",
      "model_module_version": "1.2.0",
      "model_name": "LayoutModel",
      "state": {}
     },
     "124e6fc460de45e3a57ae862c52821d3": {
      "model_module": "@jupyter-widgets/controls",
      "model_module_version": "1.5.0",
      "model_name": "ProgressStyleModel",
      "state": {
       "description_width": "initial"
      }
     },
     "1278c4fd478049efa4de50e3006e79e5": {
      "model_module": "@jupyter-widgets/controls",
      "model_module_version": "1.5.0",
      "model_name": "HTMLModel",
      "state": {
       "layout": "IPY_MODEL_a2ec500567df4c6fa3c9bb70a4115a8d",
       "style": "IPY_MODEL_849f9d95feec4e0dad99dc4ac0222c11",
       "value": " 200/200 [20:46&lt;00:00,  6.23s/it]"
      }
     },
     "127c4150bfb84579bfd76a58a7a7a9e0": {
      "model_module": "@jupyter-widgets/controls",
      "model_module_version": "1.5.0",
      "model_name": "DescriptionStyleModel",
      "state": {
       "description_width": ""
      }
     },
     "12c9fa3c426244ef8af5535a73701ae9": {
      "model_module": "@jupyter-widgets/controls",
      "model_module_version": "1.5.0",
      "model_name": "FloatProgressModel",
      "state": {
       "bar_style": "success",
       "description": "24800: 100%",
       "layout": "IPY_MODEL_752216af0c444a5199dd34c2fbb9f5e9",
       "max": 200,
       "style": "IPY_MODEL_2be2ea9987084803b1b92c6c48024cc5",
       "value": 200
      }
     },
     "12ca78b6870d4e7dbcdc53d99dba8098": {
      "model_module": "@jupyter-widgets/controls",
      "model_module_version": "1.5.0",
      "model_name": "FloatProgressModel",
      "state": {
       "bar_style": "success",
       "description": "23800: 100%",
       "layout": "IPY_MODEL_bff783f88c11459793e4d84cfae1a97e",
       "max": 200,
       "style": "IPY_MODEL_9e0659b4e0214448997f9c7256b4bfcf",
       "value": 200
      }
     },
     "133e37a5bd3944fc88d67f77ec4b7ea0": {
      "model_module": "@jupyter-widgets/base",
      "model_module_version": "1.2.0",
      "model_name": "LayoutModel",
      "state": {}
     },
     "13437e6d434b48efbac92455cc1d0d99": {
      "model_module": "@jupyter-widgets/controls",
      "model_module_version": "1.5.0",
      "model_name": "HBoxModel",
      "state": {
       "children": [
        "IPY_MODEL_63fe2f246bca4dd6b080f35800ed9b7a",
        "IPY_MODEL_98e399035fe449fab606efc2a59567b6"
       ],
       "layout": "IPY_MODEL_2ac4b6ad0526469d8b83c4a2ba83028a"
      }
     },
     "135833c8464b49ae877e0208f8c55e62": {
      "model_module": "@jupyter-widgets/base",
      "model_module_version": "1.2.0",
      "model_name": "LayoutModel",
      "state": {}
     },
     "136694d6c4734e5c96d963033e679b59": {
      "model_module": "@jupyter-widgets/controls",
      "model_module_version": "1.5.0",
      "model_name": "DescriptionStyleModel",
      "state": {
       "description_width": ""
      }
     },
     "13efadfd7bf248cb8afe72f6bdd70795": {
      "model_module": "@jupyter-widgets/controls",
      "model_module_version": "1.5.0",
      "model_name": "HBoxModel",
      "state": {
       "children": [
        "IPY_MODEL_cc7f40262b414012a652e286794a18e7",
        "IPY_MODEL_2135d00b53944e148a1148011200f7dd"
       ],
       "layout": "IPY_MODEL_9068f67a3aec4c269c5042726838c16d"
      }
     },
     "141ad3ba03124992b3584404f1468ed3": {
      "model_module": "@jupyter-widgets/base",
      "model_module_version": "1.2.0",
      "model_name": "LayoutModel",
      "state": {}
     },
     "14be21a70ee34d1591df12c79349a229": {
      "model_module": "@jupyter-widgets/controls",
      "model_module_version": "1.5.0",
      "model_name": "HBoxModel",
      "state": {
       "children": [
        "IPY_MODEL_f9c2425eab0c484b95bdefdd06e81d88",
        "IPY_MODEL_3da8393ab946420fbf70cf501f2c0192"
       ],
       "layout": "IPY_MODEL_b310067bd9c549e39df30d2b63f76f95"
      }
     },
     "1507ba93046e4fe2a65c1e453f1c0c51": {
      "model_module": "@jupyter-widgets/base",
      "model_module_version": "1.2.0",
      "model_name": "LayoutModel",
      "state": {}
     },
     "1588dea7e9364a91817abce9ca332e61": {
      "model_module": "@jupyter-widgets/controls",
      "model_module_version": "1.5.0",
      "model_name": "DescriptionStyleModel",
      "state": {
       "description_width": ""
      }
     },
     "1612b42218b841e08a7ba50ffd8e086c": {
      "model_module": "@jupyter-widgets/controls",
      "model_module_version": "1.5.0",
      "model_name": "FloatProgressModel",
      "state": {
       "bar_style": "success",
       "description": "49200: 100%",
       "layout": "IPY_MODEL_98cd98183baf40c8856fc437a15e9ba8",
       "max": 200,
       "style": "IPY_MODEL_4af79cf47eaf4d4ea1c3233ba172f894",
       "value": 200
      }
     },
     "168d03d6f326434baa670a307936fae6": {
      "model_module": "@jupyter-widgets/controls",
      "model_module_version": "1.5.0",
      "model_name": "DescriptionStyleModel",
      "state": {
       "description_width": ""
      }
     },
     "16edad4e52c74aceb3a85aeef2744a2a": {
      "model_module": "@jupyter-widgets/base",
      "model_module_version": "1.2.0",
      "model_name": "LayoutModel",
      "state": {}
     },
     "16f8b0e4611b406689a1df35c2b0d95f": {
      "model_module": "@jupyter-widgets/controls",
      "model_module_version": "1.5.0",
      "model_name": "DescriptionStyleModel",
      "state": {
       "description_width": ""
      }
     },
     "17cf0da55b1c46479e86722454245733": {
      "model_module": "@jupyter-widgets/base",
      "model_module_version": "1.2.0",
      "model_name": "LayoutModel",
      "state": {}
     },
     "17e1c46c99624e4ca50d6c86acca386e": {
      "model_module": "@jupyter-widgets/controls",
      "model_module_version": "1.5.0",
      "model_name": "HBoxModel",
      "state": {
       "children": [
        "IPY_MODEL_1612b42218b841e08a7ba50ffd8e086c",
        "IPY_MODEL_428418c9d72c4113845ea7bbfd40990c"
       ],
       "layout": "IPY_MODEL_d3e2490b7cd64977ab62cce21d222a4c"
      }
     },
     "1833e212c7744f1f86254e2262b9305b": {
      "model_module": "@jupyter-widgets/base",
      "model_module_version": "1.2.0",
      "model_name": "LayoutModel",
      "state": {}
     },
     "18ee7ce1254b49d7816fd20da8a0e324": {
      "model_module": "@jupyter-widgets/base",
      "model_module_version": "1.2.0",
      "model_name": "LayoutModel",
      "state": {}
     },
     "18fe0157e0434b5ba875c5a7a8ba14e6": {
      "model_module": "@jupyter-widgets/controls",
      "model_module_version": "1.5.0",
      "model_name": "ProgressStyleModel",
      "state": {
       "description_width": "initial"
      }
     },
     "191a3cd4c9d04cd3b17668b4d66a4aeb": {
      "model_module": "@jupyter-widgets/base",
      "model_module_version": "1.2.0",
      "model_name": "LayoutModel",
      "state": {}
     },
     "19206e6372a040a2b89a9c1e006b2bb7": {
      "model_module": "@jupyter-widgets/controls",
      "model_module_version": "1.5.0",
      "model_name": "ProgressStyleModel",
      "state": {
       "description_width": "initial"
      }
     },
     "1969f78cc6484e2f8238a71164823c6e": {
      "model_module": "@jupyter-widgets/controls",
      "model_module_version": "1.5.0",
      "model_name": "DescriptionStyleModel",
      "state": {
       "description_width": ""
      }
     },
     "19ba64ae96a544ab9f3dbe68bd25100f": {
      "model_module": "@jupyter-widgets/base",
      "model_module_version": "1.2.0",
      "model_name": "LayoutModel",
      "state": {}
     },
     "1a45f8aead0a407a8fdc4b3fdb2e5ed6": {
      "model_module": "@jupyter-widgets/controls",
      "model_module_version": "1.5.0",
      "model_name": "HTMLModel",
      "state": {
       "layout": "IPY_MODEL_35662af31bca454bb3dd6cac8c0ac3a2",
       "style": "IPY_MODEL_fe79c1b41d2444b0ab733f0c83cf7c9c",
       "value": " 200/200 [10:37&lt;00:00,  3.19s/it]"
      }
     },
     "1a54419541104774ab12fb85122d38a4": {
      "model_module": "@jupyter-widgets/controls",
      "model_module_version": "1.5.0",
      "model_name": "FloatProgressModel",
      "state": {
       "bar_style": "success",
       "description": "24600: 100%",
       "layout": "IPY_MODEL_e9dfaf697b3246b38872fca974defff4",
       "max": 200,
       "style": "IPY_MODEL_c5e86442c7374dac9504a6b8dbf0a43e",
       "value": 200
      }
     },
     "1a54de976cb34f21bf52bf6e3955e5ea": {
      "model_module": "@jupyter-widgets/controls",
      "model_module_version": "1.5.0",
      "model_name": "ProgressStyleModel",
      "state": {
       "description_width": "initial"
      }
     },
     "1a974f937cac43efad308ec5093bc7d7": {
      "model_module": "@jupyter-widgets/base",
      "model_module_version": "1.2.0",
      "model_name": "LayoutModel",
      "state": {}
     },
     "1b194592472d416a84f69726792ec203": {
      "model_module": "@jupyter-widgets/base",
      "model_module_version": "1.2.0",
      "model_name": "LayoutModel",
      "state": {}
     },
     "1b43a93d9d984a4c91a0708ac3b8fbec": {
      "model_module": "@jupyter-widgets/base",
      "model_module_version": "1.2.0",
      "model_name": "LayoutModel",
      "state": {}
     },
     "1b7dbfd23ce44fe88f3ce2b75b5d5251": {
      "model_module": "@jupyter-widgets/controls",
      "model_module_version": "1.5.0",
      "model_name": "HBoxModel",
      "state": {
       "children": [
        "IPY_MODEL_9eed429e5b524036a3613a67b9186e8c",
        "IPY_MODEL_6d93b92466c04d90a68a12441948621b"
       ],
       "layout": "IPY_MODEL_586ac3a66f154c5d9a7d18c934c6d96c"
      }
     },
     "1bc3d52c553247bfbf7bb5830c7319e2": {
      "model_module": "@jupyter-widgets/base",
      "model_module_version": "1.2.0",
      "model_name": "LayoutModel",
      "state": {}
     },
     "1bd0f48a3f4b4bdebbdc7a229c616510": {
      "model_module": "@jupyter-widgets/controls",
      "model_module_version": "1.5.0",
      "model_name": "DescriptionStyleModel",
      "state": {
       "description_width": ""
      }
     },
     "1c3886cc1c14411f8b3a73ca006e614f": {
      "model_module": "@jupyter-widgets/base",
      "model_module_version": "1.2.0",
      "model_name": "LayoutModel",
      "state": {}
     },
     "1ce9905528a844a5a7d3ddc3c2612328": {
      "model_module": "@jupyter-widgets/controls",
      "model_module_version": "1.5.0",
      "model_name": "HBoxModel",
      "state": {
       "children": [
        "IPY_MODEL_3ce2aa90293347af95aa24aefc27a511",
        "IPY_MODEL_1e54387851d84805990e7e67618d6d4e"
       ],
       "layout": "IPY_MODEL_7abf28a6190a4061800e20e2bcbaaa3f"
      }
     },
     "1dc3e84ce5454c929ad319e5c546f116": {
      "model_module": "@jupyter-widgets/base",
      "model_module_version": "1.2.0",
      "model_name": "LayoutModel",
      "state": {}
     },
     "1e1a5d97b7b84feb8cca235300119462": {
      "model_module": "@jupyter-widgets/controls",
      "model_module_version": "1.5.0",
      "model_name": "ProgressStyleModel",
      "state": {
       "description_width": "initial"
      }
     },
     "1e23381e0c624af78e8ea49618378d43": {
      "model_module": "@jupyter-widgets/base",
      "model_module_version": "1.2.0",
      "model_name": "LayoutModel",
      "state": {}
     },
     "1e54387851d84805990e7e67618d6d4e": {
      "model_module": "@jupyter-widgets/controls",
      "model_module_version": "1.5.0",
      "model_name": "HTMLModel",
      "state": {
       "layout": "IPY_MODEL_b63da8947ab04c5db807bc33819e5053",
       "style": "IPY_MODEL_1bd0f48a3f4b4bdebbdc7a229c616510",
       "value": " 200/200 [20:56&lt;00:00,  6.28s/it]"
      }
     },
     "1ed6034f81044442bc9328edc7650dee": {
      "model_module": "@jupyter-widgets/controls",
      "model_module_version": "1.5.0",
      "model_name": "HBoxModel",
      "state": {
       "children": [
        "IPY_MODEL_a6bc56cd90534af7946e1bc8bbeebe7a",
        "IPY_MODEL_edcb94b3d2e94fe9873aa5d5f3515dbb"
       ],
       "layout": "IPY_MODEL_e419c018e23247f9bad8bc0639358753"
      }
     },
     "1ee387951fe64005a3bafd8192d91cdc": {
      "model_module": "@jupyter-widgets/controls",
      "model_module_version": "1.5.0",
      "model_name": "FloatProgressModel",
      "state": {
       "bar_style": "success",
       "description": "29800: 100%",
       "layout": "IPY_MODEL_25b761d636ec4198bc50cbf56eb22ba5",
       "max": 200,
       "style": "IPY_MODEL_59cdeca05c1143f5927c4472ef1e1981",
       "value": 200
      }
     },
     "1f00b8f17b184be09435218bd1368a1e": {
      "model_module": "@jupyter-widgets/controls",
      "model_module_version": "1.5.0",
      "model_name": "ProgressStyleModel",
      "state": {
       "description_width": "initial"
      }
     },
     "1f6e8236ebcc498e9846996f25a5a8b7": {
      "model_module": "@jupyter-widgets/base",
      "model_module_version": "1.2.0",
      "model_name": "LayoutModel",
      "state": {}
     },
     "1f86b64dbd434353ba8b24a846910693": {
      "model_module": "@jupyter-widgets/base",
      "model_module_version": "1.2.0",
      "model_name": "LayoutModel",
      "state": {}
     },
     "1f991de79f574fd4a4c108de3ee5bda8": {
      "model_module": "@jupyter-widgets/base",
      "model_module_version": "1.2.0",
      "model_name": "LayoutModel",
      "state": {}
     },
     "1fa03ee15de8447bb83f8177a561c0ae": {
      "model_module": "@jupyter-widgets/base",
      "model_module_version": "1.2.0",
      "model_name": "LayoutModel",
      "state": {}
     },
     "1fb001c749ff4868bcbeced917e4ab4d": {
      "model_module": "@jupyter-widgets/controls",
      "model_module_version": "1.5.0",
      "model_name": "HBoxModel",
      "state": {
       "children": [
        "IPY_MODEL_50d970b8496d4ad59fecfa6b11b42029",
        "IPY_MODEL_468f1bea8e6240ad8f56bf24c79488ed"
       ],
       "layout": "IPY_MODEL_dfe573b39b37441796c5baf56d51a67b"
      }
     },
     "1fbffe9cfd7845159752bf7974460eb7": {
      "model_module": "@jupyter-widgets/base",
      "model_module_version": "1.2.0",
      "model_name": "LayoutModel",
      "state": {}
     },
     "2092a8637e034a4c88800251364316c1": {
      "model_module": "@jupyter-widgets/controls",
      "model_module_version": "1.5.0",
      "model_name": "FloatProgressModel",
      "state": {
       "bar_style": "success",
       "description": "25200: 100%",
       "layout": "IPY_MODEL_0ee777ca232346288cdcf81ca8cb5298",
       "max": 200,
       "style": "IPY_MODEL_8ec91d9d158b4214a8171805a08a58ac",
       "value": 200
      }
     },
     "2135d00b53944e148a1148011200f7dd": {
      "model_module": "@jupyter-widgets/controls",
      "model_module_version": "1.5.0",
      "model_name": "HTMLModel",
      "state": {
       "layout": "IPY_MODEL_4cfaf730b8ef46b58af52f069d49e87f",
       "style": "IPY_MODEL_b181445a42a943fa9bc10cb4cb6efb85",
       "value": " 200/200 [10:37&lt;00:00,  3.19s/it]"
      }
     },
     "2159c6f31a0740b9acaea0aea49eb858": {
      "model_module": "@jupyter-widgets/base",
      "model_module_version": "1.2.0",
      "model_name": "LayoutModel",
      "state": {}
     },
     "21aa4c44893949f7afbd59ed8607bfa5": {
      "model_module": "@jupyter-widgets/controls",
      "model_module_version": "1.5.0",
      "model_name": "HTMLModel",
      "state": {
       "layout": "IPY_MODEL_a5b825b6d66749699fa4f3b5f34febf1",
       "style": "IPY_MODEL_7569dd7bc4634da2bcdb57270eb0c66e",
       "value": " 200/200 [20:01&lt;00:00,  6.01s/it]"
      }
     },
     "21dbc464c58c4ea6a634f7142d93cddb": {
      "model_module": "@jupyter-widgets/base",
      "model_module_version": "1.2.0",
      "model_name": "LayoutModel",
      "state": {}
     },
     "22ab5b4e675640a68029db0825026560": {
      "model_module": "@jupyter-widgets/base",
      "model_module_version": "1.2.0",
      "model_name": "LayoutModel",
      "state": {}
     },
     "247bb55a7f59495cb5c42dfbf5f10f99": {
      "model_module": "@jupyter-widgets/base",
      "model_module_version": "1.2.0",
      "model_name": "LayoutModel",
      "state": {}
     },
     "248314463250407aaa8e5105ed6f141d": {
      "model_module": "@jupyter-widgets/controls",
      "model_module_version": "1.5.0",
      "model_name": "FloatProgressModel",
      "state": {
       "bar_style": "success",
       "description": "28600: 100%",
       "layout": "IPY_MODEL_2b7fab3a780b4b0597d9563adc3e2c1f",
       "max": 200,
       "style": "IPY_MODEL_9d9152ca0e0e47f78a82114b9442c4e8",
       "value": 200
      }
     },
     "24bb6deb7a444cf1aa0c834606f86b95": {
      "model_module": "@jupyter-widgets/controls",
      "model_module_version": "1.5.0",
      "model_name": "ProgressStyleModel",
      "state": {
       "description_width": "initial"
      }
     },
     "24e1d9603d7f40f4a0bb2e29c1cacc72": {
      "model_module": "@jupyter-widgets/base",
      "model_module_version": "1.2.0",
      "model_name": "LayoutModel",
      "state": {}
     },
     "25195eac9b39459d88cf53144a8ffc6a": {
      "model_module": "@jupyter-widgets/controls",
      "model_module_version": "1.5.0",
      "model_name": "HTMLModel",
      "state": {
       "layout": "IPY_MODEL_1e23381e0c624af78e8ea49618378d43",
       "style": "IPY_MODEL_43cf57e6d78a4bd8870b658a8df3b037",
       "value": " 200/200 [19:37&lt;00:00,  5.89s/it]"
      }
     },
     "2570ad526dd04e6980d20196239ea9a3": {
      "model_module": "@jupyter-widgets/controls",
      "model_module_version": "1.5.0",
      "model_name": "HTMLModel",
      "state": {
       "layout": "IPY_MODEL_b068ef22ace74f968ed4c6e3fcc3ee48",
       "style": "IPY_MODEL_6a01657c4d264a90bd6ebb6bda9a4767",
       "value": " 200/200 [16:45&lt;00:00,  5.03s/it]"
      }
     },
     "25b761d636ec4198bc50cbf56eb22ba5": {
      "model_module": "@jupyter-widgets/base",
      "model_module_version": "1.2.0",
      "model_name": "LayoutModel",
      "state": {}
     },
     "26b7a33c004c4fdaaecc8dd9dc6fb86f": {
      "model_module": "@jupyter-widgets/controls",
      "model_module_version": "1.5.0",
      "model_name": "HTMLModel",
      "state": {
       "layout": "IPY_MODEL_99cd373fb29c4a38ad9732e3e1247604",
       "style": "IPY_MODEL_01d5e35c470e4a2489e41bd23c74b4dd",
       "value": " 200/200 [09:55&lt;00:00,  2.98s/it]"
      }
     },
     "26d3ea415c8b49f9ad308e507d95b56b": {
      "model_module": "@jupyter-widgets/controls",
      "model_module_version": "1.5.0",
      "model_name": "ProgressStyleModel",
      "state": {
       "description_width": "initial"
      }
     },
     "26ebaa6511ff4a2f9b2855e1682f6aed": {
      "model_module": "@jupyter-widgets/controls",
      "model_module_version": "1.5.0",
      "model_name": "ProgressStyleModel",
      "state": {
       "description_width": "initial"
      }
     },
     "273eb1ab7c6f48fd9b01d7f408e5c44a": {
      "model_module": "@jupyter-widgets/base",
      "model_module_version": "1.2.0",
      "model_name": "LayoutModel",
      "state": {}
     },
     "2756df9e86534aada3796dd63de58854": {
      "model_module": "@jupyter-widgets/base",
      "model_module_version": "1.2.0",
      "model_name": "LayoutModel",
      "state": {}
     },
     "27eb59cdeb984604ba3b6e685d3a777a": {
      "model_module": "@jupyter-widgets/base",
      "model_module_version": "1.2.0",
      "model_name": "LayoutModel",
      "state": {}
     },
     "284ea9547ff7452899aa11b4b68e8f92": {
      "model_module": "@jupyter-widgets/controls",
      "model_module_version": "1.5.0",
      "model_name": "ProgressStyleModel",
      "state": {
       "description_width": "initial"
      }
     },
     "287fc2cd16304a9aa80b18981fd8bed4": {
      "model_module": "@jupyter-widgets/base",
      "model_module_version": "1.2.0",
      "model_name": "LayoutModel",
      "state": {}
     },
     "28d2adb2cec44afab80216f396fe3f29": {
      "model_module": "@jupyter-widgets/base",
      "model_module_version": "1.2.0",
      "model_name": "LayoutModel",
      "state": {}
     },
     "28ee69faa0d1452fbbb9aebaaf3cbede": {
      "model_module": "@jupyter-widgets/base",
      "model_module_version": "1.2.0",
      "model_name": "LayoutModel",
      "state": {}
     },
     "291665a3edb04f63abccb8d976f2d14d": {
      "model_module": "@jupyter-widgets/base",
      "model_module_version": "1.2.0",
      "model_name": "LayoutModel",
      "state": {}
     },
     "2985d66fc0354a6eae01de87b1047c09": {
      "model_module": "@jupyter-widgets/controls",
      "model_module_version": "1.5.0",
      "model_name": "ProgressStyleModel",
      "state": {
       "description_width": "initial"
      }
     },
     "29c8d09ebfe548c1a07acd4920530a71": {
      "model_module": "@jupyter-widgets/controls",
      "model_module_version": "1.5.0",
      "model_name": "DescriptionStyleModel",
      "state": {
       "description_width": ""
      }
     },
     "29d9e24a97c74bc2a89cfeb5c9b31578": {
      "model_module": "@jupyter-widgets/controls",
      "model_module_version": "1.5.0",
      "model_name": "HTMLModel",
      "state": {
       "layout": "IPY_MODEL_a954ade38a214323947019cf59a78103",
       "style": "IPY_MODEL_317da8b06b80424286e0cf5f872343c8",
       "value": " 200/200 [00:39&lt;00:00,  5.07it/s]"
      }
     },
     "29e88151d6404102943e9e8ed7639276": {
      "model_module": "@jupyter-widgets/base",
      "model_module_version": "1.2.0",
      "model_name": "LayoutModel",
      "state": {}
     },
     "2a2a5ec275f84e75a6bbffacf90713ab": {
      "model_module": "@jupyter-widgets/base",
      "model_module_version": "1.2.0",
      "model_name": "LayoutModel",
      "state": {}
     },
     "2aae72a139374727b58c9b9d51452880": {
      "model_module": "@jupyter-widgets/controls",
      "model_module_version": "1.5.0",
      "model_name": "HTMLModel",
      "state": {
       "layout": "IPY_MODEL_2d078f56fb2e4ab9aab4413196d2a5f9",
       "style": "IPY_MODEL_f8c5e71d7ff543eb83b526144c7ce699",
       "value": " 200/200 [20:34&lt;00:00,  6.17s/it]"
      }
     },
     "2ac4b6ad0526469d8b83c4a2ba83028a": {
      "model_module": "@jupyter-widgets/base",
      "model_module_version": "1.2.0",
      "model_name": "LayoutModel",
      "state": {}
     },
     "2b7fab3a780b4b0597d9563adc3e2c1f": {
      "model_module": "@jupyter-widgets/base",
      "model_module_version": "1.2.0",
      "model_name": "LayoutModel",
      "state": {}
     },
     "2bc1942d250a4539a86f5e3188312b14": {
      "model_module": "@jupyter-widgets/controls",
      "model_module_version": "1.5.0",
      "model_name": "DescriptionStyleModel",
      "state": {
       "description_width": ""
      }
     },
     "2be2ea9987084803b1b92c6c48024cc5": {
      "model_module": "@jupyter-widgets/controls",
      "model_module_version": "1.5.0",
      "model_name": "ProgressStyleModel",
      "state": {
       "description_width": "initial"
      }
     },
     "2c127fb7a91848ceb93e468e099f4025": {
      "model_module": "@jupyter-widgets/controls",
      "model_module_version": "1.5.0",
      "model_name": "DescriptionStyleModel",
      "state": {
       "description_width": ""
      }
     },
     "2c571635b56045b6b3504d00befffb2b": {
      "model_module": "@jupyter-widgets/controls",
      "model_module_version": "1.5.0",
      "model_name": "ProgressStyleModel",
      "state": {
       "description_width": "initial"
      }
     },
     "2c7e111761f042f5b50427ff3e7f388a": {
      "model_module": "@jupyter-widgets/base",
      "model_module_version": "1.2.0",
      "model_name": "LayoutModel",
      "state": {}
     },
     "2cfbbd7721a7442994ed5f5adae4b1ed": {
      "model_module": "@jupyter-widgets/controls",
      "model_module_version": "1.5.0",
      "model_name": "FloatProgressModel",
      "state": {
       "bar_style": "success",
       "description": "24400: 100%",
       "layout": "IPY_MODEL_9a0c7e4821374483b19e0a63d3998a79",
       "max": 200,
       "style": "IPY_MODEL_6983618649764dbda95498d988be7507",
       "value": 200
      }
     },
     "2d078f56fb2e4ab9aab4413196d2a5f9": {
      "model_module": "@jupyter-widgets/base",
      "model_module_version": "1.2.0",
      "model_name": "LayoutModel",
      "state": {}
     },
     "2d69d63b7e61414f9bcde6e21ff5e3ee": {
      "model_module": "@jupyter-widgets/controls",
      "model_module_version": "1.5.0",
      "model_name": "FloatProgressModel",
      "state": {
       "bar_style": "success",
       "description": "26000: 100%",
       "layout": "IPY_MODEL_f34c9184fcd04736b616ec67d2b6eeb5",
       "max": 200,
       "style": "IPY_MODEL_2ec54ea7249d42f1a9aa9bc3af0e2b90",
       "value": 200
      }
     },
     "2db05087678c41819cac4217042d7e0e": {
      "model_module": "@jupyter-widgets/controls",
      "model_module_version": "1.5.0",
      "model_name": "FloatProgressModel",
      "state": {
       "bar_style": "success",
       "description": "22600: 100%",
       "layout": "IPY_MODEL_c9406284fe7b4de1b72903f1621eb4a5",
       "max": 200,
       "style": "IPY_MODEL_18fe0157e0434b5ba875c5a7a8ba14e6",
       "value": 200
      }
     },
     "2df20c165fdf49b595bc476957e4fb8d": {
      "model_module": "@jupyter-widgets/controls",
      "model_module_version": "1.5.0",
      "model_name": "HBoxModel",
      "state": {
       "children": [
        "IPY_MODEL_7ef9b270c4474b8694477429c80f77f0",
        "IPY_MODEL_2570ad526dd04e6980d20196239ea9a3"
       ],
       "layout": "IPY_MODEL_feff6b820fcd42899930deed168ab667"
      }
     },
     "2dfc7dd968c04b7f97a0e3a0d6bbbea4": {
      "model_module": "@jupyter-widgets/controls",
      "model_module_version": "1.5.0",
      "model_name": "HBoxModel",
      "state": {
       "children": [
        "IPY_MODEL_2db05087678c41819cac4217042d7e0e",
        "IPY_MODEL_76e71afe94fd422bb6f966ec5a5f4cb7"
       ],
       "layout": "IPY_MODEL_af394c916a364e998fb2de579b4df2d3"
      }
     },
     "2eb35d0f649b40b0880fcad49529fae3": {
      "model_module": "@jupyter-widgets/base",
      "model_module_version": "1.2.0",
      "model_name": "LayoutModel",
      "state": {}
     },
     "2ec54ea7249d42f1a9aa9bc3af0e2b90": {
      "model_module": "@jupyter-widgets/controls",
      "model_module_version": "1.5.0",
      "model_name": "ProgressStyleModel",
      "state": {
       "description_width": "initial"
      }
     },
     "2ed5d1b2de814b0889f20e1207f9a020": {
      "model_module": "@jupyter-widgets/controls",
      "model_module_version": "1.5.0",
      "model_name": "FloatProgressModel",
      "state": {
       "bar_style": "success",
       "description": "47800: 100%",
       "layout": "IPY_MODEL_97b92ab3c16149d197dc258634e2d03f",
       "max": 200,
       "style": "IPY_MODEL_7d6003f2a158406bb120fcd34230d5f6",
       "value": 200
      }
     },
     "2f28fed88d79491da473b7b3cf184519": {
      "model_module": "@jupyter-widgets/controls",
      "model_module_version": "1.5.0",
      "model_name": "FloatProgressModel",
      "state": {
       "bar_style": "success",
       "description": "20600: 100%",
       "layout": "IPY_MODEL_058670d9e32d463fb315833cb0f0a4b0",
       "max": 200,
       "style": "IPY_MODEL_3326670677054d01b48c33ef165e476c",
       "value": 200
      }
     },
     "2f68be501cd34cbc937cc0f3ec7ab0fc": {
      "model_module": "@jupyter-widgets/controls",
      "model_module_version": "1.5.0",
      "model_name": "HTMLModel",
      "state": {
       "layout": "IPY_MODEL_d5fc6cb8eff84b6e9ee50952c798496f",
       "style": "IPY_MODEL_da5779ba4d95442ca5489910d9f548cc",
       "value": " 200/200 [10:19&lt;00:00,  3.10s/it]"
      }
     },
     "2fd51379fcd34f15a0f705d123fda4cf": {
      "model_module": "@jupyter-widgets/base",
      "model_module_version": "1.2.0",
      "model_name": "LayoutModel",
      "state": {}
     },
     "2ff5a1bb20384378a8f6309f62f84097": {
      "model_module": "@jupyter-widgets/base",
      "model_module_version": "1.2.0",
      "model_name": "LayoutModel",
      "state": {}
     },
     "3029f23a59464463ad30d04c9d0ffb36": {
      "model_module": "@jupyter-widgets/controls",
      "model_module_version": "1.5.0",
      "model_name": "ProgressStyleModel",
      "state": {
       "description_width": "initial"
      }
     },
     "304dc4d2bca04840917df6b90105cced": {
      "model_module": "@jupyter-widgets/base",
      "model_module_version": "1.2.0",
      "model_name": "LayoutModel",
      "state": {}
     },
     "305a4b095a37473a90d4b3fe3f2d4c40": {
      "model_module": "@jupyter-widgets/base",
      "model_module_version": "1.2.0",
      "model_name": "LayoutModel",
      "state": {}
     },
     "30aa7ed0fee14020b8ec192287740326": {
      "model_module": "@jupyter-widgets/base",
      "model_module_version": "1.2.0",
      "model_name": "LayoutModel",
      "state": {}
     },
     "30cc96e7dd894871ab3f19ae9762952d": {
      "model_module": "@jupyter-widgets/controls",
      "model_module_version": "1.5.0",
      "model_name": "FloatProgressModel",
      "state": {
       "bar_style": "success",
       "description": "42000: 100%",
       "layout": "IPY_MODEL_f072ef3b9e954a0abd0afc0b5634dcec",
       "max": 200,
       "style": "IPY_MODEL_477117551bf2454e8d6888c5004522a4",
       "value": 200
      }
     },
     "30df9c4368be44c5bfba79780891ec64": {
      "model_module": "@jupyter-widgets/controls",
      "model_module_version": "1.5.0",
      "model_name": "DescriptionStyleModel",
      "state": {
       "description_width": ""
      }
     },
     "317da8b06b80424286e0cf5f872343c8": {
      "model_module": "@jupyter-widgets/controls",
      "model_module_version": "1.5.0",
      "model_name": "DescriptionStyleModel",
      "state": {
       "description_width": ""
      }
     },
     "31e25eb42b5b43fcb378386ae8dd8866": {
      "model_module": "@jupyter-widgets/controls",
      "model_module_version": "1.5.0",
      "model_name": "DescriptionStyleModel",
      "state": {
       "description_width": ""
      }
     },
     "31ef7a9ea8db46858355b0608eac490a": {
      "model_module": "@jupyter-widgets/controls",
      "model_module_version": "1.5.0",
      "model_name": "FloatProgressModel",
      "state": {
       "bar_style": "success",
       "description": "26400: 100%",
       "layout": "IPY_MODEL_3613546e3a614b27a3d5741de1087575",
       "max": 200,
       "style": "IPY_MODEL_0657fdda906a4d6d9d06a3a695cbcf72",
       "value": 200
      }
     },
     "321a6b29b1394c889385cfc66f9e0c9b": {
      "model_module": "@jupyter-widgets/controls",
      "model_module_version": "1.5.0",
      "model_name": "HTMLModel",
      "state": {
       "layout": "IPY_MODEL_32c4c33166e94eb2b703e4301f4ac6f3",
       "style": "IPY_MODEL_a6c6290b111946c598e1e434582979ed",
       "value": " 200/200 [10:20&lt;00:00,  3.10s/it]"
      }
     },
     "32c4c33166e94eb2b703e4301f4ac6f3": {
      "model_module": "@jupyter-widgets/base",
      "model_module_version": "1.2.0",
      "model_name": "LayoutModel",
      "state": {}
     },
     "32d82a0e7f1c4bb3a429a96e09c41a09": {
      "model_module": "@jupyter-widgets/controls",
      "model_module_version": "1.5.0",
      "model_name": "HBoxModel",
      "state": {
       "children": [
        "IPY_MODEL_7889ce8e34454b7a83ada07e558606b1",
        "IPY_MODEL_2aae72a139374727b58c9b9d51452880"
       ],
       "layout": "IPY_MODEL_04fce52d97554deab06b5eea2ec6c417"
      }
     },
     "3326670677054d01b48c33ef165e476c": {
      "model_module": "@jupyter-widgets/controls",
      "model_module_version": "1.5.0",
      "model_name": "ProgressStyleModel",
      "state": {
       "description_width": "initial"
      }
     },
     "335b8053e8a04f90b2052518a37ae800": {
      "model_module": "@jupyter-widgets/controls",
      "model_module_version": "1.5.0",
      "model_name": "HBoxModel",
      "state": {
       "children": [
        "IPY_MODEL_c353e48db61a4b94b916cdb107e25763",
        "IPY_MODEL_597ab769801e4574af49904310f55214"
       ],
       "layout": "IPY_MODEL_ae61df2f2eb645fa9d9ebb8f6d98fba1"
      }
     },
     "35662af31bca454bb3dd6cac8c0ac3a2": {
      "model_module": "@jupyter-widgets/base",
      "model_module_version": "1.2.0",
      "model_name": "LayoutModel",
      "state": {}
     },
     "35eb9d2d8f22427dbfa067286db6e81e": {
      "model_module": "@jupyter-widgets/controls",
      "model_module_version": "1.5.0",
      "model_name": "HBoxModel",
      "state": {
       "children": [
        "IPY_MODEL_64aa62939ee548a099595494bb5d14c5",
        "IPY_MODEL_88fcf0f08cbe41269d80a8472deb48b9"
       ],
       "layout": "IPY_MODEL_6fb85d2d08e44d238546c5f10a9d42e5"
      }
     },
     "3613546e3a614b27a3d5741de1087575": {
      "model_module": "@jupyter-widgets/base",
      "model_module_version": "1.2.0",
      "model_name": "LayoutModel",
      "state": {}
     },
     "36c8f1dd184f4578a470d8dc3a032c57": {
      "model_module": "@jupyter-widgets/controls",
      "model_module_version": "1.5.0",
      "model_name": "HBoxModel",
      "state": {
       "children": [
        "IPY_MODEL_9c30f38e2d6f4f02918736eac0bdf827",
        "IPY_MODEL_0e9d7e4f594c4f22921bcd4c30fd3506"
       ],
       "layout": "IPY_MODEL_1f6e8236ebcc498e9846996f25a5a8b7"
      }
     },
     "36e3cb46fe32419495d91f57b42b01e0": {
      "model_module": "@jupyter-widgets/controls",
      "model_module_version": "1.5.0",
      "model_name": "ProgressStyleModel",
      "state": {
       "description_width": "initial"
      }
     },
     "37070fd4f2e548aa9fb68d92b7760e69": {
      "model_module": "@jupyter-widgets/base",
      "model_module_version": "1.2.0",
      "model_name": "LayoutModel",
      "state": {}
     },
     "370c0bd3916a41fb8ec2296912da5542": {
      "model_module": "@jupyter-widgets/base",
      "model_module_version": "1.2.0",
      "model_name": "LayoutModel",
      "state": {}
     },
     "372287bfeaff4a539a6e17a1347362b5": {
      "model_module": "@jupyter-widgets/controls",
      "model_module_version": "1.5.0",
      "model_name": "HBoxModel",
      "state": {
       "children": [
        "IPY_MODEL_582ea67a941941f29fb17a5947a804c6",
        "IPY_MODEL_5fa9bfc376f9427cbfaa5f3dea98a680"
       ],
       "layout": "IPY_MODEL_2a2a5ec275f84e75a6bbffacf90713ab"
      }
     },
     "37b5d6e677894337b55a98f694f2e852": {
      "model_module": "@jupyter-widgets/controls",
      "model_module_version": "1.5.0",
      "model_name": "DescriptionStyleModel",
      "state": {
       "description_width": ""
      }
     },
     "3824c5a4915d4d73a49cb27ddf93394a": {
      "model_module": "@jupyter-widgets/controls",
      "model_module_version": "1.5.0",
      "model_name": "HBoxModel",
      "state": {
       "children": [
        "IPY_MODEL_a3d268cf857a4d10ba3b83e200b2fd9e",
        "IPY_MODEL_59e96e5b806d47cbba319cd47517f780"
       ],
       "layout": "IPY_MODEL_22ab5b4e675640a68029db0825026560"
      }
     },
     "386189fa9612444094518e7f28e63031": {
      "model_module": "@jupyter-widgets/controls",
      "model_module_version": "1.5.0",
      "model_name": "ProgressStyleModel",
      "state": {
       "description_width": "initial"
      }
     },
     "386fb56b99a841d08c5d8c3758d46a5e": {
      "model_module": "@jupyter-widgets/controls",
      "model_module_version": "1.5.0",
      "model_name": "FloatProgressModel",
      "state": {
       "bar_style": "success",
       "description": "21000: 100%",
       "layout": "IPY_MODEL_cbf4aac0cd1a414aabbb1903dc6c326d",
       "max": 200,
       "style": "IPY_MODEL_c40202508d3d481a8e561dc7d2ece358",
       "value": 200
      }
     },
     "38705b4bb7f740c4b06810da47739082": {
      "model_module": "@jupyter-widgets/controls",
      "model_module_version": "1.5.0",
      "model_name": "HBoxModel",
      "state": {
       "children": [
        "IPY_MODEL_43d5d65c8762439c9050d3bbfd136ec8",
        "IPY_MODEL_010670d4af534f428295347c2450e607"
       ],
       "layout": "IPY_MODEL_781af4f73a4745d68ff392a09367e2fb"
      }
     },
     "38b454be05904caaa3cbffd94abfb287": {
      "model_module": "@jupyter-widgets/base",
      "model_module_version": "1.2.0",
      "model_name": "LayoutModel",
      "state": {}
     },
     "393edcc13f394bd59e95092355007d39": {
      "model_module": "@jupyter-widgets/base",
      "model_module_version": "1.2.0",
      "model_name": "LayoutModel",
      "state": {}
     },
     "3a3ed1112fa143389cf861ef481f652d": {
      "model_module": "@jupyter-widgets/controls",
      "model_module_version": "1.5.0",
      "model_name": "ProgressStyleModel",
      "state": {
       "description_width": "initial"
      }
     },
     "3a44bd13b5724ad895588dd7b5db8160": {
      "model_module": "@jupyter-widgets/base",
      "model_module_version": "1.2.0",
      "model_name": "LayoutModel",
      "state": {}
     },
     "3b0dec0a027f4fb485b5d7ad77d70f83": {
      "model_module": "@jupyter-widgets/base",
      "model_module_version": "1.2.0",
      "model_name": "LayoutModel",
      "state": {}
     },
     "3b40e3776be84ceca7b145e258c0dc5d": {
      "model_module": "@jupyter-widgets/controls",
      "model_module_version": "1.5.0",
      "model_name": "DescriptionStyleModel",
      "state": {
       "description_width": ""
      }
     },
     "3b4a7d04aa91427bad8ece63822ba5ba": {
      "model_module": "@jupyter-widgets/controls",
      "model_module_version": "1.5.0",
      "model_name": "FloatProgressModel",
      "state": {
       "bar_style": "success",
       "description": "45800: 100%",
       "layout": "IPY_MODEL_b67be151d1f14cf8824f367fe391a55c",
       "max": 200,
       "style": "IPY_MODEL_e976b00f223648958e43e4e3c73504e1",
       "value": 200
      }
     },
     "3b92550da53c475ba9d6761bcc746829": {
      "model_module": "@jupyter-widgets/base",
      "model_module_version": "1.2.0",
      "model_name": "LayoutModel",
      "state": {}
     },
     "3bd00b2f6e04451483fe5ecca047c5a6": {
      "model_module": "@jupyter-widgets/base",
      "model_module_version": "1.2.0",
      "model_name": "LayoutModel",
      "state": {}
     },
     "3be343715f0c4484b085254ad9fadada": {
      "model_module": "@jupyter-widgets/controls",
      "model_module_version": "1.5.0",
      "model_name": "DescriptionStyleModel",
      "state": {
       "description_width": ""
      }
     },
     "3be5b4b803fa43b381c95d0b15835d7b": {
      "model_module": "@jupyter-widgets/controls",
      "model_module_version": "1.5.0",
      "model_name": "HTMLModel",
      "state": {
       "layout": "IPY_MODEL_f58c4f4356764e93ac92f0cbbafff5fd",
       "style": "IPY_MODEL_8fff0110b98f4c63b5ff3c1bfa92ac26",
       "value": " 200/200 [10:01&lt;00:00,  3.01s/it]"
      }
     },
     "3c152c2b331e47f7b5261b65fe175a4f": {
      "model_module": "@jupyter-widgets/controls",
      "model_module_version": "1.5.0",
      "model_name": "HBoxModel",
      "state": {
       "children": [
        "IPY_MODEL_a98c99aeb92f4f34b703a2ea785e42ca",
        "IPY_MODEL_a38cf45d303c406ba4a550f39bec7f1d"
       ],
       "layout": "IPY_MODEL_aff786fab7174d94b2cfd868c4dbaa5a"
      }
     },
     "3cd41314c6b248d6b48e3da1f99f4761": {
      "model_module": "@jupyter-widgets/base",
      "model_module_version": "1.2.0",
      "model_name": "LayoutModel",
      "state": {}
     },
     "3ce2aa90293347af95aa24aefc27a511": {
      "model_module": "@jupyter-widgets/controls",
      "model_module_version": "1.5.0",
      "model_name": "FloatProgressModel",
      "state": {
       "bar_style": "success",
       "description": "43000: 100%",
       "layout": "IPY_MODEL_9beda92b9cb743c7bb8c732e15c12ba2",
       "max": 200,
       "style": "IPY_MODEL_ac74a43b638647b281e6529e51081575",
       "value": 200
      }
     },
     "3cee1fe321284f419ca3ed209ba8771a": {
      "model_module": "@jupyter-widgets/base",
      "model_module_version": "1.2.0",
      "model_name": "LayoutModel",
      "state": {}
     },
     "3d3b84be6f5f408da4abe7b647be6603": {
      "model_module": "@jupyter-widgets/base",
      "model_module_version": "1.2.0",
      "model_name": "LayoutModel",
      "state": {}
     },
     "3d8cda57e9724635ac1f6139054bf892": {
      "model_module": "@jupyter-widgets/controls",
      "model_module_version": "1.5.0",
      "model_name": "HTMLModel",
      "state": {
       "layout": "IPY_MODEL_21dbc464c58c4ea6a634f7142d93cddb",
       "style": "IPY_MODEL_85c77fe89f3643cdbb5bd0e9cb79431f",
       "value": " 200/200 [10:06&lt;00:00,  3.03s/it]"
      }
     },
     "3d96e703169b479cb819d2a2eae68adf": {
      "model_module": "@jupyter-widgets/base",
      "model_module_version": "1.2.0",
      "model_name": "LayoutModel",
      "state": {}
     },
     "3da8393ab946420fbf70cf501f2c0192": {
      "model_module": "@jupyter-widgets/controls",
      "model_module_version": "1.5.0",
      "model_name": "HTMLModel",
      "state": {
       "layout": "IPY_MODEL_2ff5a1bb20384378a8f6309f62f84097",
       "style": "IPY_MODEL_7c9fab347dcb4328b53b97d6301b54b3",
       "value": " 200/200 [10:25&lt;00:00,  3.13s/it]"
      }
     },
     "3dabd978ba4f4a0ba6cb6c5292853833": {
      "model_module": "@jupyter-widgets/base",
      "model_module_version": "1.2.0",
      "model_name": "LayoutModel",
      "state": {}
     },
     "3db4511db0234c6b89d94bdd0e190b52": {
      "model_module": "@jupyter-widgets/base",
      "model_module_version": "1.2.0",
      "model_name": "LayoutModel",
      "state": {}
     },
     "3ef52e5089fb416b88dca75890e6a94d": {
      "model_module": "@jupyter-widgets/controls",
      "model_module_version": "1.5.0",
      "model_name": "HBoxModel",
      "state": {
       "children": [
        "IPY_MODEL_c8b1ba492d264a22aa7c77240413cd85",
        "IPY_MODEL_29d9e24a97c74bc2a89cfeb5c9b31578"
       ],
       "layout": "IPY_MODEL_880f0cc4fe704848a306d1613080524d"
      }
     },
     "3f004584dfdd4bfc857177579bf48581": {
      "model_module": "@jupyter-widgets/base",
      "model_module_version": "1.2.0",
      "model_name": "LayoutModel",
      "state": {}
     },
     "3f3a1de1e5bf4a02913218fa2a7ec2f0": {
      "model_module": "@jupyter-widgets/controls",
      "model_module_version": "1.5.0",
      "model_name": "HTMLModel",
      "state": {
       "layout": "IPY_MODEL_a9e3fc35b3414561a143b3ca9be95563",
       "style": "IPY_MODEL_db2d63e783b3484b8048edf92f7e6cf1",
       "value": " 200/200 [20:08&lt;00:00,  6.04s/it]"
      }
     },
     "3f60e9cb6d294f6184bf50060c5d153a": {
      "model_module": "@jupyter-widgets/controls",
      "model_module_version": "1.5.0",
      "model_name": "HTMLModel",
      "state": {
       "layout": "IPY_MODEL_91f872dd08b54b6d81b69bcb27e806bd",
       "style": "IPY_MODEL_73bb3e78b3214eeb83027024c0af0503",
       "value": " 200/200 [12:47&lt;00:00,  3.84s/it]"
      }
     },
     "3f680b669c1b40599ea596f1721172e0": {
      "model_module": "@jupyter-widgets/controls",
      "model_module_version": "1.5.0",
      "model_name": "DescriptionStyleModel",
      "state": {
       "description_width": ""
      }
     },
     "3f692b37d70e44a39d98781732226377": {
      "model_module": "@jupyter-widgets/base",
      "model_module_version": "1.2.0",
      "model_name": "LayoutModel",
      "state": {}
     },
     "3f6c483db84c4242b595e10b83e0b545": {
      "model_module": "@jupyter-widgets/base",
      "model_module_version": "1.2.0",
      "model_name": "LayoutModel",
      "state": {}
     },
     "3fca597d9bcd46a4bb7dc1a976fdf682": {
      "model_module": "@jupyter-widgets/controls",
      "model_module_version": "1.5.0",
      "model_name": "DescriptionStyleModel",
      "state": {
       "description_width": ""
      }
     },
     "40db8adcb081490bb3cc0092f683f477": {
      "model_module": "@jupyter-widgets/controls",
      "model_module_version": "1.5.0",
      "model_name": "HTMLModel",
      "state": {
       "layout": "IPY_MODEL_9dbb6245611e488cb5f09a47414bc684",
       "style": "IPY_MODEL_127c4150bfb84579bfd76a58a7a7a9e0",
       "value": " 200/200 [10:17&lt;00:00,  3.09s/it]"
      }
     },
     "40fbe1d1e8a2477a904d351f12ee8beb": {
      "model_module": "@jupyter-widgets/controls",
      "model_module_version": "1.5.0",
      "model_name": "HTMLModel",
      "state": {
       "layout": "IPY_MODEL_4bdd2cbde0444bbbb63da357ff48c3ca",
       "style": "IPY_MODEL_55fc99394d4649afa27f8ad603f9be2a",
       "value": " 200/200 [20:29&lt;00:00,  6.15s/it]"
      }
     },
     "412d7193537a4122a0534a6571e4eccc": {
      "model_module": "@jupyter-widgets/controls",
      "model_module_version": "1.5.0",
      "model_name": "ProgressStyleModel",
      "state": {
       "description_width": "initial"
      }
     },
     "4142a34631c2468a8ee0202704bcc59f": {
      "model_module": "@jupyter-widgets/base",
      "model_module_version": "1.2.0",
      "model_name": "LayoutModel",
      "state": {}
     },
     "41524e162f1c4269b0096ec176f8ea94": {
      "model_module": "@jupyter-widgets/controls",
      "model_module_version": "1.5.0",
      "model_name": "ProgressStyleModel",
      "state": {
       "description_width": "initial"
      }
     },
     "41b7c6d332b042dc8bafff18bdca509f": {
      "model_module": "@jupyter-widgets/base",
      "model_module_version": "1.2.0",
      "model_name": "LayoutModel",
      "state": {}
     },
     "41bcc77bf259473ea64f2dbc4a07dd90": {
      "model_module": "@jupyter-widgets/controls",
      "model_module_version": "1.5.0",
      "model_name": "FloatProgressModel",
      "state": {
       "bar_style": "success",
       "description": "48600: 100%",
       "layout": "IPY_MODEL_dcf0d34006e94d9184deef53c0f33430",
       "max": 200,
       "style": "IPY_MODEL_ffb5279426464c97b5cfafc71e1951d4",
       "value": 200
      }
     },
     "41da45889a6545ff902e65ec6ecd2711": {
      "model_module": "@jupyter-widgets/controls",
      "model_module_version": "1.5.0",
      "model_name": "ProgressStyleModel",
      "state": {
       "description_width": "initial"
      }
     },
     "420d10a219514993bf61b39c61efd5ca": {
      "model_module": "@jupyter-widgets/base",
      "model_module_version": "1.2.0",
      "model_name": "LayoutModel",
      "state": {}
     },
     "421f8a27c0bc4238a23d64b6979c47e5": {
      "model_module": "@jupyter-widgets/controls",
      "model_module_version": "1.5.0",
      "model_name": "HTMLModel",
      "state": {
       "layout": "IPY_MODEL_652f8ecb9e124213b38e278a136ed763",
       "style": "IPY_MODEL_3fca597d9bcd46a4bb7dc1a976fdf682",
       "value": " 200/200 [10:37&lt;00:00,  3.19s/it]"
      }
     },
     "428418c9d72c4113845ea7bbfd40990c": {
      "model_module": "@jupyter-widgets/controls",
      "model_module_version": "1.5.0",
      "model_name": "HTMLModel",
      "state": {
       "layout": "IPY_MODEL_bbf5d110509e46d781735782e18fd33a",
       "style": "IPY_MODEL_76b2ac96423347c58788c5c38e0b15fc",
       "value": " 200/200 [08:23&lt;00:00,  2.52s/it]"
      }
     },
     "429cb7e8d7304f0f98902bdcceb82bae": {
      "model_module": "@jupyter-widgets/controls",
      "model_module_version": "1.5.0",
      "model_name": "HBoxModel",
      "state": {
       "children": [
        "IPY_MODEL_e387f6f17caa4062bd847b5a9b2d94c7",
        "IPY_MODEL_0252f41d45464caeb7b6023db9dcda21"
       ],
       "layout": "IPY_MODEL_48f496f0811d4790b7c9f6aa497973bd"
      }
     },
     "432332b79ff64350a9826fe8a95aebb4": {
      "model_module": "@jupyter-widgets/controls",
      "model_module_version": "1.5.0",
      "model_name": "HTMLModel",
      "state": {
       "layout": "IPY_MODEL_7a5bb90317034ae09373dab0305bc5dc",
       "style": "IPY_MODEL_7f2c3a249ab846a993d6fccfa23e038d",
       "value": " 200/200 [10:28&lt;00:00,  3.14s/it]"
      }
     },
     "43c63436bb584bc2931e70207ee8dc86": {
      "model_module": "@jupyter-widgets/controls",
      "model_module_version": "1.5.0",
      "model_name": "HTMLModel",
      "state": {
       "layout": "IPY_MODEL_ab213391f2dd4ac79883d1a66cfbf197",
       "style": "IPY_MODEL_5541275205c743ab8250cd26ceb5fd69",
       "value": " 200/200 [09:52&lt;00:00,  2.96s/it]"
      }
     },
     "43cf57e6d78a4bd8870b658a8df3b037": {
      "model_module": "@jupyter-widgets/controls",
      "model_module_version": "1.5.0",
      "model_name": "DescriptionStyleModel",
      "state": {
       "description_width": ""
      }
     },
     "43d5d65c8762439c9050d3bbfd136ec8": {
      "model_module": "@jupyter-widgets/controls",
      "model_module_version": "1.5.0",
      "model_name": "FloatProgressModel",
      "state": {
       "bar_style": "success",
       "description": "44600: 100%",
       "layout": "IPY_MODEL_aca2b6fb71694d80be4d8b6cf4deeeed",
       "max": 200,
       "style": "IPY_MODEL_9c6b369b777542baa826ba2ec7022b8c",
       "value": 200
      }
     },
     "43de42b0c004413f99754a9af350d1d0": {
      "model_module": "@jupyter-widgets/controls",
      "model_module_version": "1.5.0",
      "model_name": "HTMLModel",
      "state": {
       "layout": "IPY_MODEL_97f42befa027488d94597326d8f404a6",
       "style": "IPY_MODEL_522e32312b294a94afe4abd11fe22b70",
       "value": " 200/200 [10:37&lt;00:00,  3.19s/it]"
      }
     },
     "44818d514095455ca6280941b51aff2b": {
      "model_module": "@jupyter-widgets/controls",
      "model_module_version": "1.5.0",
      "model_name": "HBoxModel",
      "state": {
       "children": [
        "IPY_MODEL_0b6ce14b5c6c46278e5cc0040e2f2f8d",
        "IPY_MODEL_8daa5463444a4e3caf2b24001a6bae2f"
       ],
       "layout": "IPY_MODEL_b57ec44a43484025971a081ad427bd2f"
      }
     },
     "4538dc4961dd49538b66500aabfe67ef": {
      "model_module": "@jupyter-widgets/controls",
      "model_module_version": "1.5.0",
      "model_name": "ProgressStyleModel",
      "state": {
       "description_width": "initial"
      }
     },
     "463412c9f8bf4471a1fe59b6ecc4f7b7": {
      "model_module": "@jupyter-widgets/controls",
      "model_module_version": "1.5.0",
      "model_name": "ProgressStyleModel",
      "state": {
       "description_width": "initial"
      }
     },
     "468f1bea8e6240ad8f56bf24c79488ed": {
      "model_module": "@jupyter-widgets/controls",
      "model_module_version": "1.5.0",
      "model_name": "HTMLModel",
      "state": {
       "layout": "IPY_MODEL_09edb71d46494c1e95450385cdcfa33d",
       "style": "IPY_MODEL_5abae9182ca74463aa7d82d5ffb011e2",
       "value": " 200/200 [20:29&lt;00:00,  6.15s/it]"
      }
     },
     "46cb6fc789ab42f2831e828d1d1c85f9": {
      "model_module": "@jupyter-widgets/controls",
      "model_module_version": "1.5.0",
      "model_name": "DescriptionStyleModel",
      "state": {
       "description_width": ""
      }
     },
     "470c41b4966245278ba2bf00851d44b3": {
      "model_module": "@jupyter-widgets/controls",
      "model_module_version": "1.5.0",
      "model_name": "FloatProgressModel",
      "state": {
       "bar_style": "success",
       "description": "23400: 100%",
       "layout": "IPY_MODEL_cbdc29113cd0454dbe476819b64dd0fa",
       "max": 200,
       "style": "IPY_MODEL_df01b61789c042caa3961b357c81636a",
       "value": 200
      }
     },
     "474793a6900445028356d4dc7be783fc": {
      "model_module": "@jupyter-widgets/controls",
      "model_module_version": "1.5.0",
      "model_name": "DescriptionStyleModel",
      "state": {
       "description_width": ""
      }
     },
     "477117551bf2454e8d6888c5004522a4": {
      "model_module": "@jupyter-widgets/controls",
      "model_module_version": "1.5.0",
      "model_name": "ProgressStyleModel",
      "state": {
       "description_width": "initial"
      }
     },
     "4777a957d40645fe8d4e60c37c58510e": {
      "model_module": "@jupyter-widgets/controls",
      "model_module_version": "1.5.0",
      "model_name": "HBoxModel",
      "state": {
       "children": [
        "IPY_MODEL_2cfbbd7721a7442994ed5f5adae4b1ed",
        "IPY_MODEL_073842d866a245fd8225454e378c4884"
       ],
       "layout": "IPY_MODEL_799e190f418b4871846f609a35f66c60"
      }
     },
     "47fd6caaed9c462cac80d4a403ba5b40": {
      "model_module": "@jupyter-widgets/controls",
      "model_module_version": "1.5.0",
      "model_name": "DescriptionStyleModel",
      "state": {
       "description_width": ""
      }
     },
     "481d346056d94e9089b68f4692b6bf86": {
      "model_module": "@jupyter-widgets/base",
      "model_module_version": "1.2.0",
      "model_name": "LayoutModel",
      "state": {}
     },
     "484e96f1067d443eb247464beae41f6b": {
      "model_module": "@jupyter-widgets/controls",
      "model_module_version": "1.5.0",
      "model_name": "ProgressStyleModel",
      "state": {
       "description_width": "initial"
      }
     },
     "48f496f0811d4790b7c9f6aa497973bd": {
      "model_module": "@jupyter-widgets/base",
      "model_module_version": "1.2.0",
      "model_name": "LayoutModel",
      "state": {}
     },
     "4943ef94bf5c4774908da3e3c34d411d": {
      "model_module": "@jupyter-widgets/controls",
      "model_module_version": "1.5.0",
      "model_name": "DescriptionStyleModel",
      "state": {
       "description_width": ""
      }
     },
     "494485d8258149c88f9dd7ad2da792a9": {
      "model_module": "@jupyter-widgets/base",
      "model_module_version": "1.2.0",
      "model_name": "LayoutModel",
      "state": {}
     },
     "495e0c3ca169418d80e3eade35b6785d": {
      "model_module": "@jupyter-widgets/controls",
      "model_module_version": "1.5.0",
      "model_name": "DescriptionStyleModel",
      "state": {
       "description_width": ""
      }
     },
     "4a580821a37f48a9b7e878b28eb4a065": {
      "model_module": "@jupyter-widgets/controls",
      "model_module_version": "1.5.0",
      "model_name": "DescriptionStyleModel",
      "state": {
       "description_width": ""
      }
     },
     "4a5ed966e6224d55ac6832a63edfa8ca": {
      "model_module": "@jupyter-widgets/controls",
      "model_module_version": "1.5.0",
      "model_name": "ProgressStyleModel",
      "state": {
       "description_width": "initial"
      }
     },
     "4ab64641e89a4ee5a33f3b15ca119182": {
      "model_module": "@jupyter-widgets/base",
      "model_module_version": "1.2.0",
      "model_name": "LayoutModel",
      "state": {}
     },
     "4af79cf47eaf4d4ea1c3233ba172f894": {
      "model_module": "@jupyter-widgets/controls",
      "model_module_version": "1.5.0",
      "model_name": "ProgressStyleModel",
      "state": {
       "description_width": "initial"
      }
     },
     "4afc16f89ae948229cd58dedb29855cb": {
      "model_module": "@jupyter-widgets/base",
      "model_module_version": "1.2.0",
      "model_name": "LayoutModel",
      "state": {}
     },
     "4b11fb13ff1a4207835384588f9e13d4": {
      "model_module": "@jupyter-widgets/controls",
      "model_module_version": "1.5.0",
      "model_name": "HBoxModel",
      "state": {
       "children": [
        "IPY_MODEL_710810369ea44404adb5506fe27d6d27",
        "IPY_MODEL_eece52ad390d4936be2fd823873b6fa2"
       ],
       "layout": "IPY_MODEL_3dabd978ba4f4a0ba6cb6c5292853833"
      }
     },
     "4b18330c1b914f35be9c068f9a78e6df": {
      "model_module": "@jupyter-widgets/controls",
      "model_module_version": "1.5.0",
      "model_name": "HTMLModel",
      "state": {
       "layout": "IPY_MODEL_cfc25ab930624a1786700ce4f8efd285",
       "style": "IPY_MODEL_4a580821a37f48a9b7e878b28eb4a065",
       "value": " 200/200 [20:34&lt;00:00,  6.17s/it]"
      }
     },
     "4b78f9a2eb6a435f9bdcc12c96a50872": {
      "model_module": "@jupyter-widgets/base",
      "model_module_version": "1.2.0",
      "model_name": "LayoutModel",
      "state": {}
     },
     "4bdd2cbde0444bbbb63da357ff48c3ca": {
      "model_module": "@jupyter-widgets/base",
      "model_module_version": "1.2.0",
      "model_name": "LayoutModel",
      "state": {}
     },
     "4be31e4ad613431296f047da1bd6e61e": {
      "model_module": "@jupyter-widgets/controls",
      "model_module_version": "1.5.0",
      "model_name": "DescriptionStyleModel",
      "state": {
       "description_width": ""
      }
     },
     "4c99df962c1a4e47bee0403f4245f8b7": {
      "model_module": "@jupyter-widgets/controls",
      "model_module_version": "1.5.0",
      "model_name": "ProgressStyleModel",
      "state": {
       "description_width": "initial"
      }
     },
     "4cb0b1a259264916b2a9a08abbea4ea3": {
      "model_module": "@jupyter-widgets/controls",
      "model_module_version": "1.5.0",
      "model_name": "ProgressStyleModel",
      "state": {
       "description_width": "initial"
      }
     },
     "4cb3d62ed9284b01abc8638b1bc496e7": {
      "model_module": "@jupyter-widgets/base",
      "model_module_version": "1.2.0",
      "model_name": "LayoutModel",
      "state": {}
     },
     "4cd388cdda7143ae9d1bfcaa0ac327b4": {
      "model_module": "@jupyter-widgets/controls",
      "model_module_version": "1.5.0",
      "model_name": "FloatProgressModel",
      "state": {
       "bar_style": "success",
       "description": "28800: 100%",
       "layout": "IPY_MODEL_494485d8258149c88f9dd7ad2da792a9",
       "max": 200,
       "style": "IPY_MODEL_fcd5f69dc730448797182a28e0c78b33",
       "value": 200
      }
     },
     "4cf2c4b346fc42158d6faf533fe2ea7a": {
      "model_module": "@jupyter-widgets/controls",
      "model_module_version": "1.5.0",
      "model_name": "HTMLModel",
      "state": {
       "layout": "IPY_MODEL_dc681fba214642c3a5ee9916a60dd522",
       "style": "IPY_MODEL_2c127fb7a91848ceb93e468e099f4025",
       "value": " 200/200 [10:37&lt;00:00,  3.19s/it]"
      }
     },
     "4cfaf730b8ef46b58af52f069d49e87f": {
      "model_module": "@jupyter-widgets/base",
      "model_module_version": "1.2.0",
      "model_name": "LayoutModel",
      "state": {}
     },
     "4d108895a12a4f28a3f8a03e9a5aaa01": {
      "model_module": "@jupyter-widgets/controls",
      "model_module_version": "1.5.0",
      "model_name": "ProgressStyleModel",
      "state": {
       "description_width": "initial"
      }
     },
     "4d2ba90ca2f344e296f6b2c69ad8bccb": {
      "model_module": "@jupyter-widgets/controls",
      "model_module_version": "1.5.0",
      "model_name": "HBoxModel",
      "state": {
       "children": [
        "IPY_MODEL_c0c75a8ed1f8433fb19e7e3eacfb45b5",
        "IPY_MODEL_75baacabf71545e59540631c26844060"
       ],
       "layout": "IPY_MODEL_092a3d0fa1f643dc8a73c349ad0888aa"
      }
     },
     "4d36589303344d4e9379a7d6b41bd6cc": {
      "model_module": "@jupyter-widgets/controls",
      "model_module_version": "1.5.0",
      "model_name": "ProgressStyleModel",
      "state": {
       "description_width": "initial"
      }
     },
     "4d9a79fa1f614f87952de09b9b49b6fe": {
      "model_module": "@jupyter-widgets/base",
      "model_module_version": "1.2.0",
      "model_name": "LayoutModel",
      "state": {}
     },
     "4dac25b26e034a67a4fdebd1f5ef6a70": {
      "model_module": "@jupyter-widgets/controls",
      "model_module_version": "1.5.0",
      "model_name": "DescriptionStyleModel",
      "state": {
       "description_width": ""
      }
     },
     "4dd53395d3eb446490c802c2d3aea30e": {
      "model_module": "@jupyter-widgets/controls",
      "model_module_version": "1.5.0",
      "model_name": "HBoxModel",
      "state": {
       "children": [
        "IPY_MODEL_ff413dc8d1f84776bc26bc42a557f2b9",
        "IPY_MODEL_9e17339fdbde4f5e9220a3f00c42a844"
       ],
       "layout": "IPY_MODEL_c306fd3552f04828b287e5f5349b2aae"
      }
     },
     "4e72115fb13c47b5a59e0e50278966ce": {
      "model_module": "@jupyter-widgets/controls",
      "model_module_version": "1.5.0",
      "model_name": "HTMLModel",
      "state": {
       "layout": "IPY_MODEL_55122316771a4f41ac824c06a23e9d43",
       "style": "IPY_MODEL_37b5d6e677894337b55a98f694f2e852",
       "value": " 200/200 [00:43&lt;00:00,  4.61it/s]"
      }
     },
     "4f4103fbcd2644ac90ffafae657afbbc": {
      "model_module": "@jupyter-widgets/controls",
      "model_module_version": "1.5.0",
      "model_name": "ProgressStyleModel",
      "state": {
       "description_width": "initial"
      }
     },
     "4f4997067cd4480eb88084238e44a442": {
      "model_module": "@jupyter-widgets/base",
      "model_module_version": "1.2.0",
      "model_name": "LayoutModel",
      "state": {}
     },
     "4f559f1747b4490e96129ade7accbb95": {
      "model_module": "@jupyter-widgets/controls",
      "model_module_version": "1.5.0",
      "model_name": "DescriptionStyleModel",
      "state": {
       "description_width": ""
      }
     },
     "4f6698b71b5548c7ab7cbbcb5746e2bb": {
      "model_module": "@jupyter-widgets/controls",
      "model_module_version": "1.5.0",
      "model_name": "ProgressStyleModel",
      "state": {
       "description_width": "initial"
      }
     },
     "4feee4577b9c407198f47a7aa8dfbdf5": {
      "model_module": "@jupyter-widgets/controls",
      "model_module_version": "1.5.0",
      "model_name": "FloatProgressModel",
      "state": {
       "bar_style": "success",
       "description": "45600: 100%",
       "layout": "IPY_MODEL_76525034329c45b3b60ec08a7a17a178",
       "max": 200,
       "style": "IPY_MODEL_19206e6372a040a2b89a9c1e006b2bb7",
       "value": 200
      }
     },
     "50340e0778f64650918c71e231c8dbde": {
      "model_module": "@jupyter-widgets/base",
      "model_module_version": "1.2.0",
      "model_name": "LayoutModel",
      "state": {}
     },
     "506ece37601a47de9af8294bacb7681d": {
      "model_module": "@jupyter-widgets/controls",
      "model_module_version": "1.5.0",
      "model_name": "HBoxModel",
      "state": {
       "children": [
        "IPY_MODEL_6f34dbd8d24744de88293df9b187e290",
        "IPY_MODEL_ab093daca32043c889da6ed872d78d7b"
       ],
       "layout": "IPY_MODEL_1dc3e84ce5454c929ad319e5c546f116"
      }
     },
     "50d970b8496d4ad59fecfa6b11b42029": {
      "model_module": "@jupyter-widgets/controls",
      "model_module_version": "1.5.0",
      "model_name": "FloatProgressModel",
      "state": {
       "bar_style": "success",
       "description": "45000: 100%",
       "layout": "IPY_MODEL_02c790ffef3e43ae8938f96ed521177c",
       "max": 200,
       "style": "IPY_MODEL_aeeb47f3f0d4471e8bd51b212a87a55c",
       "value": 200
      }
     },
     "50e909cc57394a0284fafcbcb825305c": {
      "model_module": "@jupyter-widgets/controls",
      "model_module_version": "1.5.0",
      "model_name": "FloatProgressModel",
      "state": {
       "bar_style": "success",
       "description": "23200: 100%",
       "layout": "IPY_MODEL_803e22b9fd3b445387de95be1822c174",
       "max": 200,
       "style": "IPY_MODEL_3029f23a59464463ad30d04c9d0ffb36",
       "value": 200
      }
     },
     "51a60bae1e294977b3b115bb7589d93e": {
      "model_module": "@jupyter-widgets/controls",
      "model_module_version": "1.5.0",
      "model_name": "FloatProgressModel",
      "state": {
       "bar_style": "success",
       "description": "24000: 100%",
       "layout": "IPY_MODEL_9a75e7579bc44c99925837099861dcf9",
       "max": 200,
       "style": "IPY_MODEL_4f4103fbcd2644ac90ffafae657afbbc",
       "value": 200
      }
     },
     "51d5faa9782345e8ac174498c8f2145d": {
      "model_module": "@jupyter-widgets/controls",
      "model_module_version": "1.5.0",
      "model_name": "HTMLModel",
      "state": {
       "layout": "IPY_MODEL_83c1e419d7e74772a42ef7aa61496b3b",
       "style": "IPY_MODEL_4f559f1747b4490e96129ade7accbb95",
       "value": " 200/200 [02:02&lt;00:00,  1.63it/s]"
      }
     },
     "522e32312b294a94afe4abd11fe22b70": {
      "model_module": "@jupyter-widgets/controls",
      "model_module_version": "1.5.0",
      "model_name": "DescriptionStyleModel",
      "state": {
       "description_width": ""
      }
     },
     "525ec5230ec745fa8c3f01b51b4f6e14": {
      "model_module": "@jupyter-widgets/base",
      "model_module_version": "1.2.0",
      "model_name": "LayoutModel",
      "state": {}
     },
     "52973297c5a84933b5188583dc85a860": {
      "model_module": "@jupyter-widgets/controls",
      "model_module_version": "1.5.0",
      "model_name": "HTMLModel",
      "state": {
       "layout": "IPY_MODEL_3a44bd13b5724ad895588dd7b5db8160",
       "style": "IPY_MODEL_98d3bb0ae71e40eba4f104691711a289",
       "value": " 200/200 [20:34&lt;00:00,  6.17s/it]"
      }
     },
     "5345e73d979c4fc2aa5e4c7f6928e71c": {
      "model_module": "@jupyter-widgets/controls",
      "model_module_version": "1.5.0",
      "model_name": "DescriptionStyleModel",
      "state": {
       "description_width": ""
      }
     },
     "5361d9c27086440790be952a98cd8592": {
      "model_module": "@jupyter-widgets/base",
      "model_module_version": "1.2.0",
      "model_name": "LayoutModel",
      "state": {}
     },
     "54389974475c46ab8a4f1ca30e1e0572": {
      "model_module": "@jupyter-widgets/controls",
      "model_module_version": "1.5.0",
      "model_name": "DescriptionStyleModel",
      "state": {
       "description_width": ""
      }
     },
     "55122316771a4f41ac824c06a23e9d43": {
      "model_module": "@jupyter-widgets/base",
      "model_module_version": "1.2.0",
      "model_name": "LayoutModel",
      "state": {}
     },
     "5541275205c743ab8250cd26ceb5fd69": {
      "model_module": "@jupyter-widgets/controls",
      "model_module_version": "1.5.0",
      "model_name": "DescriptionStyleModel",
      "state": {
       "description_width": ""
      }
     },
     "55fc99394d4649afa27f8ad603f9be2a": {
      "model_module": "@jupyter-widgets/controls",
      "model_module_version": "1.5.0",
      "model_name": "DescriptionStyleModel",
      "state": {
       "description_width": ""
      }
     },
     "56e6f301b5254cb6afe31308583472f4": {
      "model_module": "@jupyter-widgets/controls",
      "model_module_version": "1.5.0",
      "model_name": "HBoxModel",
      "state": {
       "children": [
        "IPY_MODEL_1081113b4bd24f26be3adfe1480ee86d",
        "IPY_MODEL_bbe14bfe664f451ab1ff0d073d7f5c2b"
       ],
       "layout": "IPY_MODEL_1a974f937cac43efad308ec5093bc7d7"
      }
     },
     "571618382d774bdab0111eb466d58fd8": {
      "model_module": "@jupyter-widgets/controls",
      "model_module_version": "1.5.0",
      "model_name": "ProgressStyleModel",
      "state": {
       "description_width": "initial"
      }
     },
     "571a388a58334240bc192adcdd02ed21": {
      "model_module": "@jupyter-widgets/controls",
      "model_module_version": "1.5.0",
      "model_name": "FloatProgressModel",
      "state": {
       "bar_style": "success",
       "description": "26800: 100%",
       "layout": "IPY_MODEL_3f6c483db84c4242b595e10b83e0b545",
       "max": 200,
       "style": "IPY_MODEL_0db08f15a92d48e0baff8b090db2354c",
       "value": 200
      }
     },
     "573321aff65140749cabed35b5b137cb": {
      "model_module": "@jupyter-widgets/controls",
      "model_module_version": "1.5.0",
      "model_name": "ProgressStyleModel",
      "state": {
       "description_width": "initial"
      }
     },
     "582ea67a941941f29fb17a5947a804c6": {
      "model_module": "@jupyter-widgets/controls",
      "model_module_version": "1.5.0",
      "model_name": "FloatProgressModel",
      "state": {
       "bar_style": "success",
       "description": "26200: 100%",
       "layout": "IPY_MODEL_722dab28a23a42829dc3e98b9279f13a",
       "max": 200,
       "style": "IPY_MODEL_913afa0e8be14f48a2a1ac7229243080",
       "value": 200
      }
     },
     "586ac3a66f154c5d9a7d18c934c6d96c": {
      "model_module": "@jupyter-widgets/base",
      "model_module_version": "1.2.0",
      "model_name": "LayoutModel",
      "state": {}
     },
     "58755491dec4440fa956b767dc1bda5c": {
      "model_module": "@jupyter-widgets/controls",
      "model_module_version": "1.5.0",
      "model_name": "HTMLModel",
      "state": {
       "layout": "IPY_MODEL_2756df9e86534aada3796dd63de58854",
       "style": "IPY_MODEL_5345e73d979c4fc2aa5e4c7f6928e71c",
       "value": " 200/200 [10:31&lt;00:00,  3.16s/it]"
      }
     },
     "5884a0e8daf3451aae082f9c708a53bf": {
      "model_module": "@jupyter-widgets/base",
      "model_module_version": "1.2.0",
      "model_name": "LayoutModel",
      "state": {}
     },
     "58da6e297ba74f3fa4c57073a13202bc": {
      "model_module": "@jupyter-widgets/controls",
      "model_module_version": "1.5.0",
      "model_name": "HTMLModel",
      "state": {
       "layout": "IPY_MODEL_f3861d01adfa438181bbd53de74e37db",
       "style": "IPY_MODEL_0de9e8f837e44007ac9bfeaf6f5ed4ce",
       "value": " 200/200 [20:12&lt;00:00,  6.06s/it]"
      }
     },
     "597ab769801e4574af49904310f55214": {
      "model_module": "@jupyter-widgets/controls",
      "model_module_version": "1.5.0",
      "model_name": "HTMLModel",
      "state": {
       "layout": "IPY_MODEL_6d15accd444142ea965a32845b7b3430",
       "style": "IPY_MODEL_b88b9c2b9f524113b115e13ef4d723ea",
       "value": " 200/200 [17:12&lt;00:00,  5.16s/it]"
      }
     },
     "59a272a47bd34259be60a6806b89d970": {
      "model_module": "@jupyter-widgets/controls",
      "model_module_version": "1.5.0",
      "model_name": "HTMLModel",
      "state": {
       "layout": "IPY_MODEL_721250af87324027883ea28f2422803d",
       "style": "IPY_MODEL_9bf6cf876b404f52897adbfa2086caec",
       "value": " 200/200 [20:08&lt;00:00,  6.04s/it]"
      }
     },
     "59cdeca05c1143f5927c4472ef1e1981": {
      "model_module": "@jupyter-widgets/controls",
      "model_module_version": "1.5.0",
      "model_name": "ProgressStyleModel",
      "state": {
       "description_width": "initial"
      }
     },
     "59e96e5b806d47cbba319cd47517f780": {
      "model_module": "@jupyter-widgets/controls",
      "model_module_version": "1.5.0",
      "model_name": "HTMLModel",
      "state": {
       "layout": "IPY_MODEL_37070fd4f2e548aa9fb68d92b7760e69",
       "style": "IPY_MODEL_923e6b5e9d724a2d9f710ed8e386f068",
       "value": " 200/200 [18:28&lt;00:00,  5.54s/it]"
      }
     },
     "59f16d37a50840afb4a8f3173482a485": {
      "model_module": "@jupyter-widgets/controls",
      "model_module_version": "1.5.0",
      "model_name": "FloatProgressModel",
      "state": {
       "bar_style": "success",
       "description": "48200: 100%",
       "layout": "IPY_MODEL_481d346056d94e9089b68f4692b6bf86",
       "max": 200,
       "style": "IPY_MODEL_777debb733c5413aa589d0e9e823f014",
       "value": 200
      }
     },
     "5abae9182ca74463aa7d82d5ffb011e2": {
      "model_module": "@jupyter-widgets/controls",
      "model_module_version": "1.5.0",
      "model_name": "DescriptionStyleModel",
      "state": {
       "description_width": ""
      }
     },
     "5b2a25b7f0394865909fcffcf96bde06": {
      "model_module": "@jupyter-widgets/controls",
      "model_module_version": "1.5.0",
      "model_name": "HBoxModel",
      "state": {
       "children": [
        "IPY_MODEL_97ce6069edbf401db069422b5b0040fc",
        "IPY_MODEL_7ab99196b6db4b4f86d34d7daf2cde94"
       ],
       "layout": "IPY_MODEL_273eb1ab7c6f48fd9b01d7f408e5c44a"
      }
     },
     "5bf7c9d616714e9f9ac4fe40ea4d02f9": {
      "model_module": "@jupyter-widgets/base",
      "model_module_version": "1.2.0",
      "model_name": "LayoutModel",
      "state": {}
     },
     "5c17787942c241b68723696800fc98b2": {
      "model_module": "@jupyter-widgets/controls",
      "model_module_version": "1.5.0",
      "model_name": "ProgressStyleModel",
      "state": {
       "description_width": "initial"
      }
     },
     "5c4fed65986441088ec012ce1658cbbb": {
      "model_module": "@jupyter-widgets/controls",
      "model_module_version": "1.5.0",
      "model_name": "HTMLModel",
      "state": {
       "layout": "IPY_MODEL_be5b8bdb4b57464cb6a39e9fb6a26c85",
       "style": "IPY_MODEL_93c9e42e106547e890e3a90eb93e83e6",
       "value": " 200/200 [19:04&lt;00:00,  5.72s/it]"
      }
     },
     "5cc0512f0f264fe3b654a06822ed53a5": {
      "model_module": "@jupyter-widgets/controls",
      "model_module_version": "1.5.0",
      "model_name": "DescriptionStyleModel",
      "state": {
       "description_width": ""
      }
     },
     "5cf72d2949644d56b51206ecc41ddf22": {
      "model_module": "@jupyter-widgets/controls",
      "model_module_version": "1.5.0",
      "model_name": "HTMLModel",
      "state": {
       "layout": "IPY_MODEL_de47680257f44f7db55726e3185d5874",
       "style": "IPY_MODEL_043e6b1d117c44f2a5316da445bd5d1e",
       "value": " 200/200 [05:05&lt;00:00,  1.53s/it]"
      }
     },
     "5d0ba8bc870b4b87863121adcc1892e4": {
      "model_module": "@jupyter-widgets/controls",
      "model_module_version": "1.5.0",
      "model_name": "ProgressStyleModel",
      "state": {
       "description_width": "initial"
      }
     },
     "5d0de722c3714d4492f8593f70fb8415": {
      "model_module": "@jupyter-widgets/controls",
      "model_module_version": "1.5.0",
      "model_name": "HBoxModel",
      "state": {
       "children": [
        "IPY_MODEL_6a5a4321ccc747809fa85589eee177cd",
        "IPY_MODEL_65a52e59b48b4473bee1541c12d670df"
       ],
       "layout": "IPY_MODEL_bf81fb55b5c24192a91eeb2aa622edd8"
      }
     },
     "5d43d688f43d40ae951a8ad4fa74f5d0": {
      "model_module": "@jupyter-widgets/base",
      "model_module_version": "1.2.0",
      "model_name": "LayoutModel",
      "state": {}
     },
     "5d5de9871b164ffca6a589f49466a8c6": {
      "model_module": "@jupyter-widgets/controls",
      "model_module_version": "1.5.0",
      "model_name": "FloatProgressModel",
      "state": {
       "bar_style": "success",
       "description": "45200: 100%",
       "layout": "IPY_MODEL_05d917de13114cec9f07b35a20594a4c",
       "max": 200,
       "style": "IPY_MODEL_463412c9f8bf4471a1fe59b6ecc4f7b7",
       "value": 200
      }
     },
     "5e7c7c28dfe546b4926ab778887478a1": {
      "model_module": "@jupyter-widgets/controls",
      "model_module_version": "1.5.0",
      "model_name": "FloatProgressModel",
      "state": {
       "bar_style": "success",
       "description": "25600: 100%",
       "layout": "IPY_MODEL_659d43bd51204df4847b96f892cb11fd",
       "max": 200,
       "style": "IPY_MODEL_26d3ea415c8b49f9ad308e507d95b56b",
       "value": 200
      }
     },
     "5f439e0d2c0c4cfaa45c14a8fb9d77bb": {
      "model_module": "@jupyter-widgets/controls",
      "model_module_version": "1.5.0",
      "model_name": "ProgressStyleModel",
      "state": {
       "description_width": "initial"
      }
     },
     "5fa9bfc376f9427cbfaa5f3dea98a680": {
      "model_module": "@jupyter-widgets/controls",
      "model_module_version": "1.5.0",
      "model_name": "HTMLModel",
      "state": {
       "layout": "IPY_MODEL_8a5f338da1944dcb81da0b8c8b8fdf4f",
       "style": "IPY_MODEL_994255d0708c458aa8f187142ddcc72e",
       "value": " 200/200 [10:18&lt;00:00,  3.09s/it]"
      }
     },
     "5faec9bf1dbb4d4ab41f3dd818ca7850": {
      "model_module": "@jupyter-widgets/controls",
      "model_module_version": "1.5.0",
      "model_name": "FloatProgressModel",
      "state": {
       "bar_style": "success",
       "description": "48000: 100%",
       "layout": "IPY_MODEL_9c162ab9e6f44f809917fc1be30ca72d",
       "max": 200,
       "style": "IPY_MODEL_85cbe0115bbb4b8a9ea4d7adc30ca9ca",
       "value": 200
      }
     },
     "5fb99ab54418476d84e72f01b5f2b832": {
      "model_module": "@jupyter-widgets/controls",
      "model_module_version": "1.5.0",
      "model_name": "FloatProgressModel",
      "state": {
       "bar_style": "success",
       "description": "40200: 100%",
       "layout": "IPY_MODEL_1507ba93046e4fe2a65c1e453f1c0c51",
       "max": 200,
       "style": "IPY_MODEL_5f439e0d2c0c4cfaa45c14a8fb9d77bb",
       "value": 200
      }
     },
     "5fc57689e9c94c6bb81baaeac6dd3a31": {
      "model_module": "@jupyter-widgets/base",
      "model_module_version": "1.2.0",
      "model_name": "LayoutModel",
      "state": {}
     },
     "6024f21755d244aabc8143df6ced749d": {
      "model_module": "@jupyter-widgets/base",
      "model_module_version": "1.2.0",
      "model_name": "LayoutModel",
      "state": {}
     },
     "60390db7e356429fa039b761c875e412": {
      "model_module": "@jupyter-widgets/base",
      "model_module_version": "1.2.0",
      "model_name": "LayoutModel",
      "state": {}
     },
     "6046a20fce2240209023ea9c7c4671ad": {
      "model_module": "@jupyter-widgets/base",
      "model_module_version": "1.2.0",
      "model_name": "LayoutModel",
      "state": {}
     },
     "60dc032e6b5f429bb4cc356d35f24af7": {
      "model_module": "@jupyter-widgets/base",
      "model_module_version": "1.2.0",
      "model_name": "LayoutModel",
      "state": {}
     },
     "6239ddb9622a4a45a373c43e9fd922bb": {
      "model_module": "@jupyter-widgets/base",
      "model_module_version": "1.2.0",
      "model_name": "LayoutModel",
      "state": {}
     },
     "6284f65323b14ba5b6969e2da8aa42ac": {
      "model_module": "@jupyter-widgets/controls",
      "model_module_version": "1.5.0",
      "model_name": "DescriptionStyleModel",
      "state": {
       "description_width": ""
      }
     },
     "62b266e5f37e40e6b93c0b0d41f78118": {
      "model_module": "@jupyter-widgets/controls",
      "model_module_version": "1.5.0",
      "model_name": "DescriptionStyleModel",
      "state": {
       "description_width": ""
      }
     },
     "62e27c0e147446318fe8c50bc492ab8f": {
      "model_module": "@jupyter-widgets/controls",
      "model_module_version": "1.5.0",
      "model_name": "HBoxModel",
      "state": {
       "children": [
        "IPY_MODEL_d5dcf1ae206449aabfe6851e99613b54",
        "IPY_MODEL_b06bba45cd6540aaa0023e9eb5aa4dac"
       ],
       "layout": "IPY_MODEL_6024f21755d244aabc8143df6ced749d"
      }
     },
     "63efc76442664bb1837543cc6bf9250a": {
      "model_module": "@jupyter-widgets/base",
      "model_module_version": "1.2.0",
      "model_name": "LayoutModel",
      "state": {}
     },
     "63fe2f246bca4dd6b080f35800ed9b7a": {
      "model_module": "@jupyter-widgets/controls",
      "model_module_version": "1.5.0",
      "model_name": "FloatProgressModel",
      "state": {
       "bar_style": "success",
       "description": "22800: 100%",
       "layout": "IPY_MODEL_0992844e1a9c41cd840bddc8e9213755",
       "max": 200,
       "style": "IPY_MODEL_36e3cb46fe32419495d91f57b42b01e0",
       "value": 200
      }
     },
     "64370a43761f4b53a763bcec46e1d848": {
      "model_module": "@jupyter-widgets/controls",
      "model_module_version": "1.5.0",
      "model_name": "FloatProgressModel",
      "state": {
       "bar_style": "success",
       "description": "20200: 100%",
       "layout": "IPY_MODEL_9320e352fc6f4237a2929318465186ad",
       "max": 200,
       "style": "IPY_MODEL_4d108895a12a4f28a3f8a03e9a5aaa01",
       "value": 200
      }
     },
     "645dec7332ef431598ae3afa37718a21": {
      "model_module": "@jupyter-widgets/base",
      "model_module_version": "1.2.0",
      "model_name": "LayoutModel",
      "state": {}
     },
     "64aa62939ee548a099595494bb5d14c5": {
      "model_module": "@jupyter-widgets/controls",
      "model_module_version": "1.5.0",
      "model_name": "FloatProgressModel",
      "state": {
       "bar_style": "success",
       "description": "41200: 100%",
       "layout": "IPY_MODEL_c024dbd6c44f48249f7496ade4562887",
       "max": 200,
       "style": "IPY_MODEL_4d36589303344d4e9379a7d6b41bd6cc",
       "value": 200
      }
     },
     "652f8ecb9e124213b38e278a136ed763": {
      "model_module": "@jupyter-widgets/base",
      "model_module_version": "1.2.0",
      "model_name": "LayoutModel",
      "state": {}
     },
     "659d43bd51204df4847b96f892cb11fd": {
      "model_module": "@jupyter-widgets/base",
      "model_module_version": "1.2.0",
      "model_name": "LayoutModel",
      "state": {}
     },
     "65a52e59b48b4473bee1541c12d670df": {
      "model_module": "@jupyter-widgets/controls",
      "model_module_version": "1.5.0",
      "model_name": "HTMLModel",
      "state": {
       "layout": "IPY_MODEL_98a8e5d71d4b41efa667bb6418479602",
       "style": "IPY_MODEL_16f8b0e4611b406689a1df35c2b0d95f",
       "value": " 200/200 [20:46&lt;00:00,  6.23s/it]"
      }
     },
     "65f30bbcdada495b9aeaeb2029322658": {
      "model_module": "@jupyter-widgets/controls",
      "model_module_version": "1.5.0",
      "model_name": "HBoxModel",
      "state": {
       "children": [
        "IPY_MODEL_b8e0cd08c68c4158b6c2a4b98b71e668",
        "IPY_MODEL_4e72115fb13c47b5a59e0e50278966ce"
       ],
       "layout": "IPY_MODEL_c54687685eec414fb108e786c4f9d046"
      }
     },
     "660c250572c94e9db468c09a492e1fef": {
      "model_module": "@jupyter-widgets/controls",
      "model_module_version": "1.5.0",
      "model_name": "DescriptionStyleModel",
      "state": {
       "description_width": ""
      }
     },
     "6691194252ab4504b2f3bef43554e99a": {
      "model_module": "@jupyter-widgets/base",
      "model_module_version": "1.2.0",
      "model_name": "LayoutModel",
      "state": {}
     },
     "6811b208945d45a9b649bbf247a3fe22": {
      "model_module": "@jupyter-widgets/controls",
      "model_module_version": "1.5.0",
      "model_name": "FloatProgressModel",
      "state": {
       "bar_style": "success",
       "description": "25000: 100%",
       "layout": "IPY_MODEL_b8ae016590db473e8b175b4431ea797f",
       "max": 200,
       "style": "IPY_MODEL_4c99df962c1a4e47bee0403f4245f8b7",
       "value": 200
      }
     },
     "686832f634074a29b8a3ea648eb37f3a": {
      "model_module": "@jupyter-widgets/controls",
      "model_module_version": "1.5.0",
      "model_name": "FloatProgressModel",
      "state": {
       "bar_style": "success",
       "description": "46200: 100%",
       "layout": "IPY_MODEL_e5abbff89f9a446dbf3fe85c660e45c5",
       "max": 200,
       "style": "IPY_MODEL_981160c1f3b6408682e12acb81969ca8",
       "value": 200
      }
     },
     "6873fdf30d9445e68dcad9c4eea6d493": {
      "model_module": "@jupyter-widgets/controls",
      "model_module_version": "1.5.0",
      "model_name": "HBoxModel",
      "state": {
       "children": [
        "IPY_MODEL_1a54419541104774ab12fb85122d38a4",
        "IPY_MODEL_fca2cd6396054083b3a0635541648bcc"
       ],
       "layout": "IPY_MODEL_fa9e2b1b2ef248079f681b41f7cce2d5"
      }
     },
     "6882f1262d584518a96c3645002d2424": {
      "model_module": "@jupyter-widgets/controls",
      "model_module_version": "1.5.0",
      "model_name": "FloatProgressModel",
      "state": {
       "bar_style": "success",
       "description": "29400: 100%",
       "layout": "IPY_MODEL_a6a71912b0374a16ae128adf65ae47cb",
       "max": 200,
       "style": "IPY_MODEL_e0f82624351342f68aaf52dae2f1c697",
       "value": 200
      }
     },
     "69038d113ee748eb9e333d8f7e393c4c": {
      "model_module": "@jupyter-widgets/controls",
      "model_module_version": "1.5.0",
      "model_name": "ProgressStyleModel",
      "state": {
       "description_width": "initial"
      }
     },
     "69094fc8ac654730a59917d437145fc1": {
      "model_module": "@jupyter-widgets/controls",
      "model_module_version": "1.5.0",
      "model_name": "DescriptionStyleModel",
      "state": {
       "description_width": ""
      }
     },
     "6983618649764dbda95498d988be7507": {
      "model_module": "@jupyter-widgets/controls",
      "model_module_version": "1.5.0",
      "model_name": "ProgressStyleModel",
      "state": {
       "description_width": "initial"
      }
     },
     "69c5d98abfe64cbcb494514cc69e2e9d": {
      "model_module": "@jupyter-widgets/base",
      "model_module_version": "1.2.0",
      "model_name": "LayoutModel",
      "state": {}
     },
     "69c933e6fac94f19b3079d3a42ce6c57": {
      "model_module": "@jupyter-widgets/base",
      "model_module_version": "1.2.0",
      "model_name": "LayoutModel",
      "state": {}
     },
     "6a01657c4d264a90bd6ebb6bda9a4767": {
      "model_module": "@jupyter-widgets/controls",
      "model_module_version": "1.5.0",
      "model_name": "DescriptionStyleModel",
      "state": {
       "description_width": ""
      }
     },
     "6a17556c07a4485998db09cfe6318758": {
      "model_module": "@jupyter-widgets/controls",
      "model_module_version": "1.5.0",
      "model_name": "ProgressStyleModel",
      "state": {
       "description_width": "initial"
      }
     },
     "6a50bddfdd3c4adc956bfeeab8bfce2e": {
      "model_module": "@jupyter-widgets/base",
      "model_module_version": "1.2.0",
      "model_name": "LayoutModel",
      "state": {}
     },
     "6a5a4321ccc747809fa85589eee177cd": {
      "model_module": "@jupyter-widgets/controls",
      "model_module_version": "1.5.0",
      "model_name": "FloatProgressModel",
      "state": {
       "bar_style": "success",
       "description": "43400: 100%",
       "layout": "IPY_MODEL_f760834ef5e1431cb3525d6445506f43",
       "max": 200,
       "style": "IPY_MODEL_1a54de976cb34f21bf52bf6e3955e5ea",
       "value": 200
      }
     },
     "6af83cacf6494d16a27470bb111d9c5b": {
      "model_module": "@jupyter-widgets/controls",
      "model_module_version": "1.5.0",
      "model_name": "HTMLModel",
      "state": {
       "layout": "IPY_MODEL_c92960032f424565bb5b84ed1cd96eb7",
       "style": "IPY_MODEL_4dac25b26e034a67a4fdebd1f5ef6a70",
       "value": " 200/200 [06:49&lt;00:00,  2.05s/it]"
      }
     },
     "6b83e0411c68449086fc3d581f393587": {
      "model_module": "@jupyter-widgets/controls",
      "model_module_version": "1.5.0",
      "model_name": "HBoxModel",
      "state": {
       "children": [
        "IPY_MODEL_30cc96e7dd894871ab3f19ae9762952d",
        "IPY_MODEL_a263efd489bd4b3e97e50b6b375be5fb"
       ],
       "layout": "IPY_MODEL_92ff53f5bd3f48ab87bbfcc33cf54240"
      }
     },
     "6c466565d4604b649a6b3cc6739089cc": {
      "model_module": "@jupyter-widgets/controls",
      "model_module_version": "1.5.0",
      "model_name": "ProgressStyleModel",
      "state": {
       "description_width": "initial"
      }
     },
     "6c8ceeeca8ab44b1b03f61715114a548": {
      "model_module": "@jupyter-widgets/controls",
      "model_module_version": "1.5.0",
      "model_name": "DescriptionStyleModel",
      "state": {
       "description_width": ""
      }
     },
     "6d068ff7cf0049d6ab52d656ed64cb57": {
      "model_module": "@jupyter-widgets/controls",
      "model_module_version": "1.5.0",
      "model_name": "DescriptionStyleModel",
      "state": {
       "description_width": ""
      }
     },
     "6d123a6f824f45d7b2f82671ced9919f": {
      "model_module": "@jupyter-widgets/controls",
      "model_module_version": "1.5.0",
      "model_name": "HTMLModel",
      "state": {
       "layout": "IPY_MODEL_a12e6acee4514405970ec817633e44ac",
       "style": "IPY_MODEL_aefbc333fd024c2b9bc2f73fb2547038",
       "value": " 30000/30000 [8:15:15&lt;00:00,  1.01it/s]"
      }
     },
     "6d15accd444142ea965a32845b7b3430": {
      "model_module": "@jupyter-widgets/base",
      "model_module_version": "1.2.0",
      "model_name": "LayoutModel",
      "state": {}
     },
     "6d1a22be2b124851a204d641ce7e9c25": {
      "model_module": "@jupyter-widgets/base",
      "model_module_version": "1.2.0",
      "model_name": "LayoutModel",
      "state": {}
     },
     "6d76d7b41c0a4e4792a15b27dc321c3b": {
      "model_module": "@jupyter-widgets/base",
      "model_module_version": "1.2.0",
      "model_name": "LayoutModel",
      "state": {}
     },
     "6d93b92466c04d90a68a12441948621b": {
      "model_module": "@jupyter-widgets/controls",
      "model_module_version": "1.5.0",
      "model_name": "HTMLModel",
      "state": {
       "layout": "IPY_MODEL_2fd51379fcd34f15a0f705d123fda4cf",
       "style": "IPY_MODEL_6c8ceeeca8ab44b1b03f61715114a548",
       "value": " 200/200 [00:35&lt;00:00,  5.57it/s]"
      }
     },
     "6dcf30e63b4547fdb8748b3cf81cdf51": {
      "model_module": "@jupyter-widgets/base",
      "model_module_version": "1.2.0",
      "model_name": "LayoutModel",
      "state": {}
     },
     "6e23c0e9ba824532b205bdb9e35663bd": {
      "model_module": "@jupyter-widgets/base",
      "model_module_version": "1.2.0",
      "model_name": "LayoutModel",
      "state": {}
     },
     "6ea393ea55b044a29c00256914a7f5cb": {
      "model_module": "@jupyter-widgets/controls",
      "model_module_version": "1.5.0",
      "model_name": "HBoxModel",
      "state": {
       "children": [
        "IPY_MODEL_5faec9bf1dbb4d4ab41f3dd818ca7850",
        "IPY_MODEL_ce53a3a544434dc6a47b646cb0e86f03"
       ],
       "layout": "IPY_MODEL_370c0bd3916a41fb8ec2296912da5542"
      }
     },
     "6eae8e090ca24265a52c15c40f209c4d": {
      "model_module": "@jupyter-widgets/controls",
      "model_module_version": "1.5.0",
      "model_name": "ProgressStyleModel",
      "state": {
       "description_width": "initial"
      }
     },
     "6f34dbd8d24744de88293df9b187e290": {
      "model_module": "@jupyter-widgets/controls",
      "model_module_version": "1.5.0",
      "model_name": "FloatProgressModel",
      "state": {
       "bar_style": "success",
       "description": "26600: 100%",
       "layout": "IPY_MODEL_e65996629b864d329d84c5a6029fd898",
       "max": 200,
       "style": "IPY_MODEL_24bb6deb7a444cf1aa0c834606f86b95",
       "value": 200
      }
     },
     "6f43d62b9b31448fa79f9ea34402d124": {
      "model_module": "@jupyter-widgets/controls",
      "model_module_version": "1.5.0",
      "model_name": "HBoxModel",
      "state": {
       "children": [
        "IPY_MODEL_2092a8637e034a4c88800251364316c1",
        "IPY_MODEL_8c19bddc238a468a9aee0d1241ac3ea2"
       ],
       "layout": "IPY_MODEL_c345b5060f4e4b578bd175b9c00eb917"
      }
     },
     "6fb85d2d08e44d238546c5f10a9d42e5": {
      "model_module": "@jupyter-widgets/base",
      "model_module_version": "1.2.0",
      "model_name": "LayoutModel",
      "state": {}
     },
     "710810369ea44404adb5506fe27d6d27": {
      "model_module": "@jupyter-widgets/controls",
      "model_module_version": "1.5.0",
      "model_name": "FloatProgressModel",
      "state": {
       "bar_style": "success",
       "description": "20400: 100%",
       "layout": "IPY_MODEL_8fdd3b25be454c18b92b58ab4aee83b7",
       "max": 200,
       "style": "IPY_MODEL_e3a5bc97c6124f198bfd7ff574412fb2",
       "value": 200
      }
     },
     "711a487673e64ec8a8deb81843132911": {
      "model_module": "@jupyter-widgets/controls",
      "model_module_version": "1.5.0",
      "model_name": "ProgressStyleModel",
      "state": {
       "description_width": "initial"
      }
     },
     "71c78fd2492d4e6fb5af1ab6dc772a31": {
      "model_module": "@jupyter-widgets/controls",
      "model_module_version": "1.5.0",
      "model_name": "HBoxModel",
      "state": {
       "children": [
        "IPY_MODEL_a4b3b414da21492683c1ba69dd95e9dc",
        "IPY_MODEL_f6db17768052469c985f78bdb28b86e1"
       ],
       "layout": "IPY_MODEL_b871fb978bd84fa7a154aad989fd6998"
      }
     },
     "721250af87324027883ea28f2422803d": {
      "model_module": "@jupyter-widgets/base",
      "model_module_version": "1.2.0",
      "model_name": "LayoutModel",
      "state": {}
     },
     "722dab28a23a42829dc3e98b9279f13a": {
      "model_module": "@jupyter-widgets/base",
      "model_module_version": "1.2.0",
      "model_name": "LayoutModel",
      "state": {}
     },
     "723d870548b740109a68e9edbe5964e7": {
      "model_module": "@jupyter-widgets/controls",
      "model_module_version": "1.5.0",
      "model_name": "ProgressStyleModel",
      "state": {
       "description_width": "initial"
      }
     },
     "72873a4664a24fb3ba5874c3d4a00c78": {
      "model_module": "@jupyter-widgets/controls",
      "model_module_version": "1.5.0",
      "model_name": "DescriptionStyleModel",
      "state": {
       "description_width": ""
      }
     },
     "72fe6186cc95493a903019baa37c75c8": {
      "model_module": "@jupyter-widgets/base",
      "model_module_version": "1.2.0",
      "model_name": "LayoutModel",
      "state": {}
     },
     "73bb3e78b3214eeb83027024c0af0503": {
      "model_module": "@jupyter-widgets/controls",
      "model_module_version": "1.5.0",
      "model_name": "DescriptionStyleModel",
      "state": {
       "description_width": ""
      }
     },
     "73be5cc446d74d2a8f8517e2f7c26c90": {
      "model_module": "@jupyter-widgets/controls",
      "model_module_version": "1.5.0",
      "model_name": "HBoxModel",
      "state": {
       "children": [
        "IPY_MODEL_003ef1b6ad214ef09b653e414544c5d9",
        "IPY_MODEL_e79bcb8dbdec497ba0ae7bebc3da745b"
       ],
       "layout": "IPY_MODEL_19ba64ae96a544ab9f3dbe68bd25100f"
      }
     },
     "741f6f967c154d2cbd888a87ebaf11ee": {
      "model_module": "@jupyter-widgets/controls",
      "model_module_version": "1.5.0",
      "model_name": "DescriptionStyleModel",
      "state": {
       "description_width": ""
      }
     },
     "744caf3f4285489fbac1b6714b92bd5b": {
      "model_module": "@jupyter-widgets/base",
      "model_module_version": "1.2.0",
      "model_name": "LayoutModel",
      "state": {}
     },
     "749d4af0c92046ca949853133c066ea8": {
      "model_module": "@jupyter-widgets/base",
      "model_module_version": "1.2.0",
      "model_name": "LayoutModel",
      "state": {}
     },
     "74dc3211fe2a462cb5b1752783810bf3": {
      "model_module": "@jupyter-widgets/base",
      "model_module_version": "1.2.0",
      "model_name": "LayoutModel",
      "state": {}
     },
     "7505f5a3016a4daba6b93d3765c65a40": {
      "model_module": "@jupyter-widgets/controls",
      "model_module_version": "1.5.0",
      "model_name": "HTMLModel",
      "state": {
       "layout": "IPY_MODEL_a67d055893614eb4822d26e935a0b057",
       "style": "IPY_MODEL_6d068ff7cf0049d6ab52d656ed64cb57",
       "value": " 200/200 [20:32&lt;00:00,  6.16s/it]"
      }
     },
     "752216af0c444a5199dd34c2fbb9f5e9": {
      "model_module": "@jupyter-widgets/base",
      "model_module_version": "1.2.0",
      "model_name": "LayoutModel",
      "state": {}
     },
     "7569dd7bc4634da2bcdb57270eb0c66e": {
      "model_module": "@jupyter-widgets/controls",
      "model_module_version": "1.5.0",
      "model_name": "DescriptionStyleModel",
      "state": {
       "description_width": ""
      }
     },
     "75baacabf71545e59540631c26844060": {
      "model_module": "@jupyter-widgets/controls",
      "model_module_version": "1.5.0",
      "model_name": "HTMLModel",
      "state": {
       "layout": "IPY_MODEL_3f004584dfdd4bfc857177579bf48581",
       "style": "IPY_MODEL_495e0c3ca169418d80e3eade35b6785d",
       "value": " 200/200 [20:09&lt;00:00,  6.05s/it]"
      }
     },
     "76004b883e3d4de0b8faead858b00225": {
      "model_module": "@jupyter-widgets/base",
      "model_module_version": "1.2.0",
      "model_name": "LayoutModel",
      "state": {}
     },
     "76525034329c45b3b60ec08a7a17a178": {
      "model_module": "@jupyter-widgets/base",
      "model_module_version": "1.2.0",
      "model_name": "LayoutModel",
      "state": {}
     },
     "768028231e6e438d8a718e3b10550f85": {
      "model_module": "@jupyter-widgets/base",
      "model_module_version": "1.2.0",
      "model_name": "LayoutModel",
      "state": {}
     },
     "76b2ac96423347c58788c5c38e0b15fc": {
      "model_module": "@jupyter-widgets/controls",
      "model_module_version": "1.5.0",
      "model_name": "DescriptionStyleModel",
      "state": {
       "description_width": ""
      }
     },
     "76ccd6b1acca49eead8f9ddb59e9e78c": {
      "model_module": "@jupyter-widgets/controls",
      "model_module_version": "1.5.0",
      "model_name": "FloatProgressModel",
      "state": {
       "bar_style": "success",
       "description": "21800: 100%",
       "layout": "IPY_MODEL_d60314efd94b49f99fe877956db81fa5",
       "max": 200,
       "style": "IPY_MODEL_9d5aca0ac8f3424086f7d4c2034a0c9c",
       "value": 200
      }
     },
     "76e71afe94fd422bb6f966ec5a5f4cb7": {
      "model_module": "@jupyter-widgets/controls",
      "model_module_version": "1.5.0",
      "model_name": "HTMLModel",
      "state": {
       "layout": "IPY_MODEL_d82f40b9313444398af1c4c832b80f70",
       "style": "IPY_MODEL_ac65cbe9dffe4c3286498b299baf62e7",
       "value": " 200/200 [20:09&lt;00:00,  6.05s/it]"
      }
     },
     "777debb733c5413aa589d0e9e823f014": {
      "model_module": "@jupyter-widgets/controls",
      "model_module_version": "1.5.0",
      "model_name": "ProgressStyleModel",
      "state": {
       "description_width": "initial"
      }
     },
     "77f6ed7688e94db987c30d2c6ef2ee9f": {
      "model_module": "@jupyter-widgets/controls",
      "model_module_version": "1.5.0",
      "model_name": "DescriptionStyleModel",
      "state": {
       "description_width": ""
      }
     },
     "781af4f73a4745d68ff392a09367e2fb": {
      "model_module": "@jupyter-widgets/base",
      "model_module_version": "1.2.0",
      "model_name": "LayoutModel",
      "state": {}
     },
     "788396defb774e9da12cc9d32b52f216": {
      "model_module": "@jupyter-widgets/controls",
      "model_module_version": "1.5.0",
      "model_name": "ProgressStyleModel",
      "state": {
       "description_width": "initial"
      }
     },
     "7886b41eef124663be10c9eb619b2a9a": {
      "model_module": "@jupyter-widgets/controls",
      "model_module_version": "1.5.0",
      "model_name": "HTMLModel",
      "state": {
       "layout": "IPY_MODEL_6a50bddfdd3c4adc956bfeeab8bfce2e",
       "style": "IPY_MODEL_db65142300e64044bb2076a1b0ec3ad2",
       "value": " 200/200 [20:10&lt;00:00,  6.05s/it]"
      }
     },
     "7889ce8e34454b7a83ada07e558606b1": {
      "model_module": "@jupyter-widgets/controls",
      "model_module_version": "1.5.0",
      "model_name": "FloatProgressModel",
      "state": {
       "bar_style": "success",
       "description": "41400: 100%",
       "layout": "IPY_MODEL_28d2adb2cec44afab80216f396fe3f29",
       "max": 200,
       "style": "IPY_MODEL_ecf15988b85c4023ab5e7047d93f2adb",
       "value": 200
      }
     },
     "7906b20687a847fcb3f4a90fb92fdbaf": {
      "model_module": "@jupyter-widgets/controls",
      "model_module_version": "1.5.0",
      "model_name": "ProgressStyleModel",
      "state": {
       "description_width": "initial"
      }
     },
     "79862cac7b7144678a6f3a194cd7b780": {
      "model_module": "@jupyter-widgets/controls",
      "model_module_version": "1.5.0",
      "model_name": "ProgressStyleModel",
      "state": {
       "description_width": "initial"
      }
     },
     "798b85dab8784349b4229efad93c62a7": {
      "model_module": "@jupyter-widgets/controls",
      "model_module_version": "1.5.0",
      "model_name": "HBoxModel",
      "state": {
       "children": [
        "IPY_MODEL_59f16d37a50840afb4a8f3173482a485",
        "IPY_MODEL_ad34326b5664474b984ab608930e1c35"
       ],
       "layout": "IPY_MODEL_fdd72fb6409c44ae912be873d92ed5d4"
      }
     },
     "7997d00f82a74dcc911d62c333f3071c": {
      "model_module": "@jupyter-widgets/base",
      "model_module_version": "1.2.0",
      "model_name": "LayoutModel",
      "state": {}
     },
     "799e190f418b4871846f609a35f66c60": {
      "model_module": "@jupyter-widgets/base",
      "model_module_version": "1.2.0",
      "model_name": "LayoutModel",
      "state": {}
     },
     "79b88c9527fa4b1db2bc790a4b9d3afa": {
      "model_module": "@jupyter-widgets/controls",
      "model_module_version": "1.5.0",
      "model_name": "ProgressStyleModel",
      "state": {
       "description_width": "initial"
      }
     },
     "7a5bb90317034ae09373dab0305bc5dc": {
      "model_module": "@jupyter-widgets/base",
      "model_module_version": "1.2.0",
      "model_name": "LayoutModel",
      "state": {}
     },
     "7ab99196b6db4b4f86d34d7daf2cde94": {
      "model_module": "@jupyter-widgets/controls",
      "model_module_version": "1.5.0",
      "model_name": "HTMLModel",
      "state": {
       "layout": "IPY_MODEL_06197a7caace4befb460631ee53a0acf",
       "style": "IPY_MODEL_8635f64322cb4609b5ce9ca08a4676fd",
       "value": " 200/200 [10:05&lt;00:00,  3.03s/it]"
      }
     },
     "7abcf78b183348a6b86feccd23d89962": {
      "model_module": "@jupyter-widgets/base",
      "model_module_version": "1.2.0",
      "model_name": "LayoutModel",
      "state": {}
     },
     "7abf28a6190a4061800e20e2bcbaaa3f": {
      "model_module": "@jupyter-widgets/base",
      "model_module_version": "1.2.0",
      "model_name": "LayoutModel",
      "state": {}
     },
     "7afd5d9daf494c4fb282609546d989f3": {
      "model_module": "@jupyter-widgets/controls",
      "model_module_version": "1.5.0",
      "model_name": "HBoxModel",
      "state": {
       "children": [
        "IPY_MODEL_8c887f5be3aa4b438a93f31ca0fe12bb",
        "IPY_MODEL_bad4177451534773aa2cbe3c319796eb"
       ],
       "layout": "IPY_MODEL_5884a0e8daf3451aae082f9c708a53bf"
      }
     },
     "7bd404a54174462f8a213b15ccc4e87b": {
      "model_module": "@jupyter-widgets/controls",
      "model_module_version": "1.5.0",
      "model_name": "ProgressStyleModel",
      "state": {
       "description_width": "initial"
      }
     },
     "7be1b708543b47a4b410e09082dda429": {
      "model_module": "@jupyter-widgets/controls",
      "model_module_version": "1.5.0",
      "model_name": "FloatProgressModel",
      "state": {
       "bar_style": "success",
       "description": "27000: 100%",
       "layout": "IPY_MODEL_d53d7395a68d454db801459d78043936",
       "max": 200,
       "style": "IPY_MODEL_c4f97a5e877842ba9ae035ceaaef0a64",
       "value": 200
      }
     },
     "7c9fab347dcb4328b53b97d6301b54b3": {
      "model_module": "@jupyter-widgets/controls",
      "model_module_version": "1.5.0",
      "model_name": "DescriptionStyleModel",
      "state": {
       "description_width": ""
      }
     },
     "7d31c14fa8f2420eb28e3fbcb8183b23": {
      "model_module": "@jupyter-widgets/base",
      "model_module_version": "1.2.0",
      "model_name": "LayoutModel",
      "state": {}
     },
     "7d6003f2a158406bb120fcd34230d5f6": {
      "model_module": "@jupyter-widgets/controls",
      "model_module_version": "1.5.0",
      "model_name": "ProgressStyleModel",
      "state": {
       "description_width": "initial"
      }
     },
     "7e20e28df0f646c489b8154b9cd80851": {
      "model_module": "@jupyter-widgets/controls",
      "model_module_version": "1.5.0",
      "model_name": "DescriptionStyleModel",
      "state": {
       "description_width": ""
      }
     },
     "7e23e845d5494dc3a465dca0e188e70d": {
      "model_module": "@jupyter-widgets/base",
      "model_module_version": "1.2.0",
      "model_name": "LayoutModel",
      "state": {}
     },
     "7ef9b270c4474b8694477429c80f77f0": {
      "model_module": "@jupyter-widgets/controls",
      "model_module_version": "1.5.0",
      "model_name": "FloatProgressModel",
      "state": {
       "bar_style": "success",
       "description": "49400: 100%",
       "layout": "IPY_MODEL_1c3886cc1c14411f8b3a73ca006e614f",
       "max": 200,
       "style": "IPY_MODEL_6a17556c07a4485998db09cfe6318758",
       "value": 200
      }
     },
     "7f2624c2c9204f4eac78d88a57f0fd03": {
      "model_module": "@jupyter-widgets/controls",
      "model_module_version": "1.5.0",
      "model_name": "DescriptionStyleModel",
      "state": {
       "description_width": ""
      }
     },
     "7f2c3a249ab846a993d6fccfa23e038d": {
      "model_module": "@jupyter-widgets/controls",
      "model_module_version": "1.5.0",
      "model_name": "DescriptionStyleModel",
      "state": {
       "description_width": ""
      }
     },
     "803e22b9fd3b445387de95be1822c174": {
      "model_module": "@jupyter-widgets/base",
      "model_module_version": "1.2.0",
      "model_name": "LayoutModel",
      "state": {}
     },
     "805eeaad0b9d4b519c4c9cb93869d322": {
      "model_module": "@jupyter-widgets/controls",
      "model_module_version": "1.5.0",
      "model_name": "HBoxModel",
      "state": {
       "children": [
        "IPY_MODEL_64370a43761f4b53a763bcec46e1d848",
        "IPY_MODEL_04246e8a79a84b13891867cc89e6c2f7"
       ],
       "layout": "IPY_MODEL_304dc4d2bca04840917df6b90105cced"
      }
     },
     "80cd2cfdddf34895aff42c00e9d780fd": {
      "model_module": "@jupyter-widgets/controls",
      "model_module_version": "1.5.0",
      "model_name": "HTMLModel",
      "state": {
       "layout": "IPY_MODEL_e637da2040ae469cabb7cc5ad7905620",
       "style": "IPY_MODEL_88b61cb8241a4b3fb9384b04d980ca65",
       "value": " 200/200 [20:58&lt;00:00,  6.29s/it]"
      }
     },
     "811039b7e61a4906bafe10185220b38c": {
      "model_module": "@jupyter-widgets/controls",
      "model_module_version": "1.5.0",
      "model_name": "HBoxModel",
      "state": {
       "children": [
        "IPY_MODEL_f01baf3029e344b8ab59ee926c0009fe",
        "IPY_MODEL_b98dc1b8a96a4c689ec7f63f127f1311"
       ],
       "layout": "IPY_MODEL_6e23c0e9ba824532b205bdb9e35663bd"
      }
     },
     "8177b737bea3444ebe9405803313137f": {
      "model_module": "@jupyter-widgets/controls",
      "model_module_version": "1.5.0",
      "model_name": "FloatProgressModel",
      "state": {
       "bar_style": "success",
       "description": "45400: 100%",
       "layout": "IPY_MODEL_1bc3d52c553247bfbf7bb5830c7319e2",
       "max": 200,
       "style": "IPY_MODEL_f0c8ae63bffe4cc78a98419dd1c9c002",
       "value": 200
      }
     },
     "81cb1baae9894ce6a56b298f7c71e977": {
      "model_module": "@jupyter-widgets/controls",
      "model_module_version": "1.5.0",
      "model_name": "HTMLModel",
      "state": {
       "layout": "IPY_MODEL_c49532780c7b4f61bf1c462b8db066d9",
       "style": "IPY_MODEL_3f680b669c1b40599ea596f1721172e0",
       "value": " 200/200 [10:23&lt;00:00,  3.12s/it]"
      }
     },
     "82e5236aad634eed8bf0bd49674e8d9f": {
      "model_module": "@jupyter-widgets/controls",
      "model_module_version": "1.5.0",
      "model_name": "HBoxModel",
      "state": {
       "children": [
        "IPY_MODEL_f6f3628f44c34c758fe58cf416264fc0",
        "IPY_MODEL_f478f04b8d4a44f2b83a1000d20c5196"
       ],
       "layout": "IPY_MODEL_0c11946469f748fb9e0aedd06137ee48"
      }
     },
     "83353951bfd146d3ac7b81dad5775fc3": {
      "model_module": "@jupyter-widgets/base",
      "model_module_version": "1.2.0",
      "model_name": "LayoutModel",
      "state": {}
     },
     "8366cd9ee34e42339f2058fa83384f4a": {
      "model_module": "@jupyter-widgets/controls",
      "model_module_version": "1.5.0",
      "model_name": "DescriptionStyleModel",
      "state": {
       "description_width": ""
      }
     },
     "83a28b140cd0409fbfbdbb01c15d9325": {
      "model_module": "@jupyter-widgets/base",
      "model_module_version": "1.2.0",
      "model_name": "LayoutModel",
      "state": {}
     },
     "83c1e419d7e74772a42ef7aa61496b3b": {
      "model_module": "@jupyter-widgets/base",
      "model_module_version": "1.2.0",
      "model_name": "LayoutModel",
      "state": {}
     },
     "8485aed843fb4454bf094d02a01ef6ff": {
      "model_module": "@jupyter-widgets/controls",
      "model_module_version": "1.5.0",
      "model_name": "HTMLModel",
      "state": {
       "layout": "IPY_MODEL_b4ef0ba5040643ffa0dae1590be1f3e5",
       "style": "IPY_MODEL_31e25eb42b5b43fcb378386ae8dd8866",
       "value": " 200/200 [20:31&lt;00:00,  6.16s/it]"
      }
     },
     "849f9d95feec4e0dad99dc4ac0222c11": {
      "model_module": "@jupyter-widgets/controls",
      "model_module_version": "1.5.0",
      "model_name": "DescriptionStyleModel",
      "state": {
       "description_width": ""
      }
     },
     "8556a3f124264235a5d820a42b1e4dab": {
      "model_module": "@jupyter-widgets/base",
      "model_module_version": "1.2.0",
      "model_name": "LayoutModel",
      "state": {}
     },
     "856d6e134f3447728edab6d13baaba1c": {
      "model_module": "@jupyter-widgets/base",
      "model_module_version": "1.2.0",
      "model_name": "LayoutModel",
      "state": {}
     },
     "85c77fe89f3643cdbb5bd0e9cb79431f": {
      "model_module": "@jupyter-widgets/controls",
      "model_module_version": "1.5.0",
      "model_name": "DescriptionStyleModel",
      "state": {
       "description_width": ""
      }
     },
     "85cbe0115bbb4b8a9ea4d7adc30ca9ca": {
      "model_module": "@jupyter-widgets/controls",
      "model_module_version": "1.5.0",
      "model_name": "ProgressStyleModel",
      "state": {
       "description_width": "initial"
      }
     },
     "8635f64322cb4609b5ce9ca08a4676fd": {
      "model_module": "@jupyter-widgets/controls",
      "model_module_version": "1.5.0",
      "model_name": "DescriptionStyleModel",
      "state": {
       "description_width": ""
      }
     },
     "870839b059da413b9d047af47799f5e9": {
      "model_module": "@jupyter-widgets/base",
      "model_module_version": "1.2.0",
      "model_name": "LayoutModel",
      "state": {}
     },
     "871cc80af327423fa003b54fe3ec0939": {
      "model_module": "@jupyter-widgets/controls",
      "model_module_version": "1.5.0",
      "model_name": "HBoxModel",
      "state": {
       "children": [
        "IPY_MODEL_eed56c0d47d94a0aa4906081f9dbfad4",
        "IPY_MODEL_2f68be501cd34cbc937cc0f3ec7ab0fc"
       ],
       "layout": "IPY_MODEL_046f9b56797b44be804c3c0f99ce3614"
      }
     },
     "8739e8a42aff4e569c4fd5829ef4552c": {
      "model_module": "@jupyter-widgets/controls",
      "model_module_version": "1.5.0",
      "model_name": "ProgressStyleModel",
      "state": {
       "description_width": "initial"
      }
     },
     "878b9fec2eea4a32b144d78707f0e80e": {
      "model_module": "@jupyter-widgets/controls",
      "model_module_version": "1.5.0",
      "model_name": "HBoxModel",
      "state": {
       "children": [
        "IPY_MODEL_686832f634074a29b8a3ea648eb37f3a",
        "IPY_MODEL_80cd2cfdddf34895aff42c00e9d780fd"
       ],
       "layout": "IPY_MODEL_f49a8d2db1234108b8121c6d7c45d5b5"
      }
     },
     "880f0cc4fe704848a306d1613080524d": {
      "model_module": "@jupyter-widgets/base",
      "model_module_version": "1.2.0",
      "model_name": "LayoutModel",
      "state": {}
     },
     "888c682b5ceb4b4ab63a710bebd43304": {
      "model_module": "@jupyter-widgets/controls",
      "model_module_version": "1.5.0",
      "model_name": "HBoxModel",
      "state": {
       "children": [
        "IPY_MODEL_ef109bdb4bff40048bdb66f0c17dd672",
        "IPY_MODEL_c1d32519941a45a0b471463839e2963c"
       ],
       "layout": "IPY_MODEL_2c7e111761f042f5b50427ff3e7f388a"
      }
     },
     "88b61cb8241a4b3fb9384b04d980ca65": {
      "model_module": "@jupyter-widgets/controls",
      "model_module_version": "1.5.0",
      "model_name": "DescriptionStyleModel",
      "state": {
       "description_width": ""
      }
     },
     "88fcf0f08cbe41269d80a8472deb48b9": {
      "model_module": "@jupyter-widgets/controls",
      "model_module_version": "1.5.0",
      "model_name": "HTMLModel",
      "state": {
       "layout": "IPY_MODEL_3bd00b2f6e04451483fe5ecca047c5a6",
       "style": "IPY_MODEL_7e20e28df0f646c489b8154b9cd80851",
       "value": " 200/200 [10:12&lt;00:00,  3.06s/it]"
      }
     },
     "890984a45121472d878b7612a19bd76c": {
      "model_module": "@jupyter-widgets/controls",
      "model_module_version": "1.5.0",
      "model_name": "DescriptionStyleModel",
      "state": {
       "description_width": ""
      }
     },
     "89d95a7e09524904baa8d7367156e262": {
      "model_module": "@jupyter-widgets/controls",
      "model_module_version": "1.5.0",
      "model_name": "HBoxModel",
      "state": {
       "children": [
        "IPY_MODEL_7be1b708543b47a4b410e09082dda429",
        "IPY_MODEL_f598c368be75421b811bfdb3a0d1f60f"
       ],
       "layout": "IPY_MODEL_f70bfc361c4043f4be6ccafe43d8e034"
      }
     },
     "89dccd1e451a4e638d772ac6bb32ad95": {
      "model_module": "@jupyter-widgets/base",
      "model_module_version": "1.2.0",
      "model_name": "LayoutModel",
      "state": {}
     },
     "89dd485757b545e49d4382f7fc79c08d": {
      "model_module": "@jupyter-widgets/controls",
      "model_module_version": "1.5.0",
      "model_name": "HBoxModel",
      "state": {
       "children": [
        "IPY_MODEL_971a00d35d054606871647fdacbcdb61",
        "IPY_MODEL_ac8213f5803c42f0989ccc60f6d181ba"
       ],
       "layout": "IPY_MODEL_f6262359040f4c848f2343b0aab1682e"
      }
     },
     "8a5f338da1944dcb81da0b8c8b8fdf4f": {
      "model_module": "@jupyter-widgets/base",
      "model_module_version": "1.2.0",
      "model_name": "LayoutModel",
      "state": {}
     },
     "8c19bddc238a468a9aee0d1241ac3ea2": {
      "model_module": "@jupyter-widgets/controls",
      "model_module_version": "1.5.0",
      "model_name": "HTMLModel",
      "state": {
       "layout": "IPY_MODEL_7e23e845d5494dc3a465dca0e188e70d",
       "style": "IPY_MODEL_3b40e3776be84ceca7b145e258c0dc5d",
       "value": " 200/200 [03:14&lt;00:00,  1.03it/s]"
      }
     },
     "8c55186f2c564a6c9eee5da812391795": {
      "model_module": "@jupyter-widgets/controls",
      "model_module_version": "1.5.0",
      "model_name": "HBoxModel",
      "state": {
       "children": [
        "IPY_MODEL_a62a64da680844da8ad8582dae19b42e",
        "IPY_MODEL_4b18330c1b914f35be9c068f9a78e6df"
       ],
       "layout": "IPY_MODEL_4142a34631c2468a8ee0202704bcc59f"
      }
     },
     "8c887f5be3aa4b438a93f31ca0fe12bb": {
      "model_module": "@jupyter-widgets/controls",
      "model_module_version": "1.5.0",
      "model_name": "FloatProgressModel",
      "state": {
       "bar_style": "success",
       "description": "46400: 100%",
       "layout": "IPY_MODEL_9d82428f40844a4ba2bfbdf8e0d1fb99",
       "max": 200,
       "style": "IPY_MODEL_571618382d774bdab0111eb466d58fd8",
       "value": 200
      }
     },
     "8cfdb2b7f58349c0bcff673423a3dc5e": {
      "model_module": "@jupyter-widgets/controls",
      "model_module_version": "1.5.0",
      "model_name": "FloatProgressModel",
      "state": {
       "bar_style": "success",
       "description": "46600: 100%",
       "layout": "IPY_MODEL_1b43a93d9d984a4c91a0708ac3b8fbec",
       "max": 200,
       "style": "IPY_MODEL_7906b20687a847fcb3f4a90fb92fdbaf",
       "value": 200
      }
     },
     "8d1223ae5dae4b61a59daaeb531bbf20": {
      "model_module": "@jupyter-widgets/controls",
      "model_module_version": "1.5.0",
      "model_name": "HTMLModel",
      "state": {
       "layout": "IPY_MODEL_1b194592472d416a84f69726792ec203",
       "style": "IPY_MODEL_ebaaaca3504c4c79bf1325eefb1e7011",
       "value": " 200/200 [20:38&lt;00:00,  6.19s/it]"
      }
     },
     "8d29b6fc5c9d40e6b3372ca96a6c56e1": {
      "model_module": "@jupyter-widgets/controls",
      "model_module_version": "1.5.0",
      "model_name": "DescriptionStyleModel",
      "state": {
       "description_width": ""
      }
     },
     "8daa5463444a4e3caf2b24001a6bae2f": {
      "model_module": "@jupyter-widgets/controls",
      "model_module_version": "1.5.0",
      "model_name": "HTMLModel",
      "state": {
       "layout": "IPY_MODEL_27eb59cdeb984604ba3b6e685d3a777a",
       "style": "IPY_MODEL_f9eb016f3ed747d98897c8b5bbc79a52",
       "value": " 200/200 [02:45&lt;00:00,  1.21it/s]"
      }
     },
     "8e44f08fa4f541dd856d500641fba2a8": {
      "model_module": "@jupyter-widgets/base",
      "model_module_version": "1.2.0",
      "model_name": "LayoutModel",
      "state": {}
     },
     "8e851b391dc54a53b277a61c3e6e9210": {
      "model_module": "@jupyter-widgets/base",
      "model_module_version": "1.2.0",
      "model_name": "LayoutModel",
      "state": {}
     },
     "8ec91d9d158b4214a8171805a08a58ac": {
      "model_module": "@jupyter-widgets/controls",
      "model_module_version": "1.5.0",
      "model_name": "ProgressStyleModel",
      "state": {
       "description_width": "initial"
      }
     },
     "8ef4fc77ee434d8daadb0d75652b98b5": {
      "model_module": "@jupyter-widgets/controls",
      "model_module_version": "1.5.0",
      "model_name": "HBoxModel",
      "state": {
       "children": [
        "IPY_MODEL_ba95e6166602465bbc0b0aa82dc7c6fb",
        "IPY_MODEL_dfae9ec2e1974e66bed59607e4ed6016"
       ],
       "layout": "IPY_MODEL_db39994252db4bc2827f6779571190cd"
      }
     },
     "8f864a05c522410ca64f363b38382408": {
      "model_module": "@jupyter-widgets/controls",
      "model_module_version": "1.5.0",
      "model_name": "DescriptionStyleModel",
      "state": {
       "description_width": ""
      }
     },
     "8fdd3b25be454c18b92b58ab4aee83b7": {
      "model_module": "@jupyter-widgets/base",
      "model_module_version": "1.2.0",
      "model_name": "LayoutModel",
      "state": {}
     },
     "8fff0110b98f4c63b5ff3c1bfa92ac26": {
      "model_module": "@jupyter-widgets/controls",
      "model_module_version": "1.5.0",
      "model_name": "DescriptionStyleModel",
      "state": {
       "description_width": ""
      }
     },
     "9068f67a3aec4c269c5042726838c16d": {
      "model_module": "@jupyter-widgets/base",
      "model_module_version": "1.2.0",
      "model_name": "LayoutModel",
      "state": {}
     },
     "90d702ba01ce4bb8a377b038daec3a66": {
      "model_module": "@jupyter-widgets/controls",
      "model_module_version": "1.5.0",
      "model_name": "HBoxModel",
      "state": {
       "children": [
        "IPY_MODEL_6811b208945d45a9b649bbf247a3fe22",
        "IPY_MODEL_0bc9be7f47df45f3b414f779c23cec69"
       ],
       "layout": "IPY_MODEL_c9539252a3074b54a78d8d1098143398"
      }
     },
     "9125f788aa4c43188b727ad84fe2b13e": {
      "model_module": "@jupyter-widgets/controls",
      "model_module_version": "1.5.0",
      "model_name": "ProgressStyleModel",
      "state": {
       "description_width": "initial"
      }
     },
     "913afa0e8be14f48a2a1ac7229243080": {
      "model_module": "@jupyter-widgets/controls",
      "model_module_version": "1.5.0",
      "model_name": "ProgressStyleModel",
      "state": {
       "description_width": "initial"
      }
     },
     "9196b54fe1fe4af0821356e0ad43bf57": {
      "model_module": "@jupyter-widgets/base",
      "model_module_version": "1.2.0",
      "model_name": "LayoutModel",
      "state": {}
     },
     "91cb9bc53d274d60907553581e901dbf": {
      "model_module": "@jupyter-widgets/controls",
      "model_module_version": "1.5.0",
      "model_name": "DescriptionStyleModel",
      "state": {
       "description_width": ""
      }
     },
     "91d91466ebb0471788f65caea71a513c": {
      "model_module": "@jupyter-widgets/base",
      "model_module_version": "1.2.0",
      "model_name": "LayoutModel",
      "state": {}
     },
     "91f872dd08b54b6d81b69bcb27e806bd": {
      "model_module": "@jupyter-widgets/base",
      "model_module_version": "1.2.0",
      "model_name": "LayoutModel",
      "state": {}
     },
     "9206f88ce3d3410093f28c404ae133bb": {
      "model_module": "@jupyter-widgets/controls",
      "model_module_version": "1.5.0",
      "model_name": "FloatProgressModel",
      "state": {
       "bar_style": "success",
       "description": "44400: 100%",
       "layout": "IPY_MODEL_f148b416edea4f5593c16bbf660cfe43",
       "max": 200,
       "style": "IPY_MODEL_284ea9547ff7452899aa11b4b68e8f92",
       "value": 200
      }
     },
     "923e6b5e9d724a2d9f710ed8e386f068": {
      "model_module": "@jupyter-widgets/controls",
      "model_module_version": "1.5.0",
      "model_name": "DescriptionStyleModel",
      "state": {
       "description_width": ""
      }
     },
     "926c29bb019348c5b1e636882468044e": {
      "model_module": "@jupyter-widgets/controls",
      "model_module_version": "1.5.0",
      "model_name": "ProgressStyleModel",
      "state": {
       "description_width": "initial"
      }
     },
     "92ff53f5bd3f48ab87bbfcc33cf54240": {
      "model_module": "@jupyter-widgets/base",
      "model_module_version": "1.2.0",
      "model_name": "LayoutModel",
      "state": {}
     },
     "9320e352fc6f4237a2929318465186ad": {
      "model_module": "@jupyter-widgets/base",
      "model_module_version": "1.2.0",
      "model_name": "LayoutModel",
      "state": {}
     },
     "938e99a0560248a692b843f20f05bd72": {
      "model_module": "@jupyter-widgets/controls",
      "model_module_version": "1.5.0",
      "model_name": "HTMLModel",
      "state": {
       "layout": "IPY_MODEL_b6db724353f34c4c999491c914d277f8",
       "style": "IPY_MODEL_47fd6caaed9c462cac80d4a403ba5b40",
       "value": " 200/200 [16:51&lt;00:00,  5.06s/it]"
      }
     },
     "93c9e42e106547e890e3a90eb93e83e6": {
      "model_module": "@jupyter-widgets/controls",
      "model_module_version": "1.5.0",
      "model_name": "DescriptionStyleModel",
      "state": {
       "description_width": ""
      }
     },
     "93e31b68f83e4c46959bc744eb79ec82": {
      "model_module": "@jupyter-widgets/controls",
      "model_module_version": "1.5.0",
      "model_name": "ProgressStyleModel",
      "state": {
       "description_width": "initial"
      }
     },
     "93ed9e144b634f989644d7e079637e93": {
      "model_module": "@jupyter-widgets/controls",
      "model_module_version": "1.5.0",
      "model_name": "HBoxModel",
      "state": {
       "children": [
        "IPY_MODEL_2f28fed88d79491da473b7b3cf184519",
        "IPY_MODEL_51d5faa9782345e8ac174498c8f2145d"
       ],
       "layout": "IPY_MODEL_768028231e6e438d8a718e3b10550f85"
      }
     },
     "93ee730f467c48efadd825e8790f5ec6": {
      "model_module": "@jupyter-widgets/base",
      "model_module_version": "1.2.0",
      "model_name": "LayoutModel",
      "state": {}
     },
     "940b828c9a1548da877555974d81280a": {
      "model_module": "@jupyter-widgets/controls",
      "model_module_version": "1.5.0",
      "model_name": "HTMLModel",
      "state": {
       "layout": "IPY_MODEL_24e1d9603d7f40f4a0bb2e29c1cacc72",
       "style": "IPY_MODEL_6284f65323b14ba5b6969e2da8aa42ac",
       "value": " 200/200 [10:32&lt;00:00,  3.16s/it]"
      }
     },
     "9435ebd9692c4fbe83236176ddfb1b74": {
      "model_module": "@jupyter-widgets/controls",
      "model_module_version": "1.5.0",
      "model_name": "HBoxModel",
      "state": {
       "children": [
        "IPY_MODEL_8cfdb2b7f58349c0bcff673423a3dc5e",
        "IPY_MODEL_a3de7da5882049d2b4647fc95d99381e"
       ],
       "layout": "IPY_MODEL_fc1d5d5135f8464ba5199ed847be104f"
      }
     },
     "94b877e609e8429a928c15eb14eccb59": {
      "model_module": "@jupyter-widgets/controls",
      "model_module_version": "1.5.0",
      "model_name": "HBoxModel",
      "state": {
       "children": [
        "IPY_MODEL_046ae35128a341a99e7abb0a8bc2b5fb",
        "IPY_MODEL_1023eb9b694149cc8d589c2c0da0522e"
       ],
       "layout": "IPY_MODEL_fa2276b8fbb44eb4974cecadc6357914"
      }
     },
     "961c79ba752c49deb1397f37337fccd1": {
      "model_module": "@jupyter-widgets/base",
      "model_module_version": "1.2.0",
      "model_name": "LayoutModel",
      "state": {}
     },
     "971a00d35d054606871647fdacbcdb61": {
      "model_module": "@jupyter-widgets/controls",
      "model_module_version": "1.5.0",
      "model_name": "FloatProgressModel",
      "state": {
       "bar_style": "success",
       "description": "48800: 100%",
       "layout": "IPY_MODEL_e9f30a8bfd7246db8ab18e740efd0d91",
       "max": 200,
       "style": "IPY_MODEL_d7415a5beceb40069c917356a1066ea3",
       "value": 200
      }
     },
     "97b92ab3c16149d197dc258634e2d03f": {
      "model_module": "@jupyter-widgets/base",
      "model_module_version": "1.2.0",
      "model_name": "LayoutModel",
      "state": {}
     },
     "97ce6069edbf401db069422b5b0040fc": {
      "model_module": "@jupyter-widgets/controls",
      "model_module_version": "1.5.0",
      "model_name": "FloatProgressModel",
      "state": {
       "bar_style": "success",
       "description": "27400: 100%",
       "layout": "IPY_MODEL_17cf0da55b1c46479e86722454245733",
       "max": 200,
       "style": "IPY_MODEL_2c571635b56045b6b3504d00befffb2b",
       "value": 200
      }
     },
     "97f3ea7d7e22437497eb5e49d99fd410": {
      "model_module": "@jupyter-widgets/controls",
      "model_module_version": "1.5.0",
      "model_name": "HBoxModel",
      "state": {
       "children": [
        "IPY_MODEL_51a60bae1e294977b3b115bb7589d93e",
        "IPY_MODEL_eabd125f8a4d4c4aacfdaf1a9b279cb7"
       ],
       "layout": "IPY_MODEL_7abcf78b183348a6b86feccd23d89962"
      }
     },
     "97f42befa027488d94597326d8f404a6": {
      "model_module": "@jupyter-widgets/base",
      "model_module_version": "1.2.0",
      "model_name": "LayoutModel",
      "state": {}
     },
     "981160c1f3b6408682e12acb81969ca8": {
      "model_module": "@jupyter-widgets/controls",
      "model_module_version": "1.5.0",
      "model_name": "ProgressStyleModel",
      "state": {
       "description_width": "initial"
      }
     },
     "98a8e5d71d4b41efa667bb6418479602": {
      "model_module": "@jupyter-widgets/base",
      "model_module_version": "1.2.0",
      "model_name": "LayoutModel",
      "state": {}
     },
     "98cd98183baf40c8856fc437a15e9ba8": {
      "model_module": "@jupyter-widgets/base",
      "model_module_version": "1.2.0",
      "model_name": "LayoutModel",
      "state": {}
     },
     "98d3bb0ae71e40eba4f104691711a289": {
      "model_module": "@jupyter-widgets/controls",
      "model_module_version": "1.5.0",
      "model_name": "DescriptionStyleModel",
      "state": {
       "description_width": ""
      }
     },
     "98e399035fe449fab606efc2a59567b6": {
      "model_module": "@jupyter-widgets/controls",
      "model_module_version": "1.5.0",
      "model_name": "HTMLModel",
      "state": {
       "layout": "IPY_MODEL_135833c8464b49ae877e0208f8c55e62",
       "style": "IPY_MODEL_e21fec8aa303463d87a962e5b5641f94",
       "value": " 200/200 [10:13&lt;00:00,  3.07s/it]"
      }
     },
     "98f0eadfec69425a91f44ec5bb47f506": {
      "model_module": "@jupyter-widgets/controls",
      "model_module_version": "1.5.0",
      "model_name": "HBoxModel",
      "state": {
       "children": [
        "IPY_MODEL_9d1dcb3770fa467398c727e173e8c28d",
        "IPY_MODEL_59a272a47bd34259be60a6806b89d970"
       ],
       "layout": "IPY_MODEL_16edad4e52c74aceb3a85aeef2744a2a"
      }
     },
     "9917228c6a394ab1b246093784bf3a3b": {
      "model_module": "@jupyter-widgets/controls",
      "model_module_version": "1.5.0",
      "model_name": "HBoxModel",
      "state": {
       "children": [
        "IPY_MODEL_ad8054dcc0e740bb9eec1e4344022bb7",
        "IPY_MODEL_81cb1baae9894ce6a56b298f7c71e977"
       ],
       "layout": "IPY_MODEL_9ed6853eb56246b7993818b24292906d"
      }
     },
     "994255d0708c458aa8f187142ddcc72e": {
      "model_module": "@jupyter-widgets/controls",
      "model_module_version": "1.5.0",
      "model_name": "DescriptionStyleModel",
      "state": {
       "description_width": ""
      }
     },
     "99cd373fb29c4a38ad9732e3e1247604": {
      "model_module": "@jupyter-widgets/base",
      "model_module_version": "1.2.0",
      "model_name": "LayoutModel",
      "state": {}
     },
     "9a0c7e4821374483b19e0a63d3998a79": {
      "model_module": "@jupyter-widgets/base",
      "model_module_version": "1.2.0",
      "model_name": "LayoutModel",
      "state": {}
     },
     "9a0d37bd76424d60950fcb7df5ea1207": {
      "model_module": "@jupyter-widgets/controls",
      "model_module_version": "1.5.0",
      "model_name": "FloatProgressModel",
      "state": {
       "bar_style": "success",
       "description": "44200: 100%",
       "layout": "IPY_MODEL_29e88151d6404102943e9e8ed7639276",
       "max": 200,
       "style": "IPY_MODEL_9abb88136b16421e852d62d44a631c76",
       "value": 200
      }
     },
     "9a5b921152f14910a549c823fe606341": {
      "model_module": "@jupyter-widgets/controls",
      "model_module_version": "1.5.0",
      "model_name": "HBoxModel",
      "state": {
       "children": [
        "IPY_MODEL_9206f88ce3d3410093f28c404ae133bb",
        "IPY_MODEL_321a6b29b1394c889385cfc66f9e0c9b"
       ],
       "layout": "IPY_MODEL_aa762aaff5bf4e48b452f7d580ca3c08"
      }
     },
     "9a75e7579bc44c99925837099861dcf9": {
      "model_module": "@jupyter-widgets/base",
      "model_module_version": "1.2.0",
      "model_name": "LayoutModel",
      "state": {}
     },
     "9abb88136b16421e852d62d44a631c76": {
      "model_module": "@jupyter-widgets/controls",
      "model_module_version": "1.5.0",
      "model_name": "ProgressStyleModel",
      "state": {
       "description_width": "initial"
      }
     },
     "9ae6ef81f8a24aea97a8d62d5ef446f3": {
      "model_module": "@jupyter-widgets/controls",
      "model_module_version": "1.5.0",
      "model_name": "DescriptionStyleModel",
      "state": {
       "description_width": ""
      }
     },
     "9b2067e1e3c44ee88a96a59f663f5661": {
      "model_module": "@jupyter-widgets/base",
      "model_module_version": "1.2.0",
      "model_name": "LayoutModel",
      "state": {}
     },
     "9beda92b9cb743c7bb8c732e15c12ba2": {
      "model_module": "@jupyter-widgets/base",
      "model_module_version": "1.2.0",
      "model_name": "LayoutModel",
      "state": {}
     },
     "9bf6cf876b404f52897adbfa2086caec": {
      "model_module": "@jupyter-widgets/controls",
      "model_module_version": "1.5.0",
      "model_name": "DescriptionStyleModel",
      "state": {
       "description_width": ""
      }
     },
     "9c07a6f07c904672a883dc54a933ac14": {
      "model_module": "@jupyter-widgets/controls",
      "model_module_version": "1.5.0",
      "model_name": "DescriptionStyleModel",
      "state": {
       "description_width": ""
      }
     },
     "9c162ab9e6f44f809917fc1be30ca72d": {
      "model_module": "@jupyter-widgets/base",
      "model_module_version": "1.2.0",
      "model_name": "LayoutModel",
      "state": {}
     },
     "9c30f38e2d6f4f02918736eac0bdf827": {
      "model_module": "@jupyter-widgets/controls",
      "model_module_version": "1.5.0",
      "model_name": "FloatProgressModel",
      "state": {
       "bar_style": "success",
       "description": "28200: 100%",
       "layout": "IPY_MODEL_ed5a502243d4451b8662a822bd6e54c1",
       "max": 200,
       "style": "IPY_MODEL_3a3ed1112fa143389cf861ef481f652d",
       "value": 200
      }
     },
     "9c6b369b777542baa826ba2ec7022b8c": {
      "model_module": "@jupyter-widgets/controls",
      "model_module_version": "1.5.0",
      "model_name": "ProgressStyleModel",
      "state": {
       "description_width": "initial"
      }
     },
     "9d1dcb3770fa467398c727e173e8c28d": {
      "model_module": "@jupyter-widgets/controls",
      "model_module_version": "1.5.0",
      "model_name": "FloatProgressModel",
      "state": {
       "bar_style": "success",
       "description": "28000: 100%",
       "layout": "IPY_MODEL_89dccd1e451a4e638d772ac6bb32ad95",
       "max": 200,
       "style": "IPY_MODEL_b9f66dd09cb5432a8995cbe4547ec685",
       "value": 200
      }
     },
     "9d1ff67c7f6145358e37ef9cb2c9207d": {
      "model_module": "@jupyter-widgets/controls",
      "model_module_version": "1.5.0",
      "model_name": "FloatProgressModel",
      "state": {
       "bar_style": "success",
       "description": "30000: 100%",
       "layout": "IPY_MODEL_291665a3edb04f63abccb8d976f2d14d",
       "max": 200,
       "style": "IPY_MODEL_c8970a78ab9a45e3a3e5737349816c38",
       "value": 200
      }
     },
     "9d5aca0ac8f3424086f7d4c2034a0c9c": {
      "model_module": "@jupyter-widgets/controls",
      "model_module_version": "1.5.0",
      "model_name": "ProgressStyleModel",
      "state": {
       "description_width": "initial"
      }
     },
     "9d64015222c449a8b34083e61f004274": {
      "model_module": "@jupyter-widgets/controls",
      "model_module_version": "1.5.0",
      "model_name": "HBoxModel",
      "state": {
       "children": [
        "IPY_MODEL_9d1ff67c7f6145358e37ef9cb2c9207d",
        "IPY_MODEL_05936c0f88704eb7845148b2b6ead2d9"
       ],
       "layout": "IPY_MODEL_9b2067e1e3c44ee88a96a59f663f5661"
      }
     },
     "9d82428f40844a4ba2bfbdf8e0d1fb99": {
      "model_module": "@jupyter-widgets/base",
      "model_module_version": "1.2.0",
      "model_name": "LayoutModel",
      "state": {}
     },
     "9d9152ca0e0e47f78a82114b9442c4e8": {
      "model_module": "@jupyter-widgets/controls",
      "model_module_version": "1.5.0",
      "model_name": "ProgressStyleModel",
      "state": {
       "description_width": "initial"
      }
     },
     "9da0e02bcc7b46799478fb42917c8e84": {
      "model_module": "@jupyter-widgets/controls",
      "model_module_version": "1.5.0",
      "model_name": "FloatProgressModel",
      "state": {
       "bar_style": "success",
       "description": "44800: 100%",
       "layout": "IPY_MODEL_8556a3f124264235a5d820a42b1e4dab",
       "max": 200,
       "style": "IPY_MODEL_6eae8e090ca24265a52c15c40f209c4d",
       "value": 200
      }
     },
     "9dbb6245611e488cb5f09a47414bc684": {
      "model_module": "@jupyter-widgets/base",
      "model_module_version": "1.2.0",
      "model_name": "LayoutModel",
      "state": {}
     },
     "9e0659b4e0214448997f9c7256b4bfcf": {
      "model_module": "@jupyter-widgets/controls",
      "model_module_version": "1.5.0",
      "model_name": "ProgressStyleModel",
      "state": {
       "description_width": "initial"
      }
     },
     "9e17339fdbde4f5e9220a3f00c42a844": {
      "model_module": "@jupyter-widgets/controls",
      "model_module_version": "1.5.0",
      "model_name": "HTMLModel",
      "state": {
       "layout": "IPY_MODEL_74dc3211fe2a462cb5b1752783810bf3",
       "style": "IPY_MODEL_0c045b3604864dd592a543b49c467d84",
       "value": " 50000/50000 [8:22:07&lt;00:00,  1.66it/s]"
      }
     },
     "9eab2673b4be4dde8139da69381b678c": {
      "model_module": "@jupyter-widgets/controls",
      "model_module_version": "1.5.0",
      "model_name": "HTMLModel",
      "state": {
       "layout": "IPY_MODEL_a1206f1685384679b6c19cc2d882c0ae",
       "style": "IPY_MODEL_1969f78cc6484e2f8238a71164823c6e",
       "value": " 200/200 [20:36&lt;00:00,  6.18s/it]"
      }
     },
     "9ebb9a69776f4dceb065466f4fdfc78e": {
      "model_module": "@jupyter-widgets/controls",
      "model_module_version": "1.5.0",
      "model_name": "FloatProgressModel",
      "state": {
       "bar_style": "success",
       "description": "22000: 100%",
       "layout": "IPY_MODEL_027a6f6dee024848911cc6cf267aa3ec",
       "max": 200,
       "style": "IPY_MODEL_4538dc4961dd49538b66500aabfe67ef",
       "value": 200
      }
     },
     "9ed6853eb56246b7993818b24292906d": {
      "model_module": "@jupyter-widgets/base",
      "model_module_version": "1.2.0",
      "model_name": "LayoutModel",
      "state": {}
     },
     "9eed429e5b524036a3613a67b9186e8c": {
      "model_module": "@jupyter-widgets/controls",
      "model_module_version": "1.5.0",
      "model_name": "FloatProgressModel",
      "state": {
       "bar_style": "success",
       "description": "49800: 100%",
       "layout": "IPY_MODEL_4b78f9a2eb6a435f9bdcc12c96a50872",
       "max": 200,
       "style": "IPY_MODEL_0bc4829a22cf4815927e4736ec23ac80",
       "value": 200
      }
     },
     "9fbea128bc524c91ac57dfe2da47d41b": {
      "model_module": "@jupyter-widgets/controls",
      "model_module_version": "1.5.0",
      "model_name": "HTMLModel",
      "state": {
       "layout": "IPY_MODEL_b539944f323a4c14a90ab315b6d17a29",
       "style": "IPY_MODEL_017eded1232e4a0ca639227e3e095256",
       "value": " 200/200 [09:57&lt;00:00,  2.99s/it]"
      }
     },
     "a02767f74b8b4cffbe58d37c47b90ae0": {
      "model_module": "@jupyter-widgets/controls",
      "model_module_version": "1.5.0",
      "model_name": "DescriptionStyleModel",
      "state": {
       "description_width": ""
      }
     },
     "a04c0ad9ab9c400cbe75ac828272c263": {
      "model_module": "@jupyter-widgets/base",
      "model_module_version": "1.2.0",
      "model_name": "LayoutModel",
      "state": {}
     },
     "a05cd13157eb47d5b98b768999eb8d2d": {
      "model_module": "@jupyter-widgets/controls",
      "model_module_version": "1.5.0",
      "model_name": "ProgressStyleModel",
      "state": {
       "description_width": "initial"
      }
     },
     "a07793ca63fe49d585933c5656cd3df7": {
      "model_module": "@jupyter-widgets/controls",
      "model_module_version": "1.5.0",
      "model_name": "HBoxModel",
      "state": {
       "children": [
        "IPY_MODEL_6882f1262d584518a96c3645002d2424",
        "IPY_MODEL_a88dff5ad9c64d038880db6f5965d7ee"
       ],
       "layout": "IPY_MODEL_76004b883e3d4de0b8faead858b00225"
      }
     },
     "a1206f1685384679b6c19cc2d882c0ae": {
      "model_module": "@jupyter-widgets/base",
      "model_module_version": "1.2.0",
      "model_name": "LayoutModel",
      "state": {}
     },
     "a12e6acee4514405970ec817633e44ac": {
      "model_module": "@jupyter-widgets/base",
      "model_module_version": "1.2.0",
      "model_name": "LayoutModel",
      "state": {}
     },
     "a2362314c542401e99b6d59db10635fe": {
      "model_module": "@jupyter-widgets/controls",
      "model_module_version": "1.5.0",
      "model_name": "FloatProgressModel",
      "state": {
       "bar_style": "success",
       "description": "29600: 100%",
       "layout": "IPY_MODEL_e6f86e655c754ac687a78529a67c2fd7",
       "max": 200,
       "style": "IPY_MODEL_8739e8a42aff4e569c4fd5829ef4552c",
       "value": 200
      }
     },
     "a263efd489bd4b3e97e50b6b375be5fb": {
      "model_module": "@jupyter-widgets/controls",
      "model_module_version": "1.5.0",
      "model_name": "HTMLModel",
      "state": {
       "layout": "IPY_MODEL_91d91466ebb0471788f65caea71a513c",
       "style": "IPY_MODEL_9c07a6f07c904672a883dc54a933ac14",
       "value": " 200/200 [10:35&lt;00:00,  3.18s/it]"
      }
     },
     "a2e7a6dc16d846cbb604394c567a0c9b": {
      "model_module": "@jupyter-widgets/controls",
      "model_module_version": "1.5.0",
      "model_name": "DescriptionStyleModel",
      "state": {
       "description_width": ""
      }
     },
     "a2ec500567df4c6fa3c9bb70a4115a8d": {
      "model_module": "@jupyter-widgets/base",
      "model_module_version": "1.2.0",
      "model_name": "LayoutModel",
      "state": {}
     },
     "a37adb3dcaad4aa9be377016b9e343ea": {
      "model_module": "@jupyter-widgets/controls",
      "model_module_version": "1.5.0",
      "model_name": "HBoxModel",
      "state": {
       "children": [
        "IPY_MODEL_0c5d22ac3ac6421994e84be4c2ac6dee",
        "IPY_MODEL_7505f5a3016a4daba6b93d3765c65a40"
       ],
       "layout": "IPY_MODEL_3cee1fe321284f419ca3ed209ba8771a"
      }
     },
     "a387e8d6ffad453086a0cb5e807d0862": {
      "model_module": "@jupyter-widgets/base",
      "model_module_version": "1.2.0",
      "model_name": "LayoutModel",
      "state": {}
     },
     "a38cf45d303c406ba4a550f39bec7f1d": {
      "model_module": "@jupyter-widgets/controls",
      "model_module_version": "1.5.0",
      "model_name": "HTMLModel",
      "state": {
       "layout": "IPY_MODEL_02cd40b1d5794da5ac5b077523e5ae8c",
       "style": "IPY_MODEL_bef1b5c658ec4277b11c314fcf082cd8",
       "value": " 200/200 [10:29&lt;00:00,  3.15s/it]"
      }
     },
     "a3d268cf857a4d10ba3b83e200b2fd9e": {
      "model_module": "@jupyter-widgets/controls",
      "model_module_version": "1.5.0",
      "model_name": "FloatProgressModel",
      "state": {
       "bar_style": "success",
       "description": "29200: 100%",
       "layout": "IPY_MODEL_2159c6f31a0740b9acaea0aea49eb858",
       "max": 200,
       "style": "IPY_MODEL_f773f0386d6c423fa9320021a9b541f5",
       "value": 200
      }
     },
     "a3de7da5882049d2b4647fc95d99381e": {
      "model_module": "@jupyter-widgets/controls",
      "model_module_version": "1.5.0",
      "model_name": "HTMLModel",
      "state": {
       "layout": "IPY_MODEL_420d10a219514993bf61b39c61efd5ca",
       "style": "IPY_MODEL_474793a6900445028356d4dc7be783fc",
       "value": " 200/200 [20:36&lt;00:00,  6.18s/it]"
      }
     },
     "a4b3b414da21492683c1ba69dd95e9dc": {
      "model_module": "@jupyter-widgets/controls",
      "model_module_version": "1.5.0",
      "model_name": "FloatProgressModel",
      "state": {
       "bar_style": "success",
       "description": "43200: 100%",
       "layout": "IPY_MODEL_f5b9ad7ab1af4756926d535305d185b4",
       "max": 200,
       "style": "IPY_MODEL_5d0ba8bc870b4b87863121adcc1892e4",
       "value": 200
      }
     },
     "a54d54839fff4c13a47643315f0fb220": {
      "model_module": "@jupyter-widgets/controls",
      "model_module_version": "1.5.0",
      "model_name": "ProgressStyleModel",
      "state": {
       "description_width": "initial"
      }
     },
     "a58e62dc44ce479aa67e44b217008edf": {
      "model_module": "@jupyter-widgets/base",
      "model_module_version": "1.2.0",
      "model_name": "LayoutModel",
      "state": {}
     },
     "a5b825b6d66749699fa4f3b5f34febf1": {
      "model_module": "@jupyter-widgets/base",
      "model_module_version": "1.2.0",
      "model_name": "LayoutModel",
      "state": {}
     },
     "a5cf20354e804130a6d55f00c262b6c9": {
      "model_module": "@jupyter-widgets/base",
      "model_module_version": "1.2.0",
      "model_name": "LayoutModel",
      "state": {}
     },
     "a62a64da680844da8ad8582dae19b42e": {
      "model_module": "@jupyter-widgets/controls",
      "model_module_version": "1.5.0",
      "model_name": "FloatProgressModel",
      "state": {
       "bar_style": "success",
       "description": "27600: 100%",
       "layout": "IPY_MODEL_b19a001aabce4d0eab92795d83bb059f",
       "max": 200,
       "style": "IPY_MODEL_6c466565d4604b649a6b3cc6739089cc",
       "value": 200
      }
     },
     "a672139c14a24180b69186a261297532": {
      "model_module": "@jupyter-widgets/controls",
      "model_module_version": "1.5.0",
      "model_name": "HBoxModel",
      "state": {
       "children": [
        "IPY_MODEL_ced6c9f07fd04549a1d91879bc4a1e49",
        "IPY_MODEL_40fbe1d1e8a2477a904d351f12ee8beb"
       ],
       "layout": "IPY_MODEL_e6e48fb3d5ba451197c5be456cda04fa"
      }
     },
     "a67d055893614eb4822d26e935a0b057": {
      "model_module": "@jupyter-widgets/base",
      "model_module_version": "1.2.0",
      "model_name": "LayoutModel",
      "state": {}
     },
     "a6a71912b0374a16ae128adf65ae47cb": {
      "model_module": "@jupyter-widgets/base",
      "model_module_version": "1.2.0",
      "model_name": "LayoutModel",
      "state": {}
     },
     "a6bc56cd90534af7946e1bc8bbeebe7a": {
      "model_module": "@jupyter-widgets/controls",
      "model_module_version": "1.5.0",
      "model_name": "FloatProgressModel",
      "state": {
       "bar_style": "success",
       "description": "27800: 100%",
       "layout": "IPY_MODEL_3b0dec0a027f4fb485b5d7ad77d70f83",
       "max": 200,
       "style": "IPY_MODEL_f2ce634690e94dcf8d8a8a4b3199af32",
       "value": 200
      }
     },
     "a6c6290b111946c598e1e434582979ed": {
      "model_module": "@jupyter-widgets/controls",
      "model_module_version": "1.5.0",
      "model_name": "DescriptionStyleModel",
      "state": {
       "description_width": ""
      }
     },
     "a712e5b0b1d348e3b21eb0d61ca84a4a": {
      "model_module": "@jupyter-widgets/base",
      "model_module_version": "1.2.0",
      "model_name": "LayoutModel",
      "state": {}
     },
     "a7d9a56c2b2b4fc694293fd1a9180539": {
      "model_module": "@jupyter-widgets/controls",
      "model_module_version": "1.5.0",
      "model_name": "HTMLModel",
      "state": {
       "layout": "IPY_MODEL_749d4af0c92046ca949853133c066ea8",
       "style": "IPY_MODEL_9ae6ef81f8a24aea97a8d62d5ef446f3",
       "value": " 200/200 [19:40&lt;00:00,  5.90s/it]"
      }
     },
     "a7f3dde1d17d4b1bae31c44f70357230": {
      "model_module": "@jupyter-widgets/base",
      "model_module_version": "1.2.0",
      "model_name": "LayoutModel",
      "state": {}
     },
     "a82ca8bd93794784ba08b13bfd1ca743": {
      "model_module": "@jupyter-widgets/controls",
      "model_module_version": "1.5.0",
      "model_name": "HBoxModel",
      "state": {
       "children": [
        "IPY_MODEL_31ef7a9ea8db46858355b0608eac490a",
        "IPY_MODEL_7886b41eef124663be10c9eb619b2a9a"
       ],
       "layout": "IPY_MODEL_83a28b140cd0409fbfbdbb01c15d9325"
      }
     },
     "a88dff5ad9c64d038880db6f5965d7ee": {
      "model_module": "@jupyter-widgets/controls",
      "model_module_version": "1.5.0",
      "model_name": "HTMLModel",
      "state": {
       "layout": "IPY_MODEL_aaf956e9de104445a6d1014f192acd1d",
       "style": "IPY_MODEL_69094fc8ac654730a59917d437145fc1",
       "value": " 200/200 [08:31&lt;00:00,  2.56s/it]"
      }
     },
     "a8d2a60bff0046908322c35b500f0c0b": {
      "model_module": "@jupyter-widgets/controls",
      "model_module_version": "1.5.0",
      "model_name": "HBoxModel",
      "state": {
       "children": [
        "IPY_MODEL_76ccd6b1acca49eead8f9ddb59e9e78c",
        "IPY_MODEL_ec2015278f9d43ba87faee6c4d3b90cb"
       ],
       "layout": "IPY_MODEL_856d6e134f3447728edab6d13baaba1c"
      }
     },
     "a954ade38a214323947019cf59a78103": {
      "model_module": "@jupyter-widgets/base",
      "model_module_version": "1.2.0",
      "model_name": "LayoutModel",
      "state": {}
     },
     "a95a9d4a873b44859122d7fafb5c80a0": {
      "model_module": "@jupyter-widgets/base",
      "model_module_version": "1.2.0",
      "model_name": "LayoutModel",
      "state": {}
     },
     "a98210f43a6f44ae9fde5881038a4c78": {
      "model_module": "@jupyter-widgets/base",
      "model_module_version": "1.2.0",
      "model_name": "LayoutModel",
      "state": {}
     },
     "a98c99aeb92f4f34b703a2ea785e42ca": {
      "model_module": "@jupyter-widgets/controls",
      "model_module_version": "1.5.0",
      "model_name": "FloatProgressModel",
      "state": {
       "bar_style": "success",
       "description": "21600: 100%",
       "layout": "IPY_MODEL_38b454be05904caaa3cbffd94abfb287",
       "max": 200,
       "style": "IPY_MODEL_4f6698b71b5548c7ab7cbbcb5746e2bb",
       "value": 200
      }
     },
     "a9e3fc35b3414561a143b3ca9be95563": {
      "model_module": "@jupyter-widgets/base",
      "model_module_version": "1.2.0",
      "model_name": "LayoutModel",
      "state": {}
     },
     "aa008fb212974372bcff6037835093f7": {
      "model_module": "@jupyter-widgets/base",
      "model_module_version": "1.2.0",
      "model_name": "LayoutModel",
      "state": {}
     },
     "aa762aaff5bf4e48b452f7d580ca3c08": {
      "model_module": "@jupyter-widgets/base",
      "model_module_version": "1.2.0",
      "model_name": "LayoutModel",
      "state": {}
     },
     "aaf956e9de104445a6d1014f192acd1d": {
      "model_module": "@jupyter-widgets/base",
      "model_module_version": "1.2.0",
      "model_name": "LayoutModel",
      "state": {}
     },
     "ab093daca32043c889da6ed872d78d7b": {
      "model_module": "@jupyter-widgets/controls",
      "model_module_version": "1.5.0",
      "model_name": "HTMLModel",
      "state": {
       "layout": "IPY_MODEL_c07b1119d3c542f09863f485fc291c1d",
       "style": "IPY_MODEL_54389974475c46ab8a4f1ca30e1e0572",
       "value": " 200/200 [10:18&lt;00:00,  3.09s/it]"
      }
     },
     "ab213391f2dd4ac79883d1a66cfbf197": {
      "model_module": "@jupyter-widgets/base",
      "model_module_version": "1.2.0",
      "model_name": "LayoutModel",
      "state": {}
     },
     "ac65cbe9dffe4c3286498b299baf62e7": {
      "model_module": "@jupyter-widgets/controls",
      "model_module_version": "1.5.0",
      "model_name": "DescriptionStyleModel",
      "state": {
       "description_width": ""
      }
     },
     "ac74a43b638647b281e6529e51081575": {
      "model_module": "@jupyter-widgets/controls",
      "model_module_version": "1.5.0",
      "model_name": "ProgressStyleModel",
      "state": {
       "description_width": "initial"
      }
     },
     "ac8213f5803c42f0989ccc60f6d181ba": {
      "model_module": "@jupyter-widgets/controls",
      "model_module_version": "1.5.0",
      "model_name": "HTMLModel",
      "state": {
       "layout": "IPY_MODEL_3d96e703169b479cb819d2a2eae68adf",
       "style": "IPY_MODEL_3be343715f0c4484b085254ad9fadada",
       "value": " 200/200 [09:43&lt;00:00,  2.92s/it]"
      }
     },
     "aca2b6fb71694d80be4d8b6cf4deeeed": {
      "model_module": "@jupyter-widgets/base",
      "model_module_version": "1.2.0",
      "model_name": "LayoutModel",
      "state": {}
     },
     "acf661c1659d49e48cf3b609cb999edd": {
      "model_module": "@jupyter-widgets/base",
      "model_module_version": "1.2.0",
      "model_name": "LayoutModel",
      "state": {}
     },
     "ad34326b5664474b984ab608930e1c35": {
      "model_module": "@jupyter-widgets/controls",
      "model_module_version": "1.5.0",
      "model_name": "HTMLModel",
      "state": {
       "layout": "IPY_MODEL_bde7530d2438428c926f6fe4ba3927ea",
       "style": "IPY_MODEL_de9afab408c34621b417fc710dddbb4f",
       "value": " 200/200 [20:07&lt;00:00,  6.04s/it]"
      }
     },
     "ad6b33663bfd4b46b2e86e533ae384ff": {
      "model_module": "@jupyter-widgets/controls",
      "model_module_version": "1.5.0",
      "model_name": "HTMLModel",
      "state": {
       "layout": "IPY_MODEL_dfc8c5022d084a0e85d4b02381c98623",
       "style": "IPY_MODEL_00ce34db032d474195aaef0783194f69",
       "value": " 200/200 [18:27&lt;00:00,  5.54s/it]"
      }
     },
     "ad8054dcc0e740bb9eec1e4344022bb7": {
      "model_module": "@jupyter-widgets/controls",
      "model_module_version": "1.5.0",
      "model_name": "FloatProgressModel",
      "state": {
       "bar_style": "success",
       "description": "47600: 100%",
       "layout": "IPY_MODEL_0408787d62a5460ea3d5b530064d4fd1",
       "max": 200,
       "style": "IPY_MODEL_26ebaa6511ff4a2f9b2855e1682f6aed",
       "value": 200
      }
     },
     "ade4aa3b12134213b01ba57348ce88e0": {
      "model_module": "@jupyter-widgets/controls",
      "model_module_version": "1.5.0",
      "model_name": "HBoxModel",
      "state": {
       "children": [
        "IPY_MODEL_5e7c7c28dfe546b4926ab778887478a1",
        "IPY_MODEL_58da6e297ba74f3fa4c57073a13202bc"
       ],
       "layout": "IPY_MODEL_3db4511db0234c6b89d94bdd0e190b52"
      }
     },
     "adf19b219552484094e61f9312cf1679": {
      "model_module": "@jupyter-widgets/controls",
      "model_module_version": "1.5.0",
      "model_name": "HBoxModel",
      "state": {
       "children": [
        "IPY_MODEL_2ed5d1b2de814b0889f20e1207f9a020",
        "IPY_MODEL_3f3a1de1e5bf4a02913218fa2a7ec2f0"
       ],
       "layout": "IPY_MODEL_ea1dba922d5948658a6b57d3164f1bcb"
      }
     },
     "ae61df2f2eb645fa9d9ebb8f6d98fba1": {
      "model_module": "@jupyter-widgets/base",
      "model_module_version": "1.2.0",
      "model_name": "LayoutModel",
      "state": {}
     },
     "ae74ba07c0044cf58e7a029984bc60b5": {
      "model_module": "@jupyter-widgets/base",
      "model_module_version": "1.2.0",
      "model_name": "LayoutModel",
      "state": {}
     },
     "aea280eabe064979bf8f8fc865d6d004": {
      "model_module": "@jupyter-widgets/controls",
      "model_module_version": "1.5.0",
      "model_name": "HBoxModel",
      "state": {
       "children": [
        "IPY_MODEL_9ebb9a69776f4dceb065466f4fdfc78e",
        "IPY_MODEL_940b828c9a1548da877555974d81280a"
       ],
       "layout": "IPY_MODEL_5bf7c9d616714e9f9ac4fe40ea4d02f9"
      }
     },
     "aeeb47f3f0d4471e8bd51b212a87a55c": {
      "model_module": "@jupyter-widgets/controls",
      "model_module_version": "1.5.0",
      "model_name": "ProgressStyleModel",
      "state": {
       "description_width": "initial"
      }
     },
     "aefbc333fd024c2b9bc2f73fb2547038": {
      "model_module": "@jupyter-widgets/controls",
      "model_module_version": "1.5.0",
      "model_name": "DescriptionStyleModel",
      "state": {
       "description_width": ""
      }
     },
     "af394c916a364e998fb2de579b4df2d3": {
      "model_module": "@jupyter-widgets/base",
      "model_module_version": "1.2.0",
      "model_name": "LayoutModel",
      "state": {}
     },
     "af4a6c990fc74f378a905ee42d73bb33": {
      "model_module": "@jupyter-widgets/base",
      "model_module_version": "1.2.0",
      "model_name": "LayoutModel",
      "state": {}
     },
     "af895370a70642afaacfc45d0eaec54d": {
      "model_module": "@jupyter-widgets/controls",
      "model_module_version": "1.5.0",
      "model_name": "ProgressStyleModel",
      "state": {
       "description_width": "initial"
      }
     },
     "aff786fab7174d94b2cfd868c4dbaa5a": {
      "model_module": "@jupyter-widgets/base",
      "model_module_version": "1.2.0",
      "model_name": "LayoutModel",
      "state": {}
     },
     "b068ef22ace74f968ed4c6e3fcc3ee48": {
      "model_module": "@jupyter-widgets/base",
      "model_module_version": "1.2.0",
      "model_name": "LayoutModel",
      "state": {}
     },
     "b06bba45cd6540aaa0023e9eb5aa4dac": {
      "model_module": "@jupyter-widgets/controls",
      "model_module_version": "1.5.0",
      "model_name": "HTMLModel",
      "state": {
       "layout": "IPY_MODEL_3cd41314c6b248d6b48e3da1f99f4761",
       "style": "IPY_MODEL_168d03d6f326434baa670a307936fae6",
       "value": " 200/200 [06:35&lt;00:00,  1.98s/it]"
      }
     },
     "b0e672314b154ed9a23420805b62e0d3": {
      "model_module": "@jupyter-widgets/controls",
      "model_module_version": "1.5.0",
      "model_name": "DescriptionStyleModel",
      "state": {
       "description_width": ""
      }
     },
     "b12b6906a4bf45c990cea29c9b348141": {
      "model_module": "@jupyter-widgets/controls",
      "model_module_version": "1.5.0",
      "model_name": "ProgressStyleModel",
      "state": {
       "description_width": "initial"
      }
     },
     "b181445a42a943fa9bc10cb4cb6efb85": {
      "model_module": "@jupyter-widgets/controls",
      "model_module_version": "1.5.0",
      "model_name": "DescriptionStyleModel",
      "state": {
       "description_width": ""
      }
     },
     "b19a001aabce4d0eab92795d83bb059f": {
      "model_module": "@jupyter-widgets/base",
      "model_module_version": "1.2.0",
      "model_name": "LayoutModel",
      "state": {}
     },
     "b2db5d069f48409aa0306494ca2b87da": {
      "model_module": "@jupyter-widgets/controls",
      "model_module_version": "1.5.0",
      "model_name": "HTMLModel",
      "state": {
       "layout": "IPY_MODEL_18ee7ce1254b49d7816fd20da8a0e324",
       "style": "IPY_MODEL_4943ef94bf5c4774908da3e3c34d411d",
       "value": " 200/200 [05:04&lt;00:00,  1.52s/it]"
      }
     },
     "b310067bd9c549e39df30d2b63f76f95": {
      "model_module": "@jupyter-widgets/base",
      "model_module_version": "1.2.0",
      "model_name": "LayoutModel",
      "state": {}
     },
     "b39b358876134d348e6b766efc329624": {
      "model_module": "@jupyter-widgets/controls",
      "model_module_version": "1.5.0",
      "model_name": "HTMLModel",
      "state": {
       "layout": "IPY_MODEL_8e44f08fa4f541dd856d500641fba2a8",
       "style": "IPY_MODEL_91cb9bc53d274d60907553581e901dbf",
       "value": " 200/200 [19:57&lt;00:00,  5.99s/it]"
      }
     },
     "b4cd17fba79f4df59c88fd78b83d06c0": {
      "model_module": "@jupyter-widgets/controls",
      "model_module_version": "1.5.0",
      "model_name": "HBoxModel",
      "state": {
       "children": [
        "IPY_MODEL_8177b737bea3444ebe9405803313137f",
        "IPY_MODEL_9eab2673b4be4dde8139da69381b678c"
       ],
       "layout": "IPY_MODEL_287fc2cd16304a9aa80b18981fd8bed4"
      }
     },
     "b4ef0ba5040643ffa0dae1590be1f3e5": {
      "model_module": "@jupyter-widgets/base",
      "model_module_version": "1.2.0",
      "model_name": "LayoutModel",
      "state": {}
     },
     "b539944f323a4c14a90ab315b6d17a29": {
      "model_module": "@jupyter-widgets/base",
      "model_module_version": "1.2.0",
      "model_name": "LayoutModel",
      "state": {}
     },
     "b57ec44a43484025971a081ad427bd2f": {
      "model_module": "@jupyter-widgets/base",
      "model_module_version": "1.2.0",
      "model_name": "LayoutModel",
      "state": {}
     },
     "b5ac09ee4e6f4c9bb24fd176a5d9083e": {
      "model_module": "@jupyter-widgets/base",
      "model_module_version": "1.2.0",
      "model_name": "LayoutModel",
      "state": {}
     },
     "b603fb50900f4421a20eda25bae4fdad": {
      "model_module": "@jupyter-widgets/controls",
      "model_module_version": "1.5.0",
      "model_name": "HBoxModel",
      "state": {
       "children": [
        "IPY_MODEL_248314463250407aaa8e5105ed6f141d",
        "IPY_MODEL_26b7a33c004c4fdaaecc8dd9dc6fb86f"
       ],
       "layout": "IPY_MODEL_fb60d1fbb93f4ec29d4bfe84bf75b086"
      }
     },
     "b63da8947ab04c5db807bc33819e5053": {
      "model_module": "@jupyter-widgets/base",
      "model_module_version": "1.2.0",
      "model_name": "LayoutModel",
      "state": {}
     },
     "b67be151d1f14cf8824f367fe391a55c": {
      "model_module": "@jupyter-widgets/base",
      "model_module_version": "1.2.0",
      "model_name": "LayoutModel",
      "state": {}
     },
     "b6db724353f34c4c999491c914d277f8": {
      "model_module": "@jupyter-widgets/base",
      "model_module_version": "1.2.0",
      "model_name": "LayoutModel",
      "state": {}
     },
     "b7d660852d844c26a0c87c4b50c428d8": {
      "model_module": "@jupyter-widgets/base",
      "model_module_version": "1.2.0",
      "model_name": "LayoutModel",
      "state": {}
     },
     "b86af5fc257a4ef3ad59097bb3b42af4": {
      "model_module": "@jupyter-widgets/controls",
      "model_module_version": "1.5.0",
      "model_name": "DescriptionStyleModel",
      "state": {
       "description_width": ""
      }
     },
     "b871fb978bd84fa7a154aad989fd6998": {
      "model_module": "@jupyter-widgets/base",
      "model_module_version": "1.2.0",
      "model_name": "LayoutModel",
      "state": {}
     },
     "b88b9c2b9f524113b115e13ef4d723ea": {
      "model_module": "@jupyter-widgets/controls",
      "model_module_version": "1.5.0",
      "model_name": "DescriptionStyleModel",
      "state": {
       "description_width": ""
      }
     },
     "b8ae016590db473e8b175b4431ea797f": {
      "model_module": "@jupyter-widgets/base",
      "model_module_version": "1.2.0",
      "model_name": "LayoutModel",
      "state": {}
     },
     "b8e0cd08c68c4158b6c2a4b98b71e668": {
      "model_module": "@jupyter-widgets/controls",
      "model_module_version": "1.5.0",
      "model_name": "FloatProgressModel",
      "state": {
       "bar_style": "success",
       "description": "22200: 100%",
       "layout": "IPY_MODEL_1fa03ee15de8447bb83f8177a561c0ae",
       "max": 200,
       "style": "IPY_MODEL_4cb0b1a259264916b2a9a08abbea4ea3",
       "value": 200
      }
     },
     "b98dc1b8a96a4c689ec7f63f127f1311": {
      "model_module": "@jupyter-widgets/controls",
      "model_module_version": "1.5.0",
      "model_name": "HTMLModel",
      "state": {
       "layout": "IPY_MODEL_60390db7e356429fa039b761c875e412",
       "style": "IPY_MODEL_8d29b6fc5c9d40e6b3372ca96a6c56e1",
       "value": " 200/200 [10:32&lt;00:00,  3.16s/it]"
      }
     },
     "b9f66dd09cb5432a8995cbe4547ec685": {
      "model_module": "@jupyter-widgets/controls",
      "model_module_version": "1.5.0",
      "model_name": "ProgressStyleModel",
      "state": {
       "description_width": "initial"
      }
     },
     "ba8d4cf79388495c8869b3ba3bd2d079": {
      "model_module": "@jupyter-widgets/controls",
      "model_module_version": "1.5.0",
      "model_name": "FloatProgressModel",
      "state": {
       "bar_style": "success",
       "description": "49000: 100%",
       "layout": "IPY_MODEL_3d3b84be6f5f408da4abe7b647be6603",
       "max": 200,
       "style": "IPY_MODEL_9125f788aa4c43188b727ad84fe2b13e",
       "value": 200
      }
     },
     "ba95e6166602465bbc0b0aa82dc7c6fb": {
      "model_module": "@jupyter-widgets/controls",
      "model_module_version": "1.5.0",
      "model_name": "FloatProgressModel",
      "state": {
       "bar_style": "success",
       "description": "23000: 100%",
       "layout": "IPY_MODEL_ed1cd5cdbf2c4c1ca49d08732646d502",
       "max": 200,
       "style": "IPY_MODEL_af895370a70642afaacfc45d0eaec54d",
       "value": 200
      }
     },
     "ba9be975f8cf422b9462f71b140e7655": {
      "model_module": "@jupyter-widgets/controls",
      "model_module_version": "1.5.0",
      "model_name": "FloatProgressModel",
      "state": {
       "bar_style": "success",
       "description": "42400: 100%",
       "layout": "IPY_MODEL_28ee69faa0d1452fbbb9aebaaf3cbede",
       "max": 200,
       "style": "IPY_MODEL_124e6fc460de45e3a57ae862c52821d3",
       "value": 200
      }
     },
     "baa37cde593447b588654702973eac87": {
      "model_module": "@jupyter-widgets/controls",
      "model_module_version": "1.5.0",
      "model_name": "ProgressStyleModel",
      "state": {
       "description_width": "initial"
      }
     },
     "bad4177451534773aa2cbe3c319796eb": {
      "model_module": "@jupyter-widgets/controls",
      "model_module_version": "1.5.0",
      "model_name": "HTMLModel",
      "state": {
       "layout": "IPY_MODEL_b7d660852d844c26a0c87c4b50c428d8",
       "style": "IPY_MODEL_890984a45121472d878b7612a19bd76c",
       "value": " 200/200 [10:40&lt;00:00,  3.20s/it]"
      }
     },
     "bbe14bfe664f451ab1ff0d073d7f5c2b": {
      "model_module": "@jupyter-widgets/controls",
      "model_module_version": "1.5.0",
      "model_name": "HTMLModel",
      "state": {
       "layout": "IPY_MODEL_645dec7332ef431598ae3afa37718a21",
       "style": "IPY_MODEL_741f6f967c154d2cbd888a87ebaf11ee",
       "value": " 200/200 [10:29&lt;00:00,  3.15s/it]"
      }
     },
     "bbf5d110509e46d781735782e18fd33a": {
      "model_module": "@jupyter-widgets/base",
      "model_module_version": "1.2.0",
      "model_name": "LayoutModel",
      "state": {}
     },
     "bc365af2bc584a26ace028690667307a": {
      "model_module": "@jupyter-widgets/base",
      "model_module_version": "1.2.0",
      "model_name": "LayoutModel",
      "state": {}
     },
     "bcd4032b97b842268558b57763170663": {
      "model_module": "@jupyter-widgets/controls",
      "model_module_version": "1.5.0",
      "model_name": "ProgressStyleModel",
      "state": {
       "description_width": "initial"
      }
     },
     "bd3bddac11e34f2490eead99dffaac95": {
      "model_module": "@jupyter-widgets/controls",
      "model_module_version": "1.5.0",
      "model_name": "ProgressStyleModel",
      "state": {
       "description_width": "initial"
      }
     },
     "bd3f360660414b908236cea687b6f7d8": {
      "model_module": "@jupyter-widgets/base",
      "model_module_version": "1.2.0",
      "model_name": "LayoutModel",
      "state": {}
     },
     "bdd1b9206c2c43a18e3af9199ba6a734": {
      "model_module": "@jupyter-widgets/controls",
      "model_module_version": "1.5.0",
      "model_name": "FloatProgressModel",
      "state": {
       "bar_style": "success",
       "description": "47400: 100%",
       "layout": "IPY_MODEL_d149b1305c1f4b76b272da2e106f4a7c",
       "max": 200,
       "style": "IPY_MODEL_79b88c9527fa4b1db2bc790a4b9d3afa",
       "value": 200
      }
     },
     "bde7530d2438428c926f6fe4ba3927ea": {
      "model_module": "@jupyter-widgets/base",
      "model_module_version": "1.2.0",
      "model_name": "LayoutModel",
      "state": {}
     },
     "be193a8fb94e4d029d373a5bd717e82e": {
      "model_module": "@jupyter-widgets/controls",
      "model_module_version": "1.5.0",
      "model_name": "FloatProgressModel",
      "state": {
       "bar_style": "success",
       "description": "25400: 100%",
       "layout": "IPY_MODEL_5361d9c27086440790be952a98cd8592",
       "max": 200,
       "style": "IPY_MODEL_7bd404a54174462f8a213b15ccc4e87b",
       "value": 200
      }
     },
     "be5b8bdb4b57464cb6a39e9fb6a26c85": {
      "model_module": "@jupyter-widgets/base",
      "model_module_version": "1.2.0",
      "model_name": "LayoutModel",
      "state": {}
     },
     "be8eecb17bfa40709872396316f188b2": {
      "model_module": "@jupyter-widgets/controls",
      "model_module_version": "1.5.0",
      "model_name": "DescriptionStyleModel",
      "state": {
       "description_width": ""
      }
     },
     "bef1b5c658ec4277b11c314fcf082cd8": {
      "model_module": "@jupyter-widgets/controls",
      "model_module_version": "1.5.0",
      "model_name": "DescriptionStyleModel",
      "state": {
       "description_width": ""
      }
     },
     "bf1337088c0e4e05a4889ae6b0d3583c": {
      "model_module": "@jupyter-widgets/base",
      "model_module_version": "1.2.0",
      "model_name": "LayoutModel",
      "state": {}
     },
     "bf5f33df9c6e4671be960fb5f008f336": {
      "model_module": "@jupyter-widgets/controls",
      "model_module_version": "1.5.0",
      "model_name": "HTMLModel",
      "state": {
       "layout": "IPY_MODEL_83353951bfd146d3ac7b81dad5775fc3",
       "style": "IPY_MODEL_30df9c4368be44c5bfba79780891ec64",
       "value": " 200/200 [20:20&lt;00:00,  6.10s/it]"
      }
     },
     "bf81fb55b5c24192a91eeb2aa622edd8": {
      "model_module": "@jupyter-widgets/base",
      "model_module_version": "1.2.0",
      "model_name": "LayoutModel",
      "state": {}
     },
     "bf9f3c081f4e437fae86ad1a98b1b618": {
      "model_module": "@jupyter-widgets/base",
      "model_module_version": "1.2.0",
      "model_name": "LayoutModel",
      "state": {}
     },
     "bff783f88c11459793e4d84cfae1a97e": {
      "model_module": "@jupyter-widgets/base",
      "model_module_version": "1.2.0",
      "model_name": "LayoutModel",
      "state": {}
     },
     "c024dbd6c44f48249f7496ade4562887": {
      "model_module": "@jupyter-widgets/base",
      "model_module_version": "1.2.0",
      "model_name": "LayoutModel",
      "state": {}
     },
     "c07b1119d3c542f09863f485fc291c1d": {
      "model_module": "@jupyter-widgets/base",
      "model_module_version": "1.2.0",
      "model_name": "LayoutModel",
      "state": {}
     },
     "c0bb22c3c04441838952606b2a3d6a3f": {
      "model_module": "@jupyter-widgets/controls",
      "model_module_version": "1.5.0",
      "model_name": "HBoxModel",
      "state": {
       "children": [
        "IPY_MODEL_3b4a7d04aa91427bad8ece63822ba5ba",
        "IPY_MODEL_1278c4fd478049efa4de50e3006e79e5"
       ],
       "layout": "IPY_MODEL_1f991de79f574fd4a4c108de3ee5bda8"
      }
     },
     "c0c75a8ed1f8433fb19e7e3eacfb45b5": {
      "model_module": "@jupyter-widgets/controls",
      "model_module_version": "1.5.0",
      "model_name": "FloatProgressModel",
      "state": {
       "bar_style": "success",
       "description": "27200: 100%",
       "layout": "IPY_MODEL_4afc16f89ae948229cd58dedb29855cb",
       "max": 200,
       "style": "IPY_MODEL_cc9e93a126dd426fb697c4bdfdb35420",
       "value": 200
      }
     },
     "c11b20046000454cbf115a3d050564f8": {
      "model_module": "@jupyter-widgets/controls",
      "model_module_version": "1.5.0",
      "model_name": "FloatProgressModel",
      "state": {
       "bar_style": "success",
       "description": "21200: 100%",
       "layout": "IPY_MODEL_6046a20fce2240209023ea9c7c4671ad",
       "max": 200,
       "style": "IPY_MODEL_4a5ed966e6224d55ac6832a63edfa8ca",
       "value": 200
      }
     },
     "c1d32519941a45a0b471463839e2963c": {
      "model_module": "@jupyter-widgets/controls",
      "model_module_version": "1.5.0",
      "model_name": "HTMLModel",
      "state": {
       "layout": "IPY_MODEL_7997d00f82a74dcc911d62c333f3071c",
       "style": "IPY_MODEL_c691b7b9228f4197a9285b87edd28030",
       "value": " 200/200 [10:17&lt;00:00,  3.09s/it]"
      }
     },
     "c2cca127cb8842b3b82cca9d1d45dfe4": {
      "model_module": "@jupyter-widgets/controls",
      "model_module_version": "1.5.0",
      "model_name": "HBoxModel",
      "state": {
       "children": [
        "IPY_MODEL_9a0d37bd76424d60950fcb7df5ea1207",
        "IPY_MODEL_8d1223ae5dae4b61a59daaeb531bbf20"
       ],
       "layout": "IPY_MODEL_a7f3dde1d17d4b1bae31c44f70357230"
      }
     },
     "c306fd3552f04828b287e5f5349b2aae": {
      "model_module": "@jupyter-widgets/base",
      "model_module_version": "1.2.0",
      "model_name": "LayoutModel",
      "state": {}
     },
     "c345b5060f4e4b578bd175b9c00eb917": {
      "model_module": "@jupyter-widgets/base",
      "model_module_version": "1.2.0",
      "model_name": "LayoutModel",
      "state": {}
     },
     "c353e48db61a4b94b916cdb107e25763": {
      "model_module": "@jupyter-widgets/controls",
      "model_module_version": "1.5.0",
      "model_name": "FloatProgressModel",
      "state": {
       "bar_style": "success",
       "description": "24200: 100%",
       "layout": "IPY_MODEL_9196b54fe1fe4af0821356e0ad43bf57",
       "max": 200,
       "style": "IPY_MODEL_cfe72b8f64954ca0b3423f069b7c537a",
       "value": 200
      }
     },
     "c40202508d3d481a8e561dc7d2ece358": {
      "model_module": "@jupyter-widgets/controls",
      "model_module_version": "1.5.0",
      "model_name": "ProgressStyleModel",
      "state": {
       "description_width": "initial"
      }
     },
     "c432c46d1c0e436fb9c60f5d3b5b281d": {
      "model_module": "@jupyter-widgets/base",
      "model_module_version": "1.2.0",
      "model_name": "LayoutModel",
      "state": {}
     },
     "c49532780c7b4f61bf1c462b8db066d9": {
      "model_module": "@jupyter-widgets/base",
      "model_module_version": "1.2.0",
      "model_name": "LayoutModel",
      "state": {}
     },
     "c4f97a5e877842ba9ae035ceaaef0a64": {
      "model_module": "@jupyter-widgets/controls",
      "model_module_version": "1.5.0",
      "model_name": "ProgressStyleModel",
      "state": {
       "description_width": "initial"
      }
     },
     "c538a6baa2444f0b8237802d59513b0c": {
      "model_module": "@jupyter-widgets/controls",
      "model_module_version": "1.5.0",
      "model_name": "ProgressStyleModel",
      "state": {
       "description_width": "initial"
      }
     },
     "c54687685eec414fb108e786c4f9d046": {
      "model_module": "@jupyter-widgets/base",
      "model_module_version": "1.2.0",
      "model_name": "LayoutModel",
      "state": {}
     },
     "c59f4c321b4a496890e98123dcddb25c": {
      "model_module": "@jupyter-widgets/base",
      "model_module_version": "1.2.0",
      "model_name": "LayoutModel",
      "state": {}
     },
     "c5e86442c7374dac9504a6b8dbf0a43e": {
      "model_module": "@jupyter-widgets/controls",
      "model_module_version": "1.5.0",
      "model_name": "ProgressStyleModel",
      "state": {
       "description_width": "initial"
      }
     },
     "c68378ff92364be6884de3eb4666f7d4": {
      "model_module": "@jupyter-widgets/controls",
      "model_module_version": "1.5.0",
      "model_name": "HTMLModel",
      "state": {
       "layout": "IPY_MODEL_1833e212c7744f1f86254e2262b9305b",
       "style": "IPY_MODEL_29c8d09ebfe548c1a07acd4920530a71",
       "value": " 200/200 [10:25&lt;00:00,  3.13s/it]"
      }
     },
     "c691b7b9228f4197a9285b87edd28030": {
      "model_module": "@jupyter-widgets/controls",
      "model_module_version": "1.5.0",
      "model_name": "DescriptionStyleModel",
      "state": {
       "description_width": ""
      }
     },
     "c69a96b56abd4e979d7f6126fac40e17": {
      "model_module": "@jupyter-widgets/controls",
      "model_module_version": "1.5.0",
      "model_name": "HBoxModel",
      "state": {
       "children": [
        "IPY_MODEL_4cd388cdda7143ae9d1bfcaa0ac327b4",
        "IPY_MODEL_25195eac9b39459d88cf53144a8ffc6a"
       ],
       "layout": "IPY_MODEL_bd3f360660414b908236cea687b6f7d8"
      }
     },
     "c8970a78ab9a45e3a3e5737349816c38": {
      "model_module": "@jupyter-widgets/controls",
      "model_module_version": "1.5.0",
      "model_name": "ProgressStyleModel",
      "state": {
       "description_width": "initial"
      }
     },
     "c8b1ba492d264a22aa7c77240413cd85": {
      "model_module": "@jupyter-widgets/controls",
      "model_module_version": "1.5.0",
      "model_name": "FloatProgressModel",
      "state": {
       "bar_style": "success",
       "description": "41000: 100%",
       "layout": "IPY_MODEL_c432c46d1c0e436fb9c60f5d3b5b281d",
       "max": 200,
       "style": "IPY_MODEL_baa37cde593447b588654702973eac87",
       "value": 200
      }
     },
     "c92960032f424565bb5b84ed1cd96eb7": {
      "model_module": "@jupyter-widgets/base",
      "model_module_version": "1.2.0",
      "model_name": "LayoutModel",
      "state": {}
     },
     "c9406284fe7b4de1b72903f1621eb4a5": {
      "model_module": "@jupyter-widgets/base",
      "model_module_version": "1.2.0",
      "model_name": "LayoutModel",
      "state": {}
     },
     "c9539252a3074b54a78d8d1098143398": {
      "model_module": "@jupyter-widgets/base",
      "model_module_version": "1.2.0",
      "model_name": "LayoutModel",
      "state": {}
     },
     "c99ad3ac7e364cdf8f06bece893bccc8": {
      "model_module": "@jupyter-widgets/controls",
      "model_module_version": "1.5.0",
      "model_name": "HBoxModel",
      "state": {
       "children": [
        "IPY_MODEL_e2c57bb1f3f44dc9aa466d8c83da1818",
        "IPY_MODEL_43c63436bb584bc2931e70207ee8dc86"
       ],
       "layout": "IPY_MODEL_a5cf20354e804130a6d55f00c262b6c9"
      }
     },
     "cbdc29113cd0454dbe476819b64dd0fa": {
      "model_module": "@jupyter-widgets/base",
      "model_module_version": "1.2.0",
      "model_name": "LayoutModel",
      "state": {}
     },
     "cbf4aac0cd1a414aabbb1903dc6c326d": {
      "model_module": "@jupyter-widgets/base",
      "model_module_version": "1.2.0",
      "model_name": "LayoutModel",
      "state": {}
     },
     "cc1eac6f832e4020b2ec71e0912752aa": {
      "model_module": "@jupyter-widgets/controls",
      "model_module_version": "1.5.0",
      "model_name": "HBoxModel",
      "state": {
       "children": [
        "IPY_MODEL_571a388a58334240bc192adcdd02ed21",
        "IPY_MODEL_d710e1739dc24f6aa552321ab29b18e4"
       ],
       "layout": "IPY_MODEL_4d9a79fa1f614f87952de09b9b49b6fe"
      }
     },
     "cc1ed023926d431aaf5ef48025df75d8": {
      "model_module": "@jupyter-widgets/controls",
      "model_module_version": "1.5.0",
      "model_name": "HBoxModel",
      "state": {
       "children": [
        "IPY_MODEL_ba9be975f8cf422b9462f71b140e7655",
        "IPY_MODEL_c68378ff92364be6884de3eb4666f7d4"
       ],
       "layout": "IPY_MODEL_a58e62dc44ce479aa67e44b217008edf"
      }
     },
     "cc215c0beb374398b2e6e2e6cd51536f": {
      "model_module": "@jupyter-widgets/base",
      "model_module_version": "1.2.0",
      "model_name": "LayoutModel",
      "state": {}
     },
     "cc7f40262b414012a652e286794a18e7": {
      "model_module": "@jupyter-widgets/controls",
      "model_module_version": "1.5.0",
      "model_name": "FloatProgressModel",
      "state": {
       "bar_style": "success",
       "description": "46000: 100%",
       "layout": "IPY_MODEL_da6d1f03b09a498285a485efb0008c6f",
       "max": 200,
       "style": "IPY_MODEL_2985d66fc0354a6eae01de87b1047c09",
       "value": 200
      }
     },
     "cc9e93a126dd426fb697c4bdfdb35420": {
      "model_module": "@jupyter-widgets/controls",
      "model_module_version": "1.5.0",
      "model_name": "ProgressStyleModel",
      "state": {
       "description_width": "initial"
      }
     },
     "cca2a1b344c6417f8bf10fd24962329f": {
      "model_module": "@jupyter-widgets/controls",
      "model_module_version": "1.5.0",
      "model_name": "FloatProgressModel",
      "state": {
       "bar_style": "success",
       "description": "100%",
       "layout": "IPY_MODEL_63efc76442664bb1837543cc6bf9250a",
       "max": 30000,
       "style": "IPY_MODEL_926c29bb019348c5b1e636882468044e",
       "value": 30000
      }
     },
     "cd6630aae427466bb1d832d7b69070bf": {
      "model_module": "@jupyter-widgets/controls",
      "model_module_version": "1.5.0",
      "model_name": "DescriptionStyleModel",
      "state": {
       "description_width": ""
      }
     },
     "ce53a3a544434dc6a47b646cb0e86f03": {
      "model_module": "@jupyter-widgets/controls",
      "model_module_version": "1.5.0",
      "model_name": "HTMLModel",
      "state": {
       "layout": "IPY_MODEL_1237266dd403401096b4ad58edfe4af7",
       "style": "IPY_MODEL_fa574d53536c4f5c95a47f0de1b25cd5",
       "value": " 200/200 [09:55&lt;00:00,  2.98s/it]"
      }
     },
     "ced6c9f07fd04549a1d91879bc4a1e49": {
      "model_module": "@jupyter-widgets/controls",
      "model_module_version": "1.5.0",
      "model_name": "FloatProgressModel",
      "state": {
       "bar_style": "success",
       "description": "42200: 100%",
       "layout": "IPY_MODEL_4cb3d62ed9284b01abc8638b1bc496e7",
       "max": 200,
       "style": "IPY_MODEL_788396defb774e9da12cc9d32b52f216",
       "value": 200
      }
     },
     "cf6adca6941e4c319b6990766bc1f29b": {
      "model_module": "@jupyter-widgets/controls",
      "model_module_version": "1.5.0",
      "model_name": "HBoxModel",
      "state": {
       "children": [
        "IPY_MODEL_f12521cefc8b4426832179524eaa4e30",
        "IPY_MODEL_3f60e9cb6d294f6184bf50060c5d153a"
       ],
       "layout": "IPY_MODEL_ee4db35911ac400f9a8afb50b2de81e0"
      }
     },
     "cfabe61b0e8b4709bf1c23ee844965bc": {
      "model_module": "@jupyter-widgets/controls",
      "model_module_version": "1.5.0",
      "model_name": "DescriptionStyleModel",
      "state": {
       "description_width": ""
      }
     },
     "cfc25ab930624a1786700ce4f8efd285": {
      "model_module": "@jupyter-widgets/base",
      "model_module_version": "1.2.0",
      "model_name": "LayoutModel",
      "state": {}
     },
     "cfe72b8f64954ca0b3423f069b7c537a": {
      "model_module": "@jupyter-widgets/controls",
      "model_module_version": "1.5.0",
      "model_name": "ProgressStyleModel",
      "state": {
       "description_width": "initial"
      }
     },
     "d06e3b173a2641268098a5048cdff1c5": {
      "model_module": "@jupyter-widgets/controls",
      "model_module_version": "1.5.0",
      "model_name": "ProgressStyleModel",
      "state": {
       "description_width": "initial"
      }
     },
     "d1285300030d4ce3a845f002afa9644f": {
      "model_module": "@jupyter-widgets/base",
      "model_module_version": "1.2.0",
      "model_name": "LayoutModel",
      "state": {}
     },
     "d132e51fc02c45be94787adf8ba56aac": {
      "model_module": "@jupyter-widgets/controls",
      "model_module_version": "1.5.0",
      "model_name": "HBoxModel",
      "state": {
       "children": [
        "IPY_MODEL_41bcc77bf259473ea64f2dbc4a07dd90",
        "IPY_MODEL_a7d9a56c2b2b4fc694293fd1a9180539"
       ],
       "layout": "IPY_MODEL_30aa7ed0fee14020b8ec192287740326"
      }
     },
     "d149b1305c1f4b76b272da2e106f4a7c": {
      "model_module": "@jupyter-widgets/base",
      "model_module_version": "1.2.0",
      "model_name": "LayoutModel",
      "state": {}
     },
     "d1ab9c4670e941a093a55cb5a42edc98": {
      "model_module": "@jupyter-widgets/controls",
      "model_module_version": "1.5.0",
      "model_name": "HBoxModel",
      "state": {
       "children": [
        "IPY_MODEL_12ca78b6870d4e7dbcdc53d99dba8098",
        "IPY_MODEL_5c4fed65986441088ec012ce1658cbbb"
       ],
       "layout": "IPY_MODEL_191a3cd4c9d04cd3b17668b4d66a4aeb"
      }
     },
     "d34e38b491e34be983ef4d289e5d1be7": {
      "model_module": "@jupyter-widgets/controls",
      "model_module_version": "1.5.0",
      "model_name": "FloatProgressModel",
      "state": {
       "bar_style": "success",
       "description": "48400: 100%",
       "layout": "IPY_MODEL_ebf56806a1d7433fac37e78e872adda1",
       "max": 200,
       "style": "IPY_MODEL_fa36b6d71eb8453da772ec9165847f54",
       "value": 200
      }
     },
     "d39f0acd20e345f5bb239c64c1db5409": {
      "model_module": "@jupyter-widgets/controls",
      "model_module_version": "1.5.0",
      "model_name": "FloatProgressModel",
      "state": {
       "bar_style": "success",
       "description": "43600: 100%",
       "layout": "IPY_MODEL_0ad8857f89654293a202c57db710b1f3",
       "max": 200,
       "style": "IPY_MODEL_bd3bddac11e34f2490eead99dffaac95",
       "value": 200
      }
     },
     "d3e2490b7cd64977ab62cce21d222a4c": {
      "model_module": "@jupyter-widgets/base",
      "model_module_version": "1.2.0",
      "model_name": "LayoutModel",
      "state": {}
     },
     "d51b8b48e9fe4fabae265d75ffb2a72e": {
      "model_module": "@jupyter-widgets/controls",
      "model_module_version": "1.5.0",
      "model_name": "HBoxModel",
      "state": {
       "children": [
        "IPY_MODEL_078c5d96451044f0b219caff33dbf0c0",
        "IPY_MODEL_58755491dec4440fa956b767dc1bda5c"
       ],
       "layout": "IPY_MODEL_5d43d688f43d40ae951a8ad4fa74f5d0"
      }
     },
     "d53d7395a68d454db801459d78043936": {
      "model_module": "@jupyter-widgets/base",
      "model_module_version": "1.2.0",
      "model_name": "LayoutModel",
      "state": {}
     },
     "d5dcf1ae206449aabfe6851e99613b54": {
      "model_module": "@jupyter-widgets/controls",
      "model_module_version": "1.5.0",
      "model_name": "FloatProgressModel",
      "state": {
       "bar_style": "success",
       "description": "49600: 100%",
       "layout": "IPY_MODEL_d1285300030d4ce3a845f002afa9644f",
       "max": 200,
       "style": "IPY_MODEL_412d7193537a4122a0534a6571e4eccc",
       "value": 200
      }
     },
     "d5fc6cb8eff84b6e9ee50952c798496f": {
      "model_module": "@jupyter-widgets/base",
      "model_module_version": "1.2.0",
      "model_name": "LayoutModel",
      "state": {}
     },
     "d60314efd94b49f99fe877956db81fa5": {
      "model_module": "@jupyter-widgets/base",
      "model_module_version": "1.2.0",
      "model_name": "LayoutModel",
      "state": {}
     },
     "d61a84ae1adb45338fc0568794e6330b": {
      "model_module": "@jupyter-widgets/base",
      "model_module_version": "1.2.0",
      "model_name": "LayoutModel",
      "state": {}
     },
     "d646aa741ee64fc2bc41f6332a490cc7": {
      "model_module": "@jupyter-widgets/controls",
      "model_module_version": "1.5.0",
      "model_name": "HBoxModel",
      "state": {
       "children": [
        "IPY_MODEL_f505d202625f4c18ad608644b8b22fe9",
        "IPY_MODEL_9fbea128bc524c91ac57dfe2da47d41b"
       ],
       "layout": "IPY_MODEL_525ec5230ec745fa8c3f01b51b4f6e14"
      }
     },
     "d710e1739dc24f6aa552321ab29b18e4": {
      "model_module": "@jupyter-widgets/controls",
      "model_module_version": "1.5.0",
      "model_name": "HTMLModel",
      "state": {
       "layout": "IPY_MODEL_a04c0ad9ab9c400cbe75ac828272c263",
       "style": "IPY_MODEL_136694d6c4734e5c96d963033e679b59",
       "value": " 200/200 [20:34&lt;00:00,  6.17s/it]"
      }
     },
     "d7415a5beceb40069c917356a1066ea3": {
      "model_module": "@jupyter-widgets/controls",
      "model_module_version": "1.5.0",
      "model_name": "ProgressStyleModel",
      "state": {
       "description_width": "initial"
      }
     },
     "d82f40b9313444398af1c4c832b80f70": {
      "model_module": "@jupyter-widgets/base",
      "model_module_version": "1.2.0",
      "model_name": "LayoutModel",
      "state": {}
     },
     "da5779ba4d95442ca5489910d9f548cc": {
      "model_module": "@jupyter-widgets/controls",
      "model_module_version": "1.5.0",
      "model_name": "DescriptionStyleModel",
      "state": {
       "description_width": ""
      }
     },
     "da6d1f03b09a498285a485efb0008c6f": {
      "model_module": "@jupyter-widgets/base",
      "model_module_version": "1.2.0",
      "model_name": "LayoutModel",
      "state": {}
     },
     "db2d63e783b3484b8048edf92f7e6cf1": {
      "model_module": "@jupyter-widgets/controls",
      "model_module_version": "1.5.0",
      "model_name": "DescriptionStyleModel",
      "state": {
       "description_width": ""
      }
     },
     "db39994252db4bc2827f6779571190cd": {
      "model_module": "@jupyter-widgets/base",
      "model_module_version": "1.2.0",
      "model_name": "LayoutModel",
      "state": {}
     },
     "db65142300e64044bb2076a1b0ec3ad2": {
      "model_module": "@jupyter-widgets/controls",
      "model_module_version": "1.5.0",
      "model_name": "DescriptionStyleModel",
      "state": {
       "description_width": ""
      }
     },
     "dc20a115b16a4bd08fc8092df638d703": {
      "model_module": "@jupyter-widgets/controls",
      "model_module_version": "1.5.0",
      "model_name": "HBoxModel",
      "state": {
       "children": [
        "IPY_MODEL_50e909cc57394a0284fafcbcb825305c",
        "IPY_MODEL_3d8cda57e9724635ac1f6139054bf892"
       ],
       "layout": "IPY_MODEL_6dcf30e63b4547fdb8748b3cf81cdf51"
      }
     },
     "dc681fba214642c3a5ee9916a60dd522": {
      "model_module": "@jupyter-widgets/base",
      "model_module_version": "1.2.0",
      "model_name": "LayoutModel",
      "state": {}
     },
     "dcf0d34006e94d9184deef53c0f33430": {
      "model_module": "@jupyter-widgets/base",
      "model_module_version": "1.2.0",
      "model_name": "LayoutModel",
      "state": {}
     },
     "dd53afbccabc4393a260a269605a361f": {
      "model_module": "@jupyter-widgets/base",
      "model_module_version": "1.2.0",
      "model_name": "LayoutModel",
      "state": {}
     },
     "ddbafe6109a744938d01e98adbeaea9b": {
      "model_module": "@jupyter-widgets/base",
      "model_module_version": "1.2.0",
      "model_name": "LayoutModel",
      "state": {}
     },
     "de47680257f44f7db55726e3185d5874": {
      "model_module": "@jupyter-widgets/base",
      "model_module_version": "1.2.0",
      "model_name": "LayoutModel",
      "state": {}
     },
     "de82b67915724f63bfb3433227ed6b07": {
      "model_module": "@jupyter-widgets/controls",
      "model_module_version": "1.5.0",
      "model_name": "HBoxModel",
      "state": {
       "children": [
        "IPY_MODEL_9da0e02bcc7b46799478fb42917c8e84",
        "IPY_MODEL_10517313a12b460a81515b77b1a98247"
       ],
       "layout": "IPY_MODEL_0259bcd1d7d94896946fad933ecca3db"
      }
     },
     "de9afab408c34621b417fc710dddbb4f": {
      "model_module": "@jupyter-widgets/controls",
      "model_module_version": "1.5.0",
      "model_name": "DescriptionStyleModel",
      "state": {
       "description_width": ""
      }
     },
     "df01b61789c042caa3961b357c81636a": {
      "model_module": "@jupyter-widgets/controls",
      "model_module_version": "1.5.0",
      "model_name": "ProgressStyleModel",
      "state": {
       "description_width": "initial"
      }
     },
     "df389c0c32ea44c79294794900b91094": {
      "model_module": "@jupyter-widgets/controls",
      "model_module_version": "1.5.0",
      "model_name": "HBoxModel",
      "state": {
       "children": [
        "IPY_MODEL_045f36df5e0c4364a6daf1766279a966",
        "IPY_MODEL_fbba31f801394591b211df451f305004"
       ],
       "layout": "IPY_MODEL_f4a982f34e00446ca21a443c65cbf6b5"
      }
     },
     "df788c4135f14bef813bc7152b99187d": {
      "model_module": "@jupyter-widgets/controls",
      "model_module_version": "1.5.0",
      "model_name": "FloatProgressModel",
      "state": {
       "bar_style": "success",
       "description": "42600: 100%",
       "layout": "IPY_MODEL_aa008fb212974372bcff6037835093f7",
       "max": 200,
       "style": "IPY_MODEL_386189fa9612444094518e7f28e63031",
       "value": 200
      }
     },
     "dfae9ec2e1974e66bed59607e4ed6016": {
      "model_module": "@jupyter-widgets/controls",
      "model_module_version": "1.5.0",
      "model_name": "HTMLModel",
      "state": {
       "layout": "IPY_MODEL_e8130b0922704b838a6348e356de6065",
       "style": "IPY_MODEL_0e917dacb3454648a9e8cf42c866a865",
       "value": " 200/200 [20:01&lt;00:00,  6.01s/it]"
      }
     },
     "dfc8c5022d084a0e85d4b02381c98623": {
      "model_module": "@jupyter-widgets/base",
      "model_module_version": "1.2.0",
      "model_name": "LayoutModel",
      "state": {}
     },
     "dfe573b39b37441796c5baf56d51a67b": {
      "model_module": "@jupyter-widgets/base",
      "model_module_version": "1.2.0",
      "model_name": "LayoutModel",
      "state": {}
     },
     "e0f82624351342f68aaf52dae2f1c697": {
      "model_module": "@jupyter-widgets/controls",
      "model_module_version": "1.5.0",
      "model_name": "ProgressStyleModel",
      "state": {
       "description_width": "initial"
      }
     },
     "e1513b9298f84c0d8402d4d2a5ff5700": {
      "model_module": "@jupyter-widgets/base",
      "model_module_version": "1.2.0",
      "model_name": "LayoutModel",
      "state": {}
     },
     "e21fec8aa303463d87a962e5b5641f94": {
      "model_module": "@jupyter-widgets/controls",
      "model_module_version": "1.5.0",
      "model_name": "DescriptionStyleModel",
      "state": {
       "description_width": ""
      }
     },
     "e2c57bb1f3f44dc9aa466d8c83da1818": {
      "model_module": "@jupyter-widgets/controls",
      "model_module_version": "1.5.0",
      "model_name": "FloatProgressModel",
      "state": {
       "bar_style": "success",
       "description": "22400: 100%",
       "layout": "IPY_MODEL_744caf3f4285489fbac1b6714b92bd5b",
       "max": 200,
       "style": "IPY_MODEL_41da45889a6545ff902e65ec6ecd2711",
       "value": 200
      }
     },
     "e387f6f17caa4062bd847b5a9b2d94c7": {
      "model_module": "@jupyter-widgets/controls",
      "model_module_version": "1.5.0",
      "model_name": "FloatProgressModel",
      "state": {
       "bar_style": "success",
       "description": "50000: 100%",
       "layout": "IPY_MODEL_a712e5b0b1d348e3b21eb0d61ca84a4a",
       "max": 200,
       "style": "IPY_MODEL_484e96f1067d443eb247464beae41f6b",
       "value": 200
      }
     },
     "e3a5bc97c6124f198bfd7ff574412fb2": {
      "model_module": "@jupyter-widgets/controls",
      "model_module_version": "1.5.0",
      "model_name": "ProgressStyleModel",
      "state": {
       "description_width": "initial"
      }
     },
     "e419c018e23247f9bad8bc0639358753": {
      "model_module": "@jupyter-widgets/base",
      "model_module_version": "1.2.0",
      "model_name": "LayoutModel",
      "state": {}
     },
     "e47d5db5db694e8c84f01875d4b924be": {
      "model_module": "@jupyter-widgets/base",
      "model_module_version": "1.2.0",
      "model_name": "LayoutModel",
      "state": {}
     },
     "e4c6e3bb6a4d4f08ac3cbe38dd38effc": {
      "model_module": "@jupyter-widgets/controls",
      "model_module_version": "1.5.0",
      "model_name": "HBoxModel",
      "state": {
       "children": [
        "IPY_MODEL_a2362314c542401e99b6d59db10635fe",
        "IPY_MODEL_938e99a0560248a692b843f20f05bd72"
       ],
       "layout": "IPY_MODEL_a387e8d6ffad453086a0cb5e807d0862"
      }
     },
     "e5abbff89f9a446dbf3fe85c660e45c5": {
      "model_module": "@jupyter-widgets/base",
      "model_module_version": "1.2.0",
      "model_name": "LayoutModel",
      "state": {}
     },
     "e5f2221df01847dc986291ebf248f229": {
      "model_module": "@jupyter-widgets/base",
      "model_module_version": "1.2.0",
      "model_name": "LayoutModel",
      "state": {}
     },
     "e6003746f1d7487e9ed40e35490eb506": {
      "model_module": "@jupyter-widgets/controls",
      "model_module_version": "1.5.0",
      "model_name": "HBoxModel",
      "state": {
       "children": [
        "IPY_MODEL_f2486f97e5e346e2976d0331a6b8f329",
        "IPY_MODEL_43de42b0c004413f99754a9af350d1d0"
       ],
       "layout": "IPY_MODEL_e5f2221df01847dc986291ebf248f229"
      }
     },
     "e637da2040ae469cabb7cc5ad7905620": {
      "model_module": "@jupyter-widgets/base",
      "model_module_version": "1.2.0",
      "model_name": "LayoutModel",
      "state": {}
     },
     "e6409f43071941d08ac5fe31c6a8c8a9": {
      "model_module": "@jupyter-widgets/controls",
      "model_module_version": "1.5.0",
      "model_name": "HBoxModel",
      "state": {
       "children": [
        "IPY_MODEL_c11b20046000454cbf115a3d050564f8",
        "IPY_MODEL_40db8adcb081490bb3cc0092f683f477"
       ],
       "layout": "IPY_MODEL_d61a84ae1adb45338fc0568794e6330b"
      }
     },
     "e65996629b864d329d84c5a6029fd898": {
      "model_module": "@jupyter-widgets/base",
      "model_module_version": "1.2.0",
      "model_name": "LayoutModel",
      "state": {}
     },
     "e6e48fb3d5ba451197c5be456cda04fa": {
      "model_module": "@jupyter-widgets/base",
      "model_module_version": "1.2.0",
      "model_name": "LayoutModel",
      "state": {}
     },
     "e6f86e655c754ac687a78529a67c2fd7": {
      "model_module": "@jupyter-widgets/base",
      "model_module_version": "1.2.0",
      "model_name": "LayoutModel",
      "state": {}
     },
     "e7386599d366446ba7bcb5bf6aea3b7b": {
      "model_module": "@jupyter-widgets/controls",
      "model_module_version": "1.5.0",
      "model_name": "DescriptionStyleModel",
      "state": {
       "description_width": ""
      }
     },
     "e785972e8a8f4097a9995184f83c0c21": {
      "model_module": "@jupyter-widgets/base",
      "model_module_version": "1.2.0",
      "model_name": "LayoutModel",
      "state": {}
     },
     "e79bcb8dbdec497ba0ae7bebc3da745b": {
      "model_module": "@jupyter-widgets/controls",
      "model_module_version": "1.5.0",
      "model_name": "HTMLModel",
      "state": {
       "layout": "IPY_MODEL_ae74ba07c0044cf58e7a029984bc60b5",
       "style": "IPY_MODEL_fb659615b552492199c0f3837d078ae0",
       "value": " 200/200 [19:42&lt;00:00,  5.91s/it]"
      }
     },
     "e8130b0922704b838a6348e356de6065": {
      "model_module": "@jupyter-widgets/base",
      "model_module_version": "1.2.0",
      "model_name": "LayoutModel",
      "state": {}
     },
     "e8f30c4b1e544768ac68ebda8acfedf4": {
      "model_module": "@jupyter-widgets/controls",
      "model_module_version": "1.5.0",
      "model_name": "FloatProgressModel",
      "state": {
       "bar_style": "success",
       "description": "41800: 100%",
       "layout": "IPY_MODEL_41b7c6d332b042dc8bafff18bdca509f",
       "max": 200,
       "style": "IPY_MODEL_723d870548b740109a68e9edbe5964e7",
       "value": 200
      }
     },
     "e90de41df63d495e99bbd50cc88613a9": {
      "model_module": "@jupyter-widgets/controls",
      "model_module_version": "1.5.0",
      "model_name": "HBoxModel",
      "state": {
       "children": [
        "IPY_MODEL_cca2a1b344c6417f8bf10fd24962329f",
        "IPY_MODEL_6d123a6f824f45d7b2f82671ced9919f"
       ],
       "layout": "IPY_MODEL_6d76d7b41c0a4e4792a15b27dc321c3b"
      }
     },
     "e976b00f223648958e43e4e3c73504e1": {
      "model_module": "@jupyter-widgets/controls",
      "model_module_version": "1.5.0",
      "model_name": "ProgressStyleModel",
      "state": {
       "description_width": "initial"
      }
     },
     "e97a2b6f36da43808271d53a29fa8bf6": {
      "model_module": "@jupyter-widgets/controls",
      "model_module_version": "1.5.0",
      "model_name": "FloatProgressModel",
      "state": {
       "bar_style": "success",
       "description": "23600: 100%",
       "layout": "IPY_MODEL_ea26ca2c56a1481c995fda2f4e600a24",
       "max": 200,
       "style": "IPY_MODEL_573321aff65140749cabed35b5b137cb",
       "value": 200
      }
     },
     "e9dfaf697b3246b38872fca974defff4": {
      "model_module": "@jupyter-widgets/base",
      "model_module_version": "1.2.0",
      "model_name": "LayoutModel",
      "state": {}
     },
     "e9f30a8bfd7246db8ab18e740efd0d91": {
      "model_module": "@jupyter-widgets/base",
      "model_module_version": "1.2.0",
      "model_name": "LayoutModel",
      "state": {}
     },
     "ea1dba922d5948658a6b57d3164f1bcb": {
      "model_module": "@jupyter-widgets/base",
      "model_module_version": "1.2.0",
      "model_name": "LayoutModel",
      "state": {}
     },
     "ea26ca2c56a1481c995fda2f4e600a24": {
      "model_module": "@jupyter-widgets/base",
      "model_module_version": "1.2.0",
      "model_name": "LayoutModel",
      "state": {}
     },
     "eabd125f8a4d4c4aacfdaf1a9b279cb7": {
      "model_module": "@jupyter-widgets/controls",
      "model_module_version": "1.5.0",
      "model_name": "HTMLModel",
      "state": {
       "layout": "IPY_MODEL_870839b059da413b9d047af47799f5e9",
       "style": "IPY_MODEL_e7386599d366446ba7bcb5bf6aea3b7b",
       "value": " 200/200 [09:02&lt;00:00,  2.71s/it]"
      }
     },
     "eaed943ef4d9407b8a10534d5344ca95": {
      "model_module": "@jupyter-widgets/controls",
      "model_module_version": "1.5.0",
      "model_name": "HBoxModel",
      "state": {
       "children": [
        "IPY_MODEL_2d69d63b7e61414f9bcde6e21ff5e3ee",
        "IPY_MODEL_bf5f33df9c6e4671be960fb5f008f336"
       ],
       "layout": "IPY_MODEL_f832048d6fc24091852e1c5e1a037ee3"
      }
     },
     "eb13e04b56c54af3a40a8c24dd80cab6": {
      "model_module": "@jupyter-widgets/controls",
      "model_module_version": "1.5.0",
      "model_name": "HTMLModel",
      "state": {
       "layout": "IPY_MODEL_acf661c1659d49e48cf3b609cb999edd",
       "style": "IPY_MODEL_46cb6fc789ab42f2831e828d1d1c85f9",
       "value": " 200/200 [10:05&lt;00:00,  3.03s/it]"
      }
     },
     "eb42bf0b996444babdd53c10c663ebb8": {
      "model_module": "@jupyter-widgets/controls",
      "model_module_version": "1.5.0",
      "model_name": "HBoxModel",
      "state": {
       "children": [
        "IPY_MODEL_d34e38b491e34be983ef4d289e5d1be7",
        "IPY_MODEL_3be5b4b803fa43b381c95d0b15835d7b"
       ],
       "layout": "IPY_MODEL_eef59667f2d34c148035da1e099d5895"
      }
     },
     "eb9d6db0c4d144c682e41a6c7efa5735": {
      "model_module": "@jupyter-widgets/controls",
      "model_module_version": "1.5.0",
      "model_name": "HTMLModel",
      "state": {
       "layout": "IPY_MODEL_fea6416cb6ab4015912e05806bb9c7d7",
       "style": "IPY_MODEL_660c250572c94e9db468c09a492e1fef",
       "value": " 200/200 [20:32&lt;00:00,  6.16s/it]"
      }
     },
     "ebaaaca3504c4c79bf1325eefb1e7011": {
      "model_module": "@jupyter-widgets/controls",
      "model_module_version": "1.5.0",
      "model_name": "DescriptionStyleModel",
      "state": {
       "description_width": ""
      }
     },
     "ebf56806a1d7433fac37e78e872adda1": {
      "model_module": "@jupyter-widgets/base",
      "model_module_version": "1.2.0",
      "model_name": "LayoutModel",
      "state": {}
     },
     "ec2015278f9d43ba87faee6c4d3b90cb": {
      "model_module": "@jupyter-widgets/controls",
      "model_module_version": "1.5.0",
      "model_name": "HTMLModel",
      "state": {
       "layout": "IPY_MODEL_141ad3ba03124992b3584404f1468ed3",
       "style": "IPY_MODEL_cd6630aae427466bb1d832d7b69070bf",
       "value": " 200/200 [20:28&lt;00:00,  6.14s/it]"
      }
     },
     "ecf15988b85c4023ab5e7047d93f2adb": {
      "model_module": "@jupyter-widgets/controls",
      "model_module_version": "1.5.0",
      "model_name": "ProgressStyleModel",
      "state": {
       "description_width": "initial"
      }
     },
     "ed1930a223184c81a6cc7065b30cdd90": {
      "model_module": "@jupyter-widgets/controls",
      "model_module_version": "1.5.0",
      "model_name": "HBoxModel",
      "state": {
       "children": [
        "IPY_MODEL_4feee4577b9c407198f47a7aa8dfbdf5",
        "IPY_MODEL_1a45f8aead0a407a8fdc4b3fdb2e5ed6"
       ],
       "layout": "IPY_MODEL_2eb35d0f649b40b0880fcad49529fae3"
      }
     },
     "ed1cd5cdbf2c4c1ca49d08732646d502": {
      "model_module": "@jupyter-widgets/base",
      "model_module_version": "1.2.0",
      "model_name": "LayoutModel",
      "state": {}
     },
     "ed5a502243d4451b8662a822bd6e54c1": {
      "model_module": "@jupyter-widgets/base",
      "model_module_version": "1.2.0",
      "model_name": "LayoutModel",
      "state": {}
     },
     "edcb94b3d2e94fe9873aa5d5f3515dbb": {
      "model_module": "@jupyter-widgets/controls",
      "model_module_version": "1.5.0",
      "model_name": "HTMLModel",
      "state": {
       "layout": "IPY_MODEL_e47d5db5db694e8c84f01875d4b924be",
       "style": "IPY_MODEL_7f2624c2c9204f4eac78d88a57f0fd03",
       "value": " 200/200 [10:32&lt;00:00,  3.16s/it]"
      }
     },
     "edd967280edb49368960f65c769e5edf": {
      "model_module": "@jupyter-widgets/controls",
      "model_module_version": "1.5.0",
      "model_name": "HBoxModel",
      "state": {
       "children": [
        "IPY_MODEL_e97a2b6f36da43808271d53a29fa8bf6",
        "IPY_MODEL_eb13e04b56c54af3a40a8c24dd80cab6"
       ],
       "layout": "IPY_MODEL_ddbafe6109a744938d01e98adbeaea9b"
      }
     },
     "ee4db35911ac400f9a8afb50b2de81e0": {
      "model_module": "@jupyter-widgets/base",
      "model_module_version": "1.2.0",
      "model_name": "LayoutModel",
      "state": {}
     },
     "eece52ad390d4936be2fd823873b6fa2": {
      "model_module": "@jupyter-widgets/controls",
      "model_module_version": "1.5.0",
      "model_name": "HTMLModel",
      "state": {
       "layout": "IPY_MODEL_305a4b095a37473a90d4b3fe3f2d4c40",
       "style": "IPY_MODEL_8f864a05c522410ca64f363b38382408",
       "value": " 200/200 [11:46&lt;00:00,  3.53s/it]"
      }
     },
     "eed56c0d47d94a0aa4906081f9dbfad4": {
      "model_module": "@jupyter-widgets/controls",
      "model_module_version": "1.5.0",
      "model_name": "FloatProgressModel",
      "state": {
       "bar_style": "success",
       "description": "20800: 100%",
       "layout": "IPY_MODEL_a95a9d4a873b44859122d7fafb5c80a0",
       "max": 200,
       "style": "IPY_MODEL_f775fd6757124a3d8dd9daed4a5d01e5",
       "value": 200
      }
     },
     "eeefe0b1237e456e98eaa303dbba7b7f": {
      "model_module": "@jupyter-widgets/base",
      "model_module_version": "1.2.0",
      "model_name": "LayoutModel",
      "state": {}
     },
     "eef59667f2d34c148035da1e099d5895": {
      "model_module": "@jupyter-widgets/base",
      "model_module_version": "1.2.0",
      "model_name": "LayoutModel",
      "state": {}
     },
     "ef109bdb4bff40048bdb66f0c17dd672": {
      "model_module": "@jupyter-widgets/controls",
      "model_module_version": "1.5.0",
      "model_name": "FloatProgressModel",
      "state": {
       "bar_style": "success",
       "description": "25800: 100%",
       "layout": "IPY_MODEL_961c79ba752c49deb1397f37337fccd1",
       "max": 200,
       "style": "IPY_MODEL_711a487673e64ec8a8deb81843132911",
       "value": 200
      }
     },
     "ef98ae235c0f4ad8b3e13d423317ba39": {
      "model_module": "@jupyter-widgets/base",
      "model_module_version": "1.2.0",
      "model_name": "LayoutModel",
      "state": {}
     },
     "f01baf3029e344b8ab59ee926c0009fe": {
      "model_module": "@jupyter-widgets/controls",
      "model_module_version": "1.5.0",
      "model_name": "FloatProgressModel",
      "state": {
       "bar_style": "success",
       "description": "46800: 100%",
       "layout": "IPY_MODEL_93ee730f467c48efadd825e8790f5ec6",
       "max": 200,
       "style": "IPY_MODEL_a05cd13157eb47d5b98b768999eb8d2d",
       "value": 200
      }
     },
     "f072ef3b9e954a0abd0afc0b5634dcec": {
      "model_module": "@jupyter-widgets/base",
      "model_module_version": "1.2.0",
      "model_name": "LayoutModel",
      "state": {}
     },
     "f0c8ae63bffe4cc78a98419dd1c9c002": {
      "model_module": "@jupyter-widgets/controls",
      "model_module_version": "1.5.0",
      "model_name": "ProgressStyleModel",
      "state": {
       "description_width": "initial"
      }
     },
     "f0e62de2775f456999f5c88549f0f000": {
      "model_module": "@jupyter-widgets/controls",
      "model_module_version": "1.5.0",
      "model_name": "HBoxModel",
      "state": {
       "children": [
        "IPY_MODEL_df788c4135f14bef813bc7152b99187d",
        "IPY_MODEL_8485aed843fb4454bf094d02a01ef6ff"
       ],
       "layout": "IPY_MODEL_133e37a5bd3944fc88d67f77ec4b7ea0"
      }
     },
     "f12521cefc8b4426832179524eaa4e30": {
      "model_module": "@jupyter-widgets/controls",
      "model_module_version": "1.5.0",
      "model_name": "FloatProgressModel",
      "state": {
       "bar_style": "success",
       "description": "40400: 100%",
       "layout": "IPY_MODEL_1f86b64dbd434353ba8b24a846910693",
       "max": 200,
       "style": "IPY_MODEL_bcd4032b97b842268558b57763170663",
       "value": 200
      }
     },
     "f148b416edea4f5593c16bbf660cfe43": {
      "model_module": "@jupyter-widgets/base",
      "model_module_version": "1.2.0",
      "model_name": "LayoutModel",
      "state": {}
     },
     "f2486f97e5e346e2976d0331a6b8f329": {
      "model_module": "@jupyter-widgets/controls",
      "model_module_version": "1.5.0",
      "model_name": "FloatProgressModel",
      "state": {
       "bar_style": "success",
       "description": "41600: 100%",
       "layout": "IPY_MODEL_50340e0778f64650918c71e231c8dbde",
       "max": 200,
       "style": "IPY_MODEL_0326eec39ef24dcebde7e5911cf249f9",
       "value": 200
      }
     },
     "f2ce634690e94dcf8d8a8a4b3199af32": {
      "model_module": "@jupyter-widgets/controls",
      "model_module_version": "1.5.0",
      "model_name": "ProgressStyleModel",
      "state": {
       "description_width": "initial"
      }
     },
     "f34c9184fcd04736b616ec67d2b6eeb5": {
      "model_module": "@jupyter-widgets/base",
      "model_module_version": "1.2.0",
      "model_name": "LayoutModel",
      "state": {}
     },
     "f3861d01adfa438181bbd53de74e37db": {
      "model_module": "@jupyter-widgets/base",
      "model_module_version": "1.2.0",
      "model_name": "LayoutModel",
      "state": {}
     },
     "f478f04b8d4a44f2b83a1000d20c5196": {
      "model_module": "@jupyter-widgets/controls",
      "model_module_version": "1.5.0",
      "model_name": "HTMLModel",
      "state": {
       "layout": "IPY_MODEL_6239ddb9622a4a45a373c43e9fd922bb",
       "style": "IPY_MODEL_a02767f74b8b4cffbe58d37c47b90ae0",
       "value": " 200/200 [20:24&lt;00:00,  6.12s/it]"
      }
     },
     "f49a8d2db1234108b8121c6d7c45d5b5": {
      "model_module": "@jupyter-widgets/base",
      "model_module_version": "1.2.0",
      "model_name": "LayoutModel",
      "state": {}
     },
     "f4a982f34e00446ca21a443c65cbf6b5": {
      "model_module": "@jupyter-widgets/base",
      "model_module_version": "1.2.0",
      "model_name": "LayoutModel",
      "state": {}
     },
     "f505d202625f4c18ad608644b8b22fe9": {
      "model_module": "@jupyter-widgets/controls",
      "model_module_version": "1.5.0",
      "model_name": "FloatProgressModel",
      "state": {
       "bar_style": "success",
       "description": "29000: 100%",
       "layout": "IPY_MODEL_6d1a22be2b124851a204d641ce7e9c25",
       "max": 200,
       "style": "IPY_MODEL_79862cac7b7144678a6f3a194cd7b780",
       "value": 200
      }
     },
     "f58c4f4356764e93ac92f0cbbafff5fd": {
      "model_module": "@jupyter-widgets/base",
      "model_module_version": "1.2.0",
      "model_name": "LayoutModel",
      "state": {}
     },
     "f598c368be75421b811bfdb3a0d1f60f": {
      "model_module": "@jupyter-widgets/controls",
      "model_module_version": "1.5.0",
      "model_name": "HTMLModel",
      "state": {
       "layout": "IPY_MODEL_e785972e8a8f4097a9995184f83c0c21",
       "style": "IPY_MODEL_5cc0512f0f264fe3b654a06822ed53a5",
       "value": " 200/200 [10:23&lt;00:00,  3.12s/it]"
      }
     },
     "f5b9ad7ab1af4756926d535305d185b4": {
      "model_module": "@jupyter-widgets/base",
      "model_module_version": "1.2.0",
      "model_name": "LayoutModel",
      "state": {}
     },
     "f6262359040f4c848f2343b0aab1682e": {
      "model_module": "@jupyter-widgets/base",
      "model_module_version": "1.2.0",
      "model_name": "LayoutModel",
      "state": {}
     },
     "f6db17768052469c985f78bdb28b86e1": {
      "model_module": "@jupyter-widgets/controls",
      "model_module_version": "1.5.0",
      "model_name": "HTMLModel",
      "state": {
       "layout": "IPY_MODEL_72fe6186cc95493a903019baa37c75c8",
       "style": "IPY_MODEL_cfabe61b0e8b4709bf1c23ee844965bc",
       "value": " 200/200 [10:45&lt;00:00,  3.23s/it]"
      }
     },
     "f6f3628f44c34c758fe58cf416264fc0": {
      "model_module": "@jupyter-widgets/controls",
      "model_module_version": "1.5.0",
      "model_name": "FloatProgressModel",
      "state": {
       "bar_style": "success",
       "description": "43800: 100%",
       "layout": "IPY_MODEL_4f4997067cd4480eb88084238e44a442",
       "max": 200,
       "style": "IPY_MODEL_c538a6baa2444f0b8237802d59513b0c",
       "value": 200
      }
     },
     "f70bfc361c4043f4be6ccafe43d8e034": {
      "model_module": "@jupyter-widgets/base",
      "model_module_version": "1.2.0",
      "model_name": "LayoutModel",
      "state": {}
     },
     "f760834ef5e1431cb3525d6445506f43": {
      "model_module": "@jupyter-widgets/base",
      "model_module_version": "1.2.0",
      "model_name": "LayoutModel",
      "state": {}
     },
     "f773f0386d6c423fa9320021a9b541f5": {
      "model_module": "@jupyter-widgets/controls",
      "model_module_version": "1.5.0",
      "model_name": "ProgressStyleModel",
      "state": {
       "description_width": "initial"
      }
     },
     "f775fd6757124a3d8dd9daed4a5d01e5": {
      "model_module": "@jupyter-widgets/controls",
      "model_module_version": "1.5.0",
      "model_name": "ProgressStyleModel",
      "state": {
       "description_width": "initial"
      }
     },
     "f832048d6fc24091852e1c5e1a037ee3": {
      "model_module": "@jupyter-widgets/base",
      "model_module_version": "1.2.0",
      "model_name": "LayoutModel",
      "state": {}
     },
     "f851c363bac340709e26f69ff659afda": {
      "model_module": "@jupyter-widgets/controls",
      "model_module_version": "1.5.0",
      "model_name": "HBoxModel",
      "state": {
       "children": [
        "IPY_MODEL_1ee387951fe64005a3bafd8192d91cdc",
        "IPY_MODEL_6af83cacf6494d16a27470bb111d9c5b"
       ],
       "layout": "IPY_MODEL_bc365af2bc584a26ace028690667307a"
      }
     },
     "f8c5e71d7ff543eb83b526144c7ce699": {
      "model_module": "@jupyter-widgets/controls",
      "model_module_version": "1.5.0",
      "model_name": "DescriptionStyleModel",
      "state": {
       "description_width": ""
      }
     },
     "f9c2425eab0c484b95bdefdd06e81d88": {
      "model_module": "@jupyter-widgets/controls",
      "model_module_version": "1.5.0",
      "model_name": "FloatProgressModel",
      "state": {
       "bar_style": "success",
       "description": "44000: 100%",
       "layout": "IPY_MODEL_dd53afbccabc4393a260a269605a361f",
       "max": 200,
       "style": "IPY_MODEL_1f00b8f17b184be09435218bd1368a1e",
       "value": 200
      }
     },
     "f9eb016f3ed747d98897c8b5bbc79a52": {
      "model_module": "@jupyter-widgets/controls",
      "model_module_version": "1.5.0",
      "model_name": "DescriptionStyleModel",
      "state": {
       "description_width": ""
      }
     },
     "fa2276b8fbb44eb4974cecadc6357914": {
      "model_module": "@jupyter-widgets/base",
      "model_module_version": "1.2.0",
      "model_name": "LayoutModel",
      "state": {}
     },
     "fa36b6d71eb8453da772ec9165847f54": {
      "model_module": "@jupyter-widgets/controls",
      "model_module_version": "1.5.0",
      "model_name": "ProgressStyleModel",
      "state": {
       "description_width": "initial"
      }
     },
     "fa574d53536c4f5c95a47f0de1b25cd5": {
      "model_module": "@jupyter-widgets/controls",
      "model_module_version": "1.5.0",
      "model_name": "DescriptionStyleModel",
      "state": {
       "description_width": ""
      }
     },
     "fa9e2b1b2ef248079f681b41f7cce2d5": {
      "model_module": "@jupyter-widgets/base",
      "model_module_version": "1.2.0",
      "model_name": "LayoutModel",
      "state": {}
     },
     "fb60d1fbb93f4ec29d4bfe84bf75b086": {
      "model_module": "@jupyter-widgets/base",
      "model_module_version": "1.2.0",
      "model_name": "LayoutModel",
      "state": {}
     },
     "fb659615b552492199c0f3837d078ae0": {
      "model_module": "@jupyter-widgets/controls",
      "model_module_version": "1.5.0",
      "model_name": "DescriptionStyleModel",
      "state": {
       "description_width": ""
      }
     },
     "fbba31f801394591b211df451f305004": {
      "model_module": "@jupyter-widgets/controls",
      "model_module_version": "1.5.0",
      "model_name": "HTMLModel",
      "state": {
       "layout": "IPY_MODEL_af4a6c990fc74f378a905ee42d73bb33",
       "style": "IPY_MODEL_b86af5fc257a4ef3ad59097bb3b42af4",
       "value": " 200/200 [20:37&lt;00:00,  6.19s/it]"
      }
     },
     "fc1d5d5135f8464ba5199ed847be104f": {
      "model_module": "@jupyter-widgets/base",
      "model_module_version": "1.2.0",
      "model_name": "LayoutModel",
      "state": {}
     },
     "fc752a2facd148e4bd96515c0ea23d37": {
      "model_module": "@jupyter-widgets/controls",
      "model_module_version": "1.5.0",
      "model_name": "HBoxModel",
      "state": {
       "children": [
        "IPY_MODEL_5d5de9871b164ffca6a589f49466a8c6",
        "IPY_MODEL_432332b79ff64350a9826fe8a95aebb4"
       ],
       "layout": "IPY_MODEL_03e77dfe4bd44cda99e822bff4fcff37"
      }
     },
     "fca2cd6396054083b3a0635541648bcc": {
      "model_module": "@jupyter-widgets/controls",
      "model_module_version": "1.5.0",
      "model_name": "HTMLModel",
      "state": {
       "layout": "IPY_MODEL_0f3848559ee544f4ad689a33cda1eef9",
       "style": "IPY_MODEL_77f6ed7688e94db987c30d2c6ef2ee9f",
       "value": " 200/200 [15:00&lt;00:00,  4.50s/it]"
      }
     },
     "fcd5f69dc730448797182a28e0c78b33": {
      "model_module": "@jupyter-widgets/controls",
      "model_module_version": "1.5.0",
      "model_name": "ProgressStyleModel",
      "state": {
       "description_width": "initial"
      }
     },
     "fdd72fb6409c44ae912be873d92ed5d4": {
      "model_module": "@jupyter-widgets/base",
      "model_module_version": "1.2.0",
      "model_name": "LayoutModel",
      "state": {}
     },
     "fdf28525925c442d93130a143b14ef09": {
      "model_module": "@jupyter-widgets/base",
      "model_module_version": "1.2.0",
      "model_name": "LayoutModel",
      "state": {}
     },
     "fe79c1b41d2444b0ab733f0c83cf7c9c": {
      "model_module": "@jupyter-widgets/controls",
      "model_module_version": "1.5.0",
      "model_name": "DescriptionStyleModel",
      "state": {
       "description_width": ""
      }
     },
     "fea6416cb6ab4015912e05806bb9c7d7": {
      "model_module": "@jupyter-widgets/base",
      "model_module_version": "1.2.0",
      "model_name": "LayoutModel",
      "state": {}
     },
     "feff6b820fcd42899930deed168ab667": {
      "model_module": "@jupyter-widgets/base",
      "model_module_version": "1.2.0",
      "model_name": "LayoutModel",
      "state": {}
     },
     "ff37eac957c242cb8649a6dd37319c00": {
      "model_module": "@jupyter-widgets/controls",
      "model_module_version": "1.5.0",
      "model_name": "HBoxModel",
      "state": {
       "children": [
        "IPY_MODEL_5fb99ab54418476d84e72f01b5f2b832",
        "IPY_MODEL_5cf72d2949644d56b51206ecc41ddf22"
       ],
       "layout": "IPY_MODEL_080e5fa7f4154be4beac5d212de4af3e"
      }
     },
     "ff413dc8d1f84776bc26bc42a557f2b9": {
      "model_module": "@jupyter-widgets/controls",
      "model_module_version": "1.5.0",
      "model_name": "FloatProgressModel",
      "state": {
       "bar_style": "success",
       "description": "100%",
       "layout": "IPY_MODEL_8e851b391dc54a53b277a61c3e6e9210",
       "max": 50000,
       "style": "IPY_MODEL_5c17787942c241b68723696800fc98b2",
       "value": 50000
      }
     },
     "ffb5279426464c97b5cfafc71e1951d4": {
      "model_module": "@jupyter-widgets/controls",
      "model_module_version": "1.5.0",
      "model_name": "ProgressStyleModel",
      "state": {
       "description_width": "initial"
      }
     }
    },
    "version_major": 2,
    "version_minor": 0
   }
  }
 },
 "nbformat": 4,
 "nbformat_minor": 2
}
